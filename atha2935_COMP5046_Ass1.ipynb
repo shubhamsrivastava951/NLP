{
  "nbformat": 4,
  "nbformat_minor": 0,
  "metadata": {
    "colab": {
      "name": "atha2935_COMP5046_Ass1.ipynb",
      "provenance": [],
      "collapsed_sections": [],
      "toc_visible": true
    },
    "kernelspec": {
      "name": "python3",
      "display_name": "Python 3"
    }
  },
  "cells": [
    {
      "cell_type": "markdown",
      "metadata": {
        "id": "MGHoy6KpQDfZ"
      },
      "source": [
        "# COMP5046 Assignment 1\n",
        "*Make sure you change the file name with your unikey.*"
      ]
    },
    {
      "cell_type": "markdown",
      "metadata": {
        "id": "qTf21j_oQIiD"
      },
      "source": [
        "# Readme\n",
        "*If there is something to be noted for the user, please mention here.* \n",
        "\n",
        "*If you are planning to implement a program with Object Oriented Programming style, please check the bottom of the this ipynb file*"
      ]
    },
    {
      "cell_type": "markdown",
      "metadata": {
        "id": "iXbQohXLKSgO"
      },
      "source": [
        "***Visualising the comparison of different results is a good way to justify your decision.***"
      ]
    },
    {
      "cell_type": "markdown",
      "metadata": {
        "id": "34DVNKgqQY21"
      },
      "source": [
        "# 1 - Data Preprocessing"
      ]
    },
    {
      "cell_type": "markdown",
      "metadata": {
        "id": "7cWUxAQrGlq6"
      },
      "source": [
        "## 1.1. Download Dataset"
      ]
    },
    {
      "cell_type": "markdown",
      "metadata": {
        "id": "Lr8o7UZxWf3Y"
      },
      "source": [
        "If you want to know how data has been saved in pickle file: see this [ipynb file](https://drive.google.com/file/d/1ZQUVBzgH7N2EbiyE3WTPx7JNe2eRTs36/view?usp=sharing)"
      ]
    },
    {
      "cell_type": "code",
      "metadata": {
        "colab": {
          "base_uri": "https://localhost:8080/"
        },
        "id": "n-RVQjGS056B",
        "outputId": "ef8e07bd-9694-41bb-e783-8c7f01e7a410"
      },
      "source": [
        "#install library in cloab\n",
        "!pip install contractions"
      ],
      "execution_count": null,
      "outputs": [
        {
          "output_type": "stream",
          "text": [
            "Collecting contractions\n",
            "  Downloading https://files.pythonhosted.org/packages/11/4d/378ab91284c2c3a06ab475b287721c09b7951d5ecb3edf4ffb0e1e7a568a/contractions-0.0.49-py2.py3-none-any.whl\n",
            "Collecting textsearch>=0.0.21\n",
            "  Downloading https://files.pythonhosted.org/packages/d3/fe/021d7d76961b5ceb9f8d022c4138461d83beff36c3938dc424586085e559/textsearch-0.0.21-py2.py3-none-any.whl\n",
            "Collecting anyascii\n",
            "\u001b[?25l  Downloading https://files.pythonhosted.org/packages/a3/14/666cd44bf53f36a961544af592cb5c5c800013f9c51a4745af8d7c17362a/anyascii-0.2.0-py3-none-any.whl (283kB)\n",
            "\u001b[K     |████████████████████████████████| 286kB 2.9MB/s \n",
            "\u001b[?25hCollecting pyahocorasick\n",
            "\u001b[?25l  Downloading https://files.pythonhosted.org/packages/7f/c2/eae730037ae1cbbfaa229d27030d1d5e34a1e41114b21447d1202ae9c220/pyahocorasick-1.4.2.tar.gz (321kB)\n",
            "\u001b[K     |████████████████████████████████| 327kB 15.8MB/s \n",
            "\u001b[?25hBuilding wheels for collected packages: pyahocorasick\n",
            "  Building wheel for pyahocorasick (setup.py) ... \u001b[?25l\u001b[?25hdone\n",
            "  Created wheel for pyahocorasick: filename=pyahocorasick-1.4.2-cp37-cp37m-linux_x86_64.whl size=85395 sha256=9bf6936cad7fb15c2340f4492e3f47ce7f8e100e1e0766b2b1153a1ed32fb559\n",
            "  Stored in directory: /root/.cache/pip/wheels/3a/03/34/77e3ece0bba8b86bfac88a79f923b36d805cad63caeba38842\n",
            "Successfully built pyahocorasick\n",
            "Installing collected packages: anyascii, pyahocorasick, textsearch, contractions\n",
            "Successfully installed anyascii-0.2.0 contractions-0.0.49 pyahocorasick-1.4.2 textsearch-0.0.21\n"
          ],
          "name": "stdout"
        }
      ]
    },
    {
      "cell_type": "code",
      "metadata": {
        "colab": {
          "base_uri": "https://localhost:8080/"
        },
        "id": "jujy5rEyJAy3",
        "outputId": "06bb9887-801a-45e3-a7a1-1df92ffebf9a"
      },
      "source": [
        "#import libraries\n",
        "import re\n",
        "import string \n",
        "\n",
        "import numpy as np\n",
        "import pandas as pd \n",
        "#For plots\n",
        "import matplotlib.pyplot as plt\n",
        "import seaborn as sns\n",
        "#For Evaluation metrics\n",
        "from sklearn.metrics import classification_report,accuracy_score,f1_score\n",
        "from sklearn.preprocessing import LabelEncoder\n",
        "\n",
        "#For checking ,removing html tags\n",
        "from bs4 import BeautifulSoup\n",
        "# For parsing our XML data\n",
        "from lxml import etree \n",
        "#For Word vectors\n",
        "from gensim.models import FastText\n",
        "\n",
        "#For nlp\n",
        "import nltk\n",
        "nltk.download('stopwords')\n",
        "nltk.download('wordnet')\n",
        "nltk.download('punkt')\n",
        "from nltk.corpus import stopwords as sw\n",
        "from nltk.tokenize import word_tokenize,sent_tokenize\n",
        "from nltk.tokenize.casual import TweetTokenizer\n",
        "from nltk.stem import WordNetLemmatizer\n",
        "\n",
        "\n",
        "#contractions\n",
        "import contractions"
      ],
      "execution_count": null,
      "outputs": [
        {
          "output_type": "stream",
          "text": [
            "[nltk_data] Downloading package stopwords to /root/nltk_data...\n",
            "[nltk_data]   Unzipping corpora/stopwords.zip.\n",
            "[nltk_data] Downloading package wordnet to /root/nltk_data...\n",
            "[nltk_data]   Unzipping corpora/wordnet.zip.\n",
            "[nltk_data] Downloading package punkt to /root/nltk_data...\n",
            "[nltk_data]   Unzipping tokenizers/punkt.zip.\n"
          ],
          "name": "stdout"
        }
      ]
    },
    {
      "cell_type": "code",
      "metadata": {
        "id": "U7C4snIcNl22",
        "colab": {
          "base_uri": "https://localhost:8080/"
        },
        "outputId": "44d03d2e-fad9-41fb-faf9-b54ea0889552"
      },
      "source": [
        "# Code to download file into Colaboratory:\n",
        "!pip install -U -q PyDrive\n",
        "from pydrive.auth import GoogleAuth\n",
        "from pydrive.drive import GoogleDrive\n",
        "from google.colab import auth\n",
        "from oauth2client.client import GoogleCredentials\n",
        "# Authenticate and create the PyDrive client.\n",
        "auth.authenticate_user()\n",
        "gauth = GoogleAuth()\n",
        "gauth.credentials = GoogleCredentials.get_application_default()\n",
        "drive = GoogleDrive(gauth)\n",
        "\n",
        "id = '1lTD6bgRkmwguGAr30v-r0KBPdtnVneLb'\n",
        "downloaded = drive.CreateFile({'id':id}) \n",
        "downloaded.GetContentFile('testing_data.pkl')  \n",
        "\n",
        "id = '1pCUdlZMoj99UZHtqFeza86fvVQfFmDFX'\n",
        "downloaded = drive.CreateFile({'id':id}) \n",
        "downloaded.GetContentFile('training_data.pkl')  \n",
        "\n",
        "# import pickle\n",
        "# training_data = pickle.load(open(\"training_data.pkl\",\"rb\"))\n",
        "# testing_data = pickle.load(open(\"testing_data.pkl\",\"rb\"))\n",
        "\n",
        "# #import TED scripts from Google Drive\n",
        "# id = '1B47OiEiG2Lo1jUY6hy_zMmHBxfKQuJ8-'\n",
        "# downloaded = drive.CreateFile({'id':id}) \n",
        "# downloaded.GetContentFile('ted_en-20160408.xml')  \n",
        "\n",
        "\n",
        "#import the lexcion data set \n",
        "downloaded = drive.CreateFile({'id':\"1kUZ-gg7tXbFbMVqsGHVt479M47Ur3tkF\"})   # replace the id with id of file you want to access\n",
        "downloaded.GetContentFile('positive-words.txt')  \n",
        "\n",
        "downloaded = drive.CreateFile({'id':\"1qAjh2hSgH_dbauQRr-8NrJPviOZpNSqn\"})   # replace the id with id of file you want to access\n",
        "downloaded.GetContentFile('negative-words.txt') \n",
        "\n",
        "print(\"------------------------------------\")\n",
        "print(\"Size of training dataset: {0}\".format(len(training_data)))\n",
        "print(\"Size of testing dataset: {0}\".format(len(testing_data)))\n",
        "print(\"------------------------------------\")\n",
        "\n",
        "print(\"------------------------------------\")\n",
        "print(\"Sample Data\")\n",
        "print(\"LABEL: {0} / SENTENCE: {1}\".format(training_data[0][0], training_data[0][1]))\n",
        "print(\"------------------------------------\")\n"
      ],
      "execution_count": null,
      "outputs": [
        {
          "output_type": "stream",
          "text": [
            "------------------------------------\n",
            "Size of training dataset: 8000\n",
            "Size of testing dataset: 2000\n",
            "------------------------------------\n",
            "------------------------------------\n",
            "Sample Data\n",
            "LABEL: neg / SENTENCE: hopeless for tmr :(\n",
            "------------------------------------\n"
          ],
          "name": "stdout"
        }
      ]
    },
    {
      "cell_type": "markdown",
      "metadata": {
        "id": "l9gBSgBCQh24"
      },
      "source": [
        "## 1.2. Preprocess data"
      ]
    },
    {
      "cell_type": "markdown",
      "metadata": {
        "id": "8RdKI8E2KRwe"
      },
      "source": [
        "Data Preprocessinf techniques used:\n",
        "\n",
        "\n",
        "*   Using [Pandas Dataframe](https://pandas.pydata.org/docs/reference/api/pandas.DataFrame.html) to check for any missing or NAN values\n",
        "*   Each word to Lower case\n",
        "*   Removal of numbers, urls and emails\n",
        "*   Contraction (eg: I'l -> I will)\n",
        "*   Removal of stopwords (most common words)\n",
        "*   nltk: TweetTokenizer (convert to word tokens)\n",
        "*   Remove punctuations\n",
        "\n",
        "The aim to is to perform sentiment analysis.Hence it is important to preserve emoticons and emojis, this can be achieved by using TweetTokenizer from [nltk.tokenize](https://www.nltk.org/api/nltk.tokenize.html).(eg: if a sentence is \"I love eating momo :)\", with TweetTokenizer we get ['I','love',eating','momo',':)']).\n",
        "\n",
        "The data is checked for any null or missing values. The punctutation,email,numbers and urls are noise in the data for sentiment analysis, they are removed. There are contractions in data which are expanded using [contractions library](https://pypi.org/project/contractions/). Stopwords are most common words in data (eg: I, we,is,do,etc) which might not add value to the document,hence removed."
      ]
    },
    {
      "cell_type": "code",
      "metadata": {
        "id": "JEyvJisF1lJn"
      },
      "source": [
        "#function to remove stopwords\n",
        "def remove_stopwords(x):\n",
        "  return \" \".join([w for w in str(x).split() if w not in stop_words])\n",
        "\n",
        "#function to remove numbers\n",
        "def remove_nos(x):\n",
        "  return re.sub('[0-9]+','',x)\n",
        "\n",
        "#functions to remove urls\n",
        "def remove_urls(x):\n",
        "  pattern = re.compile(r'https?://\\S+|www\\.\\S+')\n",
        "  return pattern.sub(r'', x)\n",
        "\n",
        "#function to  remove emails\n",
        "def clean_email(x):\n",
        "  return re.sub('@[^\\s]+|\\#','',x)\n",
        "\n",
        "#function to expand contractions\n",
        "def contract(x):\n",
        "  return contractions.fix(x)\n",
        "\n",
        "#function to remove punctutations\n",
        "def remove_punc(x):\n",
        "  if x not in string.punctuation:\n",
        "    return x"
      ],
      "execution_count": null,
      "outputs": []
    },
    {
      "cell_type": "code",
      "metadata": {
        "id": "emyl1lWxGr12",
        "colab": {
          "base_uri": "https://localhost:8080/",
          "height": 1000
        },
        "outputId": "4d6c2087-b491-4cfb-8be9-15319facef85"
      },
      "source": [
        "# Please comment your code\n",
        "#load pandas library to view data and process data\n",
        "df_train=pd.DataFrame(training_data)\n",
        "df_test=pd.DataFrame(testing_data)\n",
        "print(df_train.shape)\n",
        "print(df_train.head(10))\n",
        "\n",
        "df_train.info()\n",
        "#check for any missing/null values\n",
        "print(f\"\\nNull values: {df_train.isnull().values.sum()}\")\n",
        "#chekc for any NAN values\n",
        "print(f\"\\nAny NAN values: {df_train.isnull().values.any()}\")\n",
        "\n",
        "#distribution of sentiment by word length and sentiment type\n",
        "df_train.columns=['class','tweet']\n",
        "df_test.columns=['class','tweet']\n",
        "df_train['length']=df_train['tweet'].apply(len)\n",
        "sns.barplot(x='class',y='length',data=df_train,palette='Spectral')\n",
        "plt.title('Average Word Length Vs Class')\n",
        "plt.show()\n",
        "sns.countplot(x='class',data = df_train,palette='bright')\n",
        "plt.title('Sentiment (positive/negative) count')\n",
        "plt.show()"
      ],
      "execution_count": null,
      "outputs": [
        {
          "output_type": "stream",
          "text": [
            "(8000, 2)\n",
            "     0                                                  1\n",
            "0  neg                                hopeless for tmr :(\n",
            "1  neg  Everything in the kids section of IKEA is so c...\n",
            "2  neg  @Hegelbon That heart sliding into the waste ba...\n",
            "3  neg  “@ketchBurning: I hate Japanese call him \"bani...\n",
            "4  neg           Dang starting next week I have \"work\" :(\n",
            "5  neg  oh god, my babies' faces :( https://t.co/9fcwG...\n",
            "6  neg                  @RileyMcDonough make me smile :((\n",
            "7  neg  @f0ggstar @stuartthull work neighbour on motor...\n",
            "8  neg  why?:(\"@tahuodyy: sialan:( https://t.co/Hv1i0x...\n",
            "9  neg  Athabasca glacier was there in #1948 :-( #atha...\n",
            "<class 'pandas.core.frame.DataFrame'>\n",
            "RangeIndex: 8000 entries, 0 to 7999\n",
            "Data columns (total 2 columns):\n",
            " #   Column  Non-Null Count  Dtype \n",
            "---  ------  --------------  ----- \n",
            " 0   0       8000 non-null   object\n",
            " 1   1       8000 non-null   object\n",
            "dtypes: object(2)\n",
            "memory usage: 125.1+ KB\n",
            "\n",
            "Null values: 0\n",
            "\n",
            "Any NAN values: False\n"
          ],
          "name": "stdout"
        },
        {
          "output_type": "display_data",
          "data": {
            "image/png": "[encoded data removed]",
            "text/plain": [
              "<Figure size 432x288 with 1 Axes>"
            ]
          },
          "metadata": {
            "tags": [],
            "needs_background": "light"
          }
        },
        {
          "output_type": "display_data",
          "data": {
            "image/png": "[encoded data removed]",
            "text/plain": [
              "<Figure size 432x288 with 1 Axes>"
            ]
          },
          "metadata": {
            "tags": [],
            "needs_background": "light"
          }
        }
      ]
    },
    {
      "cell_type": "code",
      "metadata": {
        "colab": {
          "base_uri": "https://localhost:8080/",
          "height": 348
        },
        "id": "t1C8YGYLQMvD",
        "outputId": "f01cc513-ae25-4ca0-ca59-e8f072dcdea0"
      },
      "source": [
        "#test_data \n",
        "df_test.head(10)"
      ],
      "execution_count": null,
      "outputs": [
        {
          "output_type": "execute_result",
          "data": {
            "text/html": [
              "<div>\n",
              "<style scoped>\n",
              "    .dataframe tbody tr th:only-of-type {\n",
              "        vertical-align: middle;\n",
              "    }\n",
              "\n",
              "    .dataframe tbody tr th {\n",
              "        vertical-align: top;\n",
              "    }\n",
              "\n",
              "    .dataframe thead th {\n",
              "        text-align: right;\n",
              "    }\n",
              "</style>\n",
              "<table border=\"1\" class=\"dataframe\">\n",
              "  <thead>\n",
              "    <tr style=\"text-align: right;\">\n",
              "      <th></th>\n",
              "      <th>class</th>\n",
              "      <th>tweet</th>\n",
              "    </tr>\n",
              "  </thead>\n",
              "  <tbody>\n",
              "    <tr>\n",
              "      <th>0</th>\n",
              "      <td>neg</td>\n",
              "      <td>@AndreaMarySmith very helpful .... Or will be ...</td>\n",
              "    </tr>\n",
              "    <tr>\n",
              "      <th>1</th>\n",
              "      <td>neg</td>\n",
              "      <td>@realyys_ OTL NEVERMIND :( at least i got jeon so</td>\n",
              "    </tr>\n",
              "    <tr>\n",
              "      <th>2</th>\n",
              "      <td>neg</td>\n",
              "      <td>And AS SOON as I tweeted that she planted her ...</td>\n",
              "    </tr>\n",
              "    <tr>\n",
              "      <th>3</th>\n",
              "      <td>neg</td>\n",
              "      <td>@luketothestars damnit :(</td>\n",
              "    </tr>\n",
              "    <tr>\n",
              "      <th>4</th>\n",
              "      <td>neg</td>\n",
              "      <td>@KLM I used to be PRY/PV ..... wish I could re...</td>\n",
              "    </tr>\n",
              "    <tr>\n",
              "      <th>5</th>\n",
              "      <td>neg</td>\n",
              "      <td>It's really hot :-(</td>\n",
              "    </tr>\n",
              "    <tr>\n",
              "      <th>6</th>\n",
              "      <td>neg</td>\n",
              "      <td>@Carouselballet Monday? :(</td>\n",
              "    </tr>\n",
              "    <tr>\n",
              "      <th>7</th>\n",
              "      <td>neg</td>\n",
              "      <td>@badoeuf If going to stop breakfast early you ...</td>\n",
              "    </tr>\n",
              "    <tr>\n",
              "      <th>8</th>\n",
              "      <td>neg</td>\n",
              "      <td>@blairforce2 which means its on its way over h...</td>\n",
              "    </tr>\n",
              "    <tr>\n",
              "      <th>9</th>\n",
              "      <td>neg</td>\n",
              "      <td>:( but wtf am I supposed to do now without her</td>\n",
              "    </tr>\n",
              "  </tbody>\n",
              "</table>\n",
              "</div>"
            ],
            "text/plain": [
              "  class                                              tweet\n",
              "0   neg  @AndreaMarySmith very helpful .... Or will be ...\n",
              "1   neg  @realyys_ OTL NEVERMIND :( at least i got jeon so\n",
              "2   neg  And AS SOON as I tweeted that she planted her ...\n",
              "3   neg                          @luketothestars damnit :(\n",
              "4   neg  @KLM I used to be PRY/PV ..... wish I could re...\n",
              "5   neg                                It's really hot :-(\n",
              "6   neg                         @Carouselballet Monday? :(\n",
              "7   neg  @badoeuf If going to stop breakfast early you ...\n",
              "8   neg  @blairforce2 which means its on its way over h...\n",
              "9   neg     :( but wtf am I supposed to do now without her"
            ]
          },
          "metadata": {
            "tags": []
          },
          "execution_count": 10
        }
      ]
    },
    {
      "cell_type": "code",
      "metadata": {
        "colab": {
          "base_uri": "https://localhost:8080/",
          "height": 621
        },
        "id": "b_jQTtxa3LyC",
        "outputId": "515d08f4-5cba-4410-9492-fc5b1b1a2ad0"
      },
      "source": [
        "print(f\"Before preprocessing:\\n {df_train.head(10)}\")\n",
        "#stopwords removal for training and test data\n",
        "stop_words=sw.words()\n",
        "df_train['tweet']=df_train['tweet'].apply(lambda x:remove_stopwords(x))\n",
        "df_test['tweet']=df_train['tweet'].apply(lambda x:remove_stopwords(x))\n",
        "\n",
        "\n",
        "#cleaning numbers for training and test data\n",
        "df_train['tweet']=df_train['tweet'].apply(lambda x: remove_nos(x))\n",
        "df_test['tweet']=df_train['tweet'].apply(lambda x:remove_nos(x))\n",
        "\n",
        "#removing urls for training and test data\n",
        "df_train['tweet'] = df_train['tweet'].apply(remove_urls)\n",
        "df_test['tweet']=df_train['tweet'].apply(lambda x:remove_urls(x))\n",
        "\n",
        "#cleaning emails for training and test data\n",
        "df_train['tweet'] = df_train['tweet'].apply(clean_email)\n",
        "df_test['tweet']=df_train['tweet'].apply(lambda x:clean_email(x))\n",
        "print(f\"\\nAfter some preprocessing:\\n \")\n",
        "df_train.head(10)"
      ],
      "execution_count": null,
      "outputs": [
        {
          "output_type": "stream",
          "text": [
            "Before preprocessing:\n",
            "   class                                              tweet  length\n",
            "0   neg                                hopeless for tmr :(      19\n",
            "1   neg  Everything in the kids section of IKEA is so c...      85\n",
            "2   neg  @Hegelbon That heart sliding into the waste ba...      54\n",
            "3   neg  “@ketchBurning: I hate Japanese call him \"bani...      62\n",
            "4   neg           Dang starting next week I have \"work\" :(      40\n",
            "5   neg  oh god, my babies' faces :( https://t.co/9fcwG...      51\n",
            "6   neg                  @RileyMcDonough make me smile :((      33\n",
            "7   neg  @f0ggstar @stuartthull work neighbour on motor...     124\n",
            "8   neg  why?:(\"@tahuodyy: sialan:( https://t.co/Hv1i0x...      51\n",
            "9   neg  Athabasca glacier was there in #1948 :-( #atha...     139\n",
            "\n",
            "After some preprocessing:\n",
            " \n"
          ],
          "name": "stdout"
        },
        {
          "output_type": "execute_result",
          "data": {
            "text/html": [
              "<div>\n",
              "<style scoped>\n",
              "    .dataframe tbody tr th:only-of-type {\n",
              "        vertical-align: middle;\n",
              "    }\n",
              "\n",
              "    .dataframe tbody tr th {\n",
              "        vertical-align: top;\n",
              "    }\n",
              "\n",
              "    .dataframe thead th {\n",
              "        text-align: right;\n",
              "    }\n",
              "</style>\n",
              "<table border=\"1\" class=\"dataframe\">\n",
              "  <thead>\n",
              "    <tr style=\"text-align: right;\">\n",
              "      <th></th>\n",
              "      <th>class</th>\n",
              "      <th>tweet</th>\n",
              "      <th>length</th>\n",
              "    </tr>\n",
              "  </thead>\n",
              "  <tbody>\n",
              "    <tr>\n",
              "      <th>0</th>\n",
              "      <td>neg</td>\n",
              "      <td>hopeless tmr :(</td>\n",
              "      <td>19</td>\n",
              "    </tr>\n",
              "    <tr>\n",
              "      <th>1</th>\n",
              "      <td>neg</td>\n",
              "      <td>Everything kids section IKEA cute. Shame I'm n...</td>\n",
              "      <td>85</td>\n",
              "    </tr>\n",
              "    <tr>\n",
              "      <th>2</th>\n",
              "      <td>neg</td>\n",
              "      <td>That heart sliding waste basket. :(</td>\n",
              "      <td>54</td>\n",
              "    </tr>\n",
              "    <tr>\n",
              "      <th>3</th>\n",
              "      <td>neg</td>\n",
              "      <td>“ I hate Japanese call \"bani\" :( :(” Me</td>\n",
              "      <td>62</td>\n",
              "    </tr>\n",
              "    <tr>\n",
              "      <th>4</th>\n",
              "      <td>neg</td>\n",
              "      <td>Dang starting next week I \"work\" :(</td>\n",
              "      <td>40</td>\n",
              "    </tr>\n",
              "    <tr>\n",
              "      <th>5</th>\n",
              "      <td>neg</td>\n",
              "      <td>oh god, babies' faces :(</td>\n",
              "      <td>51</td>\n",
              "    </tr>\n",
              "    <tr>\n",
              "      <th>6</th>\n",
              "      <td>neg</td>\n",
              "      <td>make smile :((</td>\n",
              "      <td>33</td>\n",
              "    </tr>\n",
              "    <tr>\n",
              "      <th>7</th>\n",
              "      <td>neg</td>\n",
              "      <td>work neighbour motors. Asked said hates upda...</td>\n",
              "      <td>124</td>\n",
              "    </tr>\n",
              "    <tr>\n",
              "      <th>8</th>\n",
              "      <td>neg</td>\n",
              "      <td>why?:(\" sialan:(</td>\n",
              "      <td>51</td>\n",
              "    </tr>\n",
              "    <tr>\n",
              "      <th>9</th>\n",
              "      <td>neg</td>\n",
              "      <td>Athabasca glacier  :-( athabasca glacier jaspe...</td>\n",
              "      <td>139</td>\n",
              "    </tr>\n",
              "  </tbody>\n",
              "</table>\n",
              "</div>"
            ],
            "text/plain": [
              "  class                                              tweet  length\n",
              "0   neg                                    hopeless tmr :(      19\n",
              "1   neg  Everything kids section IKEA cute. Shame I'm n...      85\n",
              "2   neg                That heart sliding waste basket. :(      54\n",
              "3   neg            “ I hate Japanese call \"bani\" :( :(” Me      62\n",
              "4   neg                Dang starting next week I \"work\" :(      40\n",
              "5   neg                          oh god, babies' faces :(       51\n",
              "6   neg                                     make smile :((      33\n",
              "7   neg    work neighbour motors. Asked said hates upda...     124\n",
              "8   neg                                  why?:(\" sialan:(       51\n",
              "9   neg  Athabasca glacier  :-( athabasca glacier jaspe...     139"
            ]
          },
          "metadata": {
            "tags": []
          },
          "execution_count": 11
        }
      ]
    },
    {
      "cell_type": "code",
      "metadata": {
        "id": "63BZ3le83p9M"
      },
      "source": [
        "#expnading contractions for training and test data\n",
        "df_train['tweet']=df_train['tweet'].apply(contract)\n",
        "df_train.head(10)\n",
        "df_test['tweet']=df_test['tweet'].apply(contract)"
      ],
      "execution_count": null,
      "outputs": []
    },
    {
      "cell_type": "code",
      "metadata": {
        "id": "EGMEPLFuG7ph"
      },
      "source": [
        "#Convert to Lower Case for training and test data\n",
        "df_train['tweet']=df_train['tweet'].str.lower()\n",
        "df_train.head(10)\n",
        "df_test['tweet']=df_test['tweet'].str.lower()"
      ],
      "execution_count": null,
      "outputs": []
    },
    {
      "cell_type": "code",
      "metadata": {
        "id": "lA6FSH6qBbJd"
      },
      "source": [
        "#cleaning symbols that would not be removed by string.punctuation\n",
        "#function to clean symbols\n",
        "def clean_str(string):\n",
        "    string = re.sub(r'(\\.)+|(\\-)+>|\\(\\|\\)|<(\\.)+|\\s|<(\\-)+|(\\_)+|“|”|⅛|⅞|\\\"|…|£|«|–|—|•|←|→|∗', \" \", string)\n",
        "    string =str.strip(string)\n",
        "    \n",
        "    return string\n",
        "\n",
        "#apply function to remove symbols for training and test data\n",
        "df_train['tweet']=df_train['tweet'].apply(clean_str)\n",
        "df_train.head(10)\n",
        "df_test['tweet']=df_test['tweet'].apply(clean_str)"
      ],
      "execution_count": null,
      "outputs": []
    },
    {
      "cell_type": "code",
      "metadata": {
        "id": "RZ0vc7nvDQ2R"
      },
      "source": [
        "#Tweet tokenizer preserving emoticons\n",
        "tt=TweetTokenizer(strip_handles=True)\n",
        "\n",
        "#apply to both set\n",
        "df_train['tweet']=df_train['tweet'].apply(tt.tokenize)\n",
        "df_train['tweet'].head(10)\n",
        "df_test['tweet']=df_test['tweet'].apply(tt.tokenize)"
      ],
      "execution_count": null,
      "outputs": []
    },
    {
      "cell_type": "code",
      "metadata": {
        "id": "IAEYO17Dwdf3"
      },
      "source": [
        "#remove punctuation after tweet tokenizer \n",
        "#it wont remove the emoticons now\n",
        "#function to remove punctuations\n",
        "def remove_punc_df(x):\n",
        "  v=[]\n",
        "  for w in x:\n",
        "    if w not in string.punctuation:\n",
        "      v.append(w)\n",
        "  return v\n",
        "\n",
        "#call function to remove punctuations for training and test set\n",
        "df_train['tweet']=df_train['tweet'].apply(remove_punc_df)\n",
        "df_train['tweet'].head(10)\n",
        "df_test['tweet']=df_test['tweet'].apply(remove_punc_df)"
      ],
      "execution_count": null,
      "outputs": []
    },
    {
      "cell_type": "code",
      "metadata": {
        "colab": {
          "base_uri": "https://localhost:8080/"
        },
        "id": "QWVMKO-xzWxg",
        "outputId": "22bbee73-c6d5-4ef7-fa1d-622d28a191d7"
      },
      "source": [
        "#double chekcing if there are any null values introduced by preprocessing\n",
        "print(f\"\\nAny NAN values: {df_train['tweet'].isnull().values.any()}\")\n",
        "print(f\"\\nAny NAN values: {df_test['tweet'].isnull().values.any()}\")"
      ],
      "execution_count": null,
      "outputs": [
        {
          "output_type": "stream",
          "text": [
            "\n",
            "Any NAN values: False\n",
            "\n",
            "Any NAN values: False\n"
          ],
          "name": "stdout"
        }
      ]
    },
    {
      "cell_type": "code",
      "metadata": {
        "id": "XXYL8Vzi4cFQ"
      },
      "source": [
        "# #converting pandas dataframe tweet column to  a list\n",
        "# sentences=df_train['tweet'].to_list()\n",
        "# sentences[1:5]\n",
        "\n",
        "# #Tokenize the tweet sentences \n",
        "# tokens=[]\n",
        "# tt=TweetTokenizer(strip_handles=True)\n",
        "# for sent in sentences:\n",
        "#   for word in tt.tokenize(sent):\n",
        "#     tokens.append(word)"
      ],
      "execution_count": null,
      "outputs": []
    },
    {
      "cell_type": "code",
      "metadata": {
        "id": "QOdXF_yc5VS4"
      },
      "source": [
        "# cleaned_tokens=[]\n",
        "# for token in tokens:\n",
        "#   cleaned_tokens.append(remove_punc(token))"
      ],
      "execution_count": null,
      "outputs": []
    },
    {
      "cell_type": "code",
      "metadata": {
        "id": "sXjCBbqL6EaJ"
      },
      "source": [
        "# cleaned_tokens[1:30]\n",
        "# #removing none type\n",
        "# cleaned_tokens=[token for token in cleaned_tokens if token is not None]"
      ],
      "execution_count": null,
      "outputs": []
    },
    {
      "cell_type": "code",
      "metadata": {
        "id": "WhHBF9w7EPkZ"
      },
      "source": [
        "# no_chars=[]\n",
        "# for tokens in cleaned_tokens:\n",
        "#   if not tokens.isalpha():\n",
        "#      no_chars.append(re.sub(r\"(\\.)+|(\\-)+>|\\(\\|\\)|<(\\.)+|\\s|<(\\-)+|(\\_)+|“|”|⅛|⅞\",'',tokens))\n",
        "# import numpy as np\n",
        "# y=np.unique(no_chars)\n",
        "# print(len(y))\n",
        "# y"
      ],
      "execution_count": null,
      "outputs": []
    },
    {
      "cell_type": "code",
      "metadata": {
        "id": "aTw0Nq3KvIiZ"
      },
      "source": [
        "#tokenize preserving emoticons\n",
        "# tt=TweetTokenizer(strip_handles=True)\n",
        "\n",
        "# df_train['tweet']=df_train['tweet'].apply(tt.tokenize)\n",
        "\n",
        "# df_train.head(5)\n",
        "# no_chars=[]\n",
        "# for tokens in cleaned_tokens:\n",
        "#   if not tokens.isalpha():\n",
        "#      no_chars.append(re.sub(r\"(\\.)+|(\\-)+>|\\(\\|\\)|<(\\.)+|\\s|<(\\-)+|(\\_)+|“|”|⅛|⅞\",'',tokens))\n",
        "# import numpy as np\n",
        "# y=np.unique(no_chars)\n",
        "# len(y)\n",
        "# y\n",
        "# emoj_cons=['(-:', '(:', '):', \":'(\", \":')\", ':(', ':)', ':-(', ':-)',\n",
        "#       #  ':-d', ':/', '::', ':\\\\', ':d', ':p', ':|', ';(', ';)', ';-)',\n",
        "#        ';p', ';}', '=:', '=d', '>:(', '>:)', '>:-(', '>:d', '🌃', '🌎', '🌚', '🌞', '🌷', '🌸', '🍅', '🍜', '🍤', '🍭', '🍰', '🍵', '🍸',\n",
        "#        '🍹', '🎀', '🎂', '🎈', '🎉', '🎵','🐑', '🐒', '🐢', '👆', '👈',\n",
        "#        '👉', '👊', '👌', '👍', '👏', '👑', '👓', '👯', '💃', '💅', '💋', '💓', '💔',\n",
        "#        '💕', '💖', '💗', '💘', '💙', '💚', '💛', '💜', '💞', '💟', '💥', '💦', '💪',\n",
        "#        '💫', '🔥', '🗽', '😀', '😁', '😂', '😃', '😄', '😅', '😆', '😉', '😊', '😌',\n",
        "#        '😍', '😒', '😓', '😔', '😕', '😘', '😚', '😜', '😞', '😟', '😢', '😤', '😧',\n",
        "#        '😩', '😪', '😬', '😭', '😴', '😵', '🙅', '🙈', '🙏', '🚂', '🚖', '🚙',\n",
        "#        '\\U000fe196', '\\U000fe334','☔', '☕', '☺', '☼', '♛', '♡', '♥', '♫', '♬', '⚡', '✈', '✌', '✔','✧', '✨', '❤', '⭐','∠']"
      ],
      "execution_count": null,
      "outputs": []
    },
    {
      "cell_type": "code",
      "metadata": {
        "id": "Pivm2rCz__2b"
      },
      "source": [
        "# #let's try to test with porter algorithm\n",
        "# #dont use it \n",
        "# from nltk.stem.porter import *\n",
        "# stemmer = PorterStemmer()\n",
        "\n",
        "# stem_tokens = [stemmer.stem(token) for token in cleaned_tokens]\n",
        "\n",
        "# print(stem_tokens[1:30])"
      ],
      "execution_count": null,
      "outputs": []
    },
    {
      "cell_type": "code",
      "metadata": {
        "id": "TSNpzGKnApgD"
      },
      "source": [
        "\n",
        "\n",
        "# lem_tokens=[lemmatizer.lemmatize(token) for token in cleaned_tokens]\n",
        "# print(lem_tokens[0:30])"
      ],
      "execution_count": null,
      "outputs": []
    },
    {
      "cell_type": "code",
      "metadata": {
        "id": "OaNqq_BI2LDX"
      },
      "source": [
        "# call function to lemmatize words using WordNetLemmatizer from nltk package\n",
        "lemmatizer = WordNetLemmatizer()\n",
        "def lemma(x):\n",
        "  v=[]\n",
        "  for w in x:\n",
        "    v.append(lemmatizer.lemmatize(w))\n",
        "  return v\n",
        "\n",
        "#apply to both train and test set\n",
        "df_train['tweets']=df_train['tweet'].apply(lemma)\n",
        "df_train['tweets'].head(10)\n",
        "df_test['tweets']=df_train['tweet'].apply(lemma)"
      ],
      "execution_count": null,
      "outputs": []
    },
    {
      "cell_type": "code",
      "metadata": {
        "id": "ofUbEICmf0Ak"
      },
      "source": [
        "# converting the lemmatize column of pandas dataframe to list\n",
        "sentences=df_train['tweet'].to_list()\n",
        "labels=df_train['class'].to_list()\n",
        "\n",
        "test_sentences=df_test['tweet'].to_list()\n",
        "labels_test=df_test['class'].to_list()"
      ],
      "execution_count": null,
      "outputs": []
    },
    {
      "cell_type": "markdown",
      "metadata": {
        "id": "LIu_lkJwQ55g"
      },
      "source": [
        "# 2 - Model Implementation"
      ]
    },
    {
      "cell_type": "markdown",
      "metadata": {
        "id": "daDvAftceIvr"
      },
      "source": [
        "## 2.1. Word Embeddings"
      ]
    },
    {
      "cell_type": "markdown",
      "metadata": {
        "id": "lbzm-NWBTmM-"
      },
      "source": [
        "*You are required to describe which model was implemented (i.e. Word2Vec with CBOW, FastText with SkipGram, etc.) with justification of your decision *\n",
        "\n",
        "We are training the FastText model using pretrained data. Our data size is small and training own wordvector will not catch fully context,sentiment,syntatic and symentic relationship.FastText uses n-gram approach and works well for Out of Vocabulary words as well."
      ]
    },
    {
      "cell_type": "code",
      "metadata": {
        "id": "-oIJ1IcT04Bx",
        "colab": {
          "base_uri": "https://localhost:8080/"
        },
        "outputId": "9194eac0-5c86-4c40-8f00-811e8c52913c"
      },
      "source": [
        "#Refer to Lab 5 code \n",
        "# Set is a hashtable in python\n",
        "word_set = set() \n",
        "for sent in sentences:\n",
        "    for word in sent:\n",
        "        word_set.add(word)\n",
        "# Sometimes you can use same token to present PAD and UNKOWN if you just want to set them as all zeros\n",
        "word_set.add('[PAD]')\n",
        "word_set.add('[UNKNOWN]')\n",
        "\n",
        "#creating word list, that will remove duplicates\n",
        "word_list = list(word_set) \n",
        "word_list.sort()\n",
        "print(word_list)\n",
        "\n",
        "word_index = {}\n",
        "ind = 0\n",
        "for word in word_list:\n",
        "    word_index[word] = ind\n",
        "    ind += 1\n",
        "print(word_index)"
      ],
      "execution_count": null,
      "outputs": [
        {
          "output_type": "stream",
          "text": [
            "['(-:', '(:', '):', '--->', '-->', '->', \":'(\", \":')\", ':(', ':)', ':-(', ':-)', ':-d', ':/', '::', ':\\\\', ':d', ':p', ':|', ';(', ';)', ';-)', ';p', ';}', '<---', '=:', '=d', '>:(', '>:)', '>:-(', '>:d', '[PAD]', '[UNKNOWN]', 'a', 'aa', 'aaaaaaaaaaa', 'aaaaaaaaaaaaa', 'aaaaaaaaaaaah', 'aaaaaand', 'aaaaages', 'aaaaahhhhhhhh', 'aaaahh', 'aaaahhh', 'aaahhh', 'aah', 'aahhhh', 'aaj', 'aameen', 'aapke', 'aaron', 'aarww', 'aayegi', 'ab', 'abandoned', 'abandoning', 'abby', 'abbymill', 'abes', 'abhi', 'abi', 'abit', 'able', 'abligaverins', 'aboard', 'about', 'abouty', 'abroad', 'abrupt', 'abs', 'abscess', 'absent', 'absolute', 'absolutely', 'abstinence', 'abt', 'abu', 'abusive', 'abuti', 'ac', 'academics', 'acads', 'acc', 'accent', 'accept', 'accepted', 'access', 'accessories', 'accident', 'accidentally', 'accnt', 'accommodate', 'according', 'account', 'accounts', 'accs', 'accumulated', 'accurate', 'ace', 'acha', 'ache', 'achebe', 'achi', 'achieved', 'achieving', 'acid', 'ack', 'acne', 'acorn', 'acoustic', 'across', 'act', 'action', 'activation', 'active', 'activity', 'actor', 'actress', 'acts', 'actual', 'actually', 'actuallythough', 'ad', 'ada', 'adam', 'add', 'added', 'addicted', 'addicted-to-analsex', 'addiction', 'addictive', 'addition', 'addme', 'addmeonbbm', 'addmeonsnapchat', 'address', 'addressing', 'adf', 'adidas', 'adios', 'adis', 'aditya', 'admin', 'adolf', 'adorable', 'adored', 'adrian', 'adu', 'adult', 'advaddict', 'advance', 'advanced', 'adventure', 'adventures', 'advert', 'advice', 'advisory', 'ae', 'aerial', 'af', 'afang', 'aff', 'affaraid', 'affect', 'affiliated', 'afford', 'afghanistn', 'aflblueshawks', 'afraid', 'africa', 'afridi', 'afropunk', 'aftenoon', 'after', 'after-work', 'afterall', 'afternon', 'afternoon', 'afterschool', 'afterwards', 'aftie', 'agaaaain', 'again', 'agains', 'agayhippiehippy', 'age', 'aged', 'agencies', 'agent', 'ages', 'agessss', 'aggregates', 'agh', 'agile', 'agnes', 'agnezmo', 'ago', 'agonising', 'agover', 'agree', 'agreed', 'agrees', 'ah', 'aha', 'ahah', 'ahaha', 'ahahah', 'ahead', 'ahh', 'ahhh', 'ahhhhh', 'ahouré', 'ahs', 'ai', 'aich', 'aidzin', 'aigooo', 'aimed', 'aing', 'air', 'airdroid', 'airecs', 'aired', 'airfields', 'airforce', 'airline', 'airport', 'airs', 'aishhh', 'aisyah', 'aisyhhh', 'aj', 'aja', 'akana', 'aki', 'ako', 'akon', 'akong', 'akooooooooooooooo', 'akshaymostlovedsuperstarever', 'akua', 'al', 'ala', 'alansmithpart', 'alarm', 'alarms', 'albeit', 'alberta', 'album', 'alchemists', 'alcohol', 'aldub', 'aleks', 'alert', 'alerts', 'alex', \"alex's\", 'alhamdulillah', 'alhamdullilah', 'alice', 'alien', 'alienthought', 'aling', 'alison', 'alive', 'alix', 'all', 'all-clear', 'all-time', 'allah', 'allergic', 'allgoodthingske', 'alliteration', 'alllllll', 'allow', 'allowance', 'allowed', 'allowing', 'allows', 'alls', 'alma', 'almost', 'alone', 'along', 'alot', 'alreaddyyy', 'already', 'alright', 'also', 'altered', 'altering', 'alternative', 'alternatively', 'alternatives', 'although', 'aluminiumfree', 'alumni', 'alunageorge', 'alvadhaau', 'always', 'am', 'amargolonnard', 'amassiveoverdoseofships', 'amateur', 'amazed', 'amazes', 'amazing', 'amazingly', 'amazon', 'amber', 'ambre', 'ambrose', 'ambs', 'ameen', 'amelia', 'amen', 'amends', 'america', 'american', 'americano', 'ami', 'amie', 'amiibo', 'amin', 'aminn', 'aminormalyet', 'amm', 'amnotness', 'among', 'amount', 'ampsha', 'amsterdam', 'amtired', 'amusement', 'amy', 'amyjackson', 'an', 'anal', 'analyzing', 'anarchy', 'anatomy', 'and', 'andals', 'andaming', 'andar', 'andre', 'andrew', 'android', 'andy', 'anesthesia', 'ang', 'angeke', 'angel', 'angelica', 'angelo', \"angelo's\", 'angels', 'anger', 'anghel', 'angie', 'angle', 'angry', 'animal', 'animated', 'animation', 'animator', 'anime', 'ankle', 'ann', 'anna', 'anne', 'anniversary', 'annnd', 'announce', 'announcements', 'annoyed', 'annoying', 'annoyingbaby', 'annual', 'annyeong', 'ano', 'anon', 'anonymous', 'anot', 'another', 'ans', 'anshe', 'answer', 'answering', 'answers', 'ant', 'anta', 'antagonistic', 'anthem', 'anti-christ', 'anticipation', 'antonio', 'anushka', 'anxiety', 'anxious', 'any', 'anyare', 'anybody', 'anymore', 'anymoreeeeee', 'anyone', 'anyones', 'anyonneeee', 'anythin', 'anything', 'anytime', 'anyway', 'anywayhedidanicejob', 'anyways', 'anywhere', 'anz', 'aos', 'ap', 'apart', 'apartement', 'apartment', 'apb', 'ape', 'apexis', 'apink', 'aplomb', \"apma's\", 'apologist', 'apologizing', 'apology', 'app', 'appa', 'apparently', 'appeal', 'appealing', 'appear', 'appearances', 'appeared', 'appears', 'appeasement', 'appendicitis', 'appendix', 'apple', 'application', 'applies', 'apply', 'appointment', 'appreciate', 'appreciated', 'appreciating', 'approach', 'appropriate', 'approval', 'approving', 'approximately', 'apps', 'april', 'apt', 'aqui', 'aragalang', 'araw', 'arbeloa', 'arc', 'arch', 'archdbanterbury', 'architecture', 'arctic', 'are', 'area', 'aready', 'argh', 'argos', 'argue', 'ariana', 'arianator', 'ariel', 'arini', 'ark', 'arm', 'arma', 'armor', 'arms', 'arnd', 'arond', 'around', 'arrange', 'arre', 'arresting', 'arrival', 'arrive', 'arrived', 'arsenal', 'art', 'article', 'articles', 'artist', 'artistic', 'arts', 'artworkbylie', 'arummzz', 'as', 'asf', 'ash', 'ashamed', 'ashraf', 'ashtonsos', 'ashwathy', 'asia', 'asian', 'aside', 'ask', 'askaman', 'asked', 'askfinnick', 'askies', 'asking', 'askip', 'askurban', 'asleep', 'aspect', 'aspetti', 'ass', 'assassins', 'assessments', 'asshole', 'assholes', 'assia', 'assignment', 'assignments', 'assingnment', 'assist', 'associate', 'association', 'assume', 'assured', 'asthma', 'astonvilla', 'aswell', 'at', 'atchya', 'ate', 'athabasca', \"athena's\", 'athlete', 'atk', 'atl', 'atlantis', 'atlas', 'atleast', 'atm', 'atp', 'atrocity', 'attached', 'attack', 'attacked', 'attacks', 'attempt', 'attend', 'attenders', 'attention', 'attentive', \"attitude's\", 'attitudes', 'attraction', 'atty', 'au', 'audience', 'audition', 'audraesar', 'aug', 'auguri', 'august', 'aunt', 'aunty', 'aur', 'aurini', 'aus', 'ausfailia', 'auspost', 'austerlitz', 'austin', 'australia', \"australia's\", 'author', 'auto-focus', 'auto-followback', 'autofollow', 'auvssscr', 'avail', 'available', 'avalible', 'average', 'averted', 'avi', 'avoid', 'avoiding', 'avoplex', 'avril', 'aw', 'await', 'awak', 'awake', 'awami', 'award', 'awards', 'awareness', 'away', 'awe', 'awell', 'awesome', 'awesomeee', 'awful', 'awh', 'awhile', 'awkward', 'awsme', 'awuna', 'awusasho', 'awuuuuuuuuuuuuuuuuuuuuuuuuuuuuuuuuuuuuuuuuu', 'aww', 'awwhh', 'awww', 'awwww', 'awwwww', 'awwwwww', 'awwwwwwww', 'awwwwwwwwwww', 'axio', 'ayala', 'ayemso', 'ayex', 'az', 'aztec', 'azz-sets', 'b', \"b'coz\", 'b-but', 'ba', 'baa', 'baao', 'baareeq', 'baat', 'babe', 'babes', 'babies', 'baby', 'babygirl', 'babysit', 'babyyy', 'bachpan', 'back', 'backed', 'backflip', 'background', 'backgrounds', 'backkk', 'backstory', 'backup', 'bacon', 'bad', 'badass', 'badge', 'badlife', 'badly', 'badthwin', 'bae', 'baechu', 'baechyyy', 'baek', 'baekhyun', 'bag', 'baggage', 'bagi', 'bahari', 'bahay', 'bahayan', 'bailey', 'bajrangibhaijaanhighestweek', 'bakar', 'bakewell', 'bakit', 'bakwas', 'balance', 'bald', 'bale', 'bali', 'balkan', 'ball', 'ballads', 'baller', 'balling', 'balloon', 'balms', 'baloch', 'baloney', 'bam', 'banana', 'bananas', 'banate', 'band', 'banda', 'bandana', 'bandi', 'bandung', 'bandz', 'bang', 'bangalore', 'banged', 'bani', 'bank', 'banter', 'bantime', 'baon', 'bap', 'bapu', 'bar', 'barbells', 'barcelona', 'barcode', 'barefooted', 'barely', 'bark', 'barkada', 'barkin', 'barking', 'barkkkkkkkiiideee', 'barney', 'barnstaple', \"barrista's\", 'barsostay', 'bartender', 'basara', 'base', 'based', 'basemaps', 'basename', 'basically', 'basics', 'basil', 'basis', 'basket', 'basketball', 'baskets', 'bass', 'bastard', 'bat', 'batalladelosgallos', 'batb', 'batch', 'bath', 'bathtub', 'batman', 'batteries', 'battery', 'batting', 'battlefield', 'bawi', 'bay', 'bayan', 'baymax', 'bayonetta', 'baz', 'bb', 'bbb', 'bblf', 'bbm', 'bbmadeinmanila', 'bbmme', 'bbmpin', 'bby', 'bbygurl', 'bbz', 'bc', 'bcause', 'bcoz', 'bcs', 'bcus', 'bcuz', 'bcz', 'bday', 'bdays', 'bdayt', 'be', \"be's\", 'bea', 'beach', \"beach's\", 'beanatividad', 'bear', 'beard', 'beardy', 'beast', 'beastmode', 'beat', 'beato', 'beatport', 'beats', 'beauties', 'beautiful', 'beautifull', 'beautifully-crafted', 'beauts', 'beauty', 'beb', 'bebe', 'bebeee', 'bebeeeee', 'bebii', 'bebravetoday', 'because', 'bechos', 'become', 'becoming', 'bed', 'beeeeepin', 'been', 'beer', 'beers', 'bees', 'beety', 'before', 'beforehand', 'beg', 'begging', 'begin', 'beginner', 'beginning', 'begun', 'beh', 'behaves', 'beheaviour', 'behind', 'beijing', 'bein', 'being', 'beings', 'beiruting', 'beks', 'belated', 'belfast', 'belgium', 'beli', 'belieber', 'beliebers', 'believe', 'bell', 'bellamy', 'belle', 'belly', 'bellybutton', 'bellybuttons', 'belting', 'beme', 'bemeapp', 'bemecode', 'ben', 'benadryl', 'benchers', 'benchmarks', 'bend', 'benedictervention', 'benefit', 'benefits', 'bengalis', 'benny', 'benson', 'benteke', 'benzema', 'beograd', 'beonknockknock', 'berangkaat', 'bergerac', 'berigaud', 'besi', 'beside', 'besides', 'besok', 'besst', 'best', 'besteverdoctorwhoepisode', 'bestfriend', 'bestfriends', 'bestoftheday', 'bests', 'bestweekend', 'bet', 'beta', 'beth', 'bethesda', 'better', 'betting', 'bettor', 'beverly', 'beware', 'beyond', 'beytaad', 'bf', 'bff', \"bff's\", 'bffs', 'bfr', 'bg', 'bgtau', 'bhai', 'bhaiya', 'bheyps', 'bhi', 'bhk', 'bhook', 'bhs', 'bi', 'bi-polar', 'bianca', 'bias', 'biases', 'bible', 'biblethump', 'bideford', 'bien', 'bierce', 'big', 'bigbang', 'bigger', 'biggest', 'bigot', 'bigtime', 'biker', 'biking', 'bikini', 'bikinis', 'bilal', 'bilbao', 'bill', 'billie', 'billion', 'billionaires', 'billions', 'bills', 'billy', 'bindingofissac', 'bing', 'binge', 'bio', 'biodiversity', 'biomass', 'biomes', 'bioooo', 'biphobic', 'bips', 'bird', 'birds', 'birmingham', 'birth', 'birthdaaaaayyyy', 'birthday', 'birthdaygirl', 'birthdaymonth', 'birthdaypresent', 'birthdays', 'bis', 'bisexuality', 'bish', 'bishes', 'bison', 'bissmillah', 'bit', 'bitch', 'bitches', 'bitchface', 'bitching', 'bite', 'bites', 'bitin', 'bits', 'bitsy', 'bitter', 'bitterness', 'bittersweetness', 'bitty', 'bjp', 'black', 'blackberry', 'blackcountryfair', 'blackfly', 'blacklivesmatter', 'blaine', \"blaine's\", 'blame', 'blamehoney', 'blameshoghicp', 'blaming', 'bland', 'blarney', 'blast', 'bldg', 'bleak', 'bleed', 'bleeding', 'blend', 'blends', 'bless', 'blessed', 'blessing', 'blew', 'blight', 'blinkin', 'block', 'blockchain', 'blocked', 'blocking', 'blockjam', 'blocks', 'blog', 'blogged', 'blogiversary', 'blogs', 'blois', 'blonde', 'blood', 'bloodline', 'bloody', 'bloopers', 'blowing', 'blowjob', 'blue', 'bluejays', 'blurry', 'blushing', 'bna', 'bnf', 'bnte', 'bo', 'boah', 'board', 'boat', 'boatbound', 'boaz', 'bob', 'bobble', 'bodies', 'bodo', 'body', 'boggling', 'bogus', 'bohat', 'bohol', 'boi', 'boii', 'bollinger', 'bollywood', 'bom', 'bomb', 'bombing', 'bombs', 'bonasio', 'bond', 'bonding', 'bone', 'boner', 'bones', 'bonilla', 'bonus', 'boo', 'boob', 'boobs', 'boohoo', 'book', 'booked', 'booking', 'bookmark', 'bookreview', 'books', 'bookstore', 'boom', 'boong', 'boooo', 'booooore', 'booset', 'boot', 'boots', 'booty', 'border', 'bored', 'boreddd', 'boredom', 'boring', 'born', 'borrow', 'bos', 'bosen', 'boses', 'boss', 'bot', 'botanical', 'botany', 'both', 'bother', 'bothered', 'bothering', 'bottle', 'bottles', 'bottom', 'bottoms', 'bought', 'boughy', 'bout', 'bouzu', 'bow', 'bowel', 'bowl', 'bowwowchicawowwow', 'box', 'boxroomcrafts', 'boy', 'boyfriend', 'boyirl', 'boys', 'bp', 'bps', 'bra', 'brace', 'bracelet', 'braces', 'brad', 'bragging', 'braid', 'braids', 'brain', 'braindots', 'brake', 'brambhatt', 'branch', 'brand', 'brandi', 'branding', 'brands', 'brasileirao', 'brave', 'braving', 'bravo', 'brawl', 'brb', 'breach', 'bread', 'breads', 'break', 'breakdown', 'breakfast', 'breaking', 'breaks', 'breaktym', 'breakup', 'breakups', 'breath', 'breathe', 'breathing', 'breconbeacons', 'brendon', 'brewproject', 'bri', 'brian', 'brianaaaa', 'brianazabrocki', 'bride', 'bridesmaid', 'brief', 'briefly', 'brienne', 'bright', 'brighten', 'brighton', 'brijresidency', 'briliant', 'brill', 'brilliant', 'brilliantly', 'bring', 'bringing', 'bringmethehorizon', 'brings', 'brisbane', 'bristol', 'bristolart', 'britain', 'brk', 'bro', 'broadcast', 'broadcasts', 'broke', 'broken', 'broker', 'brolly', 'brooke', 'brooklyn', 'bros', 'brotheeeeerrrr', 'brother', 'brotherhood', 'brothers', 'brought', 'brown', 'brows', 'browse', 'browser', 'browsers', 'bruce', 'bruh', 'bruhhh', 'bruise', 'bruised', 'brum', 'bruno', 'brush', 'bruuh', 'bt', 'btob', 'bts', 'btu', 'btw', 'btwn', 'bubba', 'bubble', 'bubbles', 'bubbling', 'buckinghampalace', 'buckling', 'bud', 'budapestgp', 'buddies', 'buddy', 'buddyyyy', 'budge', 'budget', 'bueno', 'buff', 'buffer', 'buffering', 'bug', 'bugatti', 'bugbounty', 'buggers', 'bugs', 'building', 'builds', 'bulat', 'bulet', 'bulldog', 'bulletin', 'bullying', 'bum', 'bummer', 'bumped', 'bun', 'bunch', 'bundle', 'bungie', 'bunnys', 'bunso', 'bunta', 'burberry', 'burdensome', 'burek', 'burfday', 'burger', 'buried', 'burketeer', 'burn', 'burned', 'burning', 'burnout', 'burnt', 'burst', 'bursts', 'bus', 'buset', 'bush', 'bushes', 'busier', 'business', 'busy', 'but', 'buti', 'butter', 'butterfly', 'button', 'buttonhole', 'buttsex', 'buttt', 'buttttttt', 'buuuut', 'buuuuuuuut', 'buy', 'buyers', 'buying', 'buynotanapologyonitunes', 'buys', 'buzz', 'buzzing', 'bv', 'by', 'bye', 'c', \"c'mon\", 'caaaannntttt', 'cabincrew', 'cable', 'cactus', 'caesarspalace', 'cafe', 'cag', 'cage', 'caged', 'cajun', 'cajunchicken', 'cake', 'cakehamper', 'cakes', 'cala', 'cali', 'calibraksaep', 'calibraska', 'calibraskaep', 'califor', 'california', \"california's\", 'call', 'called', \"callie's\", 'calling', 'callinganimalabusehotlineasap', 'calls', 'calm', 'calum', 'calumsos', 'cam', 'camara', 'cambridge', 'came', 'camera', 'camillus', 'camp', 'campaign', 'camping', 'camps', 'campsites', 'campus', 'camsex', 'can', 'canadian', 'canals', 'canaria', 'canarios', 'cancel', 'canceled', 'cancelled', 'cancelling', 'cancels', 'candle', 'candy', 'cannot', 'canon', 'canopy', 'cans', 'cantik', 'canvas', 'capcom', 'capeee', 'captured', 'car', 'cara', 'caradelevingne', 'caramello', 'card', 'cardi', 'cardio', 'cards', 'care', 'career', 'careers', 'careful', 'carefully', 'cares', 'caribbean', 'caring', 'carlton', 'carly', 'carmel', 'carmen', 'carnival', 'caro', 'carol', 'caroline', 'carpet', 'carriage', 'carriageway', 'carrie', 'carrot', 'carry', 'cars', 'cart', 'cartoon', 'carva', 'case', 'cash', 'casillas', 'cass', 'cast', 'casting', 'castle', 'cat', 'catamis', 'catch', 'catching', 'catchy', 'cathos', \"cathy's\", 'cats', 'catspjs', 'caught', 'cauliflower', 'cayton', 'cb', 'cc', 'cd', 'ce', 'celebrate', 'celebrated', 'celebrating', 'celebratio', 'celebration', 'celebrity', 'cell', 'cement', 'center', 'central', 'centralise', 'centre', 'centres', 'centrifugal', 'cents', 'century', 'ceomonth', 'cerbchan', 'cereal', 'certain', 'certainly', 'certainty', 'certification', 'cess', 'chaddi', 'chaerin', 'chain', 'chains', 'chainsaw', 'chair', 'chairs', 'chal', 'chalet', 'challo', 'chalna', 'chaloniklo', 'chalut', 'champagne', 'champions', 'chan', 'chance', 'chances', 'chandauli', 'chanel', 'change', 'changed', 'changes', 'changing', 'changs', 'chanhun', 'channel', 'channels', 'chant', 'chants', 'chaos', 'chaotic', 'chap', 'chapters', 'character', 'characters', 'charade', 'charcoal', 'charge', 'charged', 'charger', 'chargers', 'charges', 'charging', 'charismatic', 'charity', 'charles', 'charli', 'charlotte', 'charming', 'charms', 'charts', 'chasing', 'chat', 'chateau', 'chati', 'chau', 'cheap', 'cheapest', 'cheatday', 'cheated', 'check', 'check-up', 'checked', 'checking', 'checkout', 'checks', 'cheeks', 'cheeky', 'cheer', 'cheering', 'cheerios', 'cheers', 'cheese', 'cheesydelights', 'cheetah', 'chef', 'chek', 'chel', 'chelny', 'chelsea', 'cheltenham', 'chem', 'chemical', 'chenab', 'cherish', 'cherry', 'cheshire', 'chesties', 'cheung', 'chewing', 'chibi', 'chick-fil-a', 'chicken', 'chickmt', 'chicks', 'chicsirific', 'chikka', 'child', 'childhood', 'children', 'chill', 'chilled', 'chillin', \"chillin'with\", 'chills', 'chilton', 'chin', 'china', 'chinas', 'chinua', 'chipotle', 'chips', 'chiquitos', 'chloe', 'chocolate', 'chocolates', 'chocolatey', 'choice', 'choiceinternationalartist', 'choir', 'choke', 'choker', 'chokes', 'chokkie', 'choma', 'choo', 'choose', 'choosing', 'chopped', 'choppy', 'choregrapher', 'choreo', 'choreographing', 'chorong', 'choroo', 'chose', 'chosen', 'chris', 'christ', 'christen', 'christian', 'christina', 'christmas', 'christophe', 'christopher', 'christy', 'chrome', 'chrompet', 'chronic', 'chronicles', 'chswiyfxcskcalum', 'chu', 'chuckin', 'chuckle', 'chum', 'church', 'churro', 'chutes', 'chwang', 'chweet', 'chweina', 'ciao', \"ciara's\", 'cider', 'cigar', 'cikaaa', 'cilic', 'cimbom', 'cinema', \"cinema's\", 'cinemas', 'cinepambata', 'cintiq', 'circle', 'circuit', 'circuscircus', 'cities', 'citizens', 'city', 'civ', 'civil', 'cjradacomateada', 'cl', 'claim', 'claimed', 'clan', 'clandestins', 'clap', 'clapham', 'clark', 'clarke', 'clash', 'class', 'classes', 'classic', 'classicassures', 'classmate', 'classy', 'claws', 'clean', 'cleaned', 'cleaning', 'cleanse', 'clear', 'clearing', 'clearly', 'clears', 'cliche', 'click', 'clicking', 'clicksco', 'client', 'clients', 'clientvisit', 'climate', 'climatechange', 'climb', 'climbed', 'climbing', 'clinton', 'clip', 'clips', 'clock', 'clonmel', 'close', 'closed', 'closely', 'closer', 'closer-chasing', 'closest', 'closet', 'closing', 'clothes', 'clowns', 'club', 'clutching', 'cnblue', 'cnn', 'cnt', 'co', 'co-worker', 'coach', 'coaster', 'coat', 'coated', 'coca', 'cock', 'cocktail', 'cocktaily', 'cocky', 'coco', 'cocoared', 'coconut', 'cod', 'code', 'cody', 'coffe', 'coffee', 'coffee-weekdays', 'coffees', 'cohesive', 'coincidence', 'coins', 'cola', 'cold', 'colder', 'coldest', 'coldplay', 'colin', 'collab', 'collaboration', 'collage', 'collapse', 'collar', 'colleague', 'collecting', 'collection', 'college', 'collins', 'cologne', 'colombia', 'color', 'colour', 'coloured', 'colours', 'com', 'combat', 'come', 'comeback', 'comedy', 'comes', 'comet', 'comfortable', 'comfy', 'comic', 'comics', 'coming', 'commas', 'comment', 'comments', 'commercial', 'commission', 'committed', 'committing', 'common', 'communal', 'communities', 'community', 'comp', 'companion', 'company', 'comparative', 'compared', 'comparing', 'comparison', 'compensation', 'compete', 'competition', 'complain', 'complained', 'complains', 'complaint', 'complete', 'completed', 'completely', 'completion', 'complicated', 'compliment', 'composer', 'computer', 'computers', 'con-graduation', 'concept', 'concepts', 'concern', 'concerned', 'concert', 'concerts', 'concordia', 'condemned', 'condition', 'conditions', 'conference', 'confession', 'confetti', 'confidence', 'confirm', 'confirmation', 'confiscated', 'conflict', 'confused', 'confusing', 'congraaats', 'congrats', 'congratulation', 'congratulations', 'congratz', 'congrtaualtions', 'connect', 'connected', 'connecting', 'connection', 'connie', 'connor', 'consent', 'conserve', 'consider', 'considerably', 'considering', 'considers', 'consistency', 'console', 'constant', 'constantly', 'construction', 'consultant', 'consumed', 'consumerism', 'cont', 'contact', 'contacted', 'contacts', 'contained', 'container', 'contectually', 'contemplating', 'contemporary', 'contenders', 'content', 'contents', 'contest', 'contestants', 'contestkiduniya', 'context', 'continous', 'continue', 'continues', 'continuously', 'contract', 'contractually', 'contradict', 'contrast', 'contribution', 'contributions', 'control', 'controlls', 'controversy', 'convener', 'convention', 'conversation', 'conversational', 'conversations', 'conversion', 'convictions', 'convince', 'convo', 'convos', 'cook', 'cookie', 'cooking', 'cool', 'cooler', 'cools', 'cooperating', 'cope', 'copies', 'copping', 'cops', 'copy', 'copying', 'corbyn', 'corey', 'corinehurleigh', 'corner', 'cornetto', 'cornettos', 'cornish', 'cornwall', 'correct', 'corridor', 'corrupted', 'cortez', 'cory', 'cos', 'cosas', 'cosmovision', 'cosplay', 'cosplayers', 'cosplayprogress', 'cost', 'costacc', 'costs', 'cosy', 'cotton', 'couch', 'cough', 'coughed', 'coughing', 'could', 'councillors', 'count', 'countdown', 'counted', 'counting', 'countless', 'countries', 'country', 'countrymusic', 'counts', 'countthecost', 'county', 'couple', 'couples', 'courage', 'courgette', 'courier', 'course', 'coursee', 'coursework', 'court', 'couscous', 'cousin', 'cousins', 'couture', 'covent', 'cover', 'coveralls', 'covered', 'covering', 'covers', 'cow', 'coworker', 'coyote', 'coz', 'cozy', 'cpm', 'cpu', 'cr', 'craaaazzyy', 'crack', 'cracked', 'cracking', 'crackle', 'crackling', 'crafts', 'cram', 'cramps', 'cranium', 'crap', 'crapple', 'crash', 'crashed', 'crashing', 'crave', 'craving', 'crazy', 'crazyyyy', 'creaking', 'cream', 'creases', 'create', 'creating', 'creations', 'creative', 'credit', 'credits', 'creds', 'creed', 'creepy', 'crei', 'creta', 'cretaperfectme', 'cretaperfectsuv', 'crew', 'cri', 'cricket', 'cried', 'cries', 'crikey', 'crime', 'criminal', 'crisis', 'crisps', 'critical', 'criticised', 'critiques', 'croke', 'crop', 'crops', 'cross', 'crossed', 'crosssed', 'crowd', 'crowdfunding', 'crown', 'cruel', 'crueler', 'cruise', 'crumble', 'crush', 'cry', 'crying', 'crypts', 'crys', 'crystal', 'cs', 'csrracing', 'ctto', 'cuddle', 'cuddles', 'cuddling', 'cue', 'culture', 'cumbia', 'cumbria', 'cumshot', 'cunt', 'cup', 'cupboards', 'cupcake', 'cupcakes', \"cupid's\", 'curious', 'current', 'currently', 'curry', 'currys', 'curved', 'cus', 'cushions', 'cusp', 'cuss', 'custard', 'custom', 'customer', 'customers', 'cut', 'cute', 'cutest', 'cuticle', 'cutie', 'cuties', 'cuting', 'cuts', 'cutting', 'cuuuuuuuuuuuuuuuuuuuuuuuuuuuuuuuuuuuuuuuuuuute', 'cuz', 'cwnt', 'cyber', 'cycle', 'cyclerevolution', 'cycling', 'cynical', 'cypher', 'cyprus', 'd', \"d'd\", 'd:', 'd;', 'da', 'daaay', 'daal', 'daaru', 'dad', \"dad's\", 'daddy', 'dads', 'dae', 'daft', 'dagga', 'dah', 'daianerufato', 'daily', 'daisy', 'dale', 'dallas', 'dam', 'damage', 'damaged', 'dammit', 'damn', 'dampen', 'dan', 'dance', 'danceeeeee', 'dancer', 'dances', 'dancetastic', 'dancing', 'dandia', 'dang', 'dangerous', 'dangit', 'dangling', 'daniel', 'danielle', 'danni', 'danny', 'darcey', 'dard', 'dare', 'daredevil', 'daring', 'dark', 'darlene', 'darlin', 'darn', 'darren', 'dartmoor', 'dash', 'dassy', 'dasvidaniya', 'data', 'date', 'dates', 'dating', 'dats', 'datz', 'daughter', 'daughter-yrs', 'davao', 'dave', 'david', \"david's\", 'daw', 'day', 'dayofarch', 'days', 'dayz', 'dazed', 'dazzle', 'dbn', 'dd', 'ddy', 'deactivate', 'deactivated', 'dead', 'deadline', 'deaf', 'deal', 'dealsuthaonotebachao', 'deantd', 'dear', 'dearly', 'dearslim', 'death', 'deathbybaconsmell', 'deathcure', 'deathly', 'deathofgrass', 'debacle', 'debatable', 'debates', 'debbie', 'debt', 'debut', 'december', 'decent', 'decide', 'decided', 'decides', 'decision', 'decisions', 'deck', 'decorating', 'dedicatedfan', 'dedication', 'deennya', 'deep', 'deepxcape', 'def', 'defence', 'defend', 'defenders', 'defensive', 'definately', 'define', 'defined', 'definite', 'definitely', 'definition', 'degeneres', 'degrassi', 'degree', 'degrees', 'dekhi', 'del', 'delay', 'delayed', 'delays', 'delegate', 'deleicious', 'delete', 'deleted', \"delevingne's\", 'delhi', 'delicious', 'delighted', 'delights', 'delirious', 'delish', 'deliver', 'delivered', 'delivery', 'delph', 'delphy', 'delve', 'demand', \"demi's\", 'demo', 'denerivery', 'denim', 'denims', 'denise', 'denmark', 'dental', 'dentist', 'deny', 'deo', \"deosn't\", 'department', 'departments', 'dependencies', 'depends', 'depleted', 'deposit', 'depressing', 'dept', 'derby', 'derek', 'derp', 'desc', 'describe', 'description', 'deserve', 'deserved', 'deserves', 'design', 'designed', 'designer', 'designs', 'desire', 'desk', 'desktop', 'despair', 'desperate', 'despite', 'despondently', 'dessert', 'desserts', 'destination', 'destroying', 'detail', 'detailed', 'details', 'determination', 'determined', 'dety', 'dev', 'devastating', 'develop', 'developed', 'development', 'devices', 'devolution', 'dew', 'dewsbury', 'dey', 'deya', 'df', 'dg', 'dh', 'dhabi', 'dhaka', 'dheena', 'di', 'dia', 'diagnosed', 'dialogue', \"diane's\", 'dianna', 'diaries', 'diarrhea', 'diary', 'dick', 'did', 'didn', 'die', 'die-of', 'died', 'diego', 'dieididieieiei', 'dies', 'diesel', 'diet', 'diff', 'differ', 'difference', 'differences', 'different', 'difficiency', 'difficult', 'digital', 'digitalexeter', 'digitalmarketing', 'dii', 'dikha', 'dime', 'dimples', 'dine', 'diner', 'ding', 'dinghy', 'dinner', 'dinooo', 'dipikirin', 'diploma', 'diplomacy', 'dipoppo', 'dipsatch', 'dire', 'direction', 'directx', 'dirtiest', 'dirty', 'dirtykik', 'dis', 'disability', 'disabled', 'disagree', 'disappears', 'disappoint', 'disappointed', 'disappointing', 'disappointment', 'disc', 'discharge', 'disciplines', 'discontinued', 'discount', 'discover', 'discovered', 'discovery', 'discrimination', 'discuss', 'discussing', 'discussions', 'disease', 'disgusted', 'disgusting', 'disgusts', 'dishes', 'dishoom', 'disk', 'dislike', 'disney', 'disneyinfinity', 'dispatch', 'display', 'displays', 'dissappeared', 'dissipating', 'distance', 'distant', 'distracted', 'distressing', 'distribution', 'distrubed', 'disturbing', 'disvirgined', 'ditching', 'diva', 'divinediscontent', 'diyflowers', 'diz', 'dj', 'djderek', 'djset', 'djstruthmate', 'dkt', 'dm', 'dmed', 'dmme', 'dms', \"dn't\", 'dnt', 'do', 'doable', 'dobar', 'doc', 'docopenhagen', 'doctor', 'doctored', 'doctors', 'documentary', 'dodged', \"doedn't\", 'does', 'dog', 'dogs', 'doh', \"doido's\", 'doin', 'doing', 'doli', 'dollar', 'dolphins', 'dom', 'domestic', 'domesticviolence', 'dominion', 'dominoes', 'donate', 'donating', 'donation', 'done', 'donetsk', 'dong', 'donghyuk', 'dongsaeng', 'dongwoo', \"dongwoo's\", 'donington', 'donna', 'donno', 'donut', 'donutsss', 'doodle', 'doom', 'doomed', 'doomsday', 'door', 'doors', 'dope', 'dorm', 'dormmates', 'dorset', 'dosa', 'dosent', 'doses', 'dosto', \"dostoevsky's\", 'dota', 'dots', 'double', 'doubt', 'doug', 'dough', 'doushite', 'dovey', 'down', 'download', 'downloaded', 'downloading', 'downstairs', 'dozen', 'dp', 'dr', 'drag', 'dragging', 'dragon', 'drain', 'drainage', 'drained', 'draking', 'drama', 'drank', 'draw', 'drawing', 'drawings', 'dreaded', 'dream', 'dreamer', 'dreamily', 'dreams', 'dreamteam', 'dreary', 'dress', 'dresscode', 'dresses', 'drew', 'dri', 'dried', 'drifting', 'drink', 'drinking', 'drinks', 'drinkt', 'drive', 'driver', 'drivers', 'drives', 'driving', 'drone', 'drop', 'dropped', 'drought-linked', 'drove', 'drown', 'drowned', 'drugs', 'drunk', 'dry', 'dual', 'dub', 'dubai', 'dublin', 'duck', 'ducks', 'ducktails', 'dudaftie', 'dude', 'dudeeeeeee', 'dudes', 'dudettes', 'due', 'duh', 'duke', 'dull', 'dum', 'dumbest', 'dumont', 'dump', 'dun', 'dunedin', 'dunkin', 'dunno', 'dunt', 'dunwan', 'duo', 'duper', 'during', 'durood', 'dus', 'dutch', 'duty', 'dv', 'dw', 'dyed', 'dying', 'dylan', 'dz', 'e', 'eagerly', 'ear', 'earl', 'earlier', 'earliest', 'earlobes', 'early', 'earn', 'earrings', 'ears', 'earth', 'earthlings', 'ease', 'easier', 'easily', 'easy', 'eat', 'eating', 'eatmeat', 'ebay', 'ebony', 'ebook', 'economy', 'eczema', 'ed', 'edel', 'edgar', 'edit', 'editied', 'editing', 'edition', 'editor', 'edm', 'edomnt', 'edsa', 'educampakl', 'education', 'edward', 'edwards', 'edwin', 'ee', 'eeeep', 'eek', 'effect', 'effective', 'effects', 'effin', 'effing', 'effort', 'efforts', 'egg', 'eggs', 'ego', 'egypt', 'eh', 'ehdar', 'ehh', 'ehm', 'ehn', 'eid', 'eidwithgrofers', 'eighteen', 'eintlik', 'eish', 'either', 'ejayster', 'ek', 'ekk', 'eksperimencinta', 'ekta', 'el', 'elaborate', 'elah', 'elbow', 'elbows', 'eldest', 'elected', 'election', 'elections', 'elephants', 'elf', 'elfindelmundo', 'elgato', 'elgin', 'elhaida', 'eliminated', 'elisse', 'elite', 'elizabetholsen', 'ellen', 'ellie', 'ells', 'elmhurst', 'elmoprinssi', 'elsa', 'else', \"else's\", 'elsewhere', 'elvena', 'elw', 'email', 'emails', 'embarrassing', 'embracing', 'emc', 'emeged', 'emesh', 'emily', \"emily's\", 'emirates', 'emm', 'emma', 'emo', 'emoji', 'emon', 'emotion', 'emotional', 'emotionally', 'emotions', 'emotive', 'emphasis', 'employer', 'employers', 'empowered', 'emptier', 'empty', 'ems', 'emt', 'emta', 'emu', 'emulation', 'emyu', 'en', 'enable', 'enabled', 'encanta', 'encompasses', 'encore', 'encourage', 'encouraged', 'end', 'endeavour', 'ended', 'ending', 'endlessly', 'endowments', 'ends', 'enemies', 'energy', 'eng', 'engaged', 'engine', 'england', 'english', 'engrossed', 'enix', 'enji', 'enjoy', 'enjoyed', 'enjoying', 'enough', 'enroll', 'ensoi', 'ensure', 'enter', 'entered', 'entering', 'enterprison', 'entertain', 'entire', 'entlead', 'entlerbountly', 'entp', 'entrepreneurship', 'entries', 'entry', 'envious', 'environment', 'eon', 'eonni', 'eonnie', 'ep', 'epic', 'epiphany', 'episode', 'episodes', 'eps', 'equal', 'equalityact', 'equally', 'eric', 'erica', 'ericavan', 'eris', 'eritation', 'erm', 'error', 'errors', 'ervin', 'es', 'escape', 'esnho', 'esp', 'especially', 'essentially', 'est', 'estate', 'esteem', 'estimated', 'etc', 'eternity', 'etid', 'etienne', 'etl', 'etsy', 'eugh', 'eunhae', 'eunji', 'europe', 'european', 'euuuwwww', 'evan', 'eve', 'evelineconrade', 'even', 'evening', 'event', 'events', 'eventually', 'ever', 'everday', 'everette', 'everlasting', 'everone', 'every', 'everybody', 'everyday', 'everyone', 'everything', \"everything's\", 'everytime', 'everywhere', 'evet', 'evil', 'evry', 'ew', 'ewok', 'ex', 'ex-twelebs', 'exactly', 'exam', 'example', 'exams', 'excellence', 'excellent', 'except', 'exception', 'excited', 'excitement', 'exciting', 'excl', 'excluded', 'exclusive', 'excuse', 'excuses', 'exe', 'exec', 'execution', 'exercise', 'exercising', 'exhausted', 'exhausting', 'exist', 'existed', 'exit', 'exited', 'exo', 'exp', 'expanding', 'expect', 'expectations', 'expected', 'expelled', 'expensive', 'experience', 'experienced', 'experiences', 'experiencing', 'experiment', 'expert', 'experts', 'experttradesmen', 'expire', 'expired', 'explain', 'explains', 'explanation', 'exploits', 'explorealberta', 'explorers', 'exploring', 'explosions', 'expo', 'exposure', 'expression', 'extensions', 'external', 'extra', 'extraordinary', 'extras', 'extravagant', 'extreme', 'extremely', 'ey', 'eye', \"eye's\", 'eyed', 'eyeing', 'eyelids', 'eyeliner', 'eyes', 'eyesight', 'eyesmiles', 'eyyah', 'f', \"f'ing\", 'faaaaaabulous', 'fab', 'fabfriday', 'fabian', 'fabina', 'fabulous', 'face', 'facebook', 'faceit', 'faces', 'facetime', 'facil', 'fack', 'fact', 'factory', 'facts', 'fade', 'faded', 'faggot', 'fah', 'fahad', 'fahrenheit', 'fahrinahmad', 'fail', 'failban', 'failed', 'fails', 'fainted', 'fair', 'faith', 'faithful', 'fake', 'falcos', 'falklands', 'fall', 'fallen', 'falling', 'fallout', 'falls', 'false', 'falsettos', 'fam', 'familiar', 'families', 'family', 'familyhome', 'famished', 'famous', 'fams', 'fan', 'fanart', 'fanboy', 'fancafe', 'fancy', 'fandango', 'fandom', 'fandoms', 'fangirl', 'fangirled', 'fank', 'fans', 'fansign', 'fanta', 'fantasies', 'fantastic', 'fantasy', 'fany', 'far', 'farbridges', 'farm', 'farmiga', 'fas', 'fasgadah', 'fashion', 'fashionfriday', 'fast', 'faster', 'fat', 'fatal', 'father', 'fatiguing', \"fatma'm\", 'fault', 'fav', 'fave', 'faves', 'favor', 'favorable', 'favorite', 'favorites', 'favour', 'favourite', 'favourites', 'favouriting', 'fb', 'fback', 'fbc', 'fc', 'fck', 'fckin', 'fcking', 'fe', 'fea', 'fear', 'feature', 'features', 'featuring', 'feb', 'febs', 'federer', 'feed', 'feedback', 'feeding', 'feel', 'feelgoodfriday', 'feeling', 'feelinggood', 'feelings', 'feels', 'feelslikeanidiot', 'feet', 'feetblog', 'feets', 'fela', 'felicity', 'fell', 'fellow', 'felt', 'felton', 'female', 'feminism', 'feminists', 'fenestoscope', 'fenja', 'fennell', 'ferdous', 'fern', 'ferry', 'fersuree', 'fest', 'festival', 'fever', 'feverfew', 'feytyaz', 'ff', 'ffback', 'ffs', 'ffvi', 'fics', 'fiction', 'field', 'fieldtrips', 'fiend', 'fiesta', 'fifa', 'fifth', 'fighting', 'fightingmcirene', 'fightstickfriday', 'figure', 'figured', 'figures', 'figuring', 'filbarbarian', 'file', 'files', 'fill', 'filled', 'film', 'filming', 'films', 'final', 'finale', 'finalists', 'finally', 'finals', 'financially', 'find', 'findavip', 'finddjderek', 'finding', 'findyourfit', 'fine', 'fineandyu', 'finger', 'fingers', 'fingers-crossed', 'finish', 'finished', 'finishing', 'finland', 'finnair', \"finnick's\", 'finnigan', 'fire', 'fireball', 'firing', 'firm', 'firmansyahbl', 'first', 'firsteurope', 'fish', 'fishing', 'fishy', 'fit', 'fitnes', 'fits', 'fittest', 'five', 'fiver', 'fix', 'fixed', 'fixedgearfrenzy', 'fk', 'flame', 'flapjacks', 'flared', 'flash', 'flat', 'flats', 'flattery', 'flaviana', 'flavour', 'flawed', 'flawless', 'fleekile', 'flesh', 'fleur', 'flew', 'flickr', 'flies', 'flight', 'flint', 'flip', 'flipkartfashionfriday', 'flippin', 'flipping', 'float', 'floating', 'flockstars', 'floofs', 'floor', 'flops', 'flow', 'flowers', 'flowing', 'flows', 'fls', 'fluent', 'fluffy', 'flume', 'fly', 'flyhigh', 'flying', 'fm', 'fml', 'fmt', 'fna', 'fnaf', 'foam', 'foampit', 'focus', 'foh', 'foiegras', 'folder', 'folk', 'folks', 'follbaaack', 'follback', 'follow', 'followback', 'followed', 'follower', 'followers', 'followfriday', 'following', 'followingg', 'follows', 'folow', 'fond', 'font', 'food', 'foodie', 'foodiefridays', 'foods', 'foof', 'fool', 'foood', 'foot', 'football', 'footy', 'for', 'force', 'forced', 'foreals', 'forecast', 'forehead', 'forest', 'forests', 'forever', 'foreveralone', 'forget', 'forgive', 'forgiven', 'forgot', 'forgotten', 'forklift', 'form', 'format', 'former', 'forneret', 'forrit', 'fortune', 'fortunes', 'forward', 'foto', 'fotoset', 'fought', 'found', 'foundation', 'founder', 'foundry', 'four', 'fourfiveseconds', 'fowles', 'fox', 'fr', 'fra', 'fraand', 'fragile', 'fragments', 'frail', 'france', 'frank', 'fraud', 'freak', 'freaking', \"freddy's\", 'free', 'freebiefriday', 'freed', 'freedom', 'frees', 'freezing', 'french', 'frequentflyer', 'frequently', 'fresh', 'fresherstofinals', 'freshly', 'freshness', 'freya', 'fri', 'fricken', 'friday', \"friday's\", 'fridaydownpour', 'fridayfeeling', 'fridayfreebie', 'fridayfun', 'fridays', 'fridge', 'fried', 'friend', \"friend's\", 'friendly', 'friends', 'friendship', 'friendzone', 'fries', 'friex', 'frightening', 'frightlings', 'friooooo', 'friskyfriday', 'friyay', 'frnds', 'frog', 'frogs', 'from', 'fron', 'front', 'frou', 'froze', 'frudging', 'fruit', 'fruits', 'fruity', 'frustrated', 'frustration', 'fry', 'fss', 'ft', 'ftw', 'fucjikg', 'fuck', 'fuckboys', 'fucked', 'fucker', 'fuckin', 'fucking', 'fuckkk', 'fudge', 'fugiwara', 'fugly', 'fuk', 'fulfil', 'fulfill', 'full', 'fuller', 'fully', 'fulton', 'fun', 'funcionar', 'functions', 'fundamentalist', 'funeral', 'funk', 'funny', 'fuq', 'fur-trimmed', 'furbaby', 'furry', 'fuse', 'future', 'futurereleases', 'fuuuuuck', 'fuuuuuuuuuck', 'fuzzy', 'fwm', 'fxhelp', 'fyi', 'fyn', 'g', \"g's\", 'ga', 'gaaawd', 'gaga', 'gagal', 'gahd', 'gahhh', 'gail', 'gain', 'gained', 'gal', 'galat', 'galing', 'gallon', 'gals', 'game', 'gamedev', 'gamejam', 'gameplays', 'gamer', 'games', 'gamestomp', 'gaming', 'ganas', 'ganbarimasu', 'ganda', 'gandhi', 'gang', 'gangster', 'ganna', 'gans', 'ganteng', 'gap', 'garage', 'garbi', 'garden', 'gardening', 'gardens', 'garlic', 'garret', 'gary', 'gas', 'gassed', 'gastronomy', 'gathering', 'gatorade', 'gave', 'gawd', 'gay', 'gaya', 'gayi', 'gayle', 'gaza', 'gb', 'gc', 'gd', 'gears', 'gee', 'geekiest', 'geeks', 'geer', 'geez', 'gegu', 'gel', 'gelen', 'gem', 'gemma', 'gems', 'gen', 'gendut', 'general', 'generally', 'genes', 'genesis', 'geneva', 'genial', 'genre', 'gensan', 'gentlemen', 'gents', 'genuine', 'genuinely', 'geoff', 'george', 'georgesampson', 'georgia', 'georgie', 'german', 'germany', 'gern', 'geskenya', 'gesture', 'get', 'getaway', 'gets', 'getthescoop', 'gettin', 'getting', 'getwellsoonamber', 'gf', 'gfriend', 'gg', 'gh', 'ghantay', 'ghost', 'gi', 'gi-guilty', 'giachietittiwedding', 'giant', 'gibanica', 'gibran', 'giddy', 'gidi', 'gifs', 'gift', 'gifted', 'gifts', 'gig', 'giggles', 'gigi', 'gigs', 'gilet', 'gin', 'ginge', 'ginger', 'gintama', 'gion', 'giriboy', 'girl', 'girlfriend', 'girlfriends', 'girlfriendsmya', 'girls', 'girly', 'gishwhes', 'give', 'giveaway', 'giveaways', 'giveitup', 'given', 'gives', 'giving', 'gl', 'gla', 'glacier', 'glad', 'gladly', 'glares', 'glasgow', 'glass', 'glasses', 'glaze', 'gleam', 'glenn', 'glitch', 'glo', 'globe', 'glorify', 'gloucestershire', 'glow', 'glowing', 'glue', 'gn', 'go', 'goa', 'goal', 'goals', 'goalscorer', 'goat', 'goats', 'gobigorgohome', 'god', \"god's\", 'godbless', 'goddamn', 'goddess', 'godonna', 'goes', 'gohf', 'goictived', 'goin', 'going', 'goingsupply', 'gol', 'gold', 'goldbugs', 'golden', 'golf', 'gomen', 'gomez', 'gon', 'gondooo', 'gone', 'good', 'goodafternoon', 'gooday', 'goodbye', 'goodies', 'goodluck', 'goodmorning', 'goodmusic', 'goodness', 'goodnight', 'goods', 'goodtime', 'goodwill', 'goodwynsgoodies', 'goofingaround', 'google', 'googles', 'gooo', 'goood', 'gooood', 'gooooo', 'goosnight', 'gorefiend', 'gorgeous', 'gosh', 'gossip', 'got', \"got's\", 'gotcha', 'gotham', 'gotten', 'gottolovebanks', 'government', 'goys', 'gpctsojkw', 'gr', 'grab', 'grabe', 'grace', 'graces', 'gracious', 'grade', 'grades', 'graduate', 'graduated', 'grams', 'gran', 'grand', 'grande', 'grandma', 'grandpa', \"grandpa's\", 'granny', 'grans', 'graphic', 'graphicdesign', 'graphics', 'grasp', 'grassy', 'grated', 'grateful', 'gratefulness', 'grattis', 'gray', 'grazing', 'great', 'greater', 'greatest', 'greatful', 'greatkenya', 'greatly', 'greece', 'greek', 'greekcrisis', 'greeks', 'green', 'greet', 'greeting', 'greetings', 'greg', 'grepe', 'grepein', 'greska', 'grew', 'grey', 'greyed', 'greymind', 'greys', 'greysonchance', \"grigson's\", 'grill', 'grim', 'grindea', 'grinding', 'grinds', 'groaning', 'grocery', 'grogol', 'gross', 'grotty', 'ground', 'grounded', 'group', 'groupie', 'groups', 'grow', 'growing', 'growling', 'grown', 'grs', 'grt', 'grumbling', 'grumpy', 'grunt', 'gryph', 'gta', 'gtg', 'gto', 'gua', 'gud', 'gudday', 'gue', 'guess', 'guessed', 'guest', 'guests', 'guide', 'guides', 'guilty', 'guinea', 'guinness', 'guise', 'guitar', 'gujarat', 'gulo', 'gum', 'gun', 'gunashekar', 'guncontrol', 'gundam', 'gunna', 'guns', 'gurgaon', 'gurl', 'gurly', 'gutted', 'guy', 'guys', 'guysss', 'guzel', 'gv', 'gwd', 'gwinett', 'gws', 'gwss', 'gyllenhaal', 'gym', 'gymnastics', 'gypsy', 'gyu', 'h', 'ha', 'ha-ha', 'haaa', 'haaretz', 'habe', 'habhab', 'habit', 'hacharatt', 'hack', 'hacked', 'had', 'hagergang', 'hah', 'haha', 'hahaah', 'hahah', 'hahaha', 'hahahaa', 'hahahaaah', 'hahahah', 'hahahaha', 'hahahahaha', 'hahahahahaah', 'hahahahahhaha', 'hahahaokay', 'hahahays', 'hahays', 'hai', 'haileyhelps', 'hain', 'hair', 'haired', 'hairpin', 'hairs', 'hairy', 'haiss', 'haix', 'haiz', 'haizzz', 'hajur', 'hakhakhak', 'halaaaang', 'hale', 'halesowen', 'half', 'half-remembered', 'halfway', 'hall', 'halla', 'hallo', 'hallows', 'halls', 'hallyu', 'halsey', 'hammies', 'hamsters', 'hamstring', 'hanabutle', 'hanbin', 'hand', 'hand-lettering', 'handed', 'handle', 'handles', 'handover', 'hands', 'handshome', 'handsome', 'hang', 'hang-copying', 'hangin', 'hanging', 'hangout', 'hannibal', 'happen', 'happend', 'happened', 'happenend', 'happening', 'happens', 'happier', 'happiest', 'happily', 'happiness', 'happinessss', 'happpy', 'happy', 'happyalien', 'happybirthday', 'happybirthdayemilybett', 'happycustomers', 'happyfriday', 'happys', 'happyweekend', 'happyyyyyy', 'har', 'harana', 'harap', 'hard', 'hard-wired', 'hardcore', 'harder', 'hardest', 'hardheaded', 'hardly', 'harlo', 'harmony', 'harmos', 'harriet', 'harry', \"harry's\", 'harryxhood', 'harsh', 'harumph', 'harvest', 'has', 'hasb', 'hash', 'hashbrowns', 'hashtag', 'hashtags', 'hastily', 'hasya', 'hate', 'hated', 'hateeeee', 'haters', 'hates', 'hatessuce', 'hatigii', 'hatred', 'hatreds', 'hats', 'hauc', 'hav', 'have', 'haveagoodday', 'having', 'havuuuuuloveyou', 'haw', 'hawako', 'hawk', 'hay', 'hayley', 'hayli', 'hays', 'hayst', 'hazel', 'hbd', 'hbdme', 'hd', 'he', 'head', 'headache', 'headack', 'header', 'heading', 'headline', 'headlining', 'headphones', 'heads', 'healed', 'health', 'healthier', 'healthy', 'healthylifestyle', 'heaps', 'hear', 'heard', 'hearess', 'hearing', 'heart', 'heart-breaking', 'heartache', 'heartbeat', 'heartbreaking', 'hearts', 'heat', 'heated', 'heath', 'heathrow', 'heating', 'heatwave', 'heaven', 'heavies', 'heavy', 'heck', 'hediye', 'hee', 'heechul', 'heed', 'heeeeyyy', 'heel', 'heels', 'hehe', 'hehehe', 'hehehehe', 'height', 'heiya', 'heiyo', 'helen', 'helium', 'hell', 'hella', 'hellish', 'hello', 'hellooooooooo', 'helmy', 'help', 'helped', 'helpful', 'helping', 'helpinggroupdms', 'helppp', 'helpppp', 'helps', 'helsinki', 'hen', 'hence', 'henessydiaries', 'her', 'herbs', 'here', 'hernia', 'hero', 'herself', 'hes', 'heswifi', 'hey', 'heyy', 'heyyyyy', 'hhahahahaha', 'hi', 'hibbs', 'hickey', 'hidden', 'hide', 'hiding', 'hierro', 'high', 'highest', 'highlights', 'highschooldays', 'highvalue', 'hih', 'hihihi', 'hii', 'hiii', 'hijabmart', 'hiking', 'hilarious', 'hill', 'hillary', 'hills', 'hilly', 'him', 'himachal', 'himmat', 'himseek', 'hinala', 'hinanap', 'hinde', 'hindi', 'hiondsheings', 'hippo', 'hipster', 'hiring', 'his', 'hisaab', 'hissing', 'history', 'hit', 'hitler', 'hitmarker', 'hits', 'hitting', 'hive', 'hiya', 'hk', 'hmm', 'hmmm', 'hmmmm', 'hmph', 'hmu', 'hnnnnnnn', 'hobby', 'hocking', 'hogan', 'hogo', 'hokies', 'hola', 'holborn', 'hold', 'holder', 'holding', 'holds', 'holiday', 'holidays', 'holistic', 'hollywood', 'hologram', 'hols', 'holy', 'home', 'home-based', 'homebound', 'homed', 'homegirl', 'homes', 'homework', 'homey', 'homie', 'homies', 'homo', 'homosexual', 'honest', 'honestly', 'honesty', 'honey', 'hong', 'honma', 'honored', 'honoured', 'hood', 'hoodie', 'hooh', 'hook', 'hop', 'hope', 'hopeful', 'hopefully', 'hopehousekids', 'hopeless', 'hopes', 'hopeyou', 'hopia', 'hoping', 'hopkins', 'hopper', 'horny', 'hornykik', 'horrendously', 'horrible', 'horribly', 'horrific', 'horse', 'horseracing', 'horseracingtips', 'horses', \"horton's\", 'hospital', 'host', 'hosted', 'hot', 'hotairballoon', 'hotbed', 'hotee-my', 'hotel', 'hotels', 'hotfmnoaidilforariana', 'hotgirls', 'hotmusicdelocos', 'hotnsexy', 'hotscratch', 'hotspotwithdanris', 'hottie', 'hotwheels', 'hounds', 'hour', 'hours', 'house', 'housemates', 'housemusic', 'housing', 'houston', 'how', 'howdo', 'however', 'hoxton', 'hoya', 'hozier', 'hp', 'hpc', 'hq', 'hr', 'hrdstellobama', 'hrryok', 'hrs', 'hschool', 'hse', 'hsm', 'hsould', 'hsr', 'ht', 'htaccess', 'html', 'hua', 'hub', 'hubba', 'hubby', 'hueeeee', 'huehue', 'hug', 'huge', 'hugged', 'hugging', 'hugh', 'hugs', 'huh', 'huhu', 'huhuhu', 'huhuhuhu', 'huhuhuhuhu', 'huhuu', 'hulk', 'hulkamania', 'human', 'humanist', 'humans', 'humidity', 'humphrey', 'hun', 'hunde', 'hundred', 'hunger', 'hungrrrryyy', 'hungry', 'huni', 'hunny', 'hunt', 'hurray', 'hurry', 'hurt', 'hurting', 'hurts', 'hush', 'hushed', 'hushedcallwithfraydoe', 'hushedpinwithsammy', 'huskies', 'huvvft', 'huxley', 'hwaiting', 'hws', 'hwy', 'hxh', 'hygiene', 'hype', 'hyper', 'hyperbullies', 'hypercholesteloremia', 'hypocritical', 'hyung', 'hyungbot', 'hyungwon', 'hz', 'i', \"i'ts\", 'iam', 'iamamonster', 'iamca', 'ian', 'ic', 'ice', 'icecream', 'icecreammaster', 'iceland', 'icepack', 'icloud', 'icon', 'icons', 'icu', 'id', 'idaho', 'idea', 'ideal', 'ideas', 'idek', 'identity', 'idiot', 'idk', 'idol', 'idols', 'idr', 'ids', 'iero', 'if', 'ifc', 'ifeelyou', 'ifimeetanalien', 'iflix', 'ifsc', 'ig', 'igbo', 'igers', 'igersoftheday', 'ign', 'ignore', 'ignored', 'ignores', 'ihatesomepeople', 'ihhh', 'ihop', 'ii', 'iirc', 'ij', 'ik', 'ikea', 'ikr', 'ilhoon', 'ill', 'illa', 'illadvised', 'illness', 'illustration', 'iloveyou', 'iloveyouu', 'ily', 'ilysm', 'imac', 'image', 'imaginative', 'imagine', 'imaging', 'img', 'imintoher', 'imiss', 'imitatia', 'imitation', 'imma', 'immature', 'immigrant', 'immovable', 'immune', 'impact', 'impairs', 'impeccable', 'imperative', 'imperial', 'implies', 'import', 'important', 'impossible', 'impression', 'impressive', 'improvement', 'improving', 'imran', 'imsorry', 'imveryverysorry', 'imy', 'imysm', 'in', 'in-app', 'in-house', 'in-sensitiveness', 'in-shaa-allah', 'inaccessible', 'inaccuracies', 'inaccurate', 'inactive', 'inapropriate', 'inatall', 'inbox', 'inc', 'inca', 'incall', 'inch', 'inches', 'incident', 'incl', 'include', 'included', 'includes', 'including', 'incoming', 'incompleta', 'incomplete', 'inconsiderate', 'incorrect', 'incredible', 'incredibleindia', 'indeed', 'independent', 'india', 'indian', 'indiana', 'indiankulture', 'indicted', 'indie', 'indiemusic', 'indifference', 'indirecting', 'individual', 'individuals', 'indo', 'indonesia', 'indonesian', 'industry', 'ineedfeminismbecause', 'infection', 'infinite', \"infinite's\", 'infirmities', 'inflation', 'influenced', 'influencer', 'influencers', 'influential', 'info', 'infographic', 'inform', 'information', 'informed', 'infra', 'infrared', 'infrastructure', 'infront', 'inglewood', 'inhaler', 'init', 'inital', 'initial', 'initially', 'initiative', 'injure', 'injured', 'injury', 'injurys', 'injustice', 'ink', 'inner', 'innie', 'innocent', 'innovate', 'innumerable', 'inputs', 'inquisitor', 'insane', 'insecure', 'insecurities', 'insecurity', \"insha'allah\", 'inshallah', 'inside', 'insidious', 'insomnia', 'insonia', 'inspiration', 'inspire', 'inspired', 'inspirit', 'inspite', 'inspy', 'insta', 'instagood', 'instagram', 'install', 'installed', 'instamood', 'instant', 'instead', 'institution', 'instructions', 'insurance', 'intellect', 'intellectual', 'intelligent', 'intend', 'intention', 'inter', 'interaction', 'interactive', 'interest', 'interested', 'interesting', 'intern', 'international', 'internet', 'internship', 'internships', 'interracial', 'interview', 'intolerant', 'intro', 'introducing', 'introduction', 'inuyasha', 'invalid', 'invested', 'investigate', 'investment', 'invite', 'invited', 'invoices', 'ion', 'ios', 'iove', 'ip', 'iphne', 'iphone', 'iplayer', 'ipod', 'iqbal', 'iqrar', 'iran', 'irandeal', 'iraq', 'ireland', 'irene', 'irish', 'irl', 'irony', 'irresistible', 'irresponsibly', 'is', 'isaac', 'isco', 'ised', 'ish', 'ishal', 'isibaya', 'isis', 'islamist', 'island', 'islands', 'iso', 'isolated', 'isolating', 'isp', 'israel', 'israeli', 'issue', 'issues', 'istanya', 'istg', 'it', \"it'okay\", 'italian', 'italy', 'item', 'items', 'itna', 'ito', 'itong', 'its', 'itsamarvelthing', 'itself', 'itter', 'itty', 'itunes', 'itv', 'ivan', 'ivy', 'ivypowel', 'iwantin', 'iyalaya', 'iz', 'izumi', 'izzat', \"izzy's\", 'j', \"j's\", 'ja', 'jaann', 'jabongatpumaurbanstampede', 'jace', 'jack', \"jack's\", 'jackets', 'jackie', 'jackson', 'jaclintiler', 'jacob', 'jadines', 'jah', 'jahat', 'jai', 'jail', 'jailbroken', 'jake', 'jalulu', 'jam', 'james', 'jamie', 'jamie-lee', 'jane', 'jangly', 'jannatul', 'january', 'japan', \"japan's\", 'japanese', 'jarraaaaa', 'jasmingarrick', 'jason', 'jasper', 'jaspernationalpark', 'java', 'jax', 'jay', 'jaya', 'jaysus', 'jazmin', 'jazz', 'jb', 'jcreport', 'jdjdjdjd', 'jds', 'jealous', 'jeans', 'jeb', 'jebbush', 'jedzjabłka', 'jeebus', 'jeep', 'jehwan', 'jelly', 'jelouse', 'jemma', 'jen', 'jenna', 'jenni', 'jennifer', 'jennyjean', 'jeremy', 'jeremyleader', 'jerk', 'jersey', 'jeslyn', 'jess', 'jesse', 'jest', 'jesus', 'jets', 'jezwecan', 'jfc', 'jgh', 'jhalak', 'jhezz', 'jiba', 'jilla', 'jillcruz', 'jillmill', 'jim', 'jimin', \"jimin's\", 'jingly', 'jinki', 'jisoo', 'jisung', \"jiyeon's\", 'jk', 'jlo', 'jlovers', 'jmu', 'jo', 'job', 'jobs', 'joc', 'joe', \"joe's\", 'jogging', 'john', 'johnforceo', 'johnyherbert', 'joim', 'join', 'joined', 'joining', 'joins', 'joint', 'jojo', 'joke', 'jokes', 'jokid', 'joking', 'jokingly', 'jollies', 'jones', 'jong', 'jongdae', 'jonghyun', 'jonginuh', 'jordan', 'jordanian', 'jordans', 'joselito', \"josephine's\", 'josh', 'jotzh', 'jouch', 'journalism', 'journey', 'journeyps', 'journo', 'journorequest', 'joy', 'joyce', 'joys', 'jozi', 'jps', 'jr', 'jsl', 'jst', 'ju', 'juan', 'judge', 'judging', 'judgmental', 'judo', 'judy', 'juggle', 'juicebro', 'juices', 'juicy', 'juja', 'julia', 'juliana', 'julie', 'july', 'julyth', 'jumma', 'jummah', 'jummamubarak', 'jummaprayer', 'jump', 'jumped', 'jumpgiants', 'jumping', 'jumpsuit', 'june', 'jungle', 'junhee', 'junior', 'junjou', 'junmyeon', 'jurassic', 'juries', 'just', 'justget', 'justgotkanekified', 'justi', 'justice', 'justiceforsandrabland', 'justin', 'justinbieber', 'jute', 'juudiciary', 'jxzlbvo', 'k', 'ka', 'kadhafi', 'kafi', 'kaha', 'kahaaaa', 'kahfi', 'kahlil', 'kak', 'kale', 'kalin', 'kalle', \"kam's\", 'kamaal', 'kami', 'kamiss', 'kandekjs', 'kang', 'kangin', 'kanina', 'kansai', 'kanye', 'kapatidkongpogi', 'kapima', 'karachi', 'karain', 'karani', 'karaoke', \"kareena's\", 'karen', 'karibumombasa', 'karin', 'karlia', 'karte', 'kashi', 'kasi', 'kaslkdja', 'kat', 'katamari', 'kate', 'kateee', 'katekyn', 'katerina', 'kath', \"kath'd\", 'kathryn', 'katie', 'katmtan', 'kaussies', 'kawaii', 'kaya', 'kaylas', 'kayo', 'kaytranada', 'kb', 'kbs', 'kbye', 'kca', 'kebab', 'kebaya', 'kebun', 'keedz', 'keeno', 'keep', 'keepin', 'keeping', 'keepitlocal', 'keeps', 'keesh', 'kei', 'kelly', 'ken', 'kendall', 'kennat', 'kennel', 'kenya', 'kepler', 'kepler-b', 'kepo', 'kept', 'kernel', 'kesa', 'ketchup', 'kev', 'key', 'keybind', 'keys', 'kfc', 'kfckitchentours', 'kg', 'kgola', 'kha', 'khamis', 'khan', 'khany', 'kharap', 'khatam', 'khawateen', \"khloe's\", 'ki', 'kia', 'kian', 'kianweareproud', 'kicked', 'kicks', 'kickstarter', 'kid', 'kidding', 'kiddo', 'kidneys', 'kids', 'kidschoiceawards', 'kik', 'kikchat', 'kikgirl', 'kikhorny', 'kikkomansabor', 'kikme', 'kikmeboys', 'kikmeguys', 'kikmenow', 'kikmsn', 'kiksex', 'kiksexting', 'kiligs', 'kill', 'killed', 'killer', 'killers', 'killin', 'killing', 'kills', 'killua', 'kim', 'kimaaaaaani', 'kina', \"kinara's\", 'kind', 'kindergarten', 'kindest', 'kindle', 'kindled', 'kindly', 'kinds', 'king', 'kingdom', 'kingdoms', 'kingfisher', 'kinickers', 'kinks', 'kinky', 'kins', 'kisi', 'kiss', 'kissed', 'kisses', 'kissme', 'kit', 'kitchen', 'kitkat', 'kits', 'kittehs', 'kittens', 'kitty', 'kiya', 'kizomba', 'kk', 'kkk', 'klappertart', 'kleper-b', 'kme', 'kms', 'knee', 'knees', 'knew', 'knitting', 'knives', 'kno', 'knock', 'knocked', 'knockin', 'know', 'knowing', 'knowledge', 'knows', 'knowwww', 'knw', 'ko', 'koalas', 'koe', 'koel', 'koffie', 'koi', 'kong', 'konga', 'korea', 'korean', 'kos', 'koyal', 'kpop', 'kresna', 'krispy', 'kristin', 'krta', 'krystal', 'krystoria', 'ks', 'ksoo', 'ktksbye', 'ku', 'kuch', 'kuchar', 'kuching', 'kuffar', 'kumble', 'kumpul', 'kunoriforceo', 'kurt', 'kurta', 'kurtas', 'kw', 'kyle', 'kylie', \"kylie's\", 'kylies', \"kyungsoo's\", 'l', 'la', 'lab', 'labeled', 'labour', \"labour's\", 'labs', 'labyo', 'laced', 'lack', 'ladder', 'ladies', 'ladolcevitainluxembourg', 'lads', 'lady', \"lady's\", 'ladygaga', 'ladyposse', 'lafayette', 'lage', 'lagi', 'lagiii', 'lagos', 'laguna', 'lah', 'lahat', 'lahhh', 'laid', 'laine', 'laiten', 'lake', 'lami', 'lamo', 'lamon', 'lan', 'landed', 'lands', 'landscapes', 'lang', 'langkawi', 'langs', 'language', 'languages', 'lani', 'lansi', 'laomma', 'lap', 'lapar', 'laper', 'laptop', 'large', 'laribuggy', 'laro', 'larry', 'lart', 'las', 'laser-like', 'lass', \"lassi's\", 'last', 'lasted', 'lasts', 'late', 'lately', 'latepost', 'later', 'latest', 'latin', 'latinhouse', 'latmon', 'latte', 'laugh', 'laughed', 'laughing', 'laughter', 'launch', 'launched', 'laura', 'law', 'lawn', 'lawnmower', 'lay', 'layer', 'laying', 'layout', 'lazy', 'lazyweekend', 'lb', 'lbloggers', 'lbs', 'lcs', 'le', 'lead', 'leader', 'leadership', 'leads', 'league', 'leaking', 'leanneriner', 'learn', 'learned', 'learnt', 'lease', 'least', 'leave', 'leaves', 'leaving', 'ledger', \"ledger's\", 'lee', 'leeds', 'leeteuk', 'left', 'leftovers', 'leg', 'lega', 'legal', 'legend', 'legendary', 'leggete', 'legible', 'legit', 'lego', 'legs', 'legsupthewall', 'leia', 'leica', 'leicaq', 'lemess', 'lemme', 'lemon', 'lemons', 'lendal', 'leno', 'leo', 'leon', 'lepas', 'lesbian', 'lesley', 'less', 'lessions', 'lesson', 'lessons', 'let', 'letitgrow', 'letsfootball', 'letsgetmessy', 'letshavecocktailsafternuclai', 'letsprocrastinate', 'letter', 'letting', 'level', 'leviboard', 'lew', 'lewis', 'lfccw', 'lgbt', 'li', 'liam', 'liat', 'lib', 'libmysqlclient-dev', 'library', 'lice', 'licence', 'liceooooo', 'lick', 'lie', 'lied', 'lies', 'life', 'life-so', 'lifestyle', 'lifetime', 'light', 'lightbox', 'lighter', 'lighting', 'ligo', 'like', 'liked', 'likee', 'likeforfollow', 'likeforlike', 'likelike', 'likely', 'likes', 'likewise', 'liking', 'lil', 'lils', 'lilsisbro', 'lilydale', 'limbo', 'limit', 'limited', 'limits', 'limpopo', 'linda', 'line', 'line-up', 'lines', 'lineup', 'linguist', 'linis', 'link', 'linking', 'links', 'linux', 'lion', 'lions', 'lip', 'lips', 'lipstick', 'liquid', 'liquorice', 'lisa', 'lisaherring', 'list', 'listed', 'listen', 'listenable', 'listening', 'listing', 'lists', 'lit', 'literally', 'literature', 'litey', 'litro', 'little', 'liv', 'live', 'lived', 'liveonstreamate', 'liverpool', 'lives', 'livesex', 'livestream', 'livi', 'livid', 'living', 'liza', 'lizaminnelli', 'ljp', 'll', 'llama', 'llaollao', 'lloyds', 'lmao', 'lmaoo', 'lmaooo', 'lmbo', 'lmfao', 'lmfaoo', 'lmfaoooo', 'lng', 'load', 'loading', 'loads', 'loan', 'local', 'localgaragederby', 'location', 'locations', 'lock', 'locked', 'lockscreen', 'loftey', 'log', 'logged', 'logging', 'logic', 'login', 'logo', 'loiyals', 'lol', 'lolipop', 'lollipop', 'lollll', 'lols', 'lolz', 'lolzz', 'london', 'londondairy', 'loneliest', 'lonely', 'loner', 'loners', 'long', 'long-distance', 'longe', 'longer', 'longest', 'longggg', 'look', \"look's\", 'looked', 'lookfortheo', 'looking', 'lookingaspot', 'looks', 'loool', 'looooong', 'looooool', 'loooooove', 'loop', 'loose', 'lootcrate', 'looww', 'lord', 'lorenangel', 'lori', 'lorm', 'lorna', 'loryn', 'lose', 'loser', 'losers', 'loses', 'losing', 'loss', 'lost', 'lot', 'lotion', 'lots', 'lotsa', 'lottery', 'loud', 'loudest', 'louis', 'louisiana', 'louisianashooting', 'lounge', 'lourdes', 'lovable', 'love', 'lovebirds', 'loved', 'lovelies', 'loveliness', 'lovely', 'lovenafianna', 'loveofmylife', 'lover', 'lovers', 'loves', 'lovessss', 'lovesummertime', 'lovey', 'loveyaaaah', 'loving', 'low', 'lowbat', 'lowered', 'lowest', 'loyal', 'lq', 'lrka', 'lsa', 'lsh', 'lt', 'lu', 'luas', 'luceleva', 'luck', 'luckely', 'luckily', 'lucky', 'luckyyyy', 'lucozade', 'lucy', 'ludlow', 'lue', 'luffs', 'luis', 'luke', 'lukesos', 'lukkkee', 'lukris', 'lumia', 'luminous', 'luna', 'lunch', 'lunches', 'lunes', 'lungomare', 'lupet', 'lure', 'lurgy', 'lush', 'lusi', 'lux', 'luxembourg', 'luxuous', 'luxury', 'luxurytravel', 'lvg', 'lwwf', 'ly', 'lycra', 'lyf', 'lyin', 'lying', 'lyk', 'lyka', 'lymond', 'lynettelowe', 'lynne', 'lyrics', 'm', \"m'lady\", \"m's\", 'ma', 'maa', 'maaaaaay', 'maaf', 'maas', 'mac', 'macauley', 'macbook', 'maccies', 'macedonian', 'machaya', 'machinery', 'mad', 'madam', 'madatte', 'made', 'madeline', 'madi', 'madison', 'madness', 'madonnafamily', 'madonnafans', 'madonnamademtv', 'madrid', 'madstork', 'mady', 'mag', 'maganda', 'magazine', 'magcon', 'mager', 'maggie', 'magic', 'magical', 'magicalkenya', 'magicalmysterytour', 'magisa', 'magnificent', 'magpaalam', 'magpie', 'mags', 'magstart', 'mah', 'mahilig', 'mahirap', 'mahnor', 'mahone', 'mail', 'main', 'maine', 'mainly', 'mairi', 'majhwar', 'major', 'mak', 'makati', 'make', 'make-up', 'makeover', 'maker', 'makes', 'makesme', 'makeup', 'making', 'maknae', 'maldives', 'male', 'malese', 'malik', 'mallick', 'malta', 'mam', 'mam-bully', 'mama', 'mamabear', 'mamaya', 'mamayang', 'mamma', 'mammoths', 'man', 'mana', 'manage', 'managed', 'management', 'manager', 'managers', 'manbearpig', 'manchester', 'mandela', 'manga', 'mango', 'maniataki', 'manifestations', 'manila', 'manly', 'mannerfuls', 'manny', 'manos', 'mans', 'manteca', 'manthan', 'manual', 'manually', 'manuel', 'manuella', 'manush', 'many', 'manzano', 'map', 'mapbox', 'maple', 'maps', 'mar', 'marais', 'marathon', 'march', 'marco', 'mare', 'margo', 'maricarljanah', 'marine', 'marino', 'mark', 'market', 'marketing', 'marks', 'marmite', 'maroon', 'marriages', 'marrickville', 'married', 'marrish', 'marseille', 'marshmallow', 'marshmallows', 'mart', 'martes', 'martin', 'marty', 'marula', 'marvel', 'marvellous', 'mary', 'maryhicks', 'masa', 'masaan', 'masaantoday', \"masha'allah\", 'mashaket', 'mashed', 'mashup', 'masks', 'mass', 'massage', 'massages', 'masses', 'massis', 'massive', 'master', 'masterchef', 'mastership', 'masud', 'match', 'matching', 'matchy', 'mate', 'mateo', 'mater', 'materialistic', 'materials', 'maternity', 'math', 'matsu', 'matt', 'matter', 'matteroftheheart', 'matters', 'matthew', 'mature', 'mauliate', 'mauryas', 'maverickgamer', 'max', 'maxfreshmove', 'maxi', 'may', 'maybe', 'mayday', 'mayhem', 'maymay', 'mayor', 'mañana', 'mb', 'mba', 'mbalula', 'mbasa', 'mbc', 'mbf', 'mbulelo', 'mca', 'mcdo', 'mcfc', 'mcfloat', 'mcflurry', 'mcg', 'mclaren', 'mcnuggets', 'mcountdown', 'mcpe', 'me', 'meal', 'mean', 'meanies', 'meaningful', 'meaningless', 'means', 'meant', 'measure', 'meat', 'mecha-totems', 'mechanics', 'meck', 'media', 'medication', 'medicine', 'meditation', 'meds', 'mee', 'meeee', 'meet', 'meeting', 'meg', 'mega', 'megafauna', 'megamoh', 'megan', 'meh', 'mehendi', 'mehtab', 'mein', 'mel', 'melanie', 'melatonin', 'melbourne', 'melbournetrip', 'melodies', \"melody's\", 'melon', 'melt', 'melting', 'member', 'members', 'meme', 'mememe', 'memories', 'memorization', 'memory', 'memotohaters', 'men', 'menacing', 'mendes', 'menille', 'mental', 'mentality', 'mentally', 'mention', 'mentioned', 'mentions', 'menu', 'meoooowwww', 'mercedes', 'merch', 'merchs', 'merci', 'mercy', 'merdeka', 'mere', 'meri', 'merlin', 'merry', 'mesh', 'mess', 'message', 'messaged', 'messages', 'messaging', 'messed', 'messenger', 'messing', 'messy', 'met', 'meter', 'meth', 'mexican', 'mexico', 'meydan', 'mfundo', 'mga', 'mhhh', 'mi', 'mia', 'miah', 'miami', 'mic', 'mice', 'michael', \"michael's\", 'michelle', 'micro', \"microsoft's\", 'mid-end', 'middle', 'mididresses', 'midnight', 'midori', 'might', 'mighty', 'migraine', 'migrant', 'mike', 'milano', 'mile', 'mileage', 'miles', 'milf', 'milk', 'milkshake', 'miller', 'millie', \"millie's\", 'million', 'millz', 'milo', 'mimi', 'min', 'minal', 'mince', 'mind', 'minded', 'mine', \"mine's\", 'minecon', 'minecraft', 'ming', 'mingming', 'minhyuks', 'minister', 'minju', 'minkyuk', 'mino', 'mins', 'mints', 'minute', 'minuter', 'minutes', 'miracle', 'mirror', 'mis', 'mischievousness', 'miserable', 'misplaced', 'miss', 'missed', 'misses', 'missin', 'missing', 'misspelt', 'misss', 'missyou', 'mist', 'mistake', 'mistakes', 'mister', 'mistgameplay', 'mistress', 'misty', 'misundersranding', \"mit's\", 'mix', 'mixcloud', 'mixed', 'mixers', 'mixtape', 'mixture', 'mj', 'mjhe', 'mka', 'ml', 'mm', 'mmjunction', 'mmmmm', 'mmmmmm', 'mmsmalubhangsakit', 'mne', 'mnwreeen', 'mo', 'moaning', 'moar', 'mob', 'mobile', 'mobilegames', 'mobitel', 'mochamichelle', 'mockingbird', 'mockingjay', 'mode', 'model', 'models', 'modern', 'modi', 'modified', 'modimo', 'mohapatra', 'mohr', 'moisturizing', 'mom', \"mom's\", 'mombasa', 'moment', 'moments', 'momma', 'mommy', \"mommy's\", 'momo', 'moms', 'mon', 'monash', 'monday', 'money', 'monfils', 'monica', 'monjuly', 'monkey', 'mono', 'monsoon', 'monster', 'montana', 'monteith', 'month', 'monthly', 'months', 'montoya', \"monty's\", 'moo', 'mood', 'mood-dump', 'moodboster', 'moods', 'moose', 'morality', 'more', \"morisette's\", 'mork', 'mornin', 'morning', 'mornings', 'morocco', 'morrrrning', 'mosque', 'mosquito', 'mosquitoe', 'most', 'mostest', 'mostly', 'motavators', 'mother', 'motherfucking', 'motilium', 'motivated', 'motn', 'motors', 'motorsport', 'mounted', 'mouse', 'mouth', 'mouths', 'move', 'moved', 'movement', 'moves', 'movie', 'moviee', 'moviemarathon', 'movies', 'moving', 'movnat', 'mp', 'mpoints', 'mr', 'mrs', 'ms', 'msc', 'msg', 'msged', 'msgs', 'msnbc', 'mtaani', 'mtg', 'mtn', 'mtvhottest', 'muaahhh', 'muahah', 'muahhh', 'mubank', 'mubarak', 'mubarik', 'mubark', 'much', 'muchhh', 'muddled', 'muddy', 'muertosatfringe', 'mufc', 'mug', 'mugs', 'mugshot', 'mui', 'mujy', 'mull', 'muller', 'multiracial', 'mum', 'mumbai', 'mumma', 'mums', 'muna', 'munchkin', 'munchkins', 'mune', 'muntu', 'murder', 'murielle', 'murugan', 'muses', 'mush', 'mushroomed', 'music', 'musicas', 'musicbiz', 'musicology', 'muslim', 'muslims', 'mussels', 'must', 'muster', 'mustread', 'muted', 'mutt', 'mutual', 'mutuals', 'muv', 'mvg', 'mwa', 'mwah', 'mwamwa', 'mwf', 'my', 'mybrainneedstoshutoff', 'mych', 'myhill', 'mymonsoonstory', 'mypapamypride', 'mypark', 'myself', 'mystery', 'mysummer', 'mythic', 'myung', 'myungsoo', 'mz', 'méxico', 'n', 'na', 'na-take', 'naa', 'naaaaan', 'naaahhh', 'nachos', 'nad', 'nadal', 'nae', 'naeun', 'nag', 'nagato', 'naggy', 'naging', 'nagsend', 'nah', 'nahi', 'nai', 'nail', 'nailedit', 'nails', 'nairobi', 'najam', 'nak', 'nakaka', 'nakamaforever', 'naked', 'nalamannn', 'naman', 'name', 'namechecking', 'named', 'names', 'nams', 'nancy', \"nando's\", 'naomi', 'nap', 'narcissist', 'narcos', 'narendra', 'narrow', 'narrow-minded', 'naruto', 'nash', 'nasty', 'nat', 'natgeo', 'nathan', 'nathanielhinanakit', 'nathann', 'nation', 'national', 'native', 'natsuki', 'natural', 'navigate', 'navy', 'naw', 'nawf', 'nawwwe', 'nawwwee', 'naya', 'nb', 'nba', 'nbheroes', 'nc', 'ncaaseason', 'ncc', 'nd', 'ndee', 'ndi', 'ne', 'neals', 'near', 'nearer', 'nearest', 'nearly', 'neat-of', 'necessary', 'necklaces', 'need', 'needa', 'needed', 'needicecreamnow', 'needing', 'needs', 'neeeeeeeeeeeeeeeeein', 'negate', 'neglected', 'negooo', 'negotiable', 'negotiate', 'neh', 'neighbour', 'neil', 'nein', 'neither', 'nelle', 'nelson', 'nemanja', 'nemesis', 'neng', 'neon', 'nerd', 'nerve', 'net', 'netball', 'netfilx', 'netflix', 'netherlands', 'netizen', 'netsec', 'network', 'networks', 'never', 'new', 'newbethvideo', 'newbies', 'newblogpost', 'newer', 'newest', 'newly', 'newmusic', 'news', 'newsdistribution', 'newsletter', 'newsround', 'newwine', 'newyork', 'nex', 'next', 'nextweek', 'nez', 'nfinite', 'ng', 'nga', 'ngarepfollbackdarinabilahjkt', 'ngee', 'ngeze', 'ngga', 'ngi', 'ngucapinnya', 'nh', 'nhe', 'nhi', 'nhl', 'nhs', 'nia', 'niaaaaaaaaaaaaaaaaaaaaaaaaaaa', 'niall', 'niam', 'niamh', 'nibbles', 'nibbling', 'nic', 'nice', 'nicely', 'nicest', 'nichola', 'nicholas', 'nick', 'nicki', 'nickname', 'nickyyyyyyyyyyyyyyyy', 'nicola', 'nicoleapage', 'niece', 'niende', 'nigeria', 'nigga', 'niggs', 'night', \"night's\", 'nighter', 'nightmare', 'nightmares', 'nights', 'nighty', 'nike', 'nikeindonesia', 'nikeoriginal', 'nikes', 'nikkei', 'nikki', 'nil', 'nila', 'nim', 'ninasty', 'ninh', 'nintendo', 'niqqa', 'nirvana', 'nisrina', 'nite', 'niwll', 'nixus', 'nj', 'nje', 'njoy', 'njs', 'nk', 'nknkkpagpapakumbaba', 'nls', 'nm', 'no', 'no-no', 'nobodies', 'nobody', 'nocturnal', 'node', 'noe', 'noesss', 'noggin', 'noise', 'nominated', 'nominiere', 'nomoney', 'noms', 'non', 'non-filipina', 'non-mapbox', 'non-trial', 'nonce', 'none', 'nonexistent', 'nonscripted', 'noo', 'noob', 'noodles', 'noon', 'noone', 'nooo', 'noooo', 'noooooo', 'nooooooo', 'noooooooooooooooooo', 'nooooope', 'nooooow', 'noooot', 'nooow', 'nope', 'nor', 'norapowel', 'norhing', 'normal', 'normally', 'north', 'northern', 'norwegian', 'nose', 'nosebleed', 'nosmet', 'nostalgia', 'not', 'notanapology', 'notch', 'notcool', 'note', 'noted', 'notes', 'notgonnabeactiveforweeksdontmissittoomuch', 'nothaveld', 'nothing', 'notice', 'noticed', 'noticing', 'notification', 'notifications', 'notifs', 'notion', 'notr', 'novel', 'november', 'now', 'nowadays', 'nowdays', 'nowhere', 'nowplaying', 'nowt', 'nowwww', 'np', 'nrltigersroosters', 'nsbzhdnxndamal', 'nsfw', 'nsn', 'nstp', 'nt', 'nth', 'nu-uh', 'nuclear', 'nudes', 'nudge', 'nuggets', 'nuka', 'numb', 'number', 'numbero', 'numbers', 'nuns', 'nurses', 'nutella', 'nutshell', 'nux', 'nvm', 'nvr', 'nw', 'nwb', 'nxt', 'ny', 'nyc', 'nyquil', 'nys', 'nz', 'népal', 'o', 'obakeng', 'obama', 'obamainkenya', 'obi', 'obituary', 'obs', 'obsessed', 'obsession', 'obstacles', 'obvious', 'obviously', 'obvs', 'obyun', 'occasion', 'occasionally', 'occurred', 'ocean', 'oche', 'oct', 'october', 'odd', 'odds', 'ode', 'odoo', 'oe', 'of', \"of'neal\", 'ofc', 'off', 'offboarding', 'offended', 'offense', 'offensive', 'offer', 'offered', 'offering', 'offers', 'office', 'offices', 'official', 'officially', 'officials', 'offline', 'offroading', 'offshoring', 'ofscreen', 'often', 'oh', 'ohaha', 'ohgod', 'ohh', 'ohhh', 'ohhhh', 'ohioans', 'ohmyg', 'ohmygod', 'oi', 'oil', 'oily', 'oitnb', 'ok', 'okay', 'okay-ish', 'okayy', 'okayyyy', 'okie', 'okkay', 'okok', 'old', \"old's\", 'old-porridge', 'older', 'oldies', 'oldschool', 'oley', 'olive', 'olivia', 'oliviafowles', 'olly', 'olympic', 'omar', 'omaygad', 'omegle', 'omfg', 'omg', 'omgg', 'omggg', 'omgggg', 'on', 'on-board', 'on-pack', 'onair', 'once', 'one', 'ones', 'onions', 'onkey', 'online', 'only', 'onscreen', 'ontheroadagain', 'onting', 'onto', 'onwards', 'onyu', 'oo', 'ooh', 'oomf', 'oooooh', 'oooooooooohh', 'oooooooouch', 'oooops', 'oops', 'ooze', 'op', 'open', 'opener', 'openfollow', 'opening', 'operators', 'opi', 'opinions', 'opixer', 'opossum', 'oppa', 'oppayaa', 'opportune', 'opportunities', 'opportunity', 'oppose', 'opposite', 'oppressed', 'opt', 'opt-outed', 'optimisation', 'optimized', 'option', 'options', 'or', 'oracle', 'oralsex', 'orang', 'orange', 'orayt', 'orcalove', 'orchard', 'orchestra', 'order', 'ordered', 'ordering', 'orders', 'ordinary', 'oreos', 'ores', 'organic', 'organisation', 'organization', 'orgasm', 'orhan', 'orig', 'origin', 'original', 'originally', 'originates', 'orleans', 'orphan', 'orz', 'os', 'oscar', 'osea', 'oshieer', 'oss', 'osteopath', 'otamendi', 'otani', 'oth', 'other', 'others', 'otherwise', 'otl', 'otp', \"otp's\", 'otter', 'otw', 'otwol', 'otwolgrandtrailer', 'ouat', 'ouch', 'ought', 'ouh', 'our', 'ourdaughtersourpride', 'ourdisneyinfinity', 'ours', 'ourselves', 'out', 'outboarding', 'outdated', 'outdoor', 'outfit', 'outfwith', 'outie', 'outlive', 'outlying', 'outnumbered', 'outraged', 'outside', 'outstanding', 'outta', 'outtake', 'ouucchhh', 'ov', 'oval', 'oven', 'over', 'overcast', 'overdrawn', 'overdue', 'overgeneralization', 'overload', 'overly', 'overnight', 'overweight', 'overwhelmed', 'overwhelming', 'overwhelmingly', 'ovh', 'owe', 'owl', 'owly', 'own', 'owned', 'owner', 'owns', 'owww', 'owwww', 'p', 'pa-copy', 'paalam', 'pabebe', 'pabebegirls', 'pack', 'package', 'packed', 'packing', 'pad', 'paddock', 'pads', 'page', 'paid', 'pain', 'paindo', 'painful', 'pains', 'paint', 'painted', 'painting', 'pair', 'pairing', 'pak', 'pake', 'pakighinabi', 'pakistan', 'pakistanis', 'pal', 'pala', 'palace', 'pale', 'palembang', 'pallavi', 'pals', 'pamer', 'pampanga', 'pamper', 'pampered', 'pampering', 'pamuk', 'panas', 'pancakes', 'panda', 'pandimensional', 'pandora', 'panels', 'panem', 'panga', 'panic', 'pano', 'pantes', 'panties', 'pants', 'papa', 'paper', 'paperboys', 'papers', 'papertown', \"paperwhite's\", 'parade', 'paradise', 'paralysis', 'paralyzed', 'paramedics', 'parasyte', 'parcel', 'pardon', 'parent', 'parents', 'parijat', 'paris', 'parisa', 'park', 'parks', 'parkshare', 'parrot', 'part', 'participate', 'particular', 'particularly', 'parties', 'parting', 'partly', 'partner', 'parts', 'party', \"party's\", 'pas', 'pasha', 'pass', 'passed', 'passing', 'passport', 'password', 'past', 'paste', 'pasting', 'patch', 'path', 'pathor', 'pathways', 'patience', 'patient', 'patiently', 'patients', 'patml', 'patrice', 'patriotism', 'patron', 'pattern', 'patty', 'paul', 'pauline', 'pausetime', 'pausing', 'pawing', 'pay', 'paying', 'payment', 'payne', 'paypal', 'paysafecard', 'pb', 'pbbbigatingconcert', 'pbbgold', 'pbevent', 'pbloggers', 'pbr', 'pc', 'pcb', 'pchelok', 'pd', 'pdf', 'pea', 'peace', 'peaceful', 'peacefully', 'peachyloans', 'peak', 'peanut', 'peanuts', 'pearl', 'pearson', 'peasant', 'pebble', 'pech', 'pedal', 'pedant', 'pee', 'peek', 'peeled', 'peeling', 'peeps', 'pefumery', 'pegea', 'pegell', 'pehly', 'penacova', 'penis', 'penny', 'penrith', 'pens', 'pension', 'penthouse', 'penyfan', 'people', \"people's\", 'pepper', 'pepsi', 'percentage', 'peregrines', 'perf', 'perfect', 'perfection', 'perfectly', 'perform', 'performance', 'performances', 'performed', 'perfume', 'perhaps', 'period', 'periscope', 'permission', 'pero', 'person', 'persona', 'personal', 'personalised', 'personality', 'persons', 'perspective', 'persuade', 'peru', 'pervert', 'pesaro', 'pesos', 'pet', 'petaling', 'pete', 'peter', 'petite', 'petjam', 'petra', 'petrol', 'pets', 'peyton', 'pfb', 'pffff', 'pfft', 'pglcsgo', 'pgq', 'pgs', 'ph', 'phandroid', 'phantasy', 'pharma', 'phase', 'phela', 'phenomenal', 'phew', 'phil', 'phileas', 'philippa', 'philippines', 'philly', 'philosophical', 'phir', 'phl', \"phoebe's\", 'phone', 'phonegraphs', 'phones', 'phonesex', 'photo', 'photocards', 'photographer', 'photographs', 'photooftheday', 'photos', 'photoset', 'photoshoooot', 'photoshoot', 'photoshop', 'php', \"php's\", 'php-mysql', 'phrased', 'phulani', 'physical', 'physically', 'physics', 'physiotherapy', 'physique', 'pi', 'piano', 'pic', 'pick', 'picked', 'picking', 'picky', 'picnic', 'pics', 'picts', 'picture', 'pictures', 'pie', 'piece', 'pier', 'pierce', 'pierced', 'pierojogger', 'pigeon', 'piggin', 'pigs', 'pijjabłka', 'pikami', 'pile', 'pillar', 'pillars', 'pilllow', 'pills', 'pin', 'pining', 'pink', 'pinkeu', 'pinkfinite', 'pinya', 'pipes', 'pippa', 'pipped', 'pirouette', 'pish', 'piss', 'pissed', 'pisses', 'pistols', 'pitbull', 'pitchwars', 'pitmantraining', 'pits', 'pity', \"pixar's\", 'pixelated', 'pixels', 'pixgram', 'pizza', 'pizzas', 'pjs', 'pkwalasawaal', 'place', 'places', 'plague', 'plains', 'plan', 'plane', 'planed', 'planet', 'planned', 'planner', 'planning', 'plans', 'plant', 'planted', 'plaster', 'platonic', 'play', 'playables', 'played', 'player', 'players', 'playin', 'playing', 'playlist', 'plays', 'playstation', 'pleaaase', 'pleas', 'pleasant', 'pleasanton', 'please', 'pleased', 'pleaseee', 'pleaseeeee', 'pleass', 'pleasse', 'pleasure', 'pledge', 'plezzzz', 'pliss', 'plisss', 'pll', 'plot', 'plots', 'pls', 'plss', 'plsss', 'plsssssss', 'plssssssssssssssss', 'pluckerssss', 'plug', 'plugin', 'plus', 'plushes', 'plusmiles', 'ply', 'plz', 'pm', 'po', 'poc', 'pocket', 'pod', 'poems', 'poetry', 'point', 'points', 'poisoning', 'pokemon', 'polaroid', 'poldi', 'police', 'polish', 'polite', 'political', 'politicians', 'politics', 'polka', 'pollution', 'pon', 'pong', 'pony', 'pool', 'pooo', 'poooo', 'poooootek', 'poop', 'poopie', 'poor', 'poorly', 'pop', 'popcorn', 'popol', 'popped', 'poppin', 'popsicles', 'popular', 'popularity', 'por', 'pora', 'porch', 'porn', 'porno', 'porosh', 'porsche', 'porschesupercup', 'portrait', 'portsmouth', 'portugal', 'pose', 'posey', 'positive', 'possible', 'possibly', 'possitve', 'post', 'postcode', 'posted', 'poster', 'postie', 'posting', 'postive', 'postpone', 'posts', 'potager', 'potato', 'potentially', 'pothole', 'potter', 'pou', 'pounce', 'pouring', 'pout', 'povertyyouareevil', 'powder', 'power', 'powerful', 'powerpoint', 'powers', 'powys', 'ppl', 'pr', 'practice', 'practicing', 'prada', 'pramis', 'pray', 'prayers', 'praying', 'pre', 'pre-holiday', 'pre-ordered', 'pre-season', 'precious', 'predict', 'prefer', 'preferred', 'preform', 'pregnancy', 'pregnant', 'prelims', 'premiere', 'premiostumundo', 'premiun', 'preorder', 'prepaid', 'prepared', 'prescott', 'prescription', 'present', 'presentation', 'presenting', 'presents', 'president', 'press', 'pressrelease', 'pressure', 'pret', 'pretend', 'pretoria', 'prettier', 'prettiest', 'pretty', 'pretzels', 'prevalent', 'preview', 'previous', 'prexy', 'prey', 'pri', 'price', 'pricelessantique', 'prices', 'pride', 'prima', 'prime', 'prince', 'princess', 'principal', 'prinsesa', 'print', 'printed', 'printer', 'printers', 'printing', 'prior', 'priority', 'pris', 'prisssss', 'privacy', 'private', 'privilege', 'prize', 'pro', 'proactive', 'prob', 'probably', 'problem', 'problematic', 'problemmmmmmm', 'problems', 'probs', 'procedure', 'process', 'processed', 'procrastinating', 'produce', 'producer', 'product', 'productive', 'products', 'profile', 'program', 'programme', 'programmes', 'progress', 'progrmr', 'project', 'projects', 'prokabaddi', 'prolly', 'promethazine', 'promise', 'promised', 'promising', 'promo', 'promos', 'promote', 'promoted', 'promotional', 'promotions', 'prompts', 'pronounce', 'propa', 'proper', 'properly', 'properties', 'property', 'prophets', 'proposal', 'propose', 'proposed', 'propriety', 'pros', 'prosecco', 'protect', 'protection', 'protein', 'proud', 'proudtobeme', 'prove', 'proverb', 'proves', 'provide', 'proving', 'provoking', 'prrequest', 'prydz', 'ps', 'psychopaths', 'psygustokita', 'pta', 'pti', 'ptsd', 'pub', 'pubcast', 'pubes', 'public', 'publication', 'publilius', 'published', 'pubs', 'pud', 'puddle', 'puffy', 'puhon', 'puke', 'puking', 'pull', 'pulled', 'pump', 'pumped', 'pumpkin', 'pumpkins', 'puns', 'punting', 'pup', 'puppy', 'purchase', 'purchased', 'pure', 'purrthos', 'purty', 'push', 'pusher', 'pushes', 'pushing', 'pussy', 'pussycats', 'put', 'putovanja', 'puts', 'putting', 'pwrfl', 'px', 'pyaari', 'pyaaz', 'pyjamas', 'pz', 'q', \"q'don\", 'qatarday', 'qih', 'qt', 'quacketyquack', 'quad', 'qualified', 'qualify', 'quality', 'quan', 'quantum', 'que', 'queen', 'queenesther', 'queens', 'queries', 'question', 'questions', 'quetiapine', 'quezon', 'quick', 'quicker', 'quickest', 'quickly', 'quiet', 'quietly', 'quit', 'quite', 'quiz', 'quote', 'quotes', 'quuuuuuee', 'r', \"r'ships\", 'rabbit', 'race', 'races', 'rachel', 'racial', 'racing', 'racist', 'racket', 'radio', 'rage', 'raha', 'raheel', 'raid', 'railway', 'rain', 'raincoat', 'raining', 'rains', 'rainy', 'raise', 'raiz', 'rajnigandha', 'rajud', 'rakhi', 'rakna', 'rakyat', 'rally', 'ram', 'ramadhan', 'ramd', 'ramos', 'ramzan', 'ran', 'rancho', 'random', 'randomly', 'randomreboot', 'randomrestart', 'rands', 'randybis', 'rang', 'range', 'ranges', 'ranked', 'ranking', 'rant', 'rape', 'rapists', 'rapper', 'rappings', 'rapunzel', 'rare', 'rarely', 'rash', 'rashmi', 'raspberry', 'rat', 'ratbaglater', 'rate', 'rather', 'rattle', 'ravages', 'rave', 'raven', 'raw', 'ray', \"ray's\", 'rays', 'razi', 'razzist', 'rbi', 'rd', 'rdd', 're', 're-cap', 're-watch', 'reaally', 'reaaly', 'reaapearing', 'reabsorbtion', 'reach', 'reachability', 'reached', 'reaches', 'reactions', 'read', 'reader', 'readers', 'reading', 'readingres', 'ready', 'readystock', 'real', 'realise', 'realised', 'realising', 'realistic', 'realisticly', 'realize', 'realized', 'realizing', 'really', 'realoshi', 'realreviews', 'rear', 'rear-ended', 'reason', 'reasons', 'reasonstovisitmombasa', 'reassured', 'reboarding', 'recall', 'receive', 'received', 'receiving', 'recent', 'recently', 'receptionist', 'rechargeable', 'recieved', 'recipe', 'recipes', 'recite', 'recites', 'reckon', 'recommend', 'recommendation', 'recommendations', 'recommended', 'record', 'recorded', 'recording', 'recovered', 'recruited', 'recruiting', 'recs', 'red', 'redecorate', 'redeem', 'redhead', 'redid', 'references', 'refinements', 'refresh', 'refreshed', 'refreshing', 'refuel', 'refurbished', 'regarding', 'regens', 'region', 'regional', 'regions', 'regret', 'regretting', 'regular', 'regularly', 'reh', 'rehash', 'rehearsal', 'rehearse', 'reign', 'reina', 'reject', 'rejected', 'rejection', 'rela', 'relate', 'related', 'relationship', 'relationships', 'relatives', 'relax', 'relaxed', 'relaxes', 'relaxing', 'release', 'released', 'releasing', 'relentlessly', 'relevant', 'relief', 'reliever', 'religion', 'remained', 'remarriage', 'remastered', 'remedy', 'remember', 'remembered', 'remind', 'reminder', 'reminds', 'remix', 'remixes', 'remote', 'remove', 'removed', 'renamed', 'renew', 'rent', 'rep', 'repack', 'repackage', 'repacks', 'repair', 'repairs', 'repath', 'repay', 'repeat', 'repeated', 'repeatedly', 'replacement', 'replacements', 'replay', 'replenishing', 'replied', 'replies', 'reply', 'replying', 'report', 'reported', 'reports', 'repost', 'representatives', 'representing', 'represents', 'reputation', 'reqd', 'request', 'requests', 'required', 'requirements', 'rescoops', 'rescue', 'researchers', 'researching', 'reservation', 'reservations', 'reserve', 'reset', 'residents', 'resort', 'resources', 'respect', 'respected', 'respective', 'respectlost', 'respond', 'responded', 'response', 'responses', 'responsibilities', 'rest', 'restarted', 'resto', 'restore', 'restrict', 'restricted', 'result', 'results', 'resy', 'retail', 'retailers', 'retainers', 'retaliate', 'retard', 'rettweet', 'return', 'returning', 'retweet', 'retweeted', 'retweeting', 'retweets', 'reunite', 'reunited', 'reusful', 'revamps', 'revealed', 'review', 'reviewing', 'reviews', 'rewarding', 'rewatched', 'rewert', 'reynold', 'reynoldsgrl', 'rhd', 'rhisfor', 'rhys', 'rib', 'ribs', 'rice', 'rich', 'richard', 'rick', 'ricky', 'rid', 'ridden', 'ride', 'rider', 'rides', 'ridiculous', 'riding', 'right', 'rightnow', 'rights', 'rigid', 'rihanna', 'ring', 'rings', 'rip', 'ripaaaaa', 'ripped', 'ripsandrabland', 'ripstegi', 'riptito', 'riri', 'rise', 'rising', 'risk', 'risky', 'rita', 'rito', 'ritual', 'river', 'rizal', 'rize', 'rlly', 'rly', 'rlyhurts', 'rlyyyy', 'rm', 'rma', 'rmtour', 'rn', 'road', 'roads', 'roadtrip', 'roar', 'roasted', 'rob', 'robbed', 'robe', 'robert', \"robert's\", 'roberts', 'robin', 'robinhood', 'robinhoodies', 'robs', 'robyn', 'rock', 'rocket', 'rockfishing', 'rocking', 'rocks', 'rocroglodyysbro', 'rod', 'rodders', 'rodfanta', 'rodwell', 'rofl', 'rogerwatch', 'rohingya', 'rohit', 'role', 'roll', 'rolled', 'roller', 'rolling', 'rolls', 'roma', 'romance', 'romantic', 'romantica', 'rome', 'roof', 'room', 'roomie', 'roommateexperience', 'roommates', 'rooting', 'rose', 'rosebury', 'roses', 'rosh', 'rosidbinr', 'ross', 'rotate', 'rotation', 'rotorua', 'rough', 'round', 'rounds', 'route', 'routine', 'routte', 'roux', 'row', 'roy', 'royal', 'royally', 'rp', 'rply', 'rqst', 'rrp', 'rt', 'rtd', 'rted', 'rts', 'rtss', 'rub', 'rubber', 'rubbish', 'ruby', 'rude', 'rudramadevi', 'ruin', 'ruined', 'ruining', 'ruins', 'rules', 'rumbelle', 'rumble', 'rumor', 'rumpy', 'run', 'rundown', 'runescape', 'running', 'runny', 'runs', 'rupert', 'rush', 'russian', 'ruth', 'rxthedailysurveyvotes', 'ry', 'ryan', 'ryu', 's', \"s'okay\", 'sa', 'saaaaaaad', 'saaaad', 'saaad', 'saam', 'saar', 'sabadodeganarseguidores', 'sabah', \"sacconejoly's\", 'sachin', 'sad', 'saddest', 'sadkaay', 'sadly', 'sadlyf', 'sadness', 'sadomasochist', 'sadomasochistsparadise', 'saera', 'safaa', 'safe', 'safer', 'saffron', 'said', 'sail', 'sake', 'sakho', 'sakin', 'sakit', 'saklap', 'sakura', 'salabraty', 'salam', 'salamat', 'sale', 'sales', 'sali', 'salmon', 'salsa', 'salut', 'salute', 'sam', 'samantha', 'sambal', 'same', 'sameee', 'samjha', 'samosas', 'sampath', 'samples', 'sams', 'samsung', 'san', 'sandae', 'sandboarding', 'sandcastle', 'sandra', 'sandrabland', 'sandroforceo', 'sandwhich', 'sandwich', 'sandwiches', 'sane', 'santo', 'santorini', 'sanum', 'sanza', 'saphire', 'sapiosexual', 'sara', 'sarah', 'sarajevo', 'saran', 'sararocs', 'saras', 'sarcasm', 'sasin', 'sat', 'sath', 'satire', 'satisfied', 'saturday', 'satya', 'satyajit', 'sauce', 'sausage', 'savage', 'savanna', 'save', 'saved', 'saves', 'savetherohingya', 'saw', 'say', 'sayed', 'sayhername', 'saying', 'says', 'sazballs', 'sbali', 'sbenu', 'sc', 'scale', 'scam', 'scamper', 'scan', 'scared', 'scarf', 'scaring', 'scarred', 'scary', 'scenario', 'scenes', 'sch', 'schade', 'sched', 'schedule', \"schedule's\", 'scheduled', 'schemes', \"scheuermann's\", 'school', \"school's\", 'schools', 'schoolsoutforsummer', 'schoolworks', 'science', 'scientist', 'scififan', 'scissors', 'scold', 'scones', 'scope', 'scorch', 'scorching', 'score', 'scored', 'scores', 'scotland', 'scotlandismassive', 'scottish', 'scoups', 'scousers', 'scouting', 'scream', 'screaming', 'screencaps', 'screenshot', 'screenshots', 'screenshotting', 'screw', 'screwed', 'scrolling', 'scrubbed', 'scrummy', \"sculptor's\", 'scurri', 'sd', 'se', 'sea', 'seafood', 'search', 'season', 'seasons', 'seat', 'seatmates', 'seats', 'sebastian', 'second', \"second's\", 'secondary', 'secret', 'secrets', 'sect', 'section', 'secure', 'security', 'sed', 'see', 'seed', 'seeds', 'seehiah', 'seeing', 'seeker', 'seekly', 'seem', 'seemed', 'seems', 'seen', 'sees', 'segalakatakata', 'sehun', 'sel', 'selamat', 'selamathariraya', 'selangor', 'seleaders', 'selections', 'selektion', 'selena', \"selena's\", 'selenators', 'self', 'self-publishers', 'self-xss', 'selfie', 'selfieeeee', 'selfies', 'selfish', 'selfshot', 'sell', 'selling', 'sellyourcarinwords', 'selos', 'selway', 'sem', 'sembuh', 'semester', 'semi', 'semo', 'send', 'sending', 'sends', 'sengenza', 'senight', 'senior', 'seniors', 'senpai', 'sense', 'sensible', 'sensiesha', 'sensor', 'sent', 'sentir-se', 'seo', 'seouljins', 'separately', 'sept', 'september', 'septum', 'sequel', 'serbia', 'serbian', 'series', 'serious', 'seriously', 'seriousness', 'sers', 'serve', 'server', 'serves', 'service', 'services', 'servicewithasmile', 'servus', 'session', 'sessions', 'set', 'sethi', 'setokido', 'sets', 'setter', 'setting', 'settle', 'setup', 'seungchan', 'seungyeon', 'seven', 'several', 'severe', 'severely', 'sew', 'sex', 'sexcam', 'sexchat', 'sexdate', 'sexi', 'sexo', 'sexual', 'sexy', 'sexyamelie', 'sexygirlbypreciouslemmy', 'sexyjane', 'sexyjudy', 'sexysasunday', 'sf', 'sfs', 'sfvbeta', 'sg', 'shaa', 'shaaaa', 'shade', 'shades', 'shading', 'shadowplaylouis', 'shadows', 'shady', \"shady's\", 'shahid', 'shake', 'shakes', 'shaking', 'shall', 'shalwarkameez', 'sham', 'shame', \"shamuon's\", 'shane', 'shannon', 'shanzay', 'shape', 'share', 'shared', 'sharethelove', 'sharing', 'shark', 'sharm', 'sharp', 'sharyl', 'shatter', 'shaun', 'shauri', 'shave', 'shaved', 'shawn', 'shawty', 'shaylan', 'she', 'shedding', 'sheen', 'sheep', 'sheeps', 'sheer', 'sheeran', 'sheffield', 'shek', 'shem', 'shems', 'shepherd', 'shepherds', 'sheriff', 'sheskindahot', 'shet', 'shiatsu', 'shift', 'shifting', 'shifts', 'shiiiit', 'shiiiitt', 'shiiit', 'shining', 'shinsengumi', 'shiny', 'ship', 'shipped', 'shippers', 'shipping', 'ships', 'shir', 'shirleycam', 'shirt', 'shirts', 'shit', 'shite', 'shitfaced', 'shithouse', 'shittier', 'shitty', 'shiva', 'shiver', 'sho', 'shobs', 'shock', 'shocking', 'shoe', 'shoes', 'shoeshi', 'shogi', 'sholong', 'shoot', 'shooting', 'shootings', 'shop', 'shopping', 'shops', 'shor', 'short', 'shorter', 'shorthaired', 'shortlist', 'shortly', 'shorts', 'shoshannavassil', 'shot', 'shots', 'should', 'shoulda', 'shouldeeerr', 'shoulder', 'shoushitsu', 'shout', 'shouting', 'shoutout', 'shoutouts', 'show', 'showbox', 'showed', 'shower', 'showers', 'showing', 'shown', 'showpo', 'shows', 'shravan', 'shropshire', 'shud', 'shuffle', 'shut', 'shweta', 'shxbs', 'shy', 'sia', 'sialan', 'sian', 'siannn', 'sibuk', 'sic', 'sick', 'siddi', 'side', 'sides', 'sidni', 'sigeg', 'sigh', 'sighs', 'sighssss', 'sight', 'sights', 'sign', 'signal', 'signature', 'signed', 'signing', 'signs', 'siguro', 'sikandar', 'silang', 'silently', 'silicon', 'silly', 'silverstone', 'similar', 'simon', 'simple', 'simply', 'simpson', 'sims', 'sinaloa', 'since', 'sing', 'singapore', 'singer', 'singing', 'single', 'singles', 'sinhala', 'sinister', 'sins', 'sinse', 'sinuend', 'sir', 'siregar', 'sirf', 'sirius', 'sirkay', 'sis', 'sissi', 'sister', \"sister's\", 'sister-in-law', 'sisters', 'sit', 'site', 'sits', 'sitting', 'situated', 'situation', 'six', 'sizams', 'size', 'sizing', 'sizwe', 'sj', 'sjkaos', 'sjw', 'skate', 'skating', 'skeem', 'skills', 'skin', 'skinny', 'skins', 'skip', 'skirt', 'skoy', 'skrillah', 'skulker', 'sky', 'skyblock', 'skye', 'skyfall', 'skype', 'slacke', 'slacking', 'slammed', 'slap', 'slapped', 'slayed', 'sleeeeep', 'sleeeep', 'sleep', 'sleepdeprived', 'sleeping', 'sleepingwithsirens', 'sleepovers', 'sleeptight', 'sleepy', 'slept', 'slice', 'slideshow', 'sliding', 'slightly', 'slip', 'slippers', 'slogan', 'sloppy', 'slots', 'slotted', 'slovak', \"slovakia's\", 'slovenia', 'slow', 'slower', 'slowly', 'slp', 'slr', 'sm', 'small', 'smart', 'smashingbook', 'sme', 'smell', 'smells', 'smelly', 'smf', 'smh', 'smi', 'smile', 'smiled', 'smiles', 'smiling', 'smith', 'smoak', 'smoke', 'smoking', 'smooth', 'sms', 'smthng', 'smtm', 'smu', 'smug', 'sn', 'snake', 'snakes', 'snap', 'snapchat', 'snapchatme', 'snapme', 'snark', 'sneak', 'sneakers', 'sneaking', 'sneaks', 'sneezy', 'sniff', 'snit', 'snob', 'snobby', 'snooker', 'snoozed', 'snot', 'snow', 'snpcaht', 'snsd', 'snuggle', 'so', 'soak', 'soamazing', 'soaps', 'sobbing', 'sobrang', 'sobs', 'sobtian', 'soccer', 'socent', 'social', 'socialising', 'socialmedia', 'socialrewards', 'sociamedia', 'society', 'socket', 'socks', \"sod's\", 'soda', 'sodders', 'sofa', 'soft', 'softball', 'software', 'soggy', 'sohappyrightnow', 'soho', 'solar', 'sold', 'solid', 'soln', 'solo', \"soloist's\", 'solos', 'solution', 'solve', 'solved', 'solvo', 'some', 'somebody', 'someday', 'somehow', 'someone', 'somerset', 'something', 'sometime', 'sometimes', 'somewhere', 'somi', 'soms', 'son', \"son's\", 'sona', 'sonaaaaaaa', 'sonal', 'sone', 'song', 'songs', 'sonic', 'soniii', 'sons', 'soo', 'soobin', 'soon', 'soonest', 'sooo', 'soooo', 'sooooo', 'sooooooo', 'soooooooner', 'soooooooo', 'sooooooooo', 'sooooooooooo', 'soothing', 'soph', 'sophie', 'sopranos', 'sore', 'sorka', 'sorna', 'sorrrrryyyyy', 'sorrry', 'sorry', 'sort', 'sorta', 'sorted', 'sorting', 'soshi', 'sosweet', 'sotired', 'sotw', 'soul', 'soulful', 'soulmate', 'souls', 'soulsurvivor', 'sound', 'soundcheck', 'sounding', 'sounds', 'soundtrack', 'soup', 'sour', 'source', 'south', 'sowwy', 'sp', 'space', 'spacers', 'spade', 'spag', 'spain', 'spam', 'spamming', 'spanish', 'spanners', 'spare', 'spares', 'sparky', 'sparse', 'spazzing', 'speak', 'speakers', 'speaking', 'speced', 'special', 'specialise', 'specialist', 'specially-marked', 'species', 'specific', 'speck', 'specs', 'speculation', 'speech', 'speed', 'spell', 'spelling', 'spend', 'spending', 'spent', 'spiced', 'spick', 'spill', 'spilled', 'spin', 'spine', 'spinning', 'spinny', 'spinorbinmusicxcodysimpson', 'spirit', 'spiritual', 'splendid', 'spm', 'spoile', 'spoke', 'sponsor', 'sponsorship', 'sport', 'sports', 'spot', \"spot's\", 'spotify', 'spotted', 'spotting', 'spray', 'spread', 'spreading', 'spree', 'sprees', 'spring', 'springs', 'sprit', 'sprite', 'squad', 'square', 'squats', 'squishy', 'sr', 'srbija', 'srijith', 'srry', 'srsky', 'srsly', 'sry', 'ss', 'st', 'stab', 'stabbed', 'stable', 'stack', 'stackare', 'stadium', 'staff', 'stafford', 'stage', 'stages', 'stairs', 'stalk', 'stalked', 'stalker', 'stalking', 'stamina', 'stan', 'stand', 'standard', 'standards', 'standby', \"standen's\", 'standing', 'standrews', 'stands', 'standwdik', 'stans', 'star', 'starbucks', 'stargate', 'staring', 'stark', 'stars', 'starsquad', 'start', 'started', 'starter', 'starting', 'starts', 'startup', 'startupph', 'startups', 'starving', 'starwars', 'stash', 'stashed', 'state', 'statement', 'states', 'station', 'stationary', 'stationery', 'stats', 'stay', 'stayed', 'stayfresh', 'staying', 'steak', 'steals', 'stealth', 'steam', 'steel', 'steelbook', 'stefanie', 'stella', 'stem', 'step', 'steph', 'stephanie', 'stephen', 'stepped', 'steps', 'stereo', \"sterling's\", 'steroids', 'stetsons', 'steve', 'steven', 'stexpert', 'sth', 'stick', 'sticker', 'sticking', 'stiff', 'stiffening', 'still', 'stings', 'stock', 'stockholm', 'stocko', 'stoked', 'stole', 'stolen', 'stomach', \"stomach's\", 'stomachache', 'stomping', 'stones', 'stool', 'stooooop', 'stop', 'stopped', 'stopping', 'stops', 'store', 'stores', 'stories', 'storify', 'storms', 'story', 'straight', 'strange', 'strangely', 'strap', 'strapline', 'straw', 'strawberry', 'streak', 'stream', 'streamer', 'streaming', 'streams', 'street', 'strength', 'stress', 'stressed', 'stressful', 'stretch', 'strike', 'striker', 'striking', 'strip', 'striped', 'stripes', 'stroke', 'strong', 'stronger', 'strongest', 'strucked', 'structure', 'structured', 'struggle', 'struggles', 'struggling', 'stu', 'stuart', 'stuck', 'stud', 'student', 'students', 'studies', 'studio', 'study', 'studying', 'stuff', 'stuffy', 'stumble', 'stung', 'stunning', 'stupid', 'sturdy', 'style', 'styles', 'stylish', 'suan', 'suave', 'suay', 'sub', 'subcontinent', 'subdivision', 'subgames', 'subj', 'subject', 'subjective', 'subjects', 'subliminal', 'submission', 'submitted', 'subs', 'subscribers', 'subserver', 'subsidized', 'subsidy', 'subtitles', 'subway', 'succeed', 'success', 'successful', 'such', 'suck', 'sucked', 'suckmejimin', 'sucks', 'sucky', 'sudden', 'sue', 'suede', 'suffered', 'sufferers', 'suffering', 'sugar', 'sugarrush', 'suger', 'suggest', 'suggestion', 'suicide', 'suit', 'suitable', 'suitcase', 'suite', 'suites', 'suits', 'suk', 'suks', 'sulk', 'sulli', 'sum', 'suma', 'sumedh', 'sumer', 'summer', 'summerismissing', 'summers', 'summertime', 'summoner', 'sums', 'sun', 'sunburn', 'sunburnt', 'sunday', 'sunflowers', 'sunggyu', 'sunglasses', 'sunjam', 'sunnah', 'sunnies', 'sunny', \"sunny's\", 'sunnyday', 'sunrise', 'suns', 'sunshine', 'sunway', 'supa', 'super', 'super-blend', 'superb', 'supercars', 'superday', 'superdry', 'superheroes', 'superjunior', 'supermarkets', 'supernatural', 'superpowers', 'supersmash', 'supersport', 'superstars', 'suppl', 'supplements', 'support', 'supported', 'supporting', 'supportive', 'supports', 'suppose', 'supposed', 'supprt', 'supreme', 'suprised', 'surajettan', 'sure', 'surely', 'surfing', 'surgery', 'suriya', 'surprise', 'surprised', 'surprising', 'surreal', 'surrender', 'surrendered', 'surrey', 'surry', 'surveys', 'survival', 'survive', 'survived', 'sushi', 'suspect', 'suspects', 'suspemsion', 'suspended', 'suuuuuuuper', 'suzan', 'suzy', 'swag', 'swallowing', 'swan', 'swapping', 'swasa', 'swear', 'swearwords', 'sweat', 'sweater', 'sweating', 'sweatpants', 'sweden', 'sweedy', 'sweeeeeeeety', 'sweet', 'sweetan', 'sweetbj', 'sweetest', 'sweetheart', 'sweetie', 'sweety', 'swell', 'swelling', 'swerve', 'swift', 'swifties', 'swim', 'swimming', 'swiping', 'swishers', 'switch', 'switched', 'switzerland', 'swollen', 'swore', 'sws', 'swt', 'sxrew', 'syawal', 'sydney', 'sympathis', 'sympathy', 'symphony', 'sync', 'syncs', 'syndrome', 'syria', 'syrup', 'syrus', 'system', 't', \"t'existes\", \"t'was\", 't-shirt', 't-shirts', 'ta', 'taal', 'tab', 'table', 'tablet', 'tack', 'tacky', 'taco', 'tacos', 'tae', 'taems', \"taeyeon's\", 'taft', 'tag', 'tagal', 'tagsforlikes', 'tagsforlikesapp', 'tails', 'taissa', 'take', 'takeaways', 'taken', 'takeover', 'takes', 'takesonetoknowone', 'takfaham', 'taking', 'taknottem', 'takoyaki', 'takraw', 'talaga', 'talanted', 'talent', 'talented', 'talk', 'talk-kama', 'talkback', 'talked', 'talking', 'talks', 'tall', 'tama', 'tamang', 'tame', 'tamed', 'tameside', 'tammirossm', 'tams', 'tan', 'tango', 'tanishanonly', 'tank', 'tanks', 'tanned', 'tara', 'taray', 'tard', 'target', 'targets', 'tarryn', 'task', 'tasks', 'taste', 'tasteless', 'tastes', 'tasty', 'tat', 'tato', 'tattoo', 'tattoos', 'tau', 'taught', 'taunton', 'tax', 'taxes', 'taxi', 'taxikitchen', 'taxonomic', 'tay', 'taybigail', 'taylor', 'tayo', 'tb', 'tbc', 'tbf', 'tbh', 'tblast', 'tbs', 'tbt', 'tc', 'tcot', 'tdc', 'tdif', 'tdy', 'tea', 'teach', 'teacher', 'teachers', 'teal', 'team', \"team's\", 'teamadmicro', 'teamfollowback', 'teamjanuaryclaims', 'teamnatural', 'teampositive', 'teamred', 'teamzipal', 'tearout', 'tears', 'teas', 'tease', 'teaser', 'teasers', 'teasing', 'tebrik', 'tech', 'techniques', 'ted', \"ted's\", 'tee', 'teen', 'teenage', 'teenchoice', 'teenie', 'teens', 'teeth', 'teething', 'telat', 'telecoms', 'teleportation', 'televoting', 'tell', 'tellanoldjokeday', 'telling', 'tells', 'temperature', 'temporal', 'tempted', 'ten', 'tend', 'tenerina', 'tengaman', 'tengkuaaronshah', 'tennunb', 'tension', 'tent', 'tentatively', 'tenyai', 'terible', 'term', 'terms', 'terrible', 'terrific', 'tessnzach', 'test', 'tested', 'testicle', 'testing', 'tests', 'text', 'texted', 'texting', 'texts', 'tf', 'tfw', 'tgif', 'tgk', 'tgp', 'tgv', 'th', 'thaaaat', 'thaaanks', 'thaanks', 'thailand', 'thalaivar', 'thank', 'thanked', 'thankie', 'thankies', 'thanking', 'thanks', 'thanksss', 'thankssss', 'thankyou', 'thankyoudfor', 'thankyouu', 'thankyouuu', 'thanq', 'thanx', 'thapelo', 'tharkness', 'that', 'thatscold', 'thatselfiethough', 'the', 'theaccidentalcouple', 'theater', 'theatres', 'thebestangkapuso', 'thegrandad', 'thehungergames', 'their', 'theirs', 'thejuiceinthemix', 'thek', 'thelock', 'them', 'them-con', 'theme', 'themselves', 'then', 'thencerest', 'thenting', 'theo', 'theocratic', 'theoper', 'theories', 'theory', 'therapy', 'there', 'therealgolden', 'therefore', 'thermal', 'thermos', 'therver', 'these', 'thesims', 'thesis', 'thessidew', 'they', 'thick', 'thin', 'thing', 'things', 'thingscope', 'thingy', 'think', 'thinking', 'third', 'thirdwheeling', 'thirstyyyy', 'this', 'thistlelove', 'thistles', 'thiz', 'thks', 'thnks', 'thnkyouuuuuuuuu', 'tho', 'thoo', 'thooo', 'thoracicbridge', 'thorin', 'thorpe', 'those', 'thou', 'though', 'thought', 'thoughts', 'thoughtseized', 'thq', 'thr', 'thread', 'threat', 'threatened', 'threatening', 'threatens', 'three', 'threw', 'thrice', 'thrilled', 'thrive', 'throat', 'through', 'throw', 'throwback', 'throwbackfriday', 'thrown', 'thru', 'thtas', 'thts', 'thug', 'thumbs', 'thunderstorms', 'thurjuly', 'thurs', 'thursday', 'thurston', 'thusi', 'thw', 'thwarting', 'thx', \"thát's\", 'ti', 'tick', 'ticket', 'tickets', 'tickle', 'tiddler', 'tidy', 'tidying', 'tierd', 'tight', 'tiis', 'tiles', 'till', 'tim', 'time', 'timely', 'times', 'timetunnel', 'timezones', 'timing', 'timming', 'timog', 'timw', 'tinder', 'tine', 'tiny', 'tio', 'tipped', 'tipping', 'tips', 'tired', 'tiredashell', 'tiring', 'tirth', 'tissues', 'titan', 'titanfall', 'titas', 'title', 'titles', 'titos', 'tittheir', 'tix', 'tks', 'tkts', 'tl', 'tla', 'tline', 'tlists', 'tmr', 'tmrw', 'tmw', 'tnc', 'to', 'toast', 'tobi-bro', 'today', \"today's\", 'todayy', 'todayyyyy', 'toddlerlife', 'todos', 'toe', 'toffee', 'together', 'togheter', 'tokyo', 'told', 'tolerant', 'toll', 'tologooo', 'tom', 'tomas', 'tomatoes', 'tombow', 'tombraider', 'tomcat', 'tomhiddleston', 'tomlinson', 'tommarow', 'tommorow', 'tommy', 'tomorrow', \"tomorrow's\", 'tomorrowland', 'tompolo', 'tone', 'tong', 'tongue', 'toni', 'tonight', \"tonight's\", 'tony', 'too', 'took', 'tools', 'tooo', 'tooooooo', 'tooth', 'toothsensitivity', 'top', 'topgear', 'topnewfollowers', 'topple', 'tops', 'toptravelcentar', 'topwater', 'tore', 'torn', 'toronto', 'torrentialrain', 'torture', 'tory', 'tose', 'toss', 'tossing', 'total', 'totally', 'tote', 'totem', 'tou', 'touch', 'tough', 'tour', 'tournament', 'tournaments', 'towards', 'towers', 'town', \"town's\", 'towns', 'townssssss', 'toxin', 'toy', 'toying', 'tp', 'tracerequest', 'tracing', 'track', 'trade', 'trades', 'tradetalk', 'traditions', 'traffic', 'traffickers', 'trafficking', 'tragedy', 'tragic', 'trail', 'trailblazerhonors', 'train', 'trainers', 'training', 'trains', 'tram', 'tramlines', 'trance', 'transcript', 'transfer', 'transferred', 'transfers', 'translate', 'translation', 'transmission', 'transparency', 'trapmusic', 'trash', 'travel', 'traveler', 'traveling', 'travelling', 'travels', 'treat', 'treating', 'treats', 'tree', 'trees', 'trend', 'trending', 'trendy', 'trespassers', 'treviso', 'trial', 'triangle', 'triathletes', 'trick', 'tricky', 'tridon', 'tried', 'trimmed', 'trip', 'tripathi', 'tripping', 'trips', 'trish', 'trivia', 'trmdhesitant', 'troll', 'troops', 'trop', 'tropics', 'troubles', 'trousers', 'truck', 'true', 'truly', 'trust', 'trusting', 'truth', 'truthfulwordsof', 'try', 'trying', 'tryna', 'tseba', 'tsktsk', 'tt', 'ttctop', 'tthanks', 'tub', 'tube', 'tud', 'tuesday', 'tuitutil', 'tukutanemombasa', 'tulane', 'tum', 'tumblr', 'tummy', 'tumor', 'tumour', 'tuna', 'tunaita', 'tuned', 'tunnel', 'turkey', 'turkish', 'turn', 'turned', 'turning', 'turns', 'turtle', 'turtles', 'tut', 'tutorials', 'tv', 'tweak', 'tweenie', 'tweeps', 'tweepsmatchout', 'tweet', 'tweeted', 'tweeties', 'tweetin', 'tweeting', 'tweetland', 'tweetofthedecade', 'tweets', 'twelvyy', 'tweng', 'twice', 'twin', 'twine', 'twinx', 'twist', 'twisting', 'twitch', 'twitching', 'twitlonger', 'twitter', 'two', 'twoofs', 'twurkin', 'tx', 'txt', 'ty', 'tykkäsin', 'tylers', 'typa', 'type', 'typed', 'typical', 'typically', 'typo', 'typos', 'tyre', 'uber', 'ubericecream', 'ubud', 'ubusy', 'ucan', 'ucas', 'ucl', 'ucount', 'uff', 'ufffff', 'ug', 'uggghhhh', 'ugh', 'ughh', 'ugly', 'uh', 'uhuh', 'uk', 'ukiss', 'ukraine', 'ulit', 'ulti', 'ultimate', 'ultor', 'um', 'umaga', 'umair', 'umaru', 'umboh', 'umma', 'ummm', 'un', 'unable', 'unagi', 'uname', 'unanswered', 'unappreciated', 'unavailable', 'unblock', 'uncles', 'uncountable', 'uncut', 'undead', 'undercoverboss', 'underrated', 'understand', 'understandable', 'understanding', 'understands', 'understood', 'underwater', 'uneventful', 'unexpect', 'unexpected', 'unfair', 'unfamiliar', 'unfaved', 'unfollow', 'unfollowed', 'unfollower', 'unfollowers', 'unfollowing', 'unfortunate', 'unfortunately', 'unfriend', 'unhappy', 'unhealthy', 'uni', \"unicef's\", 'uniform', 'unimportant', 'unique', 'uniteblue', 'united', 'uniting', 'units', 'university', 'univesity', 'unknown', 'unless', 'unlike', 'unlimited', 'unlisted', 'unlocked', 'unloved', 'unluckiest', 'unlucky', 'unmarried', 'unneeded', 'unnie', 'unnieeee', 'unparents', 'unprepared', 'unreal', 'unsettled', 'unstan', 'unsuccessful', 'untapped', 'untouched', 'untruth', 'unvarnished', 'unwind', 'up', 'upcoming', 'update', 'updated', 'updates', 'updating', 'upgrade', 'upgrading', 'upload', 'uploaded', 'uploading', 'upon', 'uppe', 'upper', 'ups', 'upset', 'upsetting', 'upside', 'upvotes', 'ur', 'ure', 'urgently', 'urgh', 'urghhh', \"urie's\", 'url', 'urock', 'urquhart', 'urs', 'urself', 'urwelc', 'us', 'us-iran', 'usa', 'usage', 'usagi', 'use', 'used', 'useful', 'useless', 'user', 'username', 'users', 'uses', 'using', 'uss', 'usual', 'usually', 'utc', 'utd', 'uts', 'uu', 'uuu', 'uuughhhh', 'uuuuuuuu', 'uwesiti', 'uwu', 'ux', 'uy', 'v', 'va', 'vacant', 'vacation', 'vaccines', 'vagina', 'vaing', 'vainglory', 'vale', 'valencia', 'valentine', 'valls', 'valuable', 'value', 'vam', 'vampire', 'vandag', 'vandr', 'vanilla', 'vans', 'vantastic', 'variety', 'varsity', 'vault', 'vava', 'vaw', 'vc', 've', 'veeeeerry', 'vegas', 'vegetables', 'vegetarian', 'veggie', 'vehicles', 'veins', 'velvet', 'venice', 'venomous', 'venture', 'venue', \"venus's\", 'ver', 'verfied', 'verge', 'verified', 'verify', 'veritably', 'verity', \"verity's\", 'verse', 'version', 'vertigo', 'very', 'vet', 'vex', 'via', 'viable', 'vianey', 'viathe', 'viazi', 'viber', 'vibrant', 'vibrating', 'vic', 'vicious', 'vicky', 'victims', 'victoria', 'victoriasecret', 'victory', 'vid', 'vidcon', 'video', 'videogames', 'videographer', 'videos', 'vidic', 'vids', 'vietnam', 'view', 'viewed', 'viewer', 'viewing', 'views', 'vii', 'vikings', 'vikk', 'village', 'vin', 'vincent', 'vine', 'vinegar', 'viners', 'vines', 'vinny', 'vinylbear', 'violence', 'vip', 'viparita', 'vips', 'virgin', 'virginity', 'virtual', 'visas', 'vishaya', 'vishwas', 'visit', 'visited', 'visiting', 'visits', 'vist', 'visual', 'vitamin', 'viva', 'vivian', 'vlog', 'vocal', 'vocals', 'vodkas', 'voice', 'voices', 'void', 'volta', 'volume', 'volunteer', 'volunteering', 'vomit', 'vote', 'voted', 'votejktid', 'voting', 'voucher', 'vr', 'vs', 'vsco', 'vscocam', 'vscocousins', 'vscogood', 'vscoph', 'vscophil', 'vuly', 'vv', 'vyapam', 'w', 'wa', 'waa', 'waaaaa', 'waah', 'wacha', 'wacky', 'waduh', 'wae', 'waffle', 'wag', 'wagga', 'wagging', 'wah', 'wahahaah', 'waifu', 'wail', 'wailay', 'waisted', 'wait', 'waited', 'waiter', 'waiting', 'waitting', 'wake', 'wakes', 'wakeup', 'waking', 'wala', 'walang', 'walangmakakapigilsakin', 'walao', 'walay', 'wales', 'wali', 'walk', 'walked', 'walkersmithway', 'walkin', 'walking', 'walks', 'wall', 'wallet', 'wallets', 'walls', 'walmart', 'walnut', 'wan', 'wana', 'want', 'wanted', 'wanting', 'wants', 'war', 'wardrobe', 'warehouse', 'warehousing', 'warfare', 'warlock', 'warm', 'warm-up', 'warmest', 'warmup', 'warnaaaaaaa', 'warning', 'warranty', 'warrior', 'warsaw', 'was', 'waseem', 'washed', 'wasp', 'waste', 'wasted', 'wasting', 'wat', 'watch', 'watchdog', 'watched', 'watching', 'water', 'waters', 'wave', 'waves', 'wavy', 'way', 'wayanad', 'wayanadan', 'wayhh', 'wayne', 'ways', 'waytoliveahappylife', 'wba', 'wbu', 'wd', 'we', 'weak', 'weaker', 'wealth', 'weapon', 'weapons', 'wear', 'wearig', 'wearing', 'weather', 'weave', 'web', 'webcam', 'webcamsex', 'website', 'websites', 'webtogsawards', 'webz', 'wed', 'wedding', 'weddingflowers', 'wednesday', 'weebly', 'weed', 'weeding', 'week', 'weekend', \"weekend's\", 'weekendofmadness', 'weekends', 'weekly', 'weeks', 'weenie', 'weh', 'weight', 'weights', 'weird', 'weirddd', 'welcoma', 'welcome', 'welcomed', 'welcometweet', 'welcoming', 'welder', 'well', 'wellington', 'weloveyounamjoon', 'welsh', 'weltum', 'wena', 'wendy', 'went', 'wentz', 'were', 'werk', 'wese', 'wesen', 'west', 'westandwithik', 'wet', 'wetherspoons', 'wew', 'wewanticecream', 'wft', 'wgm', 'wh', 'whaaaaaaaaaat', 'whaaaaaat', 'whaaat', 'whacked', 'whahahaha', 'whammy', 'whangarei', 'what', 'what-is-your-fashionality', 'whatchya', 'whatever', 'whatevs', 'whatsapp', 'whatsoever', 'whatthefuck', 'whattsap', 'whay', 'wheeeeeeeeeeeeeeeen', 'wheel', 'wheelchair', 'when', 'whenever', 'where', 'whereisthesun', 'wherever', 'whet', 'whhr', 'which', 'while', 'whilst', 'whimpers', 'whip', 'whips', 'whispered', 'whistle', 'whit', 'white', 'whitey', 'whn', 'who', 'whole', 'whom', 'whomosexual', 'whoooah', 'whoop', 'whose', 'whsmith', 'wht', 'why', 'whyyy', 'whyyyy', 'whyyyyyy', 'whyyyyyyy', 'whyyyyyyyyyyyy', 'wi', 'wicked', 'wide', 'widely', 'wider', 'wiellys', 'wife', 'wiff', 'wifi', 'wii', 'wil', 'wild', 'will', 'william', 'willing', 'willlow', 'willmissyouparijat', 'willy', 'wimbledon', 'win', 'winchester', 'wind', 'window', 'windows', 'windowsphone', 'winds', 'wine', 'winehouse', 'wing', 'wings', 'wingstop', 'winner', 'winning', 'winter', 'wip', 'wirh', 'wisdom', 'wise', 'wish', 'wishes', 'wishing', 'witcher', 'with', 'within', 'without', 'witness', 'witnessed', 'wiv', 'wiw', 'wkend', 'wknd', 'wks', 'wkwkw', 'wlan', 'wna', 'wnt', 'wo', 'woaah', 'woah', 'wobble', 'wobbly', 'woe', 'wohoo', 'woke', 'wolf', 'wolrd', 'wolverine', 'wolves', 'womad', 'woman', 'women', \"women's\", 'won', 'wonder', 'wondered', 'wonderful', 'wonderfuls', 'wondering', 'wonders', 'wooden', 'woodford', 'wooftastic', 'woohoo', 'woohyun', 'wooohooo', 'woot', 'word', 'wordoftheweek', 'words', 'wore', 'work', 'worked', 'worker', 'workers', 'workhard', 'workin', 'working', 'working-on-a-tight-schedule', 'workinprogress', 'workout', 'workouts', 'works', 'workshop', 'world', 'worlds', 'worldwide', 'worried', 'worries', 'worry', 'worse', 'worst', 'worsts', 'worth', 'worthwhile', 'worthy', 'wot', 'wotw', 'would', 'wounded', 'wow', 'wowwww', 'wowza', 'woza', 'wracking', 'wrap', 'wrecking', 'wripped', 'wrists', 'write', 'writes', 'writing', 'written', 'wrocilam', 'wrong', 'wrote', 'wru', 'wsalelove', 'wsj', 'wt', 'wtf', 'wtfff', 'wth', 'wua', 'wub', 'wut', 'wwat', 'wwe', 'wwoooo', 'wynter', 'wz', 'x', 'x-rays', 'xavier', 'xbox', 'xboxone', 'xcylin', 'xd', 'xenophobes', 'xfiles', 'xi', 'xiu', 'xmas', 'xo', 'xoxo', 'xoxoxo', 'xpax', 'xpress', 'xst', 'xue', 'xur', 'xx', 'xxx', 'xxxibmchll', 'xxxx', 'xxxxxx', 'xxxxxxx', 'y', \"y'day\", 'ya', 'yaa', 'yaaaaaaaay', 'yaaaah', 'yaaah', 'yaaay', 'yaad', 'yaadein', 'yaap', 'yach', 'yachting', 'yael', 'yah', 'yahoo', 'yahuda', 'yako', 'yammouni', 'yan', 'yang', 'yapsters', 'yar', 'yard', 'yass', 'yasss', 'yasu', 'yay', 'yaya', 'yayayayay', 'yaytheylookgreat', 'yayy', 'yayyyy', 'ye', 'yea', 'yeaaaah', 'yeah', 'yeahh', 'yeahhh', 'yeap', 'year', \"year's\", 'years', 'yeeaayy', 'yeeeeah', 'yeeeeyyy', 'yeeew', 'yeey', 'yeh', 'yeheyy', 'yein', 'yelaaaaaaa', 'yell', 'yelled', 'yelling', 'yello', 'yellow', 'yeol', 'yeols', 'yep', 'yepp', 'yer', 'yes', 'yesha', 'yess', 'yesss', 'yessss', 'yester', 'yesterday', \"yesterday's\", 'yet', 'yey', 'yeyy', 'yg', 'yhm', 'yhoooooo', 'yields', 'yippee', 'yippeee', 'yippppy', 'yisss', 'yk', 'ykr', 'ylona', 'yna', 'yo', 'yodel', 'yoga', 'yoghurt', 'yogurt', 'yogyakarta', 'yok', 'yongbe', 'yoona', 'yoot', 'york', 'yorkshire', 'yosh', 'yots', 'you', \"you'll\", \"you're\", \"you's\", \"you've\", 'you-and', 'young', 'younger', 'youngjae', 'youngnaturalleaders', 'your', 'yournaturalleaders', 'yours', 'yourself', 'yous', 'youth', 'youthcelebrate', 'youtu', 'youtube', 'youtuber', 'youu', 'youuu', 'youuuu', 'youuuuuu', 'youuuuuuu', 'yr', 'yrs', 'yt', 'yu', 'yujin', 'yuki', 'yuki-chan', 'yulin', 'yum', 'yummmm', 'yummmyyy', 'yummy', 'yumu-youtuber', 'yumyum', 'yun', 'yuna', 'yung', 'yup', 'yuppiieee', 'yvette', 'yūjō-cosplay', 'z', 'zac', 'zach', \"zach's\", 'zack', 'zaine', 'zamn', 'zante', 'zap', 'zara', 'zareen', 'zayn', 'zayncomebacktod', 'zayniscomingback', 'zayniscomingbackonjuly', 'zayns', 'zayyyyyn', 'zaz', 'zdps', 'zealand', 'zehr', 'zenmate', 'zephbot', 'zero', 'zikra', 'zipper', 'zodiac', 'zoe', 'zokay', 'zone', 'zonzofox', 'zoo', 'zoom', 'zopiclone', 'zumba', 'zy', 'zz', 'zzz', 'zzzz', 'zzzzzz', '{:', '¦', '°', '´', '¿', 'über', '̇', 'ω', 'фотосет', 'العنزي', 'بندر', 'تكفى', 'جمعة', 'دعمم', 'عن', 'غردلي', 'للحياة', 'للعودة', 'مباركة', 'مطعم', 'هاشم', 'ँ', 'ख', 'ध', 'फ', 'ब', 'र', 'स', 'ा', 'ि', 'े', 'ो', 'ཀ', '’', '∞', '∠', '─', '┓', '┗', '┣', '┳', '┻', '╭', '╮', '╯', '╰', '╱', '╲', '▪', '★', '☆', '☔', '☕', '☺', '☼', '♛', '♡', '♥', '♫', '♬', '⚡', '✈', '✌', '✔', '✧', '✨', '❤', '⭐', '。', '》', '」', '더쇼', '에이핑크', '인피니트', '️', '＠', 'ｍｅ', 'ｓｅｅ', '｡', '�', '🇫', '🇷', '🌃', '🌎', '🌚', '🌞', '🌷', '🌸', '🍅', '🍜', '🍤', '🍭', '🍰', '🍵', '🍸', '🍹', '🎀', '🎂', '🎈', '🎉', '🎵', '🏻', '🏽', '🐑', '🐒', '🐢', '👆', '👈', '👉', '👊', '👌', '👍', '👏', '👑', '👓', '👯', '💃', '💅', '💋', '💓', '💔', '💕', '💖', '💗', '💘', '💙', '💚', '💛', '💜', '💞', '💟', '💥', '💦', '💪', '💫', '🔥', '🗽', '😀', '😁', '😂', '😃', '😄', '😅', '😆', '😉', '😊', '😌', '😍', '😒', '😓', '😔', '😕', '😘', '😚', '😜', '😞', '😟', '😢', '😤', '😧', '😩', '😪', '😬', '😭', '😴', '😵', '🙅', '🙈', '🙏', '🚂', '🚖', '🚙', '\\U000fe196', '\\U000fe334']\n",
            "{'(-:': 0, '(:': 1, '):': 2, '--->': 3, '-->': 4, '->': 5, \":'(\": 6, \":')\": 7, ':(': 8, ':)': 9, ':-(': 10, ':-)': 11, ':-d': 12, ':/': 13, '::': 14, ':\\\\': 15, ':d': 16, ':p': 17, ':|': 18, ';(': 19, ';)': 20, ';-)': 21, ';p': 22, ';}': 23, '<---': 24, '=:': 25, '=d': 26, '>:(': 27, '>:)': 28, '>:-(': 29, '>:d': 30, '[PAD]': 31, '[UNKNOWN]': 32, 'a': 33, 'aa': 34, 'aaaaaaaaaaa': 35, 'aaaaaaaaaaaaa': 36, 'aaaaaaaaaaaah': 37, 'aaaaaand': 38, 'aaaaages': 39, 'aaaaahhhhhhhh': 40, 'aaaahh': 41, 'aaaahhh': 42, 'aaahhh': 43, 'aah': 44, 'aahhhh': 45, 'aaj': 46, 'aameen': 47, 'aapke': 48, 'aaron': 49, 'aarww': 50, 'aayegi': 51, 'ab': 52, 'abandoned': 53, 'abandoning': 54, 'abby': 55, 'abbymill': 56, 'abes': 57, 'abhi': 58, 'abi': 59, 'abit': 60, 'able': 61, 'abligaverins': 62, 'aboard': 63, 'about': 64, 'abouty': 65, 'abroad': 66, 'abrupt': 67, 'abs': 68, 'abscess': 69, 'absent': 70, 'absolute': 71, 'absolutely': 72, 'abstinence': 73, 'abt': 74, 'abu': 75, 'abusive': 76, 'abuti': 77, 'ac': 78, 'academics': 79, 'acads': 80, 'acc': 81, 'accent': 82, 'accept': 83, 'accepted': 84, 'access': 85, 'accessories': 86, 'accident': 87, 'accidentally': 88, 'accnt': 89, 'accommodate': 90, 'according': 91, 'account': 92, 'accounts': 93, 'accs': 94, 'accumulated': 95, 'accurate': 96, 'ace': 97, 'acha': 98, 'ache': 99, 'achebe': 100, 'achi': 101, 'achieved': 102, 'achieving': 103, 'acid': 104, 'ack': 105, 'acne': 106, 'acorn': 107, 'acoustic': 108, 'across': 109, 'act': 110, 'action': 111, 'activation': 112, 'active': 113, 'activity': 114, 'actor': 115, 'actress': 116, 'acts': 117, 'actual': 118, 'actually': 119, 'actuallythough': 120, 'ad': 121, 'ada': 122, 'adam': 123, 'add': 124, 'added': 125, 'addicted': 126, 'addicted-to-analsex': 127, 'addiction': 128, 'addictive': 129, 'addition': 130, 'addme': 131, 'addmeonbbm': 132, 'addmeonsnapchat': 133, 'address': 134, 'addressing': 135, 'adf': 136, 'adidas': 137, 'adios': 138, 'adis': 139, 'aditya': 140, 'admin': 141, 'adolf': 142, 'adorable': 143, 'adored': 144, 'adrian': 145, 'adu': 146, 'adult': 147, 'advaddict': 148, 'advance': 149, 'advanced': 150, 'adventure': 151, 'adventures': 152, 'advert': 153, 'advice': 154, 'advisory': 155, 'ae': 156, 'aerial': 157, 'af': 158, 'afang': 159, 'aff': 160, 'affaraid': 161, 'affect': 162, 'affiliated': 163, 'afford': 164, 'afghanistn': 165, 'aflblueshawks': 166, 'afraid': 167, 'africa': 168, 'afridi': 169, 'afropunk': 170, 'aftenoon': 171, 'after': 172, 'after-work': 173, 'afterall': 174, 'afternon': 175, 'afternoon': 176, 'afterschool': 177, 'afterwards': 178, 'aftie': 179, 'agaaaain': 180, 'again': 181, 'agains': 182, 'agayhippiehippy': 183, 'age': 184, 'aged': 185, 'agencies': 186, 'agent': 187, 'ages': 188, 'agessss': 189, 'aggregates': 190, 'agh': 191, 'agile': 192, 'agnes': 193, 'agnezmo': 194, 'ago': 195, 'agonising': 196, 'agover': 197, 'agree': 198, 'agreed': 199, 'agrees': 200, 'ah': 201, 'aha': 202, 'ahah': 203, 'ahaha': 204, 'ahahah': 205, 'ahead': 206, 'ahh': 207, 'ahhh': 208, 'ahhhhh': 209, 'ahouré': 210, 'ahs': 211, 'ai': 212, 'aich': 213, 'aidzin': 214, 'aigooo': 215, 'aimed': 216, 'aing': 217, 'air': 218, 'airdroid': 219, 'airecs': 220, 'aired': 221, 'airfields': 222, 'airforce': 223, 'airline': 224, 'airport': 225, 'airs': 226, 'aishhh': 227, 'aisyah': 228, 'aisyhhh': 229, 'aj': 230, 'aja': 231, 'akana': 232, 'aki': 233, 'ako': 234, 'akon': 235, 'akong': 236, 'akooooooooooooooo': 237, 'akshaymostlovedsuperstarever': 238, 'akua': 239, 'al': 240, 'ala': 241, 'alansmithpart': 242, 'alarm': 243, 'alarms': 244, 'albeit': 245, 'alberta': 246, 'album': 247, 'alchemists': 248, 'alcohol': 249, 'aldub': 250, 'aleks': 251, 'alert': 252, 'alerts': 253, 'alex': 254, \"alex's\": 255, 'alhamdulillah': 256, 'alhamdullilah': 257, 'alice': 258, 'alien': 259, 'alienthought': 260, 'aling': 261, 'alison': 262, 'alive': 263, 'alix': 264, 'all': 265, 'all-clear': 266, 'all-time': 267, 'allah': 268, 'allergic': 269, 'allgoodthingske': 270, 'alliteration': 271, 'alllllll': 272, 'allow': 273, 'allowance': 274, 'allowed': 275, 'allowing': 276, 'allows': 277, 'alls': 278, 'alma': 279, 'almost': 280, 'alone': 281, 'along': 282, 'alot': 283, 'alreaddyyy': 284, 'already': 285, 'alright': 286, 'also': 287, 'altered': 288, 'altering': 289, 'alternative': 290, 'alternatively': 291, 'alternatives': 292, 'although': 293, 'aluminiumfree': 294, 'alumni': 295, 'alunageorge': 296, 'alvadhaau': 297, 'always': 298, 'am': 299, 'amargolonnard': 300, 'amassiveoverdoseofships': 301, 'amateur': 302, 'amazed': 303, 'amazes': 304, 'amazing': 305, 'amazingly': 306, 'amazon': 307, 'amber': 308, 'ambre': 309, 'ambrose': 310, 'ambs': 311, 'ameen': 312, 'amelia': 313, 'amen': 314, 'amends': 315, 'america': 316, 'american': 317, 'americano': 318, 'ami': 319, 'amie': 320, 'amiibo': 321, 'amin': 322, 'aminn': 323, 'aminormalyet': 324, 'amm': 325, 'amnotness': 326, 'among': 327, 'amount': 328, 'ampsha': 329, 'amsterdam': 330, 'amtired': 331, 'amusement': 332, 'amy': 333, 'amyjackson': 334, 'an': 335, 'anal': 336, 'analyzing': 337, 'anarchy': 338, 'anatomy': 339, 'and': 340, 'andals': 341, 'andaming': 342, 'andar': 343, 'andre': 344, 'andrew': 345, 'android': 346, 'andy': 347, 'anesthesia': 348, 'ang': 349, 'angeke': 350, 'angel': 351, 'angelica': 352, 'angelo': 353, \"angelo's\": 354, 'angels': 355, 'anger': 356, 'anghel': 357, 'angie': 358, 'angle': 359, 'angry': 360, 'animal': 361, 'animated': 362, 'animation': 363, 'animator': 364, 'anime': 365, 'ankle': 366, 'ann': 367, 'anna': 368, 'anne': 369, 'anniversary': 370, 'annnd': 371, 'announce': 372, 'announcements': 373, 'annoyed': 374, 'annoying': 375, 'annoyingbaby': 376, 'annual': 377, 'annyeong': 378, 'ano': 379, 'anon': 380, 'anonymous': 381, 'anot': 382, 'another': 383, 'ans': 384, 'anshe': 385, 'answer': 386, 'answering': 387, 'answers': 388, 'ant': 389, 'anta': 390, 'antagonistic': 391, 'anthem': 392, 'anti-christ': 393, 'anticipation': 394, 'antonio': 395, 'anushka': 396, 'anxiety': 397, 'anxious': 398, 'any': 399, 'anyare': 400, 'anybody': 401, 'anymore': 402, 'anymoreeeeee': 403, 'anyone': 404, 'anyones': 405, 'anyonneeee': 406, 'anythin': 407, 'anything': 408, 'anytime': 409, 'anyway': 410, 'anywayhedidanicejob': 411, 'anyways': 412, 'anywhere': 413, 'anz': 414, 'aos': 415, 'ap': 416, 'apart': 417, 'apartement': 418, 'apartment': 419, 'apb': 420, 'ape': 421, 'apexis': 422, 'apink': 423, 'aplomb': 424, \"apma's\": 425, 'apologist': 426, 'apologizing': 427, 'apology': 428, 'app': 429, 'appa': 430, 'apparently': 431, 'appeal': 432, 'appealing': 433, 'appear': 434, 'appearances': 435, 'appeared': 436, 'appears': 437, 'appeasement': 438, 'appendicitis': 439, 'appendix': 440, 'apple': 441, 'application': 442, 'applies': 443, 'apply': 444, 'appointment': 445, 'appreciate': 446, 'appreciated': 447, 'appreciating': 448, 'approach': 449, 'appropriate': 450, 'approval': 451, 'approving': 452, 'approximately': 453, 'apps': 454, 'april': 455, 'apt': 456, 'aqui': 457, 'aragalang': 458, 'araw': 459, 'arbeloa': 460, 'arc': 461, 'arch': 462, 'archdbanterbury': 463, 'architecture': 464, 'arctic': 465, 'are': 466, 'area': 467, 'aready': 468, 'argh': 469, 'argos': 470, 'argue': 471, 'ariana': 472, 'arianator': 473, 'ariel': 474, 'arini': 475, 'ark': 476, 'arm': 477, 'arma': 478, 'armor': 479, 'arms': 480, 'arnd': 481, 'arond': 482, 'around': 483, 'arrange': 484, 'arre': 485, 'arresting': 486, 'arrival': 487, 'arrive': 488, 'arrived': 489, 'arsenal': 490, 'art': 491, 'article': 492, 'articles': 493, 'artist': 494, 'artistic': 495, 'arts': 496, 'artworkbylie': 497, 'arummzz': 498, 'as': 499, 'asf': 500, 'ash': 501, 'ashamed': 502, 'ashraf': 503, 'ashtonsos': 504, 'ashwathy': 505, 'asia': 506, 'asian': 507, 'aside': 508, 'ask': 509, 'askaman': 510, 'asked': 511, 'askfinnick': 512, 'askies': 513, 'asking': 514, 'askip': 515, 'askurban': 516, 'asleep': 517, 'aspect': 518, 'aspetti': 519, 'ass': 520, 'assassins': 521, 'assessments': 522, 'asshole': 523, 'assholes': 524, 'assia': 525, 'assignment': 526, 'assignments': 527, 'assingnment': 528, 'assist': 529, 'associate': 530, 'association': 531, 'assume': 532, 'assured': 533, 'asthma': 534, 'astonvilla': 535, 'aswell': 536, 'at': 537, 'atchya': 538, 'ate': 539, 'athabasca': 540, \"athena's\": 541, 'athlete': 542, 'atk': 543, 'atl': 544, 'atlantis': 545, 'atlas': 546, 'atleast': 547, 'atm': 548, 'atp': 549, 'atrocity': 550, 'attached': 551, 'attack': 552, 'attacked': 553, 'attacks': 554, 'attempt': 555, 'attend': 556, 'attenders': 557, 'attention': 558, 'attentive': 559, \"attitude's\": 560, 'attitudes': 561, 'attraction': 562, 'atty': 563, 'au': 564, 'audience': 565, 'audition': 566, 'audraesar': 567, 'aug': 568, 'auguri': 569, 'august': 570, 'aunt': 571, 'aunty': 572, 'aur': 573, 'aurini': 574, 'aus': 575, 'ausfailia': 576, 'auspost': 577, 'austerlitz': 578, 'austin': 579, 'australia': 580, \"australia's\": 581, 'author': 582, 'auto-focus': 583, 'auto-followback': 584, 'autofollow': 585, 'auvssscr': 586, 'avail': 587, 'available': 588, 'avalible': 589, 'average': 590, 'averted': 591, 'avi': 592, 'avoid': 593, 'avoiding': 594, 'avoplex': 595, 'avril': 596, 'aw': 597, 'await': 598, 'awak': 599, 'awake': 600, 'awami': 601, 'award': 602, 'awards': 603, 'awareness': 604, 'away': 605, 'awe': 606, 'awell': 607, 'awesome': 608, 'awesomeee': 609, 'awful': 610, 'awh': 611, 'awhile': 612, 'awkward': 613, 'awsme': 614, 'awuna': 615, 'awusasho': 616, 'awuuuuuuuuuuuuuuuuuuuuuuuuuuuuuuuuuuuuuuuuu': 617, 'aww': 618, 'awwhh': 619, 'awww': 620, 'awwww': 621, 'awwwww': 622, 'awwwwww': 623, 'awwwwwwww': 624, 'awwwwwwwwwww': 625, 'axio': 626, 'ayala': 627, 'ayemso': 628, 'ayex': 629, 'az': 630, 'aztec': 631, 'azz-sets': 632, 'b': 633, \"b'coz\": 634, 'b-but': 635, 'ba': 636, 'baa': 637, 'baao': 638, 'baareeq': 639, 'baat': 640, 'babe': 641, 'babes': 642, 'babies': 643, 'baby': 644, 'babygirl': 645, 'babysit': 646, 'babyyy': 647, 'bachpan': 648, 'back': 649, 'backed': 650, 'backflip': 651, 'background': 652, 'backgrounds': 653, 'backkk': 654, 'backstory': 655, 'backup': 656, 'bacon': 657, 'bad': 658, 'badass': 659, 'badge': 660, 'badlife': 661, 'badly': 662, 'badthwin': 663, 'bae': 664, 'baechu': 665, 'baechyyy': 666, 'baek': 667, 'baekhyun': 668, 'bag': 669, 'baggage': 670, 'bagi': 671, 'bahari': 672, 'bahay': 673, 'bahayan': 674, 'bailey': 675, 'bajrangibhaijaanhighestweek': 676, 'bakar': 677, 'bakewell': 678, 'bakit': 679, 'bakwas': 680, 'balance': 681, 'bald': 682, 'bale': 683, 'bali': 684, 'balkan': 685, 'ball': 686, 'ballads': 687, 'baller': 688, 'balling': 689, 'balloon': 690, 'balms': 691, 'baloch': 692, 'baloney': 693, 'bam': 694, 'banana': 695, 'bananas': 696, 'banate': 697, 'band': 698, 'banda': 699, 'bandana': 700, 'bandi': 701, 'bandung': 702, 'bandz': 703, 'bang': 704, 'bangalore': 705, 'banged': 706, 'bani': 707, 'bank': 708, 'banter': 709, 'bantime': 710, 'baon': 711, 'bap': 712, 'bapu': 713, 'bar': 714, 'barbells': 715, 'barcelona': 716, 'barcode': 717, 'barefooted': 718, 'barely': 719, 'bark': 720, 'barkada': 721, 'barkin': 722, 'barking': 723, 'barkkkkkkkiiideee': 724, 'barney': 725, 'barnstaple': 726, \"barrista's\": 727, 'barsostay': 728, 'bartender': 729, 'basara': 730, 'base': 731, 'based': 732, 'basemaps': 733, 'basename': 734, 'basically': 735, 'basics': 736, 'basil': 737, 'basis': 738, 'basket': 739, 'basketball': 740, 'baskets': 741, 'bass': 742, 'bastard': 743, 'bat': 744, 'batalladelosgallos': 745, 'batb': 746, 'batch': 747, 'bath': 748, 'bathtub': 749, 'batman': 750, 'batteries': 751, 'battery': 752, 'batting': 753, 'battlefield': 754, 'bawi': 755, 'bay': 756, 'bayan': 757, 'baymax': 758, 'bayonetta': 759, 'baz': 760, 'bb': 761, 'bbb': 762, 'bblf': 763, 'bbm': 764, 'bbmadeinmanila': 765, 'bbmme': 766, 'bbmpin': 767, 'bby': 768, 'bbygurl': 769, 'bbz': 770, 'bc': 771, 'bcause': 772, 'bcoz': 773, 'bcs': 774, 'bcus': 775, 'bcuz': 776, 'bcz': 777, 'bday': 778, 'bdays': 779, 'bdayt': 780, 'be': 781, \"be's\": 782, 'bea': 783, 'beach': 784, \"beach's\": 785, 'beanatividad': 786, 'bear': 787, 'beard': 788, 'beardy': 789, 'beast': 790, 'beastmode': 791, 'beat': 792, 'beato': 793, 'beatport': 794, 'beats': 795, 'beauties': 796, 'beautiful': 797, 'beautifull': 798, 'beautifully-crafted': 799, 'beauts': 800, 'beauty': 801, 'beb': 802, 'bebe': 803, 'bebeee': 804, 'bebeeeee': 805, 'bebii': 806, 'bebravetoday': 807, 'because': 808, 'bechos': 809, 'become': 810, 'becoming': 811, 'bed': 812, 'beeeeepin': 813, 'been': 814, 'beer': 815, 'beers': 816, 'bees': 817, 'beety': 818, 'before': 819, 'beforehand': 820, 'beg': 821, 'begging': 822, 'begin': 823, 'beginner': 824, 'beginning': 825, 'begun': 826, 'beh': 827, 'behaves': 828, 'beheaviour': 829, 'behind': 830, 'beijing': 831, 'bein': 832, 'being': 833, 'beings': 834, 'beiruting': 835, 'beks': 836, 'belated': 837, 'belfast': 838, 'belgium': 839, 'beli': 840, 'belieber': 841, 'beliebers': 842, 'believe': 843, 'bell': 844, 'bellamy': 845, 'belle': 846, 'belly': 847, 'bellybutton': 848, 'bellybuttons': 849, 'belting': 850, 'beme': 851, 'bemeapp': 852, 'bemecode': 853, 'ben': 854, 'benadryl': 855, 'benchers': 856, 'benchmarks': 857, 'bend': 858, 'benedictervention': 859, 'benefit': 860, 'benefits': 861, 'bengalis': 862, 'benny': 863, 'benson': 864, 'benteke': 865, 'benzema': 866, 'beograd': 867, 'beonknockknock': 868, 'berangkaat': 869, 'bergerac': 870, 'berigaud': 871, 'besi': 872, 'beside': 873, 'besides': 874, 'besok': 875, 'besst': 876, 'best': 877, 'besteverdoctorwhoepisode': 878, 'bestfriend': 879, 'bestfriends': 880, 'bestoftheday': 881, 'bests': 882, 'bestweekend': 883, 'bet': 884, 'beta': 885, 'beth': 886, 'bethesda': 887, 'better': 888, 'betting': 889, 'bettor': 890, 'beverly': 891, 'beware': 892, 'beyond': 893, 'beytaad': 894, 'bf': 895, 'bff': 896, \"bff's\": 897, 'bffs': 898, 'bfr': 899, 'bg': 900, 'bgtau': 901, 'bhai': 902, 'bhaiya': 903, 'bheyps': 904, 'bhi': 905, 'bhk': 906, 'bhook': 907, 'bhs': 908, 'bi': 909, 'bi-polar': 910, 'bianca': 911, 'bias': 912, 'biases': 913, 'bible': 914, 'biblethump': 915, 'bideford': 916, 'bien': 917, 'bierce': 918, 'big': 919, 'bigbang': 920, 'bigger': 921, 'biggest': 922, 'bigot': 923, 'bigtime': 924, 'biker': 925, 'biking': 926, 'bikini': 927, 'bikinis': 928, 'bilal': 929, 'bilbao': 930, 'bill': 931, 'billie': 932, 'billion': 933, 'billionaires': 934, 'billions': 935, 'bills': 936, 'billy': 937, 'bindingofissac': 938, 'bing': 939, 'binge': 940, 'bio': 941, 'biodiversity': 942, 'biomass': 943, 'biomes': 944, 'bioooo': 945, 'biphobic': 946, 'bips': 947, 'bird': 948, 'birds': 949, 'birmingham': 950, 'birth': 951, 'birthdaaaaayyyy': 952, 'birthday': 953, 'birthdaygirl': 954, 'birthdaymonth': 955, 'birthdaypresent': 956, 'birthdays': 957, 'bis': 958, 'bisexuality': 959, 'bish': 960, 'bishes': 961, 'bison': 962, 'bissmillah': 963, 'bit': 964, 'bitch': 965, 'bitches': 966, 'bitchface': 967, 'bitching': 968, 'bite': 969, 'bites': 970, 'bitin': 971, 'bits': 972, 'bitsy': 973, 'bitter': 974, 'bitterness': 975, 'bittersweetness': 976, 'bitty': 977, 'bjp': 978, 'black': 979, 'blackberry': 980, 'blackcountryfair': 981, 'blackfly': 982, 'blacklivesmatter': 983, 'blaine': 984, \"blaine's\": 985, 'blame': 986, 'blamehoney': 987, 'blameshoghicp': 988, 'blaming': 989, 'bland': 990, 'blarney': 991, 'blast': 992, 'bldg': 993, 'bleak': 994, 'bleed': 995, 'bleeding': 996, 'blend': 997, 'blends': 998, 'bless': 999, 'blessed': 1000, 'blessing': 1001, 'blew': 1002, 'blight': 1003, 'blinkin': 1004, 'block': 1005, 'blockchain': 1006, 'blocked': 1007, 'blocking': 1008, 'blockjam': 1009, 'blocks': 1010, 'blog': 1011, 'blogged': 1012, 'blogiversary': 1013, 'blogs': 1014, 'blois': 1015, 'blonde': 1016, 'blood': 1017, 'bloodline': 1018, 'bloody': 1019, 'bloopers': 1020, 'blowing': 1021, 'blowjob': 1022, 'blue': 1023, 'bluejays': 1024, 'blurry': 1025, 'blushing': 1026, 'bna': 1027, 'bnf': 1028, 'bnte': 1029, 'bo': 1030, 'boah': 1031, 'board': 1032, 'boat': 1033, 'boatbound': 1034, 'boaz': 1035, 'bob': 1036, 'bobble': 1037, 'bodies': 1038, 'bodo': 1039, 'body': 1040, 'boggling': 1041, 'bogus': 1042, 'bohat': 1043, 'bohol': 1044, 'boi': 1045, 'boii': 1046, 'bollinger': 1047, 'bollywood': 1048, 'bom': 1049, 'bomb': 1050, 'bombing': 1051, 'bombs': 1052, 'bonasio': 1053, 'bond': 1054, 'bonding': 1055, 'bone': 1056, 'boner': 1057, 'bones': 1058, 'bonilla': 1059, 'bonus': 1060, 'boo': 1061, 'boob': 1062, 'boobs': 1063, 'boohoo': 1064, 'book': 1065, 'booked': 1066, 'booking': 1067, 'bookmark': 1068, 'bookreview': 1069, 'books': 1070, 'bookstore': 1071, 'boom': 1072, 'boong': 1073, 'boooo': 1074, 'booooore': 1075, 'booset': 1076, 'boot': 1077, 'boots': 1078, 'booty': 1079, 'border': 1080, 'bored': 1081, 'boreddd': 1082, 'boredom': 1083, 'boring': 1084, 'born': 1085, 'borrow': 1086, 'bos': 1087, 'bosen': 1088, 'boses': 1089, 'boss': 1090, 'bot': 1091, 'botanical': 1092, 'botany': 1093, 'both': 1094, 'bother': 1095, 'bothered': 1096, 'bothering': 1097, 'bottle': 1098, 'bottles': 1099, 'bottom': 1100, 'bottoms': 1101, 'bought': 1102, 'boughy': 1103, 'bout': 1104, 'bouzu': 1105, 'bow': 1106, 'bowel': 1107, 'bowl': 1108, 'bowwowchicawowwow': 1109, 'box': 1110, 'boxroomcrafts': 1111, 'boy': 1112, 'boyfriend': 1113, 'boyirl': 1114, 'boys': 1115, 'bp': 1116, 'bps': 1117, 'bra': 1118, 'brace': 1119, 'bracelet': 1120, 'braces': 1121, 'brad': 1122, 'bragging': 1123, 'braid': 1124, 'braids': 1125, 'brain': 1126, 'braindots': 1127, 'brake': 1128, 'brambhatt': 1129, 'branch': 1130, 'brand': 1131, 'brandi': 1132, 'branding': 1133, 'brands': 1134, 'brasileirao': 1135, 'brave': 1136, 'braving': 1137, 'bravo': 1138, 'brawl': 1139, 'brb': 1140, 'breach': 1141, 'bread': 1142, 'breads': 1143, 'break': 1144, 'breakdown': 1145, 'breakfast': 1146, 'breaking': 1147, 'breaks': 1148, 'breaktym': 1149, 'breakup': 1150, 'breakups': 1151, 'breath': 1152, 'breathe': 1153, 'breathing': 1154, 'breconbeacons': 1155, 'brendon': 1156, 'brewproject': 1157, 'bri': 1158, 'brian': 1159, 'brianaaaa': 1160, 'brianazabrocki': 1161, 'bride': 1162, 'bridesmaid': 1163, 'brief': 1164, 'briefly': 1165, 'brienne': 1166, 'bright': 1167, 'brighten': 1168, 'brighton': 1169, 'brijresidency': 1170, 'briliant': 1171, 'brill': 1172, 'brilliant': 1173, 'brilliantly': 1174, 'bring': 1175, 'bringing': 1176, 'bringmethehorizon': 1177, 'brings': 1178, 'brisbane': 1179, 'bristol': 1180, 'bristolart': 1181, 'britain': 1182, 'brk': 1183, 'bro': 1184, 'broadcast': 1185, 'broadcasts': 1186, 'broke': 1187, 'broken': 1188, 'broker': 1189, 'brolly': 1190, 'brooke': 1191, 'brooklyn': 1192, 'bros': 1193, 'brotheeeeerrrr': 1194, 'brother': 1195, 'brotherhood': 1196, 'brothers': 1197, 'brought': 1198, 'brown': 1199, 'brows': 1200, 'browse': 1201, 'browser': 1202, 'browsers': 1203, 'bruce': 1204, 'bruh': 1205, 'bruhhh': 1206, 'bruise': 1207, 'bruised': 1208, 'brum': 1209, 'bruno': 1210, 'brush': 1211, 'bruuh': 1212, 'bt': 1213, 'btob': 1214, 'bts': 1215, 'btu': 1216, 'btw': 1217, 'btwn': 1218, 'bubba': 1219, 'bubble': 1220, 'bubbles': 1221, 'bubbling': 1222, 'buckinghampalace': 1223, 'buckling': 1224, 'bud': 1225, 'budapestgp': 1226, 'buddies': 1227, 'buddy': 1228, 'buddyyyy': 1229, 'budge': 1230, 'budget': 1231, 'bueno': 1232, 'buff': 1233, 'buffer': 1234, 'buffering': 1235, 'bug': 1236, 'bugatti': 1237, 'bugbounty': 1238, 'buggers': 1239, 'bugs': 1240, 'building': 1241, 'builds': 1242, 'bulat': 1243, 'bulet': 1244, 'bulldog': 1245, 'bulletin': 1246, 'bullying': 1247, 'bum': 1248, 'bummer': 1249, 'bumped': 1250, 'bun': 1251, 'bunch': 1252, 'bundle': 1253, 'bungie': 1254, 'bunnys': 1255, 'bunso': 1256, 'bunta': 1257, 'burberry': 1258, 'burdensome': 1259, 'burek': 1260, 'burfday': 1261, 'burger': 1262, 'buried': 1263, 'burketeer': 1264, 'burn': 1265, 'burned': 1266, 'burning': 1267, 'burnout': 1268, 'burnt': 1269, 'burst': 1270, 'bursts': 1271, 'bus': 1272, 'buset': 1273, 'bush': 1274, 'bushes': 1275, 'busier': 1276, 'business': 1277, 'busy': 1278, 'but': 1279, 'buti': 1280, 'butter': 1281, 'butterfly': 1282, 'button': 1283, 'buttonhole': 1284, 'buttsex': 1285, 'buttt': 1286, 'buttttttt': 1287, 'buuuut': 1288, 'buuuuuuuut': 1289, 'buy': 1290, 'buyers': 1291, 'buying': 1292, 'buynotanapologyonitunes': 1293, 'buys': 1294, 'buzz': 1295, 'buzzing': 1296, 'bv': 1297, 'by': 1298, 'bye': 1299, 'c': 1300, \"c'mon\": 1301, 'caaaannntttt': 1302, 'cabincrew': 1303, 'cable': 1304, 'cactus': 1305, 'caesarspalace': 1306, 'cafe': 1307, 'cag': 1308, 'cage': 1309, 'caged': 1310, 'cajun': 1311, 'cajunchicken': 1312, 'cake': 1313, 'cakehamper': 1314, 'cakes': 1315, 'cala': 1316, 'cali': 1317, 'calibraksaep': 1318, 'calibraska': 1319, 'calibraskaep': 1320, 'califor': 1321, 'california': 1322, \"california's\": 1323, 'call': 1324, 'called': 1325, \"callie's\": 1326, 'calling': 1327, 'callinganimalabusehotlineasap': 1328, 'calls': 1329, 'calm': 1330, 'calum': 1331, 'calumsos': 1332, 'cam': 1333, 'camara': 1334, 'cambridge': 1335, 'came': 1336, 'camera': 1337, 'camillus': 1338, 'camp': 1339, 'campaign': 1340, 'camping': 1341, 'camps': 1342, 'campsites': 1343, 'campus': 1344, 'camsex': 1345, 'can': 1346, 'canadian': 1347, 'canals': 1348, 'canaria': 1349, 'canarios': 1350, 'cancel': 1351, 'canceled': 1352, 'cancelled': 1353, 'cancelling': 1354, 'cancels': 1355, 'candle': 1356, 'candy': 1357, 'cannot': 1358, 'canon': 1359, 'canopy': 1360, 'cans': 1361, 'cantik': 1362, 'canvas': 1363, 'capcom': 1364, 'capeee': 1365, 'captured': 1366, 'car': 1367, 'cara': 1368, 'caradelevingne': 1369, 'caramello': 1370, 'card': 1371, 'cardi': 1372, 'cardio': 1373, 'cards': 1374, 'care': 1375, 'career': 1376, 'careers': 1377, 'careful': 1378, 'carefully': 1379, 'cares': 1380, 'caribbean': 1381, 'caring': 1382, 'carlton': 1383, 'carly': 1384, 'carmel': 1385, 'carmen': 1386, 'carnival': 1387, 'caro': 1388, 'carol': 1389, 'caroline': 1390, 'carpet': 1391, 'carriage': 1392, 'carriageway': 1393, 'carrie': 1394, 'carrot': 1395, 'carry': 1396, 'cars': 1397, 'cart': 1398, 'cartoon': 1399, 'carva': 1400, 'case': 1401, 'cash': 1402, 'casillas': 1403, 'cass': 1404, 'cast': 1405, 'casting': 1406, 'castle': 1407, 'cat': 1408, 'catamis': 1409, 'catch': 1410, 'catching': 1411, 'catchy': 1412, 'cathos': 1413, \"cathy's\": 1414, 'cats': 1415, 'catspjs': 1416, 'caught': 1417, 'cauliflower': 1418, 'cayton': 1419, 'cb': 1420, 'cc': 1421, 'cd': 1422, 'ce': 1423, 'celebrate': 1424, 'celebrated': 1425, 'celebrating': 1426, 'celebratio': 1427, 'celebration': 1428, 'celebrity': 1429, 'cell': 1430, 'cement': 1431, 'center': 1432, 'central': 1433, 'centralise': 1434, 'centre': 1435, 'centres': 1436, 'centrifugal': 1437, 'cents': 1438, 'century': 1439, 'ceomonth': 1440, 'cerbchan': 1441, 'cereal': 1442, 'certain': 1443, 'certainly': 1444, 'certainty': 1445, 'certification': 1446, 'cess': 1447, 'chaddi': 1448, 'chaerin': 1449, 'chain': 1450, 'chains': 1451, 'chainsaw': 1452, 'chair': 1453, 'chairs': 1454, 'chal': 1455, 'chalet': 1456, 'challo': 1457, 'chalna': 1458, 'chaloniklo': 1459, 'chalut': 1460, 'champagne': 1461, 'champions': 1462, 'chan': 1463, 'chance': 1464, 'chances': 1465, 'chandauli': 1466, 'chanel': 1467, 'change': 1468, 'changed': 1469, 'changes': 1470, 'changing': 1471, 'changs': 1472, 'chanhun': 1473, 'channel': 1474, 'channels': 1475, 'chant': 1476, 'chants': 1477, 'chaos': 1478, 'chaotic': 1479, 'chap': 1480, 'chapters': 1481, 'character': 1482, 'characters': 1483, 'charade': 1484, 'charcoal': 1485, 'charge': 1486, 'charged': 1487, 'charger': 1488, 'chargers': 1489, 'charges': 1490, 'charging': 1491, 'charismatic': 1492, 'charity': 1493, 'charles': 1494, 'charli': 1495, 'charlotte': 1496, 'charming': 1497, 'charms': 1498, 'charts': 1499, 'chasing': 1500, 'chat': 1501, 'chateau': 1502, 'chati': 1503, 'chau': 1504, 'cheap': 1505, 'cheapest': 1506, 'cheatday': 1507, 'cheated': 1508, 'check': 1509, 'check-up': 1510, 'checked': 1511, 'checking': 1512, 'checkout': 1513, 'checks': 1514, 'cheeks': 1515, 'cheeky': 1516, 'cheer': 1517, 'cheering': 1518, 'cheerios': 1519, 'cheers': 1520, 'cheese': 1521, 'cheesydelights': 1522, 'cheetah': 1523, 'chef': 1524, 'chek': 1525, 'chel': 1526, 'chelny': 1527, 'chelsea': 1528, 'cheltenham': 1529, 'chem': 1530, 'chemical': 1531, 'chenab': 1532, 'cherish': 1533, 'cherry': 1534, 'cheshire': 1535, 'chesties': 1536, 'cheung': 1537, 'chewing': 1538, 'chibi': 1539, 'chick-fil-a': 1540, 'chicken': 1541, 'chickmt': 1542, 'chicks': 1543, 'chicsirific': 1544, 'chikka': 1545, 'child': 1546, 'childhood': 1547, 'children': 1548, 'chill': 1549, 'chilled': 1550, 'chillin': 1551, \"chillin'with\": 1552, 'chills': 1553, 'chilton': 1554, 'chin': 1555, 'china': 1556, 'chinas': 1557, 'chinua': 1558, 'chipotle': 1559, 'chips': 1560, 'chiquitos': 1561, 'chloe': 1562, 'chocolate': 1563, 'chocolates': 1564, 'chocolatey': 1565, 'choice': 1566, 'choiceinternationalartist': 1567, 'choir': 1568, 'choke': 1569, 'choker': 1570, 'chokes': 1571, 'chokkie': 1572, 'choma': 1573, 'choo': 1574, 'choose': 1575, 'choosing': 1576, 'chopped': 1577, 'choppy': 1578, 'choregrapher': 1579, 'choreo': 1580, 'choreographing': 1581, 'chorong': 1582, 'choroo': 1583, 'chose': 1584, 'chosen': 1585, 'chris': 1586, 'christ': 1587, 'christen': 1588, 'christian': 1589, 'christina': 1590, 'christmas': 1591, 'christophe': 1592, 'christopher': 1593, 'christy': 1594, 'chrome': 1595, 'chrompet': 1596, 'chronic': 1597, 'chronicles': 1598, 'chswiyfxcskcalum': 1599, 'chu': 1600, 'chuckin': 1601, 'chuckle': 1602, 'chum': 1603, 'church': 1604, 'churro': 1605, 'chutes': 1606, 'chwang': 1607, 'chweet': 1608, 'chweina': 1609, 'ciao': 1610, \"ciara's\": 1611, 'cider': 1612, 'cigar': 1613, 'cikaaa': 1614, 'cilic': 1615, 'cimbom': 1616, 'cinema': 1617, \"cinema's\": 1618, 'cinemas': 1619, 'cinepambata': 1620, 'cintiq': 1621, 'circle': 1622, 'circuit': 1623, 'circuscircus': 1624, 'cities': 1625, 'citizens': 1626, 'city': 1627, 'civ': 1628, 'civil': 1629, 'cjradacomateada': 1630, 'cl': 1631, 'claim': 1632, 'claimed': 1633, 'clan': 1634, 'clandestins': 1635, 'clap': 1636, 'clapham': 1637, 'clark': 1638, 'clarke': 1639, 'clash': 1640, 'class': 1641, 'classes': 1642, 'classic': 1643, 'classicassures': 1644, 'classmate': 1645, 'classy': 1646, 'claws': 1647, 'clean': 1648, 'cleaned': 1649, 'cleaning': 1650, 'cleanse': 1651, 'clear': 1652, 'clearing': 1653, 'clearly': 1654, 'clears': 1655, 'cliche': 1656, 'click': 1657, 'clicking': 1658, 'clicksco': 1659, 'client': 1660, 'clients': 1661, 'clientvisit': 1662, 'climate': 1663, 'climatechange': 1664, 'climb': 1665, 'climbed': 1666, 'climbing': 1667, 'clinton': 1668, 'clip': 1669, 'clips': 1670, 'clock': 1671, 'clonmel': 1672, 'close': 1673, 'closed': 1674, 'closely': 1675, 'closer': 1676, 'closer-chasing': 1677, 'closest': 1678, 'closet': 1679, 'closing': 1680, 'clothes': 1681, 'clowns': 1682, 'club': 1683, 'clutching': 1684, 'cnblue': 1685, 'cnn': 1686, 'cnt': 1687, 'co': 1688, 'co-worker': 1689, 'coach': 1690, 'coaster': 1691, 'coat': 1692, 'coated': 1693, 'coca': 1694, 'cock': 1695, 'cocktail': 1696, 'cocktaily': 1697, 'cocky': 1698, 'coco': 1699, 'cocoared': 1700, 'coconut': 1701, 'cod': 1702, 'code': 1703, 'cody': 1704, 'coffe': 1705, 'coffee': 1706, 'coffee-weekdays': 1707, 'coffees': 1708, 'cohesive': 1709, 'coincidence': 1710, 'coins': 1711, 'cola': 1712, 'cold': 1713, 'colder': 1714, 'coldest': 1715, 'coldplay': 1716, 'colin': 1717, 'collab': 1718, 'collaboration': 1719, 'collage': 1720, 'collapse': 1721, 'collar': 1722, 'colleague': 1723, 'collecting': 1724, 'collection': 1725, 'college': 1726, 'collins': 1727, 'cologne': 1728, 'colombia': 1729, 'color': 1730, 'colour': 1731, 'coloured': 1732, 'colours': 1733, 'com': 1734, 'combat': 1735, 'come': 1736, 'comeback': 1737, 'comedy': 1738, 'comes': 1739, 'comet': 1740, 'comfortable': 1741, 'comfy': 1742, 'comic': 1743, 'comics': 1744, 'coming': 1745, 'commas': 1746, 'comment': 1747, 'comments': 1748, 'commercial': 1749, 'commission': 1750, 'committed': 1751, 'committing': 1752, 'common': 1753, 'communal': 1754, 'communities': 1755, 'community': 1756, 'comp': 1757, 'companion': 1758, 'company': 1759, 'comparative': 1760, 'compared': 1761, 'comparing': 1762, 'comparison': 1763, 'compensation': 1764, 'compete': 1765, 'competition': 1766, 'complain': 1767, 'complained': 1768, 'complains': 1769, 'complaint': 1770, 'complete': 1771, 'completed': 1772, 'completely': 1773, 'completion': 1774, 'complicated': 1775, 'compliment': 1776, 'composer': 1777, 'computer': 1778, 'computers': 1779, 'con-graduation': 1780, 'concept': 1781, 'concepts': 1782, 'concern': 1783, 'concerned': 1784, 'concert': 1785, 'concerts': 1786, 'concordia': 1787, 'condemned': 1788, 'condition': 1789, 'conditions': 1790, 'conference': 1791, 'confession': 1792, 'confetti': 1793, 'confidence': 1794, 'confirm': 1795, 'confirmation': 1796, 'confiscated': 1797, 'conflict': 1798, 'confused': 1799, 'confusing': 1800, 'congraaats': 1801, 'congrats': 1802, 'congratulation': 1803, 'congratulations': 1804, 'congratz': 1805, 'congrtaualtions': 1806, 'connect': 1807, 'connected': 1808, 'connecting': 1809, 'connection': 1810, 'connie': 1811, 'connor': 1812, 'consent': 1813, 'conserve': 1814, 'consider': 1815, 'considerably': 1816, 'considering': 1817, 'considers': 1818, 'consistency': 1819, 'console': 1820, 'constant': 1821, 'constantly': 1822, 'construction': 1823, 'consultant': 1824, 'consumed': 1825, 'consumerism': 1826, 'cont': 1827, 'contact': 1828, 'contacted': 1829, 'contacts': 1830, 'contained': 1831, 'container': 1832, 'contectually': 1833, 'contemplating': 1834, 'contemporary': 1835, 'contenders': 1836, 'content': 1837, 'contents': 1838, 'contest': 1839, 'contestants': 1840, 'contestkiduniya': 1841, 'context': 1842, 'continous': 1843, 'continue': 1844, 'continues': 1845, 'continuously': 1846, 'contract': 1847, 'contractually': 1848, 'contradict': 1849, 'contrast': 1850, 'contribution': 1851, 'contributions': 1852, 'control': 1853, 'controlls': 1854, 'controversy': 1855, 'convener': 1856, 'convention': 1857, 'conversation': 1858, 'conversational': 1859, 'conversations': 1860, 'conversion': 1861, 'convictions': 1862, 'convince': 1863, 'convo': 1864, 'convos': 1865, 'cook': 1866, 'cookie': 1867, 'cooking': 1868, 'cool': 1869, 'cooler': 1870, 'cools': 1871, 'cooperating': 1872, 'cope': 1873, 'copies': 1874, 'copping': 1875, 'cops': 1876, 'copy': 1877, 'copying': 1878, 'corbyn': 1879, 'corey': 1880, 'corinehurleigh': 1881, 'corner': 1882, 'cornetto': 1883, 'cornettos': 1884, 'cornish': 1885, 'cornwall': 1886, 'correct': 1887, 'corridor': 1888, 'corrupted': 1889, 'cortez': 1890, 'cory': 1891, 'cos': 1892, 'cosas': 1893, 'cosmovision': 1894, 'cosplay': 1895, 'cosplayers': 1896, 'cosplayprogress': 1897, 'cost': 1898, 'costacc': 1899, 'costs': 1900, 'cosy': 1901, 'cotton': 1902, 'couch': 1903, 'cough': 1904, 'coughed': 1905, 'coughing': 1906, 'could': 1907, 'councillors': 1908, 'count': 1909, 'countdown': 1910, 'counted': 1911, 'counting': 1912, 'countless': 1913, 'countries': 1914, 'country': 1915, 'countrymusic': 1916, 'counts': 1917, 'countthecost': 1918, 'county': 1919, 'couple': 1920, 'couples': 1921, 'courage': 1922, 'courgette': 1923, 'courier': 1924, 'course': 1925, 'coursee': 1926, 'coursework': 1927, 'court': 1928, 'couscous': 1929, 'cousin': 1930, 'cousins': 1931, 'couture': 1932, 'covent': 1933, 'cover': 1934, 'coveralls': 1935, 'covered': 1936, 'covering': 1937, 'covers': 1938, 'cow': 1939, 'coworker': 1940, 'coyote': 1941, 'coz': 1942, 'cozy': 1943, 'cpm': 1944, 'cpu': 1945, 'cr': 1946, 'craaaazzyy': 1947, 'crack': 1948, 'cracked': 1949, 'cracking': 1950, 'crackle': 1951, 'crackling': 1952, 'crafts': 1953, 'cram': 1954, 'cramps': 1955, 'cranium': 1956, 'crap': 1957, 'crapple': 1958, 'crash': 1959, 'crashed': 1960, 'crashing': 1961, 'crave': 1962, 'craving': 1963, 'crazy': 1964, 'crazyyyy': 1965, 'creaking': 1966, 'cream': 1967, 'creases': 1968, 'create': 1969, 'creating': 1970, 'creations': 1971, 'creative': 1972, 'credit': 1973, 'credits': 1974, 'creds': 1975, 'creed': 1976, 'creepy': 1977, 'crei': 1978, 'creta': 1979, 'cretaperfectme': 1980, 'cretaperfectsuv': 1981, 'crew': 1982, 'cri': 1983, 'cricket': 1984, 'cried': 1985, 'cries': 1986, 'crikey': 1987, 'crime': 1988, 'criminal': 1989, 'crisis': 1990, 'crisps': 1991, 'critical': 1992, 'criticised': 1993, 'critiques': 1994, 'croke': 1995, 'crop': 1996, 'crops': 1997, 'cross': 1998, 'crossed': 1999, 'crosssed': 2000, 'crowd': 2001, 'crowdfunding': 2002, 'crown': 2003, 'cruel': 2004, 'crueler': 2005, 'cruise': 2006, 'crumble': 2007, 'crush': 2008, 'cry': 2009, 'crying': 2010, 'crypts': 2011, 'crys': 2012, 'crystal': 2013, 'cs': 2014, 'csrracing': 2015, 'ctto': 2016, 'cuddle': 2017, 'cuddles': 2018, 'cuddling': 2019, 'cue': 2020, 'culture': 2021, 'cumbia': 2022, 'cumbria': 2023, 'cumshot': 2024, 'cunt': 2025, 'cup': 2026, 'cupboards': 2027, 'cupcake': 2028, 'cupcakes': 2029, \"cupid's\": 2030, 'curious': 2031, 'current': 2032, 'currently': 2033, 'curry': 2034, 'currys': 2035, 'curved': 2036, 'cus': 2037, 'cushions': 2038, 'cusp': 2039, 'cuss': 2040, 'custard': 2041, 'custom': 2042, 'customer': 2043, 'customers': 2044, 'cut': 2045, 'cute': 2046, 'cutest': 2047, 'cuticle': 2048, 'cutie': 2049, 'cuties': 2050, 'cuting': 2051, 'cuts': 2052, 'cutting': 2053, 'cuuuuuuuuuuuuuuuuuuuuuuuuuuuuuuuuuuuuuuuuuuute': 2054, 'cuz': 2055, 'cwnt': 2056, 'cyber': 2057, 'cycle': 2058, 'cyclerevolution': 2059, 'cycling': 2060, 'cynical': 2061, 'cypher': 2062, 'cyprus': 2063, 'd': 2064, \"d'd\": 2065, 'd:': 2066, 'd;': 2067, 'da': 2068, 'daaay': 2069, 'daal': 2070, 'daaru': 2071, 'dad': 2072, \"dad's\": 2073, 'daddy': 2074, 'dads': 2075, 'dae': 2076, 'daft': 2077, 'dagga': 2078, 'dah': 2079, 'daianerufato': 2080, 'daily': 2081, 'daisy': 2082, 'dale': 2083, 'dallas': 2084, 'dam': 2085, 'damage': 2086, 'damaged': 2087, 'dammit': 2088, 'damn': 2089, 'dampen': 2090, 'dan': 2091, 'dance': 2092, 'danceeeeee': 2093, 'dancer': 2094, 'dances': 2095, 'dancetastic': 2096, 'dancing': 2097, 'dandia': 2098, 'dang': 2099, 'dangerous': 2100, 'dangit': 2101, 'dangling': 2102, 'daniel': 2103, 'danielle': 2104, 'danni': 2105, 'danny': 2106, 'darcey': 2107, 'dard': 2108, 'dare': 2109, 'daredevil': 2110, 'daring': 2111, 'dark': 2112, 'darlene': 2113, 'darlin': 2114, 'darn': 2115, 'darren': 2116, 'dartmoor': 2117, 'dash': 2118, 'dassy': 2119, 'dasvidaniya': 2120, 'data': 2121, 'date': 2122, 'dates': 2123, 'dating': 2124, 'dats': 2125, 'datz': 2126, 'daughter': 2127, 'daughter-yrs': 2128, 'davao': 2129, 'dave': 2130, 'david': 2131, \"david's\": 2132, 'daw': 2133, 'day': 2134, 'dayofarch': 2135, 'days': 2136, 'dayz': 2137, 'dazed': 2138, 'dazzle': 2139, 'dbn': 2140, 'dd': 2141, 'ddy': 2142, 'deactivate': 2143, 'deactivated': 2144, 'dead': 2145, 'deadline': 2146, 'deaf': 2147, 'deal': 2148, 'dealsuthaonotebachao': 2149, 'deantd': 2150, 'dear': 2151, 'dearly': 2152, 'dearslim': 2153, 'death': 2154, 'deathbybaconsmell': 2155, 'deathcure': 2156, 'deathly': 2157, 'deathofgrass': 2158, 'debacle': 2159, 'debatable': 2160, 'debates': 2161, 'debbie': 2162, 'debt': 2163, 'debut': 2164, 'december': 2165, 'decent': 2166, 'decide': 2167, 'decided': 2168, 'decides': 2169, 'decision': 2170, 'decisions': 2171, 'deck': 2172, 'decorating': 2173, 'dedicatedfan': 2174, 'dedication': 2175, 'deennya': 2176, 'deep': 2177, 'deepxcape': 2178, 'def': 2179, 'defence': 2180, 'defend': 2181, 'defenders': 2182, 'defensive': 2183, 'definately': 2184, 'define': 2185, 'defined': 2186, 'definite': 2187, 'definitely': 2188, 'definition': 2189, 'degeneres': 2190, 'degrassi': 2191, 'degree': 2192, 'degrees': 2193, 'dekhi': 2194, 'del': 2195, 'delay': 2196, 'delayed': 2197, 'delays': 2198, 'delegate': 2199, 'deleicious': 2200, 'delete': 2201, 'deleted': 2202, \"delevingne's\": 2203, 'delhi': 2204, 'delicious': 2205, 'delighted': 2206, 'delights': 2207, 'delirious': 2208, 'delish': 2209, 'deliver': 2210, 'delivered': 2211, 'delivery': 2212, 'delph': 2213, 'delphy': 2214, 'delve': 2215, 'demand': 2216, \"demi's\": 2217, 'demo': 2218, 'denerivery': 2219, 'denim': 2220, 'denims': 2221, 'denise': 2222, 'denmark': 2223, 'dental': 2224, 'dentist': 2225, 'deny': 2226, 'deo': 2227, \"deosn't\": 2228, 'department': 2229, 'departments': 2230, 'dependencies': 2231, 'depends': 2232, 'depleted': 2233, 'deposit': 2234, 'depressing': 2235, 'dept': 2236, 'derby': 2237, 'derek': 2238, 'derp': 2239, 'desc': 2240, 'describe': 2241, 'description': 2242, 'deserve': 2243, 'deserved': 2244, 'deserves': 2245, 'design': 2246, 'designed': 2247, 'designer': 2248, 'designs': 2249, 'desire': 2250, 'desk': 2251, 'desktop': 2252, 'despair': 2253, 'desperate': 2254, 'despite': 2255, 'despondently': 2256, 'dessert': 2257, 'desserts': 2258, 'destination': 2259, 'destroying': 2260, 'detail': 2261, 'detailed': 2262, 'details': 2263, 'determination': 2264, 'determined': 2265, 'dety': 2266, 'dev': 2267, 'devastating': 2268, 'develop': 2269, 'developed': 2270, 'development': 2271, 'devices': 2272, 'devolution': 2273, 'dew': 2274, 'dewsbury': 2275, 'dey': 2276, 'deya': 2277, 'df': 2278, 'dg': 2279, 'dh': 2280, 'dhabi': 2281, 'dhaka': 2282, 'dheena': 2283, 'di': 2284, 'dia': 2285, 'diagnosed': 2286, 'dialogue': 2287, \"diane's\": 2288, 'dianna': 2289, 'diaries': 2290, 'diarrhea': 2291, 'diary': 2292, 'dick': 2293, 'did': 2294, 'didn': 2295, 'die': 2296, 'die-of': 2297, 'died': 2298, 'diego': 2299, 'dieididieieiei': 2300, 'dies': 2301, 'diesel': 2302, 'diet': 2303, 'diff': 2304, 'differ': 2305, 'difference': 2306, 'differences': 2307, 'different': 2308, 'difficiency': 2309, 'difficult': 2310, 'digital': 2311, 'digitalexeter': 2312, 'digitalmarketing': 2313, 'dii': 2314, 'dikha': 2315, 'dime': 2316, 'dimples': 2317, 'dine': 2318, 'diner': 2319, 'ding': 2320, 'dinghy': 2321, 'dinner': 2322, 'dinooo': 2323, 'dipikirin': 2324, 'diploma': 2325, 'diplomacy': 2326, 'dipoppo': 2327, 'dipsatch': 2328, 'dire': 2329, 'direction': 2330, 'directx': 2331, 'dirtiest': 2332, 'dirty': 2333, 'dirtykik': 2334, 'dis': 2335, 'disability': 2336, 'disabled': 2337, 'disagree': 2338, 'disappears': 2339, 'disappoint': 2340, 'disappointed': 2341, 'disappointing': 2342, 'disappointment': 2343, 'disc': 2344, 'discharge': 2345, 'disciplines': 2346, 'discontinued': 2347, 'discount': 2348, 'discover': 2349, 'discovered': 2350, 'discovery': 2351, 'discrimination': 2352, 'discuss': 2353, 'discussing': 2354, 'discussions': 2355, 'disease': 2356, 'disgusted': 2357, 'disgusting': 2358, 'disgusts': 2359, 'dishes': 2360, 'dishoom': 2361, 'disk': 2362, 'dislike': 2363, 'disney': 2364, 'disneyinfinity': 2365, 'dispatch': 2366, 'display': 2367, 'displays': 2368, 'dissappeared': 2369, 'dissipating': 2370, 'distance': 2371, 'distant': 2372, 'distracted': 2373, 'distressing': 2374, 'distribution': 2375, 'distrubed': 2376, 'disturbing': 2377, 'disvirgined': 2378, 'ditching': 2379, 'diva': 2380, 'divinediscontent': 2381, 'diyflowers': 2382, 'diz': 2383, 'dj': 2384, 'djderek': 2385, 'djset': 2386, 'djstruthmate': 2387, 'dkt': 2388, 'dm': 2389, 'dmed': 2390, 'dmme': 2391, 'dms': 2392, \"dn't\": 2393, 'dnt': 2394, 'do': 2395, 'doable': 2396, 'dobar': 2397, 'doc': 2398, 'docopenhagen': 2399, 'doctor': 2400, 'doctored': 2401, 'doctors': 2402, 'documentary': 2403, 'dodged': 2404, \"doedn't\": 2405, 'does': 2406, 'dog': 2407, 'dogs': 2408, 'doh': 2409, \"doido's\": 2410, 'doin': 2411, 'doing': 2412, 'doli': 2413, 'dollar': 2414, 'dolphins': 2415, 'dom': 2416, 'domestic': 2417, 'domesticviolence': 2418, 'dominion': 2419, 'dominoes': 2420, 'donate': 2421, 'donating': 2422, 'donation': 2423, 'done': 2424, 'donetsk': 2425, 'dong': 2426, 'donghyuk': 2427, 'dongsaeng': 2428, 'dongwoo': 2429, \"dongwoo's\": 2430, 'donington': 2431, 'donna': 2432, 'donno': 2433, 'donut': 2434, 'donutsss': 2435, 'doodle': 2436, 'doom': 2437, 'doomed': 2438, 'doomsday': 2439, 'door': 2440, 'doors': 2441, 'dope': 2442, 'dorm': 2443, 'dormmates': 2444, 'dorset': 2445, 'dosa': 2446, 'dosent': 2447, 'doses': 2448, 'dosto': 2449, \"dostoevsky's\": 2450, 'dota': 2451, 'dots': 2452, 'double': 2453, 'doubt': 2454, 'doug': 2455, 'dough': 2456, 'doushite': 2457, 'dovey': 2458, 'down': 2459, 'download': 2460, 'downloaded': 2461, 'downloading': 2462, 'downstairs': 2463, 'dozen': 2464, 'dp': 2465, 'dr': 2466, 'drag': 2467, 'dragging': 2468, 'dragon': 2469, 'drain': 2470, 'drainage': 2471, 'drained': 2472, 'draking': 2473, 'drama': 2474, 'drank': 2475, 'draw': 2476, 'drawing': 2477, 'drawings': 2478, 'dreaded': 2479, 'dream': 2480, 'dreamer': 2481, 'dreamily': 2482, 'dreams': 2483, 'dreamteam': 2484, 'dreary': 2485, 'dress': 2486, 'dresscode': 2487, 'dresses': 2488, 'drew': 2489, 'dri': 2490, 'dried': 2491, 'drifting': 2492, 'drink': 2493, 'drinking': 2494, 'drinks': 2495, 'drinkt': 2496, 'drive': 2497, 'driver': 2498, 'drivers': 2499, 'drives': 2500, 'driving': 2501, 'drone': 2502, 'drop': 2503, 'dropped': 2504, 'drought-linked': 2505, 'drove': 2506, 'drown': 2507, 'drowned': 2508, 'drugs': 2509, 'drunk': 2510, 'dry': 2511, 'dual': 2512, 'dub': 2513, 'dubai': 2514, 'dublin': 2515, 'duck': 2516, 'ducks': 2517, 'ducktails': 2518, 'dudaftie': 2519, 'dude': 2520, 'dudeeeeeee': 2521, 'dudes': 2522, 'dudettes': 2523, 'due': 2524, 'duh': 2525, 'duke': 2526, 'dull': 2527, 'dum': 2528, 'dumbest': 2529, 'dumont': 2530, 'dump': 2531, 'dun': 2532, 'dunedin': 2533, 'dunkin': 2534, 'dunno': 2535, 'dunt': 2536, 'dunwan': 2537, 'duo': 2538, 'duper': 2539, 'during': 2540, 'durood': 2541, 'dus': 2542, 'dutch': 2543, 'duty': 2544, 'dv': 2545, 'dw': 2546, 'dyed': 2547, 'dying': 2548, 'dylan': 2549, 'dz': 2550, 'e': 2551, 'eagerly': 2552, 'ear': 2553, 'earl': 2554, 'earlier': 2555, 'earliest': 2556, 'earlobes': 2557, 'early': 2558, 'earn': 2559, 'earrings': 2560, 'ears': 2561, 'earth': 2562, 'earthlings': 2563, 'ease': 2564, 'easier': 2565, 'easily': 2566, 'easy': 2567, 'eat': 2568, 'eating': 2569, 'eatmeat': 2570, 'ebay': 2571, 'ebony': 2572, 'ebook': 2573, 'economy': 2574, 'eczema': 2575, 'ed': 2576, 'edel': 2577, 'edgar': 2578, 'edit': 2579, 'editied': 2580, 'editing': 2581, 'edition': 2582, 'editor': 2583, 'edm': 2584, 'edomnt': 2585, 'edsa': 2586, 'educampakl': 2587, 'education': 2588, 'edward': 2589, 'edwards': 2590, 'edwin': 2591, 'ee': 2592, 'eeeep': 2593, 'eek': 2594, 'effect': 2595, 'effective': 2596, 'effects': 2597, 'effin': 2598, 'effing': 2599, 'effort': 2600, 'efforts': 2601, 'egg': 2602, 'eggs': 2603, 'ego': 2604, 'egypt': 2605, 'eh': 2606, 'ehdar': 2607, 'ehh': 2608, 'ehm': 2609, 'ehn': 2610, 'eid': 2611, 'eidwithgrofers': 2612, 'eighteen': 2613, 'eintlik': 2614, 'eish': 2615, 'either': 2616, 'ejayster': 2617, 'ek': 2618, 'ekk': 2619, 'eksperimencinta': 2620, 'ekta': 2621, 'el': 2622, 'elaborate': 2623, 'elah': 2624, 'elbow': 2625, 'elbows': 2626, 'eldest': 2627, 'elected': 2628, 'election': 2629, 'elections': 2630, 'elephants': 2631, 'elf': 2632, 'elfindelmundo': 2633, 'elgato': 2634, 'elgin': 2635, 'elhaida': 2636, 'eliminated': 2637, 'elisse': 2638, 'elite': 2639, 'elizabetholsen': 2640, 'ellen': 2641, 'ellie': 2642, 'ells': 2643, 'elmhurst': 2644, 'elmoprinssi': 2645, 'elsa': 2646, 'else': 2647, \"else's\": 2648, 'elsewhere': 2649, 'elvena': 2650, 'elw': 2651, 'email': 2652, 'emails': 2653, 'embarrassing': 2654, 'embracing': 2655, 'emc': 2656, 'emeged': 2657, 'emesh': 2658, 'emily': 2659, \"emily's\": 2660, 'emirates': 2661, 'emm': 2662, 'emma': 2663, 'emo': 2664, 'emoji': 2665, 'emon': 2666, 'emotion': 2667, 'emotional': 2668, 'emotionally': 2669, 'emotions': 2670, 'emotive': 2671, 'emphasis': 2672, 'employer': 2673, 'employers': 2674, 'empowered': 2675, 'emptier': 2676, 'empty': 2677, 'ems': 2678, 'emt': 2679, 'emta': 2680, 'emu': 2681, 'emulation': 2682, 'emyu': 2683, 'en': 2684, 'enable': 2685, 'enabled': 2686, 'encanta': 2687, 'encompasses': 2688, 'encore': 2689, 'encourage': 2690, 'encouraged': 2691, 'end': 2692, 'endeavour': 2693, 'ended': 2694, 'ending': 2695, 'endlessly': 2696, 'endowments': 2697, 'ends': 2698, 'enemies': 2699, 'energy': 2700, 'eng': 2701, 'engaged': 2702, 'engine': 2703, 'england': 2704, 'english': 2705, 'engrossed': 2706, 'enix': 2707, 'enji': 2708, 'enjoy': 2709, 'enjoyed': 2710, 'enjoying': 2711, 'enough': 2712, 'enroll': 2713, 'ensoi': 2714, 'ensure': 2715, 'enter': 2716, 'entered': 2717, 'entering': 2718, 'enterprison': 2719, 'entertain': 2720, 'entire': 2721, 'entlead': 2722, 'entlerbountly': 2723, 'entp': 2724, 'entrepreneurship': 2725, 'entries': 2726, 'entry': 2727, 'envious': 2728, 'environment': 2729, 'eon': 2730, 'eonni': 2731, 'eonnie': 2732, 'ep': 2733, 'epic': 2734, 'epiphany': 2735, 'episode': 2736, 'episodes': 2737, 'eps': 2738, 'equal': 2739, 'equalityact': 2740, 'equally': 2741, 'eric': 2742, 'erica': 2743, 'ericavan': 2744, 'eris': 2745, 'eritation': 2746, 'erm': 2747, 'error': 2748, 'errors': 2749, 'ervin': 2750, 'es': 2751, 'escape': 2752, 'esnho': 2753, 'esp': 2754, 'especially': 2755, 'essentially': 2756, 'est': 2757, 'estate': 2758, 'esteem': 2759, 'estimated': 2760, 'etc': 2761, 'eternity': 2762, 'etid': 2763, 'etienne': 2764, 'etl': 2765, 'etsy': 2766, 'eugh': 2767, 'eunhae': 2768, 'eunji': 2769, 'europe': 2770, 'european': 2771, 'euuuwwww': 2772, 'evan': 2773, 'eve': 2774, 'evelineconrade': 2775, 'even': 2776, 'evening': 2777, 'event': 2778, 'events': 2779, 'eventually': 2780, 'ever': 2781, 'everday': 2782, 'everette': 2783, 'everlasting': 2784, 'everone': 2785, 'every': 2786, 'everybody': 2787, 'everyday': 2788, 'everyone': 2789, 'everything': 2790, \"everything's\": 2791, 'everytime': 2792, 'everywhere': 2793, 'evet': 2794, 'evil': 2795, 'evry': 2796, 'ew': 2797, 'ewok': 2798, 'ex': 2799, 'ex-twelebs': 2800, 'exactly': 2801, 'exam': 2802, 'example': 2803, 'exams': 2804, 'excellence': 2805, 'excellent': 2806, 'except': 2807, 'exception': 2808, 'excited': 2809, 'excitement': 2810, 'exciting': 2811, 'excl': 2812, 'excluded': 2813, 'exclusive': 2814, 'excuse': 2815, 'excuses': 2816, 'exe': 2817, 'exec': 2818, 'execution': 2819, 'exercise': 2820, 'exercising': 2821, 'exhausted': 2822, 'exhausting': 2823, 'exist': 2824, 'existed': 2825, 'exit': 2826, 'exited': 2827, 'exo': 2828, 'exp': 2829, 'expanding': 2830, 'expect': 2831, 'expectations': 2832, 'expected': 2833, 'expelled': 2834, 'expensive': 2835, 'experience': 2836, 'experienced': 2837, 'experiences': 2838, 'experiencing': 2839, 'experiment': 2840, 'expert': 2841, 'experts': 2842, 'experttradesmen': 2843, 'expire': 2844, 'expired': 2845, 'explain': 2846, 'explains': 2847, 'explanation': 2848, 'exploits': 2849, 'explorealberta': 2850, 'explorers': 2851, 'exploring': 2852, 'explosions': 2853, 'expo': 2854, 'exposure': 2855, 'expression': 2856, 'extensions': 2857, 'external': 2858, 'extra': 2859, 'extraordinary': 2860, 'extras': 2861, 'extravagant': 2862, 'extreme': 2863, 'extremely': 2864, 'ey': 2865, 'eye': 2866, \"eye's\": 2867, 'eyed': 2868, 'eyeing': 2869, 'eyelids': 2870, 'eyeliner': 2871, 'eyes': 2872, 'eyesight': 2873, 'eyesmiles': 2874, 'eyyah': 2875, 'f': 2876, \"f'ing\": 2877, 'faaaaaabulous': 2878, 'fab': 2879, 'fabfriday': 2880, 'fabian': 2881, 'fabina': 2882, 'fabulous': 2883, 'face': 2884, 'facebook': 2885, 'faceit': 2886, 'faces': 2887, 'facetime': 2888, 'facil': 2889, 'fack': 2890, 'fact': 2891, 'factory': 2892, 'facts': 2893, 'fade': 2894, 'faded': 2895, 'faggot': 2896, 'fah': 2897, 'fahad': 2898, 'fahrenheit': 2899, 'fahrinahmad': 2900, 'fail': 2901, 'failban': 2902, 'failed': 2903, 'fails': 2904, 'fainted': 2905, 'fair': 2906, 'faith': 2907, 'faithful': 2908, 'fake': 2909, 'falcos': 2910, 'falklands': 2911, 'fall': 2912, 'fallen': 2913, 'falling': 2914, 'fallout': 2915, 'falls': 2916, 'false': 2917, 'falsettos': 2918, 'fam': 2919, 'familiar': 2920, 'families': 2921, 'family': 2922, 'familyhome': 2923, 'famished': 2924, 'famous': 2925, 'fams': 2926, 'fan': 2927, 'fanart': 2928, 'fanboy': 2929, 'fancafe': 2930, 'fancy': 2931, 'fandango': 2932, 'fandom': 2933, 'fandoms': 2934, 'fangirl': 2935, 'fangirled': 2936, 'fank': 2937, 'fans': 2938, 'fansign': 2939, 'fanta': 2940, 'fantasies': 2941, 'fantastic': 2942, 'fantasy': 2943, 'fany': 2944, 'far': 2945, 'farbridges': 2946, 'farm': 2947, 'farmiga': 2948, 'fas': 2949, 'fasgadah': 2950, 'fashion': 2951, 'fashionfriday': 2952, 'fast': 2953, 'faster': 2954, 'fat': 2955, 'fatal': 2956, 'father': 2957, 'fatiguing': 2958, \"fatma'm\": 2959, 'fault': 2960, 'fav': 2961, 'fave': 2962, 'faves': 2963, 'favor': 2964, 'favorable': 2965, 'favorite': 2966, 'favorites': 2967, 'favour': 2968, 'favourite': 2969, 'favourites': 2970, 'favouriting': 2971, 'fb': 2972, 'fback': 2973, 'fbc': 2974, 'fc': 2975, 'fck': 2976, 'fckin': 2977, 'fcking': 2978, 'fe': 2979, 'fea': 2980, 'fear': 2981, 'feature': 2982, 'features': 2983, 'featuring': 2984, 'feb': 2985, 'febs': 2986, 'federer': 2987, 'feed': 2988, 'feedback': 2989, 'feeding': 2990, 'feel': 2991, 'feelgoodfriday': 2992, 'feeling': 2993, 'feelinggood': 2994, 'feelings': 2995, 'feels': 2996, 'feelslikeanidiot': 2997, 'feet': 2998, 'feetblog': 2999, 'feets': 3000, 'fela': 3001, 'felicity': 3002, 'fell': 3003, 'fellow': 3004, 'felt': 3005, 'felton': 3006, 'female': 3007, 'feminism': 3008, 'feminists': 3009, 'fenestoscope': 3010, 'fenja': 3011, 'fennell': 3012, 'ferdous': 3013, 'fern': 3014, 'ferry': 3015, 'fersuree': 3016, 'fest': 3017, 'festival': 3018, 'fever': 3019, 'feverfew': 3020, 'feytyaz': 3021, 'ff': 3022, 'ffback': 3023, 'ffs': 3024, 'ffvi': 3025, 'fics': 3026, 'fiction': 3027, 'field': 3028, 'fieldtrips': 3029, 'fiend': 3030, 'fiesta': 3031, 'fifa': 3032, 'fifth': 3033, 'fighting': 3034, 'fightingmcirene': 3035, 'fightstickfriday': 3036, 'figure': 3037, 'figured': 3038, 'figures': 3039, 'figuring': 3040, 'filbarbarian': 3041, 'file': 3042, 'files': 3043, 'fill': 3044, 'filled': 3045, 'film': 3046, 'filming': 3047, 'films': 3048, 'final': 3049, 'finale': 3050, 'finalists': 3051, 'finally': 3052, 'finals': 3053, 'financially': 3054, 'find': 3055, 'findavip': 3056, 'finddjderek': 3057, 'finding': 3058, 'findyourfit': 3059, 'fine': 3060, 'fineandyu': 3061, 'finger': 3062, 'fingers': 3063, 'fingers-crossed': 3064, 'finish': 3065, 'finished': 3066, 'finishing': 3067, 'finland': 3068, 'finnair': 3069, \"finnick's\": 3070, 'finnigan': 3071, 'fire': 3072, 'fireball': 3073, 'firing': 3074, 'firm': 3075, 'firmansyahbl': 3076, 'first': 3077, 'firsteurope': 3078, 'fish': 3079, 'fishing': 3080, 'fishy': 3081, 'fit': 3082, 'fitnes': 3083, 'fits': 3084, 'fittest': 3085, 'five': 3086, 'fiver': 3087, 'fix': 3088, 'fixed': 3089, 'fixedgearfrenzy': 3090, 'fk': 3091, 'flame': 3092, 'flapjacks': 3093, 'flared': 3094, 'flash': 3095, 'flat': 3096, 'flats': 3097, 'flattery': 3098, 'flaviana': 3099, 'flavour': 3100, 'flawed': 3101, 'flawless': 3102, 'fleekile': 3103, 'flesh': 3104, 'fleur': 3105, 'flew': 3106, 'flickr': 3107, 'flies': 3108, 'flight': 3109, 'flint': 3110, 'flip': 3111, 'flipkartfashionfriday': 3112, 'flippin': 3113, 'flipping': 3114, 'float': 3115, 'floating': 3116, 'flockstars': 3117, 'floofs': 3118, 'floor': 3119, 'flops': 3120, 'flow': 3121, 'flowers': 3122, 'flowing': 3123, 'flows': 3124, 'fls': 3125, 'fluent': 3126, 'fluffy': 3127, 'flume': 3128, 'fly': 3129, 'flyhigh': 3130, 'flying': 3131, 'fm': 3132, 'fml': 3133, 'fmt': 3134, 'fna': 3135, 'fnaf': 3136, 'foam': 3137, 'foampit': 3138, 'focus': 3139, 'foh': 3140, 'foiegras': 3141, 'folder': 3142, 'folk': 3143, 'folks': 3144, 'follbaaack': 3145, 'follback': 3146, 'follow': 3147, 'followback': 3148, 'followed': 3149, 'follower': 3150, 'followers': 3151, 'followfriday': 3152, 'following': 3153, 'followingg': 3154, 'follows': 3155, 'folow': 3156, 'fond': 3157, 'font': 3158, 'food': 3159, 'foodie': 3160, 'foodiefridays': 3161, 'foods': 3162, 'foof': 3163, 'fool': 3164, 'foood': 3165, 'foot': 3166, 'football': 3167, 'footy': 3168, 'for': 3169, 'force': 3170, 'forced': 3171, 'foreals': 3172, 'forecast': 3173, 'forehead': 3174, 'forest': 3175, 'forests': 3176, 'forever': 3177, 'foreveralone': 3178, 'forget': 3179, 'forgive': 3180, 'forgiven': 3181, 'forgot': 3182, 'forgotten': 3183, 'forklift': 3184, 'form': 3185, 'format': 3186, 'former': 3187, 'forneret': 3188, 'forrit': 3189, 'fortune': 3190, 'fortunes': 3191, 'forward': 3192, 'foto': 3193, 'fotoset': 3194, 'fought': 3195, 'found': 3196, 'foundation': 3197, 'founder': 3198, 'foundry': 3199, 'four': 3200, 'fourfiveseconds': 3201, 'fowles': 3202, 'fox': 3203, 'fr': 3204, 'fra': 3205, 'fraand': 3206, 'fragile': 3207, 'fragments': 3208, 'frail': 3209, 'france': 3210, 'frank': 3211, 'fraud': 3212, 'freak': 3213, 'freaking': 3214, \"freddy's\": 3215, 'free': 3216, 'freebiefriday': 3217, 'freed': 3218, 'freedom': 3219, 'frees': 3220, 'freezing': 3221, 'french': 3222, 'frequentflyer': 3223, 'frequently': 3224, 'fresh': 3225, 'fresherstofinals': 3226, 'freshly': 3227, 'freshness': 3228, 'freya': 3229, 'fri': 3230, 'fricken': 3231, 'friday': 3232, \"friday's\": 3233, 'fridaydownpour': 3234, 'fridayfeeling': 3235, 'fridayfreebie': 3236, 'fridayfun': 3237, 'fridays': 3238, 'fridge': 3239, 'fried': 3240, 'friend': 3241, \"friend's\": 3242, 'friendly': 3243, 'friends': 3244, 'friendship': 3245, 'friendzone': 3246, 'fries': 3247, 'friex': 3248, 'frightening': 3249, 'frightlings': 3250, 'friooooo': 3251, 'friskyfriday': 3252, 'friyay': 3253, 'frnds': 3254, 'frog': 3255, 'frogs': 3256, 'from': 3257, 'fron': 3258, 'front': 3259, 'frou': 3260, 'froze': 3261, 'frudging': 3262, 'fruit': 3263, 'fruits': 3264, 'fruity': 3265, 'frustrated': 3266, 'frustration': 3267, 'fry': 3268, 'fss': 3269, 'ft': 3270, 'ftw': 3271, 'fucjikg': 3272, 'fuck': 3273, 'fuckboys': 3274, 'fucked': 3275, 'fucker': 3276, 'fuckin': 3277, 'fucking': 3278, 'fuckkk': 3279, 'fudge': 3280, 'fugiwara': 3281, 'fugly': 3282, 'fuk': 3283, 'fulfil': 3284, 'fulfill': 3285, 'full': 3286, 'fuller': 3287, 'fully': 3288, 'fulton': 3289, 'fun': 3290, 'funcionar': 3291, 'functions': 3292, 'fundamentalist': 3293, 'funeral': 3294, 'funk': 3295, 'funny': 3296, 'fuq': 3297, 'fur-trimmed': 3298, 'furbaby': 3299, 'furry': 3300, 'fuse': 3301, 'future': 3302, 'futurereleases': 3303, 'fuuuuuck': 3304, 'fuuuuuuuuuck': 3305, 'fuzzy': 3306, 'fwm': 3307, 'fxhelp': 3308, 'fyi': 3309, 'fyn': 3310, 'g': 3311, \"g's\": 3312, 'ga': 3313, 'gaaawd': 3314, 'gaga': 3315, 'gagal': 3316, 'gahd': 3317, 'gahhh': 3318, 'gail': 3319, 'gain': 3320, 'gained': 3321, 'gal': 3322, 'galat': 3323, 'galing': 3324, 'gallon': 3325, 'gals': 3326, 'game': 3327, 'gamedev': 3328, 'gamejam': 3329, 'gameplays': 3330, 'gamer': 3331, 'games': 3332, 'gamestomp': 3333, 'gaming': 3334, 'ganas': 3335, 'ganbarimasu': 3336, 'ganda': 3337, 'gandhi': 3338, 'gang': 3339, 'gangster': 3340, 'ganna': 3341, 'gans': 3342, 'ganteng': 3343, 'gap': 3344, 'garage': 3345, 'garbi': 3346, 'garden': 3347, 'gardening': 3348, 'gardens': 3349, 'garlic': 3350, 'garret': 3351, 'gary': 3352, 'gas': 3353, 'gassed': 3354, 'gastronomy': 3355, 'gathering': 3356, 'gatorade': 3357, 'gave': 3358, 'gawd': 3359, 'gay': 3360, 'gaya': 3361, 'gayi': 3362, 'gayle': 3363, 'gaza': 3364, 'gb': 3365, 'gc': 3366, 'gd': 3367, 'gears': 3368, 'gee': 3369, 'geekiest': 3370, 'geeks': 3371, 'geer': 3372, 'geez': 3373, 'gegu': 3374, 'gel': 3375, 'gelen': 3376, 'gem': 3377, 'gemma': 3378, 'gems': 3379, 'gen': 3380, 'gendut': 3381, 'general': 3382, 'generally': 3383, 'genes': 3384, 'genesis': 3385, 'geneva': 3386, 'genial': 3387, 'genre': 3388, 'gensan': 3389, 'gentlemen': 3390, 'gents': 3391, 'genuine': 3392, 'genuinely': 3393, 'geoff': 3394, 'george': 3395, 'georgesampson': 3396, 'georgia': 3397, 'georgie': 3398, 'german': 3399, 'germany': 3400, 'gern': 3401, 'geskenya': 3402, 'gesture': 3403, 'get': 3404, 'getaway': 3405, 'gets': 3406, 'getthescoop': 3407, 'gettin': 3408, 'getting': 3409, 'getwellsoonamber': 3410, 'gf': 3411, 'gfriend': 3412, 'gg': 3413, 'gh': 3414, 'ghantay': 3415, 'ghost': 3416, 'gi': 3417, 'gi-guilty': 3418, 'giachietittiwedding': 3419, 'giant': 3420, 'gibanica': 3421, 'gibran': 3422, 'giddy': 3423, 'gidi': 3424, 'gifs': 3425, 'gift': 3426, 'gifted': 3427, 'gifts': 3428, 'gig': 3429, 'giggles': 3430, 'gigi': 3431, 'gigs': 3432, 'gilet': 3433, 'gin': 3434, 'ginge': 3435, 'ginger': 3436, 'gintama': 3437, 'gion': 3438, 'giriboy': 3439, 'girl': 3440, 'girlfriend': 3441, 'girlfriends': 3442, 'girlfriendsmya': 3443, 'girls': 3444, 'girly': 3445, 'gishwhes': 3446, 'give': 3447, 'giveaway': 3448, 'giveaways': 3449, 'giveitup': 3450, 'given': 3451, 'gives': 3452, 'giving': 3453, 'gl': 3454, 'gla': 3455, 'glacier': 3456, 'glad': 3457, 'gladly': 3458, 'glares': 3459, 'glasgow': 3460, 'glass': 3461, 'glasses': 3462, 'glaze': 3463, 'gleam': 3464, 'glenn': 3465, 'glitch': 3466, 'glo': 3467, 'globe': 3468, 'glorify': 3469, 'gloucestershire': 3470, 'glow': 3471, 'glowing': 3472, 'glue': 3473, 'gn': 3474, 'go': 3475, 'goa': 3476, 'goal': 3477, 'goals': 3478, 'goalscorer': 3479, 'goat': 3480, 'goats': 3481, 'gobigorgohome': 3482, 'god': 3483, \"god's\": 3484, 'godbless': 3485, 'goddamn': 3486, 'goddess': 3487, 'godonna': 3488, 'goes': 3489, 'gohf': 3490, 'goictived': 3491, 'goin': 3492, 'going': 3493, 'goingsupply': 3494, 'gol': 3495, 'gold': 3496, 'goldbugs': 3497, 'golden': 3498, 'golf': 3499, 'gomen': 3500, 'gomez': 3501, 'gon': 3502, 'gondooo': 3503, 'gone': 3504, 'good': 3505, 'goodafternoon': 3506, 'gooday': 3507, 'goodbye': 3508, 'goodies': 3509, 'goodluck': 3510, 'goodmorning': 3511, 'goodmusic': 3512, 'goodness': 3513, 'goodnight': 3514, 'goods': 3515, 'goodtime': 3516, 'goodwill': 3517, 'goodwynsgoodies': 3518, 'goofingaround': 3519, 'google': 3520, 'googles': 3521, 'gooo': 3522, 'goood': 3523, 'gooood': 3524, 'gooooo': 3525, 'goosnight': 3526, 'gorefiend': 3527, 'gorgeous': 3528, 'gosh': 3529, 'gossip': 3530, 'got': 3531, \"got's\": 3532, 'gotcha': 3533, 'gotham': 3534, 'gotten': 3535, 'gottolovebanks': 3536, 'government': 3537, 'goys': 3538, 'gpctsojkw': 3539, 'gr': 3540, 'grab': 3541, 'grabe': 3542, 'grace': 3543, 'graces': 3544, 'gracious': 3545, 'grade': 3546, 'grades': 3547, 'graduate': 3548, 'graduated': 3549, 'grams': 3550, 'gran': 3551, 'grand': 3552, 'grande': 3553, 'grandma': 3554, 'grandpa': 3555, \"grandpa's\": 3556, 'granny': 3557, 'grans': 3558, 'graphic': 3559, 'graphicdesign': 3560, 'graphics': 3561, 'grasp': 3562, 'grassy': 3563, 'grated': 3564, 'grateful': 3565, 'gratefulness': 3566, 'grattis': 3567, 'gray': 3568, 'grazing': 3569, 'great': 3570, 'greater': 3571, 'greatest': 3572, 'greatful': 3573, 'greatkenya': 3574, 'greatly': 3575, 'greece': 3576, 'greek': 3577, 'greekcrisis': 3578, 'greeks': 3579, 'green': 3580, 'greet': 3581, 'greeting': 3582, 'greetings': 3583, 'greg': 3584, 'grepe': 3585, 'grepein': 3586, 'greska': 3587, 'grew': 3588, 'grey': 3589, 'greyed': 3590, 'greymind': 3591, 'greys': 3592, 'greysonchance': 3593, \"grigson's\": 3594, 'grill': 3595, 'grim': 3596, 'grindea': 3597, 'grinding': 3598, 'grinds': 3599, 'groaning': 3600, 'grocery': 3601, 'grogol': 3602, 'gross': 3603, 'grotty': 3604, 'ground': 3605, 'grounded': 3606, 'group': 3607, 'groupie': 3608, 'groups': 3609, 'grow': 3610, 'growing': 3611, 'growling': 3612, 'grown': 3613, 'grs': 3614, 'grt': 3615, 'grumbling': 3616, 'grumpy': 3617, 'grunt': 3618, 'gryph': 3619, 'gta': 3620, 'gtg': 3621, 'gto': 3622, 'gua': 3623, 'gud': 3624, 'gudday': 3625, 'gue': 3626, 'guess': 3627, 'guessed': 3628, 'guest': 3629, 'guests': 3630, 'guide': 3631, 'guides': 3632, 'guilty': 3633, 'guinea': 3634, 'guinness': 3635, 'guise': 3636, 'guitar': 3637, 'gujarat': 3638, 'gulo': 3639, 'gum': 3640, 'gun': 3641, 'gunashekar': 3642, 'guncontrol': 3643, 'gundam': 3644, 'gunna': 3645, 'guns': 3646, 'gurgaon': 3647, 'gurl': 3648, 'gurly': 3649, 'gutted': 3650, 'guy': 3651, 'guys': 3652, 'guysss': 3653, 'guzel': 3654, 'gv': 3655, 'gwd': 3656, 'gwinett': 3657, 'gws': 3658, 'gwss': 3659, 'gyllenhaal': 3660, 'gym': 3661, 'gymnastics': 3662, 'gypsy': 3663, 'gyu': 3664, 'h': 3665, 'ha': 3666, 'ha-ha': 3667, 'haaa': 3668, 'haaretz': 3669, 'habe': 3670, 'habhab': 3671, 'habit': 3672, 'hacharatt': 3673, 'hack': 3674, 'hacked': 3675, 'had': 3676, 'hagergang': 3677, 'hah': 3678, 'haha': 3679, 'hahaah': 3680, 'hahah': 3681, 'hahaha': 3682, 'hahahaa': 3683, 'hahahaaah': 3684, 'hahahah': 3685, 'hahahaha': 3686, 'hahahahaha': 3687, 'hahahahahaah': 3688, 'hahahahahhaha': 3689, 'hahahaokay': 3690, 'hahahays': 3691, 'hahays': 3692, 'hai': 3693, 'haileyhelps': 3694, 'hain': 3695, 'hair': 3696, 'haired': 3697, 'hairpin': 3698, 'hairs': 3699, 'hairy': 3700, 'haiss': 3701, 'haix': 3702, 'haiz': 3703, 'haizzz': 3704, 'hajur': 3705, 'hakhakhak': 3706, 'halaaaang': 3707, 'hale': 3708, 'halesowen': 3709, 'half': 3710, 'half-remembered': 3711, 'halfway': 3712, 'hall': 3713, 'halla': 3714, 'hallo': 3715, 'hallows': 3716, 'halls': 3717, 'hallyu': 3718, 'halsey': 3719, 'hammies': 3720, 'hamsters': 3721, 'hamstring': 3722, 'hanabutle': 3723, 'hanbin': 3724, 'hand': 3725, 'hand-lettering': 3726, 'handed': 3727, 'handle': 3728, 'handles': 3729, 'handover': 3730, 'hands': 3731, 'handshome': 3732, 'handsome': 3733, 'hang': 3734, 'hang-copying': 3735, 'hangin': 3736, 'hanging': 3737, 'hangout': 3738, 'hannibal': 3739, 'happen': 3740, 'happend': 3741, 'happened': 3742, 'happenend': 3743, 'happening': 3744, 'happens': 3745, 'happier': 3746, 'happiest': 3747, 'happily': 3748, 'happiness': 3749, 'happinessss': 3750, 'happpy': 3751, 'happy': 3752, 'happyalien': 3753, 'happybirthday': 3754, 'happybirthdayemilybett': 3755, 'happycustomers': 3756, 'happyfriday': 3757, 'happys': 3758, 'happyweekend': 3759, 'happyyyyyy': 3760, 'har': 3761, 'harana': 3762, 'harap': 3763, 'hard': 3764, 'hard-wired': 3765, 'hardcore': 3766, 'harder': 3767, 'hardest': 3768, 'hardheaded': 3769, 'hardly': 3770, 'harlo': 3771, 'harmony': 3772, 'harmos': 3773, 'harriet': 3774, 'harry': 3775, \"harry's\": 3776, 'harryxhood': 3777, 'harsh': 3778, 'harumph': 3779, 'harvest': 3780, 'has': 3781, 'hasb': 3782, 'hash': 3783, 'hashbrowns': 3784, 'hashtag': 3785, 'hashtags': 3786, 'hastily': 3787, 'hasya': 3788, 'hate': 3789, 'hated': 3790, 'hateeeee': 3791, 'haters': 3792, 'hates': 3793, 'hatessuce': 3794, 'hatigii': 3795, 'hatred': 3796, 'hatreds': 3797, 'hats': 3798, 'hauc': 3799, 'hav': 3800, 'have': 3801, 'haveagoodday': 3802, 'having': 3803, 'havuuuuuloveyou': 3804, 'haw': 3805, 'hawako': 3806, 'hawk': 3807, 'hay': 3808, 'hayley': 3809, 'hayli': 3810, 'hays': 3811, 'hayst': 3812, 'hazel': 3813, 'hbd': 3814, 'hbdme': 3815, 'hd': 3816, 'he': 3817, 'head': 3818, 'headache': 3819, 'headack': 3820, 'header': 3821, 'heading': 3822, 'headline': 3823, 'headlining': 3824, 'headphones': 3825, 'heads': 3826, 'healed': 3827, 'health': 3828, 'healthier': 3829, 'healthy': 3830, 'healthylifestyle': 3831, 'heaps': 3832, 'hear': 3833, 'heard': 3834, 'hearess': 3835, 'hearing': 3836, 'heart': 3837, 'heart-breaking': 3838, 'heartache': 3839, 'heartbeat': 3840, 'heartbreaking': 3841, 'hearts': 3842, 'heat': 3843, 'heated': 3844, 'heath': 3845, 'heathrow': 3846, 'heating': 3847, 'heatwave': 3848, 'heaven': 3849, 'heavies': 3850, 'heavy': 3851, 'heck': 3852, 'hediye': 3853, 'hee': 3854, 'heechul': 3855, 'heed': 3856, 'heeeeyyy': 3857, 'heel': 3858, 'heels': 3859, 'hehe': 3860, 'hehehe': 3861, 'hehehehe': 3862, 'height': 3863, 'heiya': 3864, 'heiyo': 3865, 'helen': 3866, 'helium': 3867, 'hell': 3868, 'hella': 3869, 'hellish': 3870, 'hello': 3871, 'hellooooooooo': 3872, 'helmy': 3873, 'help': 3874, 'helped': 3875, 'helpful': 3876, 'helping': 3877, 'helpinggroupdms': 3878, 'helppp': 3879, 'helpppp': 3880, 'helps': 3881, 'helsinki': 3882, 'hen': 3883, 'hence': 3884, 'henessydiaries': 3885, 'her': 3886, 'herbs': 3887, 'here': 3888, 'hernia': 3889, 'hero': 3890, 'herself': 3891, 'hes': 3892, 'heswifi': 3893, 'hey': 3894, 'heyy': 3895, 'heyyyyy': 3896, 'hhahahahaha': 3897, 'hi': 3898, 'hibbs': 3899, 'hickey': 3900, 'hidden': 3901, 'hide': 3902, 'hiding': 3903, 'hierro': 3904, 'high': 3905, 'highest': 3906, 'highlights': 3907, 'highschooldays': 3908, 'highvalue': 3909, 'hih': 3910, 'hihihi': 3911, 'hii': 3912, 'hiii': 3913, 'hijabmart': 3914, 'hiking': 3915, 'hilarious': 3916, 'hill': 3917, 'hillary': 3918, 'hills': 3919, 'hilly': 3920, 'him': 3921, 'himachal': 3922, 'himmat': 3923, 'himseek': 3924, 'hinala': 3925, 'hinanap': 3926, 'hinde': 3927, 'hindi': 3928, 'hiondsheings': 3929, 'hippo': 3930, 'hipster': 3931, 'hiring': 3932, 'his': 3933, 'hisaab': 3934, 'hissing': 3935, 'history': 3936, 'hit': 3937, 'hitler': 3938, 'hitmarker': 3939, 'hits': 3940, 'hitting': 3941, 'hive': 3942, 'hiya': 3943, 'hk': 3944, 'hmm': 3945, 'hmmm': 3946, 'hmmmm': 3947, 'hmph': 3948, 'hmu': 3949, 'hnnnnnnn': 3950, 'hobby': 3951, 'hocking': 3952, 'hogan': 3953, 'hogo': 3954, 'hokies': 3955, 'hola': 3956, 'holborn': 3957, 'hold': 3958, 'holder': 3959, 'holding': 3960, 'holds': 3961, 'holiday': 3962, 'holidays': 3963, 'holistic': 3964, 'hollywood': 3965, 'hologram': 3966, 'hols': 3967, 'holy': 3968, 'home': 3969, 'home-based': 3970, 'homebound': 3971, 'homed': 3972, 'homegirl': 3973, 'homes': 3974, 'homework': 3975, 'homey': 3976, 'homie': 3977, 'homies': 3978, 'homo': 3979, 'homosexual': 3980, 'honest': 3981, 'honestly': 3982, 'honesty': 3983, 'honey': 3984, 'hong': 3985, 'honma': 3986, 'honored': 3987, 'honoured': 3988, 'hood': 3989, 'hoodie': 3990, 'hooh': 3991, 'hook': 3992, 'hop': 3993, 'hope': 3994, 'hopeful': 3995, 'hopefully': 3996, 'hopehousekids': 3997, 'hopeless': 3998, 'hopes': 3999, 'hopeyou': 4000, 'hopia': 4001, 'hoping': 4002, 'hopkins': 4003, 'hopper': 4004, 'horny': 4005, 'hornykik': 4006, 'horrendously': 4007, 'horrible': 4008, 'horribly': 4009, 'horrific': 4010, 'horse': 4011, 'horseracing': 4012, 'horseracingtips': 4013, 'horses': 4014, \"horton's\": 4015, 'hospital': 4016, 'host': 4017, 'hosted': 4018, 'hot': 4019, 'hotairballoon': 4020, 'hotbed': 4021, 'hotee-my': 4022, 'hotel': 4023, 'hotels': 4024, 'hotfmnoaidilforariana': 4025, 'hotgirls': 4026, 'hotmusicdelocos': 4027, 'hotnsexy': 4028, 'hotscratch': 4029, 'hotspotwithdanris': 4030, 'hottie': 4031, 'hotwheels': 4032, 'hounds': 4033, 'hour': 4034, 'hours': 4035, 'house': 4036, 'housemates': 4037, 'housemusic': 4038, 'housing': 4039, 'houston': 4040, 'how': 4041, 'howdo': 4042, 'however': 4043, 'hoxton': 4044, 'hoya': 4045, 'hozier': 4046, 'hp': 4047, 'hpc': 4048, 'hq': 4049, 'hr': 4050, 'hrdstellobama': 4051, 'hrryok': 4052, 'hrs': 4053, 'hschool': 4054, 'hse': 4055, 'hsm': 4056, 'hsould': 4057, 'hsr': 4058, 'ht': 4059, 'htaccess': 4060, 'html': 4061, 'hua': 4062, 'hub': 4063, 'hubba': 4064, 'hubby': 4065, 'hueeeee': 4066, 'huehue': 4067, 'hug': 4068, 'huge': 4069, 'hugged': 4070, 'hugging': 4071, 'hugh': 4072, 'hugs': 4073, 'huh': 4074, 'huhu': 4075, 'huhuhu': 4076, 'huhuhuhu': 4077, 'huhuhuhuhu': 4078, 'huhuu': 4079, 'hulk': 4080, 'hulkamania': 4081, 'human': 4082, 'humanist': 4083, 'humans': 4084, 'humidity': 4085, 'humphrey': 4086, 'hun': 4087, 'hunde': 4088, 'hundred': 4089, 'hunger': 4090, 'hungrrrryyy': 4091, 'hungry': 4092, 'huni': 4093, 'hunny': 4094, 'hunt': 4095, 'hurray': 4096, 'hurry': 4097, 'hurt': 4098, 'hurting': 4099, 'hurts': 4100, 'hush': 4101, 'hushed': 4102, 'hushedcallwithfraydoe': 4103, 'hushedpinwithsammy': 4104, 'huskies': 4105, 'huvvft': 4106, 'huxley': 4107, 'hwaiting': 4108, 'hws': 4109, 'hwy': 4110, 'hxh': 4111, 'hygiene': 4112, 'hype': 4113, 'hyper': 4114, 'hyperbullies': 4115, 'hypercholesteloremia': 4116, 'hypocritical': 4117, 'hyung': 4118, 'hyungbot': 4119, 'hyungwon': 4120, 'hz': 4121, 'i': 4122, \"i'ts\": 4123, 'iam': 4124, 'iamamonster': 4125, 'iamca': 4126, 'ian': 4127, 'ic': 4128, 'ice': 4129, 'icecream': 4130, 'icecreammaster': 4131, 'iceland': 4132, 'icepack': 4133, 'icloud': 4134, 'icon': 4135, 'icons': 4136, 'icu': 4137, 'id': 4138, 'idaho': 4139, 'idea': 4140, 'ideal': 4141, 'ideas': 4142, 'idek': 4143, 'identity': 4144, 'idiot': 4145, 'idk': 4146, 'idol': 4147, 'idols': 4148, 'idr': 4149, 'ids': 4150, 'iero': 4151, 'if': 4152, 'ifc': 4153, 'ifeelyou': 4154, 'ifimeetanalien': 4155, 'iflix': 4156, 'ifsc': 4157, 'ig': 4158, 'igbo': 4159, 'igers': 4160, 'igersoftheday': 4161, 'ign': 4162, 'ignore': 4163, 'ignored': 4164, 'ignores': 4165, 'ihatesomepeople': 4166, 'ihhh': 4167, 'ihop': 4168, 'ii': 4169, 'iirc': 4170, 'ij': 4171, 'ik': 4172, 'ikea': 4173, 'ikr': 4174, 'ilhoon': 4175, 'ill': 4176, 'illa': 4177, 'illadvised': 4178, 'illness': 4179, 'illustration': 4180, 'iloveyou': 4181, 'iloveyouu': 4182, 'ily': 4183, 'ilysm': 4184, 'imac': 4185, 'image': 4186, 'imaginative': 4187, 'imagine': 4188, 'imaging': 4189, 'img': 4190, 'imintoher': 4191, 'imiss': 4192, 'imitatia': 4193, 'imitation': 4194, 'imma': 4195, 'immature': 4196, 'immigrant': 4197, 'immovable': 4198, 'immune': 4199, 'impact': 4200, 'impairs': 4201, 'impeccable': 4202, 'imperative': 4203, 'imperial': 4204, 'implies': 4205, 'import': 4206, 'important': 4207, 'impossible': 4208, 'impression': 4209, 'impressive': 4210, 'improvement': 4211, 'improving': 4212, 'imran': 4213, 'imsorry': 4214, 'imveryverysorry': 4215, 'imy': 4216, 'imysm': 4217, 'in': 4218, 'in-app': 4219, 'in-house': 4220, 'in-sensitiveness': 4221, 'in-shaa-allah': 4222, 'inaccessible': 4223, 'inaccuracies': 4224, 'inaccurate': 4225, 'inactive': 4226, 'inapropriate': 4227, 'inatall': 4228, 'inbox': 4229, 'inc': 4230, 'inca': 4231, 'incall': 4232, 'inch': 4233, 'inches': 4234, 'incident': 4235, 'incl': 4236, 'include': 4237, 'included': 4238, 'includes': 4239, 'including': 4240, 'incoming': 4241, 'incompleta': 4242, 'incomplete': 4243, 'inconsiderate': 4244, 'incorrect': 4245, 'incredible': 4246, 'incredibleindia': 4247, 'indeed': 4248, 'independent': 4249, 'india': 4250, 'indian': 4251, 'indiana': 4252, 'indiankulture': 4253, 'indicted': 4254, 'indie': 4255, 'indiemusic': 4256, 'indifference': 4257, 'indirecting': 4258, 'individual': 4259, 'individuals': 4260, 'indo': 4261, 'indonesia': 4262, 'indonesian': 4263, 'industry': 4264, 'ineedfeminismbecause': 4265, 'infection': 4266, 'infinite': 4267, \"infinite's\": 4268, 'infirmities': 4269, 'inflation': 4270, 'influenced': 4271, 'influencer': 4272, 'influencers': 4273, 'influential': 4274, 'info': 4275, 'infographic': 4276, 'inform': 4277, 'information': 4278, 'informed': 4279, 'infra': 4280, 'infrared': 4281, 'infrastructure': 4282, 'infront': 4283, 'inglewood': 4284, 'inhaler': 4285, 'init': 4286, 'inital': 4287, 'initial': 4288, 'initially': 4289, 'initiative': 4290, 'injure': 4291, 'injured': 4292, 'injury': 4293, 'injurys': 4294, 'injustice': 4295, 'ink': 4296, 'inner': 4297, 'innie': 4298, 'innocent': 4299, 'innovate': 4300, 'innumerable': 4301, 'inputs': 4302, 'inquisitor': 4303, 'insane': 4304, 'insecure': 4305, 'insecurities': 4306, 'insecurity': 4307, \"insha'allah\": 4308, 'inshallah': 4309, 'inside': 4310, 'insidious': 4311, 'insomnia': 4312, 'insonia': 4313, 'inspiration': 4314, 'inspire': 4315, 'inspired': 4316, 'inspirit': 4317, 'inspite': 4318, 'inspy': 4319, 'insta': 4320, 'instagood': 4321, 'instagram': 4322, 'install': 4323, 'installed': 4324, 'instamood': 4325, 'instant': 4326, 'instead': 4327, 'institution': 4328, 'instructions': 4329, 'insurance': 4330, 'intellect': 4331, 'intellectual': 4332, 'intelligent': 4333, 'intend': 4334, 'intention': 4335, 'inter': 4336, 'interaction': 4337, 'interactive': 4338, 'interest': 4339, 'interested': 4340, 'interesting': 4341, 'intern': 4342, 'international': 4343, 'internet': 4344, 'internship': 4345, 'internships': 4346, 'interracial': 4347, 'interview': 4348, 'intolerant': 4349, 'intro': 4350, 'introducing': 4351, 'introduction': 4352, 'inuyasha': 4353, 'invalid': 4354, 'invested': 4355, 'investigate': 4356, 'investment': 4357, 'invite': 4358, 'invited': 4359, 'invoices': 4360, 'ion': 4361, 'ios': 4362, 'iove': 4363, 'ip': 4364, 'iphne': 4365, 'iphone': 4366, 'iplayer': 4367, 'ipod': 4368, 'iqbal': 4369, 'iqrar': 4370, 'iran': 4371, 'irandeal': 4372, 'iraq': 4373, 'ireland': 4374, 'irene': 4375, 'irish': 4376, 'irl': 4377, 'irony': 4378, 'irresistible': 4379, 'irresponsibly': 4380, 'is': 4381, 'isaac': 4382, 'isco': 4383, 'ised': 4384, 'ish': 4385, 'ishal': 4386, 'isibaya': 4387, 'isis': 4388, 'islamist': 4389, 'island': 4390, 'islands': 4391, 'iso': 4392, 'isolated': 4393, 'isolating': 4394, 'isp': 4395, 'israel': 4396, 'israeli': 4397, 'issue': 4398, 'issues': 4399, 'istanya': 4400, 'istg': 4401, 'it': 4402, \"it'okay\": 4403, 'italian': 4404, 'italy': 4405, 'item': 4406, 'items': 4407, 'itna': 4408, 'ito': 4409, 'itong': 4410, 'its': 4411, 'itsamarvelthing': 4412, 'itself': 4413, 'itter': 4414, 'itty': 4415, 'itunes': 4416, 'itv': 4417, 'ivan': 4418, 'ivy': 4419, 'ivypowel': 4420, 'iwantin': 4421, 'iyalaya': 4422, 'iz': 4423, 'izumi': 4424, 'izzat': 4425, \"izzy's\": 4426, 'j': 4427, \"j's\": 4428, 'ja': 4429, 'jaann': 4430, 'jabongatpumaurbanstampede': 4431, 'jace': 4432, 'jack': 4433, \"jack's\": 4434, 'jackets': 4435, 'jackie': 4436, 'jackson': 4437, 'jaclintiler': 4438, 'jacob': 4439, 'jadines': 4440, 'jah': 4441, 'jahat': 4442, 'jai': 4443, 'jail': 4444, 'jailbroken': 4445, 'jake': 4446, 'jalulu': 4447, 'jam': 4448, 'james': 4449, 'jamie': 4450, 'jamie-lee': 4451, 'jane': 4452, 'jangly': 4453, 'jannatul': 4454, 'january': 4455, 'japan': 4456, \"japan's\": 4457, 'japanese': 4458, 'jarraaaaa': 4459, 'jasmingarrick': 4460, 'jason': 4461, 'jasper': 4462, 'jaspernationalpark': 4463, 'java': 4464, 'jax': 4465, 'jay': 4466, 'jaya': 4467, 'jaysus': 4468, 'jazmin': 4469, 'jazz': 4470, 'jb': 4471, 'jcreport': 4472, 'jdjdjdjd': 4473, 'jds': 4474, 'jealous': 4475, 'jeans': 4476, 'jeb': 4477, 'jebbush': 4478, 'jedzjabłka': 4479, 'jeebus': 4480, 'jeep': 4481, 'jehwan': 4482, 'jelly': 4483, 'jelouse': 4484, 'jemma': 4485, 'jen': 4486, 'jenna': 4487, 'jenni': 4488, 'jennifer': 4489, 'jennyjean': 4490, 'jeremy': 4491, 'jeremyleader': 4492, 'jerk': 4493, 'jersey': 4494, 'jeslyn': 4495, 'jess': 4496, 'jesse': 4497, 'jest': 4498, 'jesus': 4499, 'jets': 4500, 'jezwecan': 4501, 'jfc': 4502, 'jgh': 4503, 'jhalak': 4504, 'jhezz': 4505, 'jiba': 4506, 'jilla': 4507, 'jillcruz': 4508, 'jillmill': 4509, 'jim': 4510, 'jimin': 4511, \"jimin's\": 4512, 'jingly': 4513, 'jinki': 4514, 'jisoo': 4515, 'jisung': 4516, \"jiyeon's\": 4517, 'jk': 4518, 'jlo': 4519, 'jlovers': 4520, 'jmu': 4521, 'jo': 4522, 'job': 4523, 'jobs': 4524, 'joc': 4525, 'joe': 4526, \"joe's\": 4527, 'jogging': 4528, 'john': 4529, 'johnforceo': 4530, 'johnyherbert': 4531, 'joim': 4532, 'join': 4533, 'joined': 4534, 'joining': 4535, 'joins': 4536, 'joint': 4537, 'jojo': 4538, 'joke': 4539, 'jokes': 4540, 'jokid': 4541, 'joking': 4542, 'jokingly': 4543, 'jollies': 4544, 'jones': 4545, 'jong': 4546, 'jongdae': 4547, 'jonghyun': 4548, 'jonginuh': 4549, 'jordan': 4550, 'jordanian': 4551, 'jordans': 4552, 'joselito': 4553, \"josephine's\": 4554, 'josh': 4555, 'jotzh': 4556, 'jouch': 4557, 'journalism': 4558, 'journey': 4559, 'journeyps': 4560, 'journo': 4561, 'journorequest': 4562, 'joy': 4563, 'joyce': 4564, 'joys': 4565, 'jozi': 4566, 'jps': 4567, 'jr': 4568, 'jsl': 4569, 'jst': 4570, 'ju': 4571, 'juan': 4572, 'judge': 4573, 'judging': 4574, 'judgmental': 4575, 'judo': 4576, 'judy': 4577, 'juggle': 4578, 'juicebro': 4579, 'juices': 4580, 'juicy': 4581, 'juja': 4582, 'julia': 4583, 'juliana': 4584, 'julie': 4585, 'july': 4586, 'julyth': 4587, 'jumma': 4588, 'jummah': 4589, 'jummamubarak': 4590, 'jummaprayer': 4591, 'jump': 4592, 'jumped': 4593, 'jumpgiants': 4594, 'jumping': 4595, 'jumpsuit': 4596, 'june': 4597, 'jungle': 4598, 'junhee': 4599, 'junior': 4600, 'junjou': 4601, 'junmyeon': 4602, 'jurassic': 4603, 'juries': 4604, 'just': 4605, 'justget': 4606, 'justgotkanekified': 4607, 'justi': 4608, 'justice': 4609, 'justiceforsandrabland': 4610, 'justin': 4611, 'justinbieber': 4612, 'jute': 4613, 'juudiciary': 4614, 'jxzlbvo': 4615, 'k': 4616, 'ka': 4617, 'kadhafi': 4618, 'kafi': 4619, 'kaha': 4620, 'kahaaaa': 4621, 'kahfi': 4622, 'kahlil': 4623, 'kak': 4624, 'kale': 4625, 'kalin': 4626, 'kalle': 4627, \"kam's\": 4628, 'kamaal': 4629, 'kami': 4630, 'kamiss': 4631, 'kandekjs': 4632, 'kang': 4633, 'kangin': 4634, 'kanina': 4635, 'kansai': 4636, 'kanye': 4637, 'kapatidkongpogi': 4638, 'kapima': 4639, 'karachi': 4640, 'karain': 4641, 'karani': 4642, 'karaoke': 4643, \"kareena's\": 4644, 'karen': 4645, 'karibumombasa': 4646, 'karin': 4647, 'karlia': 4648, 'karte': 4649, 'kashi': 4650, 'kasi': 4651, 'kaslkdja': 4652, 'kat': 4653, 'katamari': 4654, 'kate': 4655, 'kateee': 4656, 'katekyn': 4657, 'katerina': 4658, 'kath': 4659, \"kath'd\": 4660, 'kathryn': 4661, 'katie': 4662, 'katmtan': 4663, 'kaussies': 4664, 'kawaii': 4665, 'kaya': 4666, 'kaylas': 4667, 'kayo': 4668, 'kaytranada': 4669, 'kb': 4670, 'kbs': 4671, 'kbye': 4672, 'kca': 4673, 'kebab': 4674, 'kebaya': 4675, 'kebun': 4676, 'keedz': 4677, 'keeno': 4678, 'keep': 4679, 'keepin': 4680, 'keeping': 4681, 'keepitlocal': 4682, 'keeps': 4683, 'keesh': 4684, 'kei': 4685, 'kelly': 4686, 'ken': 4687, 'kendall': 4688, 'kennat': 4689, 'kennel': 4690, 'kenya': 4691, 'kepler': 4692, 'kepler-b': 4693, 'kepo': 4694, 'kept': 4695, 'kernel': 4696, 'kesa': 4697, 'ketchup': 4698, 'kev': 4699, 'key': 4700, 'keybind': 4701, 'keys': 4702, 'kfc': 4703, 'kfckitchentours': 4704, 'kg': 4705, 'kgola': 4706, 'kha': 4707, 'khamis': 4708, 'khan': 4709, 'khany': 4710, 'kharap': 4711, 'khatam': 4712, 'khawateen': 4713, \"khloe's\": 4714, 'ki': 4715, 'kia': 4716, 'kian': 4717, 'kianweareproud': 4718, 'kicked': 4719, 'kicks': 4720, 'kickstarter': 4721, 'kid': 4722, 'kidding': 4723, 'kiddo': 4724, 'kidneys': 4725, 'kids': 4726, 'kidschoiceawards': 4727, 'kik': 4728, 'kikchat': 4729, 'kikgirl': 4730, 'kikhorny': 4731, 'kikkomansabor': 4732, 'kikme': 4733, 'kikmeboys': 4734, 'kikmeguys': 4735, 'kikmenow': 4736, 'kikmsn': 4737, 'kiksex': 4738, 'kiksexting': 4739, 'kiligs': 4740, 'kill': 4741, 'killed': 4742, 'killer': 4743, 'killers': 4744, 'killin': 4745, 'killing': 4746, 'kills': 4747, 'killua': 4748, 'kim': 4749, 'kimaaaaaani': 4750, 'kina': 4751, \"kinara's\": 4752, 'kind': 4753, 'kindergarten': 4754, 'kindest': 4755, 'kindle': 4756, 'kindled': 4757, 'kindly': 4758, 'kinds': 4759, 'king': 4760, 'kingdom': 4761, 'kingdoms': 4762, 'kingfisher': 4763, 'kinickers': 4764, 'kinks': 4765, 'kinky': 4766, 'kins': 4767, 'kisi': 4768, 'kiss': 4769, 'kissed': 4770, 'kisses': 4771, 'kissme': 4772, 'kit': 4773, 'kitchen': 4774, 'kitkat': 4775, 'kits': 4776, 'kittehs': 4777, 'kittens': 4778, 'kitty': 4779, 'kiya': 4780, 'kizomba': 4781, 'kk': 4782, 'kkk': 4783, 'klappertart': 4784, 'kleper-b': 4785, 'kme': 4786, 'kms': 4787, 'knee': 4788, 'knees': 4789, 'knew': 4790, 'knitting': 4791, 'knives': 4792, 'kno': 4793, 'knock': 4794, 'knocked': 4795, 'knockin': 4796, 'know': 4797, 'knowing': 4798, 'knowledge': 4799, 'knows': 4800, 'knowwww': 4801, 'knw': 4802, 'ko': 4803, 'koalas': 4804, 'koe': 4805, 'koel': 4806, 'koffie': 4807, 'koi': 4808, 'kong': 4809, 'konga': 4810, 'korea': 4811, 'korean': 4812, 'kos': 4813, 'koyal': 4814, 'kpop': 4815, 'kresna': 4816, 'krispy': 4817, 'kristin': 4818, 'krta': 4819, 'krystal': 4820, 'krystoria': 4821, 'ks': 4822, 'ksoo': 4823, 'ktksbye': 4824, 'ku': 4825, 'kuch': 4826, 'kuchar': 4827, 'kuching': 4828, 'kuffar': 4829, 'kumble': 4830, 'kumpul': 4831, 'kunoriforceo': 4832, 'kurt': 4833, 'kurta': 4834, 'kurtas': 4835, 'kw': 4836, 'kyle': 4837, 'kylie': 4838, \"kylie's\": 4839, 'kylies': 4840, \"kyungsoo's\": 4841, 'l': 4842, 'la': 4843, 'lab': 4844, 'labeled': 4845, 'labour': 4846, \"labour's\": 4847, 'labs': 4848, 'labyo': 4849, 'laced': 4850, 'lack': 4851, 'ladder': 4852, 'ladies': 4853, 'ladolcevitainluxembourg': 4854, 'lads': 4855, 'lady': 4856, \"lady's\": 4857, 'ladygaga': 4858, 'ladyposse': 4859, 'lafayette': 4860, 'lage': 4861, 'lagi': 4862, 'lagiii': 4863, 'lagos': 4864, 'laguna': 4865, 'lah': 4866, 'lahat': 4867, 'lahhh': 4868, 'laid': 4869, 'laine': 4870, 'laiten': 4871, 'lake': 4872, 'lami': 4873, 'lamo': 4874, 'lamon': 4875, 'lan': 4876, 'landed': 4877, 'lands': 4878, 'landscapes': 4879, 'lang': 4880, 'langkawi': 4881, 'langs': 4882, 'language': 4883, 'languages': 4884, 'lani': 4885, 'lansi': 4886, 'laomma': 4887, 'lap': 4888, 'lapar': 4889, 'laper': 4890, 'laptop': 4891, 'large': 4892, 'laribuggy': 4893, 'laro': 4894, 'larry': 4895, 'lart': 4896, 'las': 4897, 'laser-like': 4898, 'lass': 4899, \"lassi's\": 4900, 'last': 4901, 'lasted': 4902, 'lasts': 4903, 'late': 4904, 'lately': 4905, 'latepost': 4906, 'later': 4907, 'latest': 4908, 'latin': 4909, 'latinhouse': 4910, 'latmon': 4911, 'latte': 4912, 'laugh': 4913, 'laughed': 4914, 'laughing': 4915, 'laughter': 4916, 'launch': 4917, 'launched': 4918, 'laura': 4919, 'law': 4920, 'lawn': 4921, 'lawnmower': 4922, 'lay': 4923, 'layer': 4924, 'laying': 4925, 'layout': 4926, 'lazy': 4927, 'lazyweekend': 4928, 'lb': 4929, 'lbloggers': 4930, 'lbs': 4931, 'lcs': 4932, 'le': 4933, 'lead': 4934, 'leader': 4935, 'leadership': 4936, 'leads': 4937, 'league': 4938, 'leaking': 4939, 'leanneriner': 4940, 'learn': 4941, 'learned': 4942, 'learnt': 4943, 'lease': 4944, 'least': 4945, 'leave': 4946, 'leaves': 4947, 'leaving': 4948, 'ledger': 4949, \"ledger's\": 4950, 'lee': 4951, 'leeds': 4952, 'leeteuk': 4953, 'left': 4954, 'leftovers': 4955, 'leg': 4956, 'lega': 4957, 'legal': 4958, 'legend': 4959, 'legendary': 4960, 'leggete': 4961, 'legible': 4962, 'legit': 4963, 'lego': 4964, 'legs': 4965, 'legsupthewall': 4966, 'leia': 4967, 'leica': 4968, 'leicaq': 4969, 'lemess': 4970, 'lemme': 4971, 'lemon': 4972, 'lemons': 4973, 'lendal': 4974, 'leno': 4975, 'leo': 4976, 'leon': 4977, 'lepas': 4978, 'lesbian': 4979, 'lesley': 4980, 'less': 4981, 'lessions': 4982, 'lesson': 4983, 'lessons': 4984, 'let': 4985, 'letitgrow': 4986, 'letsfootball': 4987, 'letsgetmessy': 4988, 'letshavecocktailsafternuclai': 4989, 'letsprocrastinate': 4990, 'letter': 4991, 'letting': 4992, 'level': 4993, 'leviboard': 4994, 'lew': 4995, 'lewis': 4996, 'lfccw': 4997, 'lgbt': 4998, 'li': 4999, 'liam': 5000, 'liat': 5001, 'lib': 5002, 'libmysqlclient-dev': 5003, 'library': 5004, 'lice': 5005, 'licence': 5006, 'liceooooo': 5007, 'lick': 5008, 'lie': 5009, 'lied': 5010, 'lies': 5011, 'life': 5012, 'life-so': 5013, 'lifestyle': 5014, 'lifetime': 5015, 'light': 5016, 'lightbox': 5017, 'lighter': 5018, 'lighting': 5019, 'ligo': 5020, 'like': 5021, 'liked': 5022, 'likee': 5023, 'likeforfollow': 5024, 'likeforlike': 5025, 'likelike': 5026, 'likely': 5027, 'likes': 5028, 'likewise': 5029, 'liking': 5030, 'lil': 5031, 'lils': 5032, 'lilsisbro': 5033, 'lilydale': 5034, 'limbo': 5035, 'limit': 5036, 'limited': 5037, 'limits': 5038, 'limpopo': 5039, 'linda': 5040, 'line': 5041, 'line-up': 5042, 'lines': 5043, 'lineup': 5044, 'linguist': 5045, 'linis': 5046, 'link': 5047, 'linking': 5048, 'links': 5049, 'linux': 5050, 'lion': 5051, 'lions': 5052, 'lip': 5053, 'lips': 5054, 'lipstick': 5055, 'liquid': 5056, 'liquorice': 5057, 'lisa': 5058, 'lisaherring': 5059, 'list': 5060, 'listed': 5061, 'listen': 5062, 'listenable': 5063, 'listening': 5064, 'listing': 5065, 'lists': 5066, 'lit': 5067, 'literally': 5068, 'literature': 5069, 'litey': 5070, 'litro': 5071, 'little': 5072, 'liv': 5073, 'live': 5074, 'lived': 5075, 'liveonstreamate': 5076, 'liverpool': 5077, 'lives': 5078, 'livesex': 5079, 'livestream': 5080, 'livi': 5081, 'livid': 5082, 'living': 5083, 'liza': 5084, 'lizaminnelli': 5085, 'ljp': 5086, 'll': 5087, 'llama': 5088, 'llaollao': 5089, 'lloyds': 5090, 'lmao': 5091, 'lmaoo': 5092, 'lmaooo': 5093, 'lmbo': 5094, 'lmfao': 5095, 'lmfaoo': 5096, 'lmfaoooo': 5097, 'lng': 5098, 'load': 5099, 'loading': 5100, 'loads': 5101, 'loan': 5102, 'local': 5103, 'localgaragederby': 5104, 'location': 5105, 'locations': 5106, 'lock': 5107, 'locked': 5108, 'lockscreen': 5109, 'loftey': 5110, 'log': 5111, 'logged': 5112, 'logging': 5113, 'logic': 5114, 'login': 5115, 'logo': 5116, 'loiyals': 5117, 'lol': 5118, 'lolipop': 5119, 'lollipop': 5120, 'lollll': 5121, 'lols': 5122, 'lolz': 5123, 'lolzz': 5124, 'london': 5125, 'londondairy': 5126, 'loneliest': 5127, 'lonely': 5128, 'loner': 5129, 'loners': 5130, 'long': 5131, 'long-distance': 5132, 'longe': 5133, 'longer': 5134, 'longest': 5135, 'longggg': 5136, 'look': 5137, \"look's\": 5138, 'looked': 5139, 'lookfortheo': 5140, 'looking': 5141, 'lookingaspot': 5142, 'looks': 5143, 'loool': 5144, 'looooong': 5145, 'looooool': 5146, 'loooooove': 5147, 'loop': 5148, 'loose': 5149, 'lootcrate': 5150, 'looww': 5151, 'lord': 5152, 'lorenangel': 5153, 'lori': 5154, 'lorm': 5155, 'lorna': 5156, 'loryn': 5157, 'lose': 5158, 'loser': 5159, 'losers': 5160, 'loses': 5161, 'losing': 5162, 'loss': 5163, 'lost': 5164, 'lot': 5165, 'lotion': 5166, 'lots': 5167, 'lotsa': 5168, 'lottery': 5169, 'loud': 5170, 'loudest': 5171, 'louis': 5172, 'louisiana': 5173, 'louisianashooting': 5174, 'lounge': 5175, 'lourdes': 5176, 'lovable': 5177, 'love': 5178, 'lovebirds': 5179, 'loved': 5180, 'lovelies': 5181, 'loveliness': 5182, 'lovely': 5183, 'lovenafianna': 5184, 'loveofmylife': 5185, 'lover': 5186, 'lovers': 5187, 'loves': 5188, 'lovessss': 5189, 'lovesummertime': 5190, 'lovey': 5191, 'loveyaaaah': 5192, 'loving': 5193, 'low': 5194, 'lowbat': 5195, 'lowered': 5196, 'lowest': 5197, 'loyal': 5198, 'lq': 5199, 'lrka': 5200, 'lsa': 5201, 'lsh': 5202, 'lt': 5203, 'lu': 5204, 'luas': 5205, 'luceleva': 5206, 'luck': 5207, 'luckely': 5208, 'luckily': 5209, 'lucky': 5210, 'luckyyyy': 5211, 'lucozade': 5212, 'lucy': 5213, 'ludlow': 5214, 'lue': 5215, 'luffs': 5216, 'luis': 5217, 'luke': 5218, 'lukesos': 5219, 'lukkkee': 5220, 'lukris': 5221, 'lumia': 5222, 'luminous': 5223, 'luna': 5224, 'lunch': 5225, 'lunches': 5226, 'lunes': 5227, 'lungomare': 5228, 'lupet': 5229, 'lure': 5230, 'lurgy': 5231, 'lush': 5232, 'lusi': 5233, 'lux': 5234, 'luxembourg': 5235, 'luxuous': 5236, 'luxury': 5237, 'luxurytravel': 5238, 'lvg': 5239, 'lwwf': 5240, 'ly': 5241, 'lycra': 5242, 'lyf': 5243, 'lyin': 5244, 'lying': 5245, 'lyk': 5246, 'lyka': 5247, 'lymond': 5248, 'lynettelowe': 5249, 'lynne': 5250, 'lyrics': 5251, 'm': 5252, \"m'lady\": 5253, \"m's\": 5254, 'ma': 5255, 'maa': 5256, 'maaaaaay': 5257, 'maaf': 5258, 'maas': 5259, 'mac': 5260, 'macauley': 5261, 'macbook': 5262, 'maccies': 5263, 'macedonian': 5264, 'machaya': 5265, 'machinery': 5266, 'mad': 5267, 'madam': 5268, 'madatte': 5269, 'made': 5270, 'madeline': 5271, 'madi': 5272, 'madison': 5273, 'madness': 5274, 'madonnafamily': 5275, 'madonnafans': 5276, 'madonnamademtv': 5277, 'madrid': 5278, 'madstork': 5279, 'mady': 5280, 'mag': 5281, 'maganda': 5282, 'magazine': 5283, 'magcon': 5284, 'mager': 5285, 'maggie': 5286, 'magic': 5287, 'magical': 5288, 'magicalkenya': 5289, 'magicalmysterytour': 5290, 'magisa': 5291, 'magnificent': 5292, 'magpaalam': 5293, 'magpie': 5294, 'mags': 5295, 'magstart': 5296, 'mah': 5297, 'mahilig': 5298, 'mahirap': 5299, 'mahnor': 5300, 'mahone': 5301, 'mail': 5302, 'main': 5303, 'maine': 5304, 'mainly': 5305, 'mairi': 5306, 'majhwar': 5307, 'major': 5308, 'mak': 5309, 'makati': 5310, 'make': 5311, 'make-up': 5312, 'makeover': 5313, 'maker': 5314, 'makes': 5315, 'makesme': 5316, 'makeup': 5317, 'making': 5318, 'maknae': 5319, 'maldives': 5320, 'male': 5321, 'malese': 5322, 'malik': 5323, 'mallick': 5324, 'malta': 5325, 'mam': 5326, 'mam-bully': 5327, 'mama': 5328, 'mamabear': 5329, 'mamaya': 5330, 'mamayang': 5331, 'mamma': 5332, 'mammoths': 5333, 'man': 5334, 'mana': 5335, 'manage': 5336, 'managed': 5337, 'management': 5338, 'manager': 5339, 'managers': 5340, 'manbearpig': 5341, 'manchester': 5342, 'mandela': 5343, 'manga': 5344, 'mango': 5345, 'maniataki': 5346, 'manifestations': 5347, 'manila': 5348, 'manly': 5349, 'mannerfuls': 5350, 'manny': 5351, 'manos': 5352, 'mans': 5353, 'manteca': 5354, 'manthan': 5355, 'manual': 5356, 'manually': 5357, 'manuel': 5358, 'manuella': 5359, 'manush': 5360, 'many': 5361, 'manzano': 5362, 'map': 5363, 'mapbox': 5364, 'maple': 5365, 'maps': 5366, 'mar': 5367, 'marais': 5368, 'marathon': 5369, 'march': 5370, 'marco': 5371, 'mare': 5372, 'margo': 5373, 'maricarljanah': 5374, 'marine': 5375, 'marino': 5376, 'mark': 5377, 'market': 5378, 'marketing': 5379, 'marks': 5380, 'marmite': 5381, 'maroon': 5382, 'marriages': 5383, 'marrickville': 5384, 'married': 5385, 'marrish': 5386, 'marseille': 5387, 'marshmallow': 5388, 'marshmallows': 5389, 'mart': 5390, 'martes': 5391, 'martin': 5392, 'marty': 5393, 'marula': 5394, 'marvel': 5395, 'marvellous': 5396, 'mary': 5397, 'maryhicks': 5398, 'masa': 5399, 'masaan': 5400, 'masaantoday': 5401, \"masha'allah\": 5402, 'mashaket': 5403, 'mashed': 5404, 'mashup': 5405, 'masks': 5406, 'mass': 5407, 'massage': 5408, 'massages': 5409, 'masses': 5410, 'massis': 5411, 'massive': 5412, 'master': 5413, 'masterchef': 5414, 'mastership': 5415, 'masud': 5416, 'match': 5417, 'matching': 5418, 'matchy': 5419, 'mate': 5420, 'mateo': 5421, 'mater': 5422, 'materialistic': 5423, 'materials': 5424, 'maternity': 5425, 'math': 5426, 'matsu': 5427, 'matt': 5428, 'matter': 5429, 'matteroftheheart': 5430, 'matters': 5431, 'matthew': 5432, 'mature': 5433, 'mauliate': 5434, 'mauryas': 5435, 'maverickgamer': 5436, 'max': 5437, 'maxfreshmove': 5438, 'maxi': 5439, 'may': 5440, 'maybe': 5441, 'mayday': 5442, 'mayhem': 5443, 'maymay': 5444, 'mayor': 5445, 'mañana': 5446, 'mb': 5447, 'mba': 5448, 'mbalula': 5449, 'mbasa': 5450, 'mbc': 5451, 'mbf': 5452, 'mbulelo': 5453, 'mca': 5454, 'mcdo': 5455, 'mcfc': 5456, 'mcfloat': 5457, 'mcflurry': 5458, 'mcg': 5459, 'mclaren': 5460, 'mcnuggets': 5461, 'mcountdown': 5462, 'mcpe': 5463, 'me': 5464, 'meal': 5465, 'mean': 5466, 'meanies': 5467, 'meaningful': 5468, 'meaningless': 5469, 'means': 5470, 'meant': 5471, 'measure': 5472, 'meat': 5473, 'mecha-totems': 5474, 'mechanics': 5475, 'meck': 5476, 'media': 5477, 'medication': 5478, 'medicine': 5479, 'meditation': 5480, 'meds': 5481, 'mee': 5482, 'meeee': 5483, 'meet': 5484, 'meeting': 5485, 'meg': 5486, 'mega': 5487, 'megafauna': 5488, 'megamoh': 5489, 'megan': 5490, 'meh': 5491, 'mehendi': 5492, 'mehtab': 5493, 'mein': 5494, 'mel': 5495, 'melanie': 5496, 'melatonin': 5497, 'melbourne': 5498, 'melbournetrip': 5499, 'melodies': 5500, \"melody's\": 5501, 'melon': 5502, 'melt': 5503, 'melting': 5504, 'member': 5505, 'members': 5506, 'meme': 5507, 'mememe': 5508, 'memories': 5509, 'memorization': 5510, 'memory': 5511, 'memotohaters': 5512, 'men': 5513, 'menacing': 5514, 'mendes': 5515, 'menille': 5516, 'mental': 5517, 'mentality': 5518, 'mentally': 5519, 'mention': 5520, 'mentioned': 5521, 'mentions': 5522, 'menu': 5523, 'meoooowwww': 5524, 'mercedes': 5525, 'merch': 5526, 'merchs': 5527, 'merci': 5528, 'mercy': 5529, 'merdeka': 5530, 'mere': 5531, 'meri': 5532, 'merlin': 5533, 'merry': 5534, 'mesh': 5535, 'mess': 5536, 'message': 5537, 'messaged': 5538, 'messages': 5539, 'messaging': 5540, 'messed': 5541, 'messenger': 5542, 'messing': 5543, 'messy': 5544, 'met': 5545, 'meter': 5546, 'meth': 5547, 'mexican': 5548, 'mexico': 5549, 'meydan': 5550, 'mfundo': 5551, 'mga': 5552, 'mhhh': 5553, 'mi': 5554, 'mia': 5555, 'miah': 5556, 'miami': 5557, 'mic': 5558, 'mice': 5559, 'michael': 5560, \"michael's\": 5561, 'michelle': 5562, 'micro': 5563, \"microsoft's\": 5564, 'mid-end': 5565, 'middle': 5566, 'mididresses': 5567, 'midnight': 5568, 'midori': 5569, 'might': 5570, 'mighty': 5571, 'migraine': 5572, 'migrant': 5573, 'mike': 5574, 'milano': 5575, 'mile': 5576, 'mileage': 5577, 'miles': 5578, 'milf': 5579, 'milk': 5580, 'milkshake': 5581, 'miller': 5582, 'millie': 5583, \"millie's\": 5584, 'million': 5585, 'millz': 5586, 'milo': 5587, 'mimi': 5588, 'min': 5589, 'minal': 5590, 'mince': 5591, 'mind': 5592, 'minded': 5593, 'mine': 5594, \"mine's\": 5595, 'minecon': 5596, 'minecraft': 5597, 'ming': 5598, 'mingming': 5599, 'minhyuks': 5600, 'minister': 5601, 'minju': 5602, 'minkyuk': 5603, 'mino': 5604, 'mins': 5605, 'mints': 5606, 'minute': 5607, 'minuter': 5608, 'minutes': 5609, 'miracle': 5610, 'mirror': 5611, 'mis': 5612, 'mischievousness': 5613, 'miserable': 5614, 'misplaced': 5615, 'miss': 5616, 'missed': 5617, 'misses': 5618, 'missin': 5619, 'missing': 5620, 'misspelt': 5621, 'misss': 5622, 'missyou': 5623, 'mist': 5624, 'mistake': 5625, 'mistakes': 5626, 'mister': 5627, 'mistgameplay': 5628, 'mistress': 5629, 'misty': 5630, 'misundersranding': 5631, \"mit's\": 5632, 'mix': 5633, 'mixcloud': 5634, 'mixed': 5635, 'mixers': 5636, 'mixtape': 5637, 'mixture': 5638, 'mj': 5639, 'mjhe': 5640, 'mka': 5641, 'ml': 5642, 'mm': 5643, 'mmjunction': 5644, 'mmmmm': 5645, 'mmmmmm': 5646, 'mmsmalubhangsakit': 5647, 'mne': 5648, 'mnwreeen': 5649, 'mo': 5650, 'moaning': 5651, 'moar': 5652, 'mob': 5653, 'mobile': 5654, 'mobilegames': 5655, 'mobitel': 5656, 'mochamichelle': 5657, 'mockingbird': 5658, 'mockingjay': 5659, 'mode': 5660, 'model': 5661, 'models': 5662, 'modern': 5663, 'modi': 5664, 'modified': 5665, 'modimo': 5666, 'mohapatra': 5667, 'mohr': 5668, 'moisturizing': 5669, 'mom': 5670, \"mom's\": 5671, 'mombasa': 5672, 'moment': 5673, 'moments': 5674, 'momma': 5675, 'mommy': 5676, \"mommy's\": 5677, 'momo': 5678, 'moms': 5679, 'mon': 5680, 'monash': 5681, 'monday': 5682, 'money': 5683, 'monfils': 5684, 'monica': 5685, 'monjuly': 5686, 'monkey': 5687, 'mono': 5688, 'monsoon': 5689, 'monster': 5690, 'montana': 5691, 'monteith': 5692, 'month': 5693, 'monthly': 5694, 'months': 5695, 'montoya': 5696, \"monty's\": 5697, 'moo': 5698, 'mood': 5699, 'mood-dump': 5700, 'moodboster': 5701, 'moods': 5702, 'moose': 5703, 'morality': 5704, 'more': 5705, \"morisette's\": 5706, 'mork': 5707, 'mornin': 5708, 'morning': 5709, 'mornings': 5710, 'morocco': 5711, 'morrrrning': 5712, 'mosque': 5713, 'mosquito': 5714, 'mosquitoe': 5715, 'most': 5716, 'mostest': 5717, 'mostly': 5718, 'motavators': 5719, 'mother': 5720, 'motherfucking': 5721, 'motilium': 5722, 'motivated': 5723, 'motn': 5724, 'motors': 5725, 'motorsport': 5726, 'mounted': 5727, 'mouse': 5728, 'mouth': 5729, 'mouths': 5730, 'move': 5731, 'moved': 5732, 'movement': 5733, 'moves': 5734, 'movie': 5735, 'moviee': 5736, 'moviemarathon': 5737, 'movies': 5738, 'moving': 5739, 'movnat': 5740, 'mp': 5741, 'mpoints': 5742, 'mr': 5743, 'mrs': 5744, 'ms': 5745, 'msc': 5746, 'msg': 5747, 'msged': 5748, 'msgs': 5749, 'msnbc': 5750, 'mtaani': 5751, 'mtg': 5752, 'mtn': 5753, 'mtvhottest': 5754, 'muaahhh': 5755, 'muahah': 5756, 'muahhh': 5757, 'mubank': 5758, 'mubarak': 5759, 'mubarik': 5760, 'mubark': 5761, 'much': 5762, 'muchhh': 5763, 'muddled': 5764, 'muddy': 5765, 'muertosatfringe': 5766, 'mufc': 5767, 'mug': 5768, 'mugs': 5769, 'mugshot': 5770, 'mui': 5771, 'mujy': 5772, 'mull': 5773, 'muller': 5774, 'multiracial': 5775, 'mum': 5776, 'mumbai': 5777, 'mumma': 5778, 'mums': 5779, 'muna': 5780, 'munchkin': 5781, 'munchkins': 5782, 'mune': 5783, 'muntu': 5784, 'murder': 5785, 'murielle': 5786, 'murugan': 5787, 'muses': 5788, 'mush': 5789, 'mushroomed': 5790, 'music': 5791, 'musicas': 5792, 'musicbiz': 5793, 'musicology': 5794, 'muslim': 5795, 'muslims': 5796, 'mussels': 5797, 'must': 5798, 'muster': 5799, 'mustread': 5800, 'muted': 5801, 'mutt': 5802, 'mutual': 5803, 'mutuals': 5804, 'muv': 5805, 'mvg': 5806, 'mwa': 5807, 'mwah': 5808, 'mwamwa': 5809, 'mwf': 5810, 'my': 5811, 'mybrainneedstoshutoff': 5812, 'mych': 5813, 'myhill': 5814, 'mymonsoonstory': 5815, 'mypapamypride': 5816, 'mypark': 5817, 'myself': 5818, 'mystery': 5819, 'mysummer': 5820, 'mythic': 5821, 'myung': 5822, 'myungsoo': 5823, 'mz': 5824, 'méxico': 5825, 'n': 5826, 'na': 5827, 'na-take': 5828, 'naa': 5829, 'naaaaan': 5830, 'naaahhh': 5831, 'nachos': 5832, 'nad': 5833, 'nadal': 5834, 'nae': 5835, 'naeun': 5836, 'nag': 5837, 'nagato': 5838, 'naggy': 5839, 'naging': 5840, 'nagsend': 5841, 'nah': 5842, 'nahi': 5843, 'nai': 5844, 'nail': 5845, 'nailedit': 5846, 'nails': 5847, 'nairobi': 5848, 'najam': 5849, 'nak': 5850, 'nakaka': 5851, 'nakamaforever': 5852, 'naked': 5853, 'nalamannn': 5854, 'naman': 5855, 'name': 5856, 'namechecking': 5857, 'named': 5858, 'names': 5859, 'nams': 5860, 'nancy': 5861, \"nando's\": 5862, 'naomi': 5863, 'nap': 5864, 'narcissist': 5865, 'narcos': 5866, 'narendra': 5867, 'narrow': 5868, 'narrow-minded': 5869, 'naruto': 5870, 'nash': 5871, 'nasty': 5872, 'nat': 5873, 'natgeo': 5874, 'nathan': 5875, 'nathanielhinanakit': 5876, 'nathann': 5877, 'nation': 5878, 'national': 5879, 'native': 5880, 'natsuki': 5881, 'natural': 5882, 'navigate': 5883, 'navy': 5884, 'naw': 5885, 'nawf': 5886, 'nawwwe': 5887, 'nawwwee': 5888, 'naya': 5889, 'nb': 5890, 'nba': 5891, 'nbheroes': 5892, 'nc': 5893, 'ncaaseason': 5894, 'ncc': 5895, 'nd': 5896, 'ndee': 5897, 'ndi': 5898, 'ne': 5899, 'neals': 5900, 'near': 5901, 'nearer': 5902, 'nearest': 5903, 'nearly': 5904, 'neat-of': 5905, 'necessary': 5906, 'necklaces': 5907, 'need': 5908, 'needa': 5909, 'needed': 5910, 'needicecreamnow': 5911, 'needing': 5912, 'needs': 5913, 'neeeeeeeeeeeeeeeeein': 5914, 'negate': 5915, 'neglected': 5916, 'negooo': 5917, 'negotiable': 5918, 'negotiate': 5919, 'neh': 5920, 'neighbour': 5921, 'neil': 5922, 'nein': 5923, 'neither': 5924, 'nelle': 5925, 'nelson': 5926, 'nemanja': 5927, 'nemesis': 5928, 'neng': 5929, 'neon': 5930, 'nerd': 5931, 'nerve': 5932, 'net': 5933, 'netball': 5934, 'netfilx': 5935, 'netflix': 5936, 'netherlands': 5937, 'netizen': 5938, 'netsec': 5939, 'network': 5940, 'networks': 5941, 'never': 5942, 'new': 5943, 'newbethvideo': 5944, 'newbies': 5945, 'newblogpost': 5946, 'newer': 5947, 'newest': 5948, 'newly': 5949, 'newmusic': 5950, 'news': 5951, 'newsdistribution': 5952, 'newsletter': 5953, 'newsround': 5954, 'newwine': 5955, 'newyork': 5956, 'nex': 5957, 'next': 5958, 'nextweek': 5959, 'nez': 5960, 'nfinite': 5961, 'ng': 5962, 'nga': 5963, 'ngarepfollbackdarinabilahjkt': 5964, 'ngee': 5965, 'ngeze': 5966, 'ngga': 5967, 'ngi': 5968, 'ngucapinnya': 5969, 'nh': 5970, 'nhe': 5971, 'nhi': 5972, 'nhl': 5973, 'nhs': 5974, 'nia': 5975, 'niaaaaaaaaaaaaaaaaaaaaaaaaaaa': 5976, 'niall': 5977, 'niam': 5978, 'niamh': 5979, 'nibbles': 5980, 'nibbling': 5981, 'nic': 5982, 'nice': 5983, 'nicely': 5984, 'nicest': 5985, 'nichola': 5986, 'nicholas': 5987, 'nick': 5988, 'nicki': 5989, 'nickname': 5990, 'nickyyyyyyyyyyyyyyyy': 5991, 'nicola': 5992, 'nicoleapage': 5993, 'niece': 5994, 'niende': 5995, 'nigeria': 5996, 'nigga': 5997, 'niggs': 5998, 'night': 5999, \"night's\": 6000, 'nighter': 6001, 'nightmare': 6002, 'nightmares': 6003, 'nights': 6004, 'nighty': 6005, 'nike': 6006, 'nikeindonesia': 6007, 'nikeoriginal': 6008, 'nikes': 6009, 'nikkei': 6010, 'nikki': 6011, 'nil': 6012, 'nila': 6013, 'nim': 6014, 'ninasty': 6015, 'ninh': 6016, 'nintendo': 6017, 'niqqa': 6018, 'nirvana': 6019, 'nisrina': 6020, 'nite': 6021, 'niwll': 6022, 'nixus': 6023, 'nj': 6024, 'nje': 6025, 'njoy': 6026, 'njs': 6027, 'nk': 6028, 'nknkkpagpapakumbaba': 6029, 'nls': 6030, 'nm': 6031, 'no': 6032, 'no-no': 6033, 'nobodies': 6034, 'nobody': 6035, 'nocturnal': 6036, 'node': 6037, 'noe': 6038, 'noesss': 6039, 'noggin': 6040, 'noise': 6041, 'nominated': 6042, 'nominiere': 6043, 'nomoney': 6044, 'noms': 6045, 'non': 6046, 'non-filipina': 6047, 'non-mapbox': 6048, 'non-trial': 6049, 'nonce': 6050, 'none': 6051, 'nonexistent': 6052, 'nonscripted': 6053, 'noo': 6054, 'noob': 6055, 'noodles': 6056, 'noon': 6057, 'noone': 6058, 'nooo': 6059, 'noooo': 6060, 'noooooo': 6061, 'nooooooo': 6062, 'noooooooooooooooooo': 6063, 'nooooope': 6064, 'nooooow': 6065, 'noooot': 6066, 'nooow': 6067, 'nope': 6068, 'nor': 6069, 'norapowel': 6070, 'norhing': 6071, 'normal': 6072, 'normally': 6073, 'north': 6074, 'northern': 6075, 'norwegian': 6076, 'nose': 6077, 'nosebleed': 6078, 'nosmet': 6079, 'nostalgia': 6080, 'not': 6081, 'notanapology': 6082, 'notch': 6083, 'notcool': 6084, 'note': 6085, 'noted': 6086, 'notes': 6087, 'notgonnabeactiveforweeksdontmissittoomuch': 6088, 'nothaveld': 6089, 'nothing': 6090, 'notice': 6091, 'noticed': 6092, 'noticing': 6093, 'notification': 6094, 'notifications': 6095, 'notifs': 6096, 'notion': 6097, 'notr': 6098, 'novel': 6099, 'november': 6100, 'now': 6101, 'nowadays': 6102, 'nowdays': 6103, 'nowhere': 6104, 'nowplaying': 6105, 'nowt': 6106, 'nowwww': 6107, 'np': 6108, 'nrltigersroosters': 6109, 'nsbzhdnxndamal': 6110, 'nsfw': 6111, 'nsn': 6112, 'nstp': 6113, 'nt': 6114, 'nth': 6115, 'nu-uh': 6116, 'nuclear': 6117, 'nudes': 6118, 'nudge': 6119, 'nuggets': 6120, 'nuka': 6121, 'numb': 6122, 'number': 6123, 'numbero': 6124, 'numbers': 6125, 'nuns': 6126, 'nurses': 6127, 'nutella': 6128, 'nutshell': 6129, 'nux': 6130, 'nvm': 6131, 'nvr': 6132, 'nw': 6133, 'nwb': 6134, 'nxt': 6135, 'ny': 6136, 'nyc': 6137, 'nyquil': 6138, 'nys': 6139, 'nz': 6140, 'népal': 6141, 'o': 6142, 'obakeng': 6143, 'obama': 6144, 'obamainkenya': 6145, 'obi': 6146, 'obituary': 6147, 'obs': 6148, 'obsessed': 6149, 'obsession': 6150, 'obstacles': 6151, 'obvious': 6152, 'obviously': 6153, 'obvs': 6154, 'obyun': 6155, 'occasion': 6156, 'occasionally': 6157, 'occurred': 6158, 'ocean': 6159, 'oche': 6160, 'oct': 6161, 'october': 6162, 'odd': 6163, 'odds': 6164, 'ode': 6165, 'odoo': 6166, 'oe': 6167, 'of': 6168, \"of'neal\": 6169, 'ofc': 6170, 'off': 6171, 'offboarding': 6172, 'offended': 6173, 'offense': 6174, 'offensive': 6175, 'offer': 6176, 'offered': 6177, 'offering': 6178, 'offers': 6179, 'office': 6180, 'offices': 6181, 'official': 6182, 'officially': 6183, 'officials': 6184, 'offline': 6185, 'offroading': 6186, 'offshoring': 6187, 'ofscreen': 6188, 'often': 6189, 'oh': 6190, 'ohaha': 6191, 'ohgod': 6192, 'ohh': 6193, 'ohhh': 6194, 'ohhhh': 6195, 'ohioans': 6196, 'ohmyg': 6197, 'ohmygod': 6198, 'oi': 6199, 'oil': 6200, 'oily': 6201, 'oitnb': 6202, 'ok': 6203, 'okay': 6204, 'okay-ish': 6205, 'okayy': 6206, 'okayyyy': 6207, 'okie': 6208, 'okkay': 6209, 'okok': 6210, 'old': 6211, \"old's\": 6212, 'old-porridge': 6213, 'older': 6214, 'oldies': 6215, 'oldschool': 6216, 'oley': 6217, 'olive': 6218, 'olivia': 6219, 'oliviafowles': 6220, 'olly': 6221, 'olympic': 6222, 'omar': 6223, 'omaygad': 6224, 'omegle': 6225, 'omfg': 6226, 'omg': 6227, 'omgg': 6228, 'omggg': 6229, 'omgggg': 6230, 'on': 6231, 'on-board': 6232, 'on-pack': 6233, 'onair': 6234, 'once': 6235, 'one': 6236, 'ones': 6237, 'onions': 6238, 'onkey': 6239, 'online': 6240, 'only': 6241, 'onscreen': 6242, 'ontheroadagain': 6243, 'onting': 6244, 'onto': 6245, 'onwards': 6246, 'onyu': 6247, 'oo': 6248, 'ooh': 6249, 'oomf': 6250, 'oooooh': 6251, 'oooooooooohh': 6252, 'oooooooouch': 6253, 'oooops': 6254, 'oops': 6255, 'ooze': 6256, 'op': 6257, 'open': 6258, 'opener': 6259, 'openfollow': 6260, 'opening': 6261, 'operators': 6262, 'opi': 6263, 'opinions': 6264, 'opixer': 6265, 'opossum': 6266, 'oppa': 6267, 'oppayaa': 6268, 'opportune': 6269, 'opportunities': 6270, 'opportunity': 6271, 'oppose': 6272, 'opposite': 6273, 'oppressed': 6274, 'opt': 6275, 'opt-outed': 6276, 'optimisation': 6277, 'optimized': 6278, 'option': 6279, 'options': 6280, 'or': 6281, 'oracle': 6282, 'oralsex': 6283, 'orang': 6284, 'orange': 6285, 'orayt': 6286, 'orcalove': 6287, 'orchard': 6288, 'orchestra': 6289, 'order': 6290, 'ordered': 6291, 'ordering': 6292, 'orders': 6293, 'ordinary': 6294, 'oreos': 6295, 'ores': 6296, 'organic': 6297, 'organisation': 6298, 'organization': 6299, 'orgasm': 6300, 'orhan': 6301, 'orig': 6302, 'origin': 6303, 'original': 6304, 'originally': 6305, 'originates': 6306, 'orleans': 6307, 'orphan': 6308, 'orz': 6309, 'os': 6310, 'oscar': 6311, 'osea': 6312, 'oshieer': 6313, 'oss': 6314, 'osteopath': 6315, 'otamendi': 6316, 'otani': 6317, 'oth': 6318, 'other': 6319, 'others': 6320, 'otherwise': 6321, 'otl': 6322, 'otp': 6323, \"otp's\": 6324, 'otter': 6325, 'otw': 6326, 'otwol': 6327, 'otwolgrandtrailer': 6328, 'ouat': 6329, 'ouch': 6330, 'ought': 6331, 'ouh': 6332, 'our': 6333, 'ourdaughtersourpride': 6334, 'ourdisneyinfinity': 6335, 'ours': 6336, 'ourselves': 6337, 'out': 6338, 'outboarding': 6339, 'outdated': 6340, 'outdoor': 6341, 'outfit': 6342, 'outfwith': 6343, 'outie': 6344, 'outlive': 6345, 'outlying': 6346, 'outnumbered': 6347, 'outraged': 6348, 'outside': 6349, 'outstanding': 6350, 'outta': 6351, 'outtake': 6352, 'ouucchhh': 6353, 'ov': 6354, 'oval': 6355, 'oven': 6356, 'over': 6357, 'overcast': 6358, 'overdrawn': 6359, 'overdue': 6360, 'overgeneralization': 6361, 'overload': 6362, 'overly': 6363, 'overnight': 6364, 'overweight': 6365, 'overwhelmed': 6366, 'overwhelming': 6367, 'overwhelmingly': 6368, 'ovh': 6369, 'owe': 6370, 'owl': 6371, 'owly': 6372, 'own': 6373, 'owned': 6374, 'owner': 6375, 'owns': 6376, 'owww': 6377, 'owwww': 6378, 'p': 6379, 'pa-copy': 6380, 'paalam': 6381, 'pabebe': 6382, 'pabebegirls': 6383, 'pack': 6384, 'package': 6385, 'packed': 6386, 'packing': 6387, 'pad': 6388, 'paddock': 6389, 'pads': 6390, 'page': 6391, 'paid': 6392, 'pain': 6393, 'paindo': 6394, 'painful': 6395, 'pains': 6396, 'paint': 6397, 'painted': 6398, 'painting': 6399, 'pair': 6400, 'pairing': 6401, 'pak': 6402, 'pake': 6403, 'pakighinabi': 6404, 'pakistan': 6405, 'pakistanis': 6406, 'pal': 6407, 'pala': 6408, 'palace': 6409, 'pale': 6410, 'palembang': 6411, 'pallavi': 6412, 'pals': 6413, 'pamer': 6414, 'pampanga': 6415, 'pamper': 6416, 'pampered': 6417, 'pampering': 6418, 'pamuk': 6419, 'panas': 6420, 'pancakes': 6421, 'panda': 6422, 'pandimensional': 6423, 'pandora': 6424, 'panels': 6425, 'panem': 6426, 'panga': 6427, 'panic': 6428, 'pano': 6429, 'pantes': 6430, 'panties': 6431, 'pants': 6432, 'papa': 6433, 'paper': 6434, 'paperboys': 6435, 'papers': 6436, 'papertown': 6437, \"paperwhite's\": 6438, 'parade': 6439, 'paradise': 6440, 'paralysis': 6441, 'paralyzed': 6442, 'paramedics': 6443, 'parasyte': 6444, 'parcel': 6445, 'pardon': 6446, 'parent': 6447, 'parents': 6448, 'parijat': 6449, 'paris': 6450, 'parisa': 6451, 'park': 6452, 'parks': 6453, 'parkshare': 6454, 'parrot': 6455, 'part': 6456, 'participate': 6457, 'particular': 6458, 'particularly': 6459, 'parties': 6460, 'parting': 6461, 'partly': 6462, 'partner': 6463, 'parts': 6464, 'party': 6465, \"party's\": 6466, 'pas': 6467, 'pasha': 6468, 'pass': 6469, 'passed': 6470, 'passing': 6471, 'passport': 6472, 'password': 6473, 'past': 6474, 'paste': 6475, 'pasting': 6476, 'patch': 6477, 'path': 6478, 'pathor': 6479, 'pathways': 6480, 'patience': 6481, 'patient': 6482, 'patiently': 6483, 'patients': 6484, 'patml': 6485, 'patrice': 6486, 'patriotism': 6487, 'patron': 6488, 'pattern': 6489, 'patty': 6490, 'paul': 6491, 'pauline': 6492, 'pausetime': 6493, 'pausing': 6494, 'pawing': 6495, 'pay': 6496, 'paying': 6497, 'payment': 6498, 'payne': 6499, 'paypal': 6500, 'paysafecard': 6501, 'pb': 6502, 'pbbbigatingconcert': 6503, 'pbbgold': 6504, 'pbevent': 6505, 'pbloggers': 6506, 'pbr': 6507, 'pc': 6508, 'pcb': 6509, 'pchelok': 6510, 'pd': 6511, 'pdf': 6512, 'pea': 6513, 'peace': 6514, 'peaceful': 6515, 'peacefully': 6516, 'peachyloans': 6517, 'peak': 6518, 'peanut': 6519, 'peanuts': 6520, 'pearl': 6521, 'pearson': 6522, 'peasant': 6523, 'pebble': 6524, 'pech': 6525, 'pedal': 6526, 'pedant': 6527, 'pee': 6528, 'peek': 6529, 'peeled': 6530, 'peeling': 6531, 'peeps': 6532, 'pefumery': 6533, 'pegea': 6534, 'pegell': 6535, 'pehly': 6536, 'penacova': 6537, 'penis': 6538, 'penny': 6539, 'penrith': 6540, 'pens': 6541, 'pension': 6542, 'penthouse': 6543, 'penyfan': 6544, 'people': 6545, \"people's\": 6546, 'pepper': 6547, 'pepsi': 6548, 'percentage': 6549, 'peregrines': 6550, 'perf': 6551, 'perfect': 6552, 'perfection': 6553, 'perfectly': 6554, 'perform': 6555, 'performance': 6556, 'performances': 6557, 'performed': 6558, 'perfume': 6559, 'perhaps': 6560, 'period': 6561, 'periscope': 6562, 'permission': 6563, 'pero': 6564, 'person': 6565, 'persona': 6566, 'personal': 6567, 'personalised': 6568, 'personality': 6569, 'persons': 6570, 'perspective': 6571, 'persuade': 6572, 'peru': 6573, 'pervert': 6574, 'pesaro': 6575, 'pesos': 6576, 'pet': 6577, 'petaling': 6578, 'pete': 6579, 'peter': 6580, 'petite': 6581, 'petjam': 6582, 'petra': 6583, 'petrol': 6584, 'pets': 6585, 'peyton': 6586, 'pfb': 6587, 'pffff': 6588, 'pfft': 6589, 'pglcsgo': 6590, 'pgq': 6591, 'pgs': 6592, 'ph': 6593, 'phandroid': 6594, 'phantasy': 6595, 'pharma': 6596, 'phase': 6597, 'phela': 6598, 'phenomenal': 6599, 'phew': 6600, 'phil': 6601, 'phileas': 6602, 'philippa': 6603, 'philippines': 6604, 'philly': 6605, 'philosophical': 6606, 'phir': 6607, 'phl': 6608, \"phoebe's\": 6609, 'phone': 6610, 'phonegraphs': 6611, 'phones': 6612, 'phonesex': 6613, 'photo': 6614, 'photocards': 6615, 'photographer': 6616, 'photographs': 6617, 'photooftheday': 6618, 'photos': 6619, 'photoset': 6620, 'photoshoooot': 6621, 'photoshoot': 6622, 'photoshop': 6623, 'php': 6624, \"php's\": 6625, 'php-mysql': 6626, 'phrased': 6627, 'phulani': 6628, 'physical': 6629, 'physically': 6630, 'physics': 6631, 'physiotherapy': 6632, 'physique': 6633, 'pi': 6634, 'piano': 6635, 'pic': 6636, 'pick': 6637, 'picked': 6638, 'picking': 6639, 'picky': 6640, 'picnic': 6641, 'pics': 6642, 'picts': 6643, 'picture': 6644, 'pictures': 6645, 'pie': 6646, 'piece': 6647, 'pier': 6648, 'pierce': 6649, 'pierced': 6650, 'pierojogger': 6651, 'pigeon': 6652, 'piggin': 6653, 'pigs': 6654, 'pijjabłka': 6655, 'pikami': 6656, 'pile': 6657, 'pillar': 6658, 'pillars': 6659, 'pilllow': 6660, 'pills': 6661, 'pin': 6662, 'pining': 6663, 'pink': 6664, 'pinkeu': 6665, 'pinkfinite': 6666, 'pinya': 6667, 'pipes': 6668, 'pippa': 6669, 'pipped': 6670, 'pirouette': 6671, 'pish': 6672, 'piss': 6673, 'pissed': 6674, 'pisses': 6675, 'pistols': 6676, 'pitbull': 6677, 'pitchwars': 6678, 'pitmantraining': 6679, 'pits': 6680, 'pity': 6681, \"pixar's\": 6682, 'pixelated': 6683, 'pixels': 6684, 'pixgram': 6685, 'pizza': 6686, 'pizzas': 6687, 'pjs': 6688, 'pkwalasawaal': 6689, 'place': 6690, 'places': 6691, 'plague': 6692, 'plains': 6693, 'plan': 6694, 'plane': 6695, 'planed': 6696, 'planet': 6697, 'planned': 6698, 'planner': 6699, 'planning': 6700, 'plans': 6701, 'plant': 6702, 'planted': 6703, 'plaster': 6704, 'platonic': 6705, 'play': 6706, 'playables': 6707, 'played': 6708, 'player': 6709, 'players': 6710, 'playin': 6711, 'playing': 6712, 'playlist': 6713, 'plays': 6714, 'playstation': 6715, 'pleaaase': 6716, 'pleas': 6717, 'pleasant': 6718, 'pleasanton': 6719, 'please': 6720, 'pleased': 6721, 'pleaseee': 6722, 'pleaseeeee': 6723, 'pleass': 6724, 'pleasse': 6725, 'pleasure': 6726, 'pledge': 6727, 'plezzzz': 6728, 'pliss': 6729, 'plisss': 6730, 'pll': 6731, 'plot': 6732, 'plots': 6733, 'pls': 6734, 'plss': 6735, 'plsss': 6736, 'plsssssss': 6737, 'plssssssssssssssss': 6738, 'pluckerssss': 6739, 'plug': 6740, 'plugin': 6741, 'plus': 6742, 'plushes': 6743, 'plusmiles': 6744, 'ply': 6745, 'plz': 6746, 'pm': 6747, 'po': 6748, 'poc': 6749, 'pocket': 6750, 'pod': 6751, 'poems': 6752, 'poetry': 6753, 'point': 6754, 'points': 6755, 'poisoning': 6756, 'pokemon': 6757, 'polaroid': 6758, 'poldi': 6759, 'police': 6760, 'polish': 6761, 'polite': 6762, 'political': 6763, 'politicians': 6764, 'politics': 6765, 'polka': 6766, 'pollution': 6767, 'pon': 6768, 'pong': 6769, 'pony': 6770, 'pool': 6771, 'pooo': 6772, 'poooo': 6773, 'poooootek': 6774, 'poop': 6775, 'poopie': 6776, 'poor': 6777, 'poorly': 6778, 'pop': 6779, 'popcorn': 6780, 'popol': 6781, 'popped': 6782, 'poppin': 6783, 'popsicles': 6784, 'popular': 6785, 'popularity': 6786, 'por': 6787, 'pora': 6788, 'porch': 6789, 'porn': 6790, 'porno': 6791, 'porosh': 6792, 'porsche': 6793, 'porschesupercup': 6794, 'portrait': 6795, 'portsmouth': 6796, 'portugal': 6797, 'pose': 6798, 'posey': 6799, 'positive': 6800, 'possible': 6801, 'possibly': 6802, 'possitve': 6803, 'post': 6804, 'postcode': 6805, 'posted': 6806, 'poster': 6807, 'postie': 6808, 'posting': 6809, 'postive': 6810, 'postpone': 6811, 'posts': 6812, 'potager': 6813, 'potato': 6814, 'potentially': 6815, 'pothole': 6816, 'potter': 6817, 'pou': 6818, 'pounce': 6819, 'pouring': 6820, 'pout': 6821, 'povertyyouareevil': 6822, 'powder': 6823, 'power': 6824, 'powerful': 6825, 'powerpoint': 6826, 'powers': 6827, 'powys': 6828, 'ppl': 6829, 'pr': 6830, 'practice': 6831, 'practicing': 6832, 'prada': 6833, 'pramis': 6834, 'pray': 6835, 'prayers': 6836, 'praying': 6837, 'pre': 6838, 'pre-holiday': 6839, 'pre-ordered': 6840, 'pre-season': 6841, 'precious': 6842, 'predict': 6843, 'prefer': 6844, 'preferred': 6845, 'preform': 6846, 'pregnancy': 6847, 'pregnant': 6848, 'prelims': 6849, 'premiere': 6850, 'premiostumundo': 6851, 'premiun': 6852, 'preorder': 6853, 'prepaid': 6854, 'prepared': 6855, 'prescott': 6856, 'prescription': 6857, 'present': 6858, 'presentation': 6859, 'presenting': 6860, 'presents': 6861, 'president': 6862, 'press': 6863, 'pressrelease': 6864, 'pressure': 6865, 'pret': 6866, 'pretend': 6867, 'pretoria': 6868, 'prettier': 6869, 'prettiest': 6870, 'pretty': 6871, 'pretzels': 6872, 'prevalent': 6873, 'preview': 6874, 'previous': 6875, 'prexy': 6876, 'prey': 6877, 'pri': 6878, 'price': 6879, 'pricelessantique': 6880, 'prices': 6881, 'pride': 6882, 'prima': 6883, 'prime': 6884, 'prince': 6885, 'princess': 6886, 'principal': 6887, 'prinsesa': 6888, 'print': 6889, 'printed': 6890, 'printer': 6891, 'printers': 6892, 'printing': 6893, 'prior': 6894, 'priority': 6895, 'pris': 6896, 'prisssss': 6897, 'privacy': 6898, 'private': 6899, 'privilege': 6900, 'prize': 6901, 'pro': 6902, 'proactive': 6903, 'prob': 6904, 'probably': 6905, 'problem': 6906, 'problematic': 6907, 'problemmmmmmm': 6908, 'problems': 6909, 'probs': 6910, 'procedure': 6911, 'process': 6912, 'processed': 6913, 'procrastinating': 6914, 'produce': 6915, 'producer': 6916, 'product': 6917, 'productive': 6918, 'products': 6919, 'profile': 6920, 'program': 6921, 'programme': 6922, 'programmes': 6923, 'progress': 6924, 'progrmr': 6925, 'project': 6926, 'projects': 6927, 'prokabaddi': 6928, 'prolly': 6929, 'promethazine': 6930, 'promise': 6931, 'promised': 6932, 'promising': 6933, 'promo': 6934, 'promos': 6935, 'promote': 6936, 'promoted': 6937, 'promotional': 6938, 'promotions': 6939, 'prompts': 6940, 'pronounce': 6941, 'propa': 6942, 'proper': 6943, 'properly': 6944, 'properties': 6945, 'property': 6946, 'prophets': 6947, 'proposal': 6948, 'propose': 6949, 'proposed': 6950, 'propriety': 6951, 'pros': 6952, 'prosecco': 6953, 'protect': 6954, 'protection': 6955, 'protein': 6956, 'proud': 6957, 'proudtobeme': 6958, 'prove': 6959, 'proverb': 6960, 'proves': 6961, 'provide': 6962, 'proving': 6963, 'provoking': 6964, 'prrequest': 6965, 'prydz': 6966, 'ps': 6967, 'psychopaths': 6968, 'psygustokita': 6969, 'pta': 6970, 'pti': 6971, 'ptsd': 6972, 'pub': 6973, 'pubcast': 6974, 'pubes': 6975, 'public': 6976, 'publication': 6977, 'publilius': 6978, 'published': 6979, 'pubs': 6980, 'pud': 6981, 'puddle': 6982, 'puffy': 6983, 'puhon': 6984, 'puke': 6985, 'puking': 6986, 'pull': 6987, 'pulled': 6988, 'pump': 6989, 'pumped': 6990, 'pumpkin': 6991, 'pumpkins': 6992, 'puns': 6993, 'punting': 6994, 'pup': 6995, 'puppy': 6996, 'purchase': 6997, 'purchased': 6998, 'pure': 6999, 'purrthos': 7000, 'purty': 7001, 'push': 7002, 'pusher': 7003, 'pushes': 7004, 'pushing': 7005, 'pussy': 7006, 'pussycats': 7007, 'put': 7008, 'putovanja': 7009, 'puts': 7010, 'putting': 7011, 'pwrfl': 7012, 'px': 7013, 'pyaari': 7014, 'pyaaz': 7015, 'pyjamas': 7016, 'pz': 7017, 'q': 7018, \"q'don\": 7019, 'qatarday': 7020, 'qih': 7021, 'qt': 7022, 'quacketyquack': 7023, 'quad': 7024, 'qualified': 7025, 'qualify': 7026, 'quality': 7027, 'quan': 7028, 'quantum': 7029, 'que': 7030, 'queen': 7031, 'queenesther': 7032, 'queens': 7033, 'queries': 7034, 'question': 7035, 'questions': 7036, 'quetiapine': 7037, 'quezon': 7038, 'quick': 7039, 'quicker': 7040, 'quickest': 7041, 'quickly': 7042, 'quiet': 7043, 'quietly': 7044, 'quit': 7045, 'quite': 7046, 'quiz': 7047, 'quote': 7048, 'quotes': 7049, 'quuuuuuee': 7050, 'r': 7051, \"r'ships\": 7052, 'rabbit': 7053, 'race': 7054, 'races': 7055, 'rachel': 7056, 'racial': 7057, 'racing': 7058, 'racist': 7059, 'racket': 7060, 'radio': 7061, 'rage': 7062, 'raha': 7063, 'raheel': 7064, 'raid': 7065, 'railway': 7066, 'rain': 7067, 'raincoat': 7068, 'raining': 7069, 'rains': 7070, 'rainy': 7071, 'raise': 7072, 'raiz': 7073, 'rajnigandha': 7074, 'rajud': 7075, 'rakhi': 7076, 'rakna': 7077, 'rakyat': 7078, 'rally': 7079, 'ram': 7080, 'ramadhan': 7081, 'ramd': 7082, 'ramos': 7083, 'ramzan': 7084, 'ran': 7085, 'rancho': 7086, 'random': 7087, 'randomly': 7088, 'randomreboot': 7089, 'randomrestart': 7090, 'rands': 7091, 'randybis': 7092, 'rang': 7093, 'range': 7094, 'ranges': 7095, 'ranked': 7096, 'ranking': 7097, 'rant': 7098, 'rape': 7099, 'rapists': 7100, 'rapper': 7101, 'rappings': 7102, 'rapunzel': 7103, 'rare': 7104, 'rarely': 7105, 'rash': 7106, 'rashmi': 7107, 'raspberry': 7108, 'rat': 7109, 'ratbaglater': 7110, 'rate': 7111, 'rather': 7112, 'rattle': 7113, 'ravages': 7114, 'rave': 7115, 'raven': 7116, 'raw': 7117, 'ray': 7118, \"ray's\": 7119, 'rays': 7120, 'razi': 7121, 'razzist': 7122, 'rbi': 7123, 'rd': 7124, 'rdd': 7125, 're': 7126, 're-cap': 7127, 're-watch': 7128, 'reaally': 7129, 'reaaly': 7130, 'reaapearing': 7131, 'reabsorbtion': 7132, 'reach': 7133, 'reachability': 7134, 'reached': 7135, 'reaches': 7136, 'reactions': 7137, 'read': 7138, 'reader': 7139, 'readers': 7140, 'reading': 7141, 'readingres': 7142, 'ready': 7143, 'readystock': 7144, 'real': 7145, 'realise': 7146, 'realised': 7147, 'realising': 7148, 'realistic': 7149, 'realisticly': 7150, 'realize': 7151, 'realized': 7152, 'realizing': 7153, 'really': 7154, 'realoshi': 7155, 'realreviews': 7156, 'rear': 7157, 'rear-ended': 7158, 'reason': 7159, 'reasons': 7160, 'reasonstovisitmombasa': 7161, 'reassured': 7162, 'reboarding': 7163, 'recall': 7164, 'receive': 7165, 'received': 7166, 'receiving': 7167, 'recent': 7168, 'recently': 7169, 'receptionist': 7170, 'rechargeable': 7171, 'recieved': 7172, 'recipe': 7173, 'recipes': 7174, 'recite': 7175, 'recites': 7176, 'reckon': 7177, 'recommend': 7178, 'recommendation': 7179, 'recommendations': 7180, 'recommended': 7181, 'record': 7182, 'recorded': 7183, 'recording': 7184, 'recovered': 7185, 'recruited': 7186, 'recruiting': 7187, 'recs': 7188, 'red': 7189, 'redecorate': 7190, 'redeem': 7191, 'redhead': 7192, 'redid': 7193, 'references': 7194, 'refinements': 7195, 'refresh': 7196, 'refreshed': 7197, 'refreshing': 7198, 'refuel': 7199, 'refurbished': 7200, 'regarding': 7201, 'regens': 7202, 'region': 7203, 'regional': 7204, 'regions': 7205, 'regret': 7206, 'regretting': 7207, 'regular': 7208, 'regularly': 7209, 'reh': 7210, 'rehash': 7211, 'rehearsal': 7212, 'rehearse': 7213, 'reign': 7214, 'reina': 7215, 'reject': 7216, 'rejected': 7217, 'rejection': 7218, 'rela': 7219, 'relate': 7220, 'related': 7221, 'relationship': 7222, 'relationships': 7223, 'relatives': 7224, 'relax': 7225, 'relaxed': 7226, 'relaxes': 7227, 'relaxing': 7228, 'release': 7229, 'released': 7230, 'releasing': 7231, 'relentlessly': 7232, 'relevant': 7233, 'relief': 7234, 'reliever': 7235, 'religion': 7236, 'remained': 7237, 'remarriage': 7238, 'remastered': 7239, 'remedy': 7240, 'remember': 7241, 'remembered': 7242, 'remind': 7243, 'reminder': 7244, 'reminds': 7245, 'remix': 7246, 'remixes': 7247, 'remote': 7248, 'remove': 7249, 'removed': 7250, 'renamed': 7251, 'renew': 7252, 'rent': 7253, 'rep': 7254, 'repack': 7255, 'repackage': 7256, 'repacks': 7257, 'repair': 7258, 'repairs': 7259, 'repath': 7260, 'repay': 7261, 'repeat': 7262, 'repeated': 7263, 'repeatedly': 7264, 'replacement': 7265, 'replacements': 7266, 'replay': 7267, 'replenishing': 7268, 'replied': 7269, 'replies': 7270, 'reply': 7271, 'replying': 7272, 'report': 7273, 'reported': 7274, 'reports': 7275, 'repost': 7276, 'representatives': 7277, 'representing': 7278, 'represents': 7279, 'reputation': 7280, 'reqd': 7281, 'request': 7282, 'requests': 7283, 'required': 7284, 'requirements': 7285, 'rescoops': 7286, 'rescue': 7287, 'researchers': 7288, 'researching': 7289, 'reservation': 7290, 'reservations': 7291, 'reserve': 7292, 'reset': 7293, 'residents': 7294, 'resort': 7295, 'resources': 7296, 'respect': 7297, 'respected': 7298, 'respective': 7299, 'respectlost': 7300, 'respond': 7301, 'responded': 7302, 'response': 7303, 'responses': 7304, 'responsibilities': 7305, 'rest': 7306, 'restarted': 7307, 'resto': 7308, 'restore': 7309, 'restrict': 7310, 'restricted': 7311, 'result': 7312, 'results': 7313, 'resy': 7314, 'retail': 7315, 'retailers': 7316, 'retainers': 7317, 'retaliate': 7318, 'retard': 7319, 'rettweet': 7320, 'return': 7321, 'returning': 7322, 'retweet': 7323, 'retweeted': 7324, 'retweeting': 7325, 'retweets': 7326, 'reunite': 7327, 'reunited': 7328, 'reusful': 7329, 'revamps': 7330, 'revealed': 7331, 'review': 7332, 'reviewing': 7333, 'reviews': 7334, 'rewarding': 7335, 'rewatched': 7336, 'rewert': 7337, 'reynold': 7338, 'reynoldsgrl': 7339, 'rhd': 7340, 'rhisfor': 7341, 'rhys': 7342, 'rib': 7343, 'ribs': 7344, 'rice': 7345, 'rich': 7346, 'richard': 7347, 'rick': 7348, 'ricky': 7349, 'rid': 7350, 'ridden': 7351, 'ride': 7352, 'rider': 7353, 'rides': 7354, 'ridiculous': 7355, 'riding': 7356, 'right': 7357, 'rightnow': 7358, 'rights': 7359, 'rigid': 7360, 'rihanna': 7361, 'ring': 7362, 'rings': 7363, 'rip': 7364, 'ripaaaaa': 7365, 'ripped': 7366, 'ripsandrabland': 7367, 'ripstegi': 7368, 'riptito': 7369, 'riri': 7370, 'rise': 7371, 'rising': 7372, 'risk': 7373, 'risky': 7374, 'rita': 7375, 'rito': 7376, 'ritual': 7377, 'river': 7378, 'rizal': 7379, 'rize': 7380, 'rlly': 7381, 'rly': 7382, 'rlyhurts': 7383, 'rlyyyy': 7384, 'rm': 7385, 'rma': 7386, 'rmtour': 7387, 'rn': 7388, 'road': 7389, 'roads': 7390, 'roadtrip': 7391, 'roar': 7392, 'roasted': 7393, 'rob': 7394, 'robbed': 7395, 'robe': 7396, 'robert': 7397, \"robert's\": 7398, 'roberts': 7399, 'robin': 7400, 'robinhood': 7401, 'robinhoodies': 7402, 'robs': 7403, 'robyn': 7404, 'rock': 7405, 'rocket': 7406, 'rockfishing': 7407, 'rocking': 7408, 'rocks': 7409, 'rocroglodyysbro': 7410, 'rod': 7411, 'rodders': 7412, 'rodfanta': 7413, 'rodwell': 7414, 'rofl': 7415, 'rogerwatch': 7416, 'rohingya': 7417, 'rohit': 7418, 'role': 7419, 'roll': 7420, 'rolled': 7421, 'roller': 7422, 'rolling': 7423, 'rolls': 7424, 'roma': 7425, 'romance': 7426, 'romantic': 7427, 'romantica': 7428, 'rome': 7429, 'roof': 7430, 'room': 7431, 'roomie': 7432, 'roommateexperience': 7433, 'roommates': 7434, 'rooting': 7435, 'rose': 7436, 'rosebury': 7437, 'roses': 7438, 'rosh': 7439, 'rosidbinr': 7440, 'ross': 7441, 'rotate': 7442, 'rotation': 7443, 'rotorua': 7444, 'rough': 7445, 'round': 7446, 'rounds': 7447, 'route': 7448, 'routine': 7449, 'routte': 7450, 'roux': 7451, 'row': 7452, 'roy': 7453, 'royal': 7454, 'royally': 7455, 'rp': 7456, 'rply': 7457, 'rqst': 7458, 'rrp': 7459, 'rt': 7460, 'rtd': 7461, 'rted': 7462, 'rts': 7463, 'rtss': 7464, 'rub': 7465, 'rubber': 7466, 'rubbish': 7467, 'ruby': 7468, 'rude': 7469, 'rudramadevi': 7470, 'ruin': 7471, 'ruined': 7472, 'ruining': 7473, 'ruins': 7474, 'rules': 7475, 'rumbelle': 7476, 'rumble': 7477, 'rumor': 7478, 'rumpy': 7479, 'run': 7480, 'rundown': 7481, 'runescape': 7482, 'running': 7483, 'runny': 7484, 'runs': 7485, 'rupert': 7486, 'rush': 7487, 'russian': 7488, 'ruth': 7489, 'rxthedailysurveyvotes': 7490, 'ry': 7491, 'ryan': 7492, 'ryu': 7493, 's': 7494, \"s'okay\": 7495, 'sa': 7496, 'saaaaaaad': 7497, 'saaaad': 7498, 'saaad': 7499, 'saam': 7500, 'saar': 7501, 'sabadodeganarseguidores': 7502, 'sabah': 7503, \"sacconejoly's\": 7504, 'sachin': 7505, 'sad': 7506, 'saddest': 7507, 'sadkaay': 7508, 'sadly': 7509, 'sadlyf': 7510, 'sadness': 7511, 'sadomasochist': 7512, 'sadomasochistsparadise': 7513, 'saera': 7514, 'safaa': 7515, 'safe': 7516, 'safer': 7517, 'saffron': 7518, 'said': 7519, 'sail': 7520, 'sake': 7521, 'sakho': 7522, 'sakin': 7523, 'sakit': 7524, 'saklap': 7525, 'sakura': 7526, 'salabraty': 7527, 'salam': 7528, 'salamat': 7529, 'sale': 7530, 'sales': 7531, 'sali': 7532, 'salmon': 7533, 'salsa': 7534, 'salut': 7535, 'salute': 7536, 'sam': 7537, 'samantha': 7538, 'sambal': 7539, 'same': 7540, 'sameee': 7541, 'samjha': 7542, 'samosas': 7543, 'sampath': 7544, 'samples': 7545, 'sams': 7546, 'samsung': 7547, 'san': 7548, 'sandae': 7549, 'sandboarding': 7550, 'sandcastle': 7551, 'sandra': 7552, 'sandrabland': 7553, 'sandroforceo': 7554, 'sandwhich': 7555, 'sandwich': 7556, 'sandwiches': 7557, 'sane': 7558, 'santo': 7559, 'santorini': 7560, 'sanum': 7561, 'sanza': 7562, 'saphire': 7563, 'sapiosexual': 7564, 'sara': 7565, 'sarah': 7566, 'sarajevo': 7567, 'saran': 7568, 'sararocs': 7569, 'saras': 7570, 'sarcasm': 7571, 'sasin': 7572, 'sat': 7573, 'sath': 7574, 'satire': 7575, 'satisfied': 7576, 'saturday': 7577, 'satya': 7578, 'satyajit': 7579, 'sauce': 7580, 'sausage': 7581, 'savage': 7582, 'savanna': 7583, 'save': 7584, 'saved': 7585, 'saves': 7586, 'savetherohingya': 7587, 'saw': 7588, 'say': 7589, 'sayed': 7590, 'sayhername': 7591, 'saying': 7592, 'says': 7593, 'sazballs': 7594, 'sbali': 7595, 'sbenu': 7596, 'sc': 7597, 'scale': 7598, 'scam': 7599, 'scamper': 7600, 'scan': 7601, 'scared': 7602, 'scarf': 7603, 'scaring': 7604, 'scarred': 7605, 'scary': 7606, 'scenario': 7607, 'scenes': 7608, 'sch': 7609, 'schade': 7610, 'sched': 7611, 'schedule': 7612, \"schedule's\": 7613, 'scheduled': 7614, 'schemes': 7615, \"scheuermann's\": 7616, 'school': 7617, \"school's\": 7618, 'schools': 7619, 'schoolsoutforsummer': 7620, 'schoolworks': 7621, 'science': 7622, 'scientist': 7623, 'scififan': 7624, 'scissors': 7625, 'scold': 7626, 'scones': 7627, 'scope': 7628, 'scorch': 7629, 'scorching': 7630, 'score': 7631, 'scored': 7632, 'scores': 7633, 'scotland': 7634, 'scotlandismassive': 7635, 'scottish': 7636, 'scoups': 7637, 'scousers': 7638, 'scouting': 7639, 'scream': 7640, 'screaming': 7641, 'screencaps': 7642, 'screenshot': 7643, 'screenshots': 7644, 'screenshotting': 7645, 'screw': 7646, 'screwed': 7647, 'scrolling': 7648, 'scrubbed': 7649, 'scrummy': 7650, \"sculptor's\": 7651, 'scurri': 7652, 'sd': 7653, 'se': 7654, 'sea': 7655, 'seafood': 7656, 'search': 7657, 'season': 7658, 'seasons': 7659, 'seat': 7660, 'seatmates': 7661, 'seats': 7662, 'sebastian': 7663, 'second': 7664, \"second's\": 7665, 'secondary': 7666, 'secret': 7667, 'secrets': 7668, 'sect': 7669, 'section': 7670, 'secure': 7671, 'security': 7672, 'sed': 7673, 'see': 7674, 'seed': 7675, 'seeds': 7676, 'seehiah': 7677, 'seeing': 7678, 'seeker': 7679, 'seekly': 7680, 'seem': 7681, 'seemed': 7682, 'seems': 7683, 'seen': 7684, 'sees': 7685, 'segalakatakata': 7686, 'sehun': 7687, 'sel': 7688, 'selamat': 7689, 'selamathariraya': 7690, 'selangor': 7691, 'seleaders': 7692, 'selections': 7693, 'selektion': 7694, 'selena': 7695, \"selena's\": 7696, 'selenators': 7697, 'self': 7698, 'self-publishers': 7699, 'self-xss': 7700, 'selfie': 7701, 'selfieeeee': 7702, 'selfies': 7703, 'selfish': 7704, 'selfshot': 7705, 'sell': 7706, 'selling': 7707, 'sellyourcarinwords': 7708, 'selos': 7709, 'selway': 7710, 'sem': 7711, 'sembuh': 7712, 'semester': 7713, 'semi': 7714, 'semo': 7715, 'send': 7716, 'sending': 7717, 'sends': 7718, 'sengenza': 7719, 'senight': 7720, 'senior': 7721, 'seniors': 7722, 'senpai': 7723, 'sense': 7724, 'sensible': 7725, 'sensiesha': 7726, 'sensor': 7727, 'sent': 7728, 'sentir-se': 7729, 'seo': 7730, 'seouljins': 7731, 'separately': 7732, 'sept': 7733, 'september': 7734, 'septum': 7735, 'sequel': 7736, 'serbia': 7737, 'serbian': 7738, 'series': 7739, 'serious': 7740, 'seriously': 7741, 'seriousness': 7742, 'sers': 7743, 'serve': 7744, 'server': 7745, 'serves': 7746, 'service': 7747, 'services': 7748, 'servicewithasmile': 7749, 'servus': 7750, 'session': 7751, 'sessions': 7752, 'set': 7753, 'sethi': 7754, 'setokido': 7755, 'sets': 7756, 'setter': 7757, 'setting': 7758, 'settle': 7759, 'setup': 7760, 'seungchan': 7761, 'seungyeon': 7762, 'seven': 7763, 'several': 7764, 'severe': 7765, 'severely': 7766, 'sew': 7767, 'sex': 7768, 'sexcam': 7769, 'sexchat': 7770, 'sexdate': 7771, 'sexi': 7772, 'sexo': 7773, 'sexual': 7774, 'sexy': 7775, 'sexyamelie': 7776, 'sexygirlbypreciouslemmy': 7777, 'sexyjane': 7778, 'sexyjudy': 7779, 'sexysasunday': 7780, 'sf': 7781, 'sfs': 7782, 'sfvbeta': 7783, 'sg': 7784, 'shaa': 7785, 'shaaaa': 7786, 'shade': 7787, 'shades': 7788, 'shading': 7789, 'shadowplaylouis': 7790, 'shadows': 7791, 'shady': 7792, \"shady's\": 7793, 'shahid': 7794, 'shake': 7795, 'shakes': 7796, 'shaking': 7797, 'shall': 7798, 'shalwarkameez': 7799, 'sham': 7800, 'shame': 7801, \"shamuon's\": 7802, 'shane': 7803, 'shannon': 7804, 'shanzay': 7805, 'shape': 7806, 'share': 7807, 'shared': 7808, 'sharethelove': 7809, 'sharing': 7810, 'shark': 7811, 'sharm': 7812, 'sharp': 7813, 'sharyl': 7814, 'shatter': 7815, 'shaun': 7816, 'shauri': 7817, 'shave': 7818, 'shaved': 7819, 'shawn': 7820, 'shawty': 7821, 'shaylan': 7822, 'she': 7823, 'shedding': 7824, 'sheen': 7825, 'sheep': 7826, 'sheeps': 7827, 'sheer': 7828, 'sheeran': 7829, 'sheffield': 7830, 'shek': 7831, 'shem': 7832, 'shems': 7833, 'shepherd': 7834, 'shepherds': 7835, 'sheriff': 7836, 'sheskindahot': 7837, 'shet': 7838, 'shiatsu': 7839, 'shift': 7840, 'shifting': 7841, 'shifts': 7842, 'shiiiit': 7843, 'shiiiitt': 7844, 'shiiit': 7845, 'shining': 7846, 'shinsengumi': 7847, 'shiny': 7848, 'ship': 7849, 'shipped': 7850, 'shippers': 7851, 'shipping': 7852, 'ships': 7853, 'shir': 7854, 'shirleycam': 7855, 'shirt': 7856, 'shirts': 7857, 'shit': 7858, 'shite': 7859, 'shitfaced': 7860, 'shithouse': 7861, 'shittier': 7862, 'shitty': 7863, 'shiva': 7864, 'shiver': 7865, 'sho': 7866, 'shobs': 7867, 'shock': 7868, 'shocking': 7869, 'shoe': 7870, 'shoes': 7871, 'shoeshi': 7872, 'shogi': 7873, 'sholong': 7874, 'shoot': 7875, 'shooting': 7876, 'shootings': 7877, 'shop': 7878, 'shopping': 7879, 'shops': 7880, 'shor': 7881, 'short': 7882, 'shorter': 7883, 'shorthaired': 7884, 'shortlist': 7885, 'shortly': 7886, 'shorts': 7887, 'shoshannavassil': 7888, 'shot': 7889, 'shots': 7890, 'should': 7891, 'shoulda': 7892, 'shouldeeerr': 7893, 'shoulder': 7894, 'shoushitsu': 7895, 'shout': 7896, 'shouting': 7897, 'shoutout': 7898, 'shoutouts': 7899, 'show': 7900, 'showbox': 7901, 'showed': 7902, 'shower': 7903, 'showers': 7904, 'showing': 7905, 'shown': 7906, 'showpo': 7907, 'shows': 7908, 'shravan': 7909, 'shropshire': 7910, 'shud': 7911, 'shuffle': 7912, 'shut': 7913, 'shweta': 7914, 'shxbs': 7915, 'shy': 7916, 'sia': 7917, 'sialan': 7918, 'sian': 7919, 'siannn': 7920, 'sibuk': 7921, 'sic': 7922, 'sick': 7923, 'siddi': 7924, 'side': 7925, 'sides': 7926, 'sidni': 7927, 'sigeg': 7928, 'sigh': 7929, 'sighs': 7930, 'sighssss': 7931, 'sight': 7932, 'sights': 7933, 'sign': 7934, 'signal': 7935, 'signature': 7936, 'signed': 7937, 'signing': 7938, 'signs': 7939, 'siguro': 7940, 'sikandar': 7941, 'silang': 7942, 'silently': 7943, 'silicon': 7944, 'silly': 7945, 'silverstone': 7946, 'similar': 7947, 'simon': 7948, 'simple': 7949, 'simply': 7950, 'simpson': 7951, 'sims': 7952, 'sinaloa': 7953, 'since': 7954, 'sing': 7955, 'singapore': 7956, 'singer': 7957, 'singing': 7958, 'single': 7959, 'singles': 7960, 'sinhala': 7961, 'sinister': 7962, 'sins': 7963, 'sinse': 7964, 'sinuend': 7965, 'sir': 7966, 'siregar': 7967, 'sirf': 7968, 'sirius': 7969, 'sirkay': 7970, 'sis': 7971, 'sissi': 7972, 'sister': 7973, \"sister's\": 7974, 'sister-in-law': 7975, 'sisters': 7976, 'sit': 7977, 'site': 7978, 'sits': 7979, 'sitting': 7980, 'situated': 7981, 'situation': 7982, 'six': 7983, 'sizams': 7984, 'size': 7985, 'sizing': 7986, 'sizwe': 7987, 'sj': 7988, 'sjkaos': 7989, 'sjw': 7990, 'skate': 7991, 'skating': 7992, 'skeem': 7993, 'skills': 7994, 'skin': 7995, 'skinny': 7996, 'skins': 7997, 'skip': 7998, 'skirt': 7999, 'skoy': 8000, 'skrillah': 8001, 'skulker': 8002, 'sky': 8003, 'skyblock': 8004, 'skye': 8005, 'skyfall': 8006, 'skype': 8007, 'slacke': 8008, 'slacking': 8009, 'slammed': 8010, 'slap': 8011, 'slapped': 8012, 'slayed': 8013, 'sleeeeep': 8014, 'sleeeep': 8015, 'sleep': 8016, 'sleepdeprived': 8017, 'sleeping': 8018, 'sleepingwithsirens': 8019, 'sleepovers': 8020, 'sleeptight': 8021, 'sleepy': 8022, 'slept': 8023, 'slice': 8024, 'slideshow': 8025, 'sliding': 8026, 'slightly': 8027, 'slip': 8028, 'slippers': 8029, 'slogan': 8030, 'sloppy': 8031, 'slots': 8032, 'slotted': 8033, 'slovak': 8034, \"slovakia's\": 8035, 'slovenia': 8036, 'slow': 8037, 'slower': 8038, 'slowly': 8039, 'slp': 8040, 'slr': 8041, 'sm': 8042, 'small': 8043, 'smart': 8044, 'smashingbook': 8045, 'sme': 8046, 'smell': 8047, 'smells': 8048, 'smelly': 8049, 'smf': 8050, 'smh': 8051, 'smi': 8052, 'smile': 8053, 'smiled': 8054, 'smiles': 8055, 'smiling': 8056, 'smith': 8057, 'smoak': 8058, 'smoke': 8059, 'smoking': 8060, 'smooth': 8061, 'sms': 8062, 'smthng': 8063, 'smtm': 8064, 'smu': 8065, 'smug': 8066, 'sn': 8067, 'snake': 8068, 'snakes': 8069, 'snap': 8070, 'snapchat': 8071, 'snapchatme': 8072, 'snapme': 8073, 'snark': 8074, 'sneak': 8075, 'sneakers': 8076, 'sneaking': 8077, 'sneaks': 8078, 'sneezy': 8079, 'sniff': 8080, 'snit': 8081, 'snob': 8082, 'snobby': 8083, 'snooker': 8084, 'snoozed': 8085, 'snot': 8086, 'snow': 8087, 'snpcaht': 8088, 'snsd': 8089, 'snuggle': 8090, 'so': 8091, 'soak': 8092, 'soamazing': 8093, 'soaps': 8094, 'sobbing': 8095, 'sobrang': 8096, 'sobs': 8097, 'sobtian': 8098, 'soccer': 8099, 'socent': 8100, 'social': 8101, 'socialising': 8102, 'socialmedia': 8103, 'socialrewards': 8104, 'sociamedia': 8105, 'society': 8106, 'socket': 8107, 'socks': 8108, \"sod's\": 8109, 'soda': 8110, 'sodders': 8111, 'sofa': 8112, 'soft': 8113, 'softball': 8114, 'software': 8115, 'soggy': 8116, 'sohappyrightnow': 8117, 'soho': 8118, 'solar': 8119, 'sold': 8120, 'solid': 8121, 'soln': 8122, 'solo': 8123, \"soloist's\": 8124, 'solos': 8125, 'solution': 8126, 'solve': 8127, 'solved': 8128, 'solvo': 8129, 'some': 8130, 'somebody': 8131, 'someday': 8132, 'somehow': 8133, 'someone': 8134, 'somerset': 8135, 'something': 8136, 'sometime': 8137, 'sometimes': 8138, 'somewhere': 8139, 'somi': 8140, 'soms': 8141, 'son': 8142, \"son's\": 8143, 'sona': 8144, 'sonaaaaaaa': 8145, 'sonal': 8146, 'sone': 8147, 'song': 8148, 'songs': 8149, 'sonic': 8150, 'soniii': 8151, 'sons': 8152, 'soo': 8153, 'soobin': 8154, 'soon': 8155, 'soonest': 8156, 'sooo': 8157, 'soooo': 8158, 'sooooo': 8159, 'sooooooo': 8160, 'soooooooner': 8161, 'soooooooo': 8162, 'sooooooooo': 8163, 'sooooooooooo': 8164, 'soothing': 8165, 'soph': 8166, 'sophie': 8167, 'sopranos': 8168, 'sore': 8169, 'sorka': 8170, 'sorna': 8171, 'sorrrrryyyyy': 8172, 'sorrry': 8173, 'sorry': 8174, 'sort': 8175, 'sorta': 8176, 'sorted': 8177, 'sorting': 8178, 'soshi': 8179, 'sosweet': 8180, 'sotired': 8181, 'sotw': 8182, 'soul': 8183, 'soulful': 8184, 'soulmate': 8185, 'souls': 8186, 'soulsurvivor': 8187, 'sound': 8188, 'soundcheck': 8189, 'sounding': 8190, 'sounds': 8191, 'soundtrack': 8192, 'soup': 8193, 'sour': 8194, 'source': 8195, 'south': 8196, 'sowwy': 8197, 'sp': 8198, 'space': 8199, 'spacers': 8200, 'spade': 8201, 'spag': 8202, 'spain': 8203, 'spam': 8204, 'spamming': 8205, 'spanish': 8206, 'spanners': 8207, 'spare': 8208, 'spares': 8209, 'sparky': 8210, 'sparse': 8211, 'spazzing': 8212, 'speak': 8213, 'speakers': 8214, 'speaking': 8215, 'speced': 8216, 'special': 8217, 'specialise': 8218, 'specialist': 8219, 'specially-marked': 8220, 'species': 8221, 'specific': 8222, 'speck': 8223, 'specs': 8224, 'speculation': 8225, 'speech': 8226, 'speed': 8227, 'spell': 8228, 'spelling': 8229, 'spend': 8230, 'spending': 8231, 'spent': 8232, 'spiced': 8233, 'spick': 8234, 'spill': 8235, 'spilled': 8236, 'spin': 8237, 'spine': 8238, 'spinning': 8239, 'spinny': 8240, 'spinorbinmusicxcodysimpson': 8241, 'spirit': 8242, 'spiritual': 8243, 'splendid': 8244, 'spm': 8245, 'spoile': 8246, 'spoke': 8247, 'sponsor': 8248, 'sponsorship': 8249, 'sport': 8250, 'sports': 8251, 'spot': 8252, \"spot's\": 8253, 'spotify': 8254, 'spotted': 8255, 'spotting': 8256, 'spray': 8257, 'spread': 8258, 'spreading': 8259, 'spree': 8260, 'sprees': 8261, 'spring': 8262, 'springs': 8263, 'sprit': 8264, 'sprite': 8265, 'squad': 8266, 'square': 8267, 'squats': 8268, 'squishy': 8269, 'sr': 8270, 'srbija': 8271, 'srijith': 8272, 'srry': 8273, 'srsky': 8274, 'srsly': 8275, 'sry': 8276, 'ss': 8277, 'st': 8278, 'stab': 8279, 'stabbed': 8280, 'stable': 8281, 'stack': 8282, 'stackare': 8283, 'stadium': 8284, 'staff': 8285, 'stafford': 8286, 'stage': 8287, 'stages': 8288, 'stairs': 8289, 'stalk': 8290, 'stalked': 8291, 'stalker': 8292, 'stalking': 8293, 'stamina': 8294, 'stan': 8295, 'stand': 8296, 'standard': 8297, 'standards': 8298, 'standby': 8299, \"standen's\": 8300, 'standing': 8301, 'standrews': 8302, 'stands': 8303, 'standwdik': 8304, 'stans': 8305, 'star': 8306, 'starbucks': 8307, 'stargate': 8308, 'staring': 8309, 'stark': 8310, 'stars': 8311, 'starsquad': 8312, 'start': 8313, 'started': 8314, 'starter': 8315, 'starting': 8316, 'starts': 8317, 'startup': 8318, 'startupph': 8319, 'startups': 8320, 'starving': 8321, 'starwars': 8322, 'stash': 8323, 'stashed': 8324, 'state': 8325, 'statement': 8326, 'states': 8327, 'station': 8328, 'stationary': 8329, 'stationery': 8330, 'stats': 8331, 'stay': 8332, 'stayed': 8333, 'stayfresh': 8334, 'staying': 8335, 'steak': 8336, 'steals': 8337, 'stealth': 8338, 'steam': 8339, 'steel': 8340, 'steelbook': 8341, 'stefanie': 8342, 'stella': 8343, 'stem': 8344, 'step': 8345, 'steph': 8346, 'stephanie': 8347, 'stephen': 8348, 'stepped': 8349, 'steps': 8350, 'stereo': 8351, \"sterling's\": 8352, 'steroids': 8353, 'stetsons': 8354, 'steve': 8355, 'steven': 8356, 'stexpert': 8357, 'sth': 8358, 'stick': 8359, 'sticker': 8360, 'sticking': 8361, 'stiff': 8362, 'stiffening': 8363, 'still': 8364, 'stings': 8365, 'stock': 8366, 'stockholm': 8367, 'stocko': 8368, 'stoked': 8369, 'stole': 8370, 'stolen': 8371, 'stomach': 8372, \"stomach's\": 8373, 'stomachache': 8374, 'stomping': 8375, 'stones': 8376, 'stool': 8377, 'stooooop': 8378, 'stop': 8379, 'stopped': 8380, 'stopping': 8381, 'stops': 8382, 'store': 8383, 'stores': 8384, 'stories': 8385, 'storify': 8386, 'storms': 8387, 'story': 8388, 'straight': 8389, 'strange': 8390, 'strangely': 8391, 'strap': 8392, 'strapline': 8393, 'straw': 8394, 'strawberry': 8395, 'streak': 8396, 'stream': 8397, 'streamer': 8398, 'streaming': 8399, 'streams': 8400, 'street': 8401, 'strength': 8402, 'stress': 8403, 'stressed': 8404, 'stressful': 8405, 'stretch': 8406, 'strike': 8407, 'striker': 8408, 'striking': 8409, 'strip': 8410, 'striped': 8411, 'stripes': 8412, 'stroke': 8413, 'strong': 8414, 'stronger': 8415, 'strongest': 8416, 'strucked': 8417, 'structure': 8418, 'structured': 8419, 'struggle': 8420, 'struggles': 8421, 'struggling': 8422, 'stu': 8423, 'stuart': 8424, 'stuck': 8425, 'stud': 8426, 'student': 8427, 'students': 8428, 'studies': 8429, 'studio': 8430, 'study': 8431, 'studying': 8432, 'stuff': 8433, 'stuffy': 8434, 'stumble': 8435, 'stung': 8436, 'stunning': 8437, 'stupid': 8438, 'sturdy': 8439, 'style': 8440, 'styles': 8441, 'stylish': 8442, 'suan': 8443, 'suave': 8444, 'suay': 8445, 'sub': 8446, 'subcontinent': 8447, 'subdivision': 8448, 'subgames': 8449, 'subj': 8450, 'subject': 8451, 'subjective': 8452, 'subjects': 8453, 'subliminal': 8454, 'submission': 8455, 'submitted': 8456, 'subs': 8457, 'subscribers': 8458, 'subserver': 8459, 'subsidized': 8460, 'subsidy': 8461, 'subtitles': 8462, 'subway': 8463, 'succeed': 8464, 'success': 8465, 'successful': 8466, 'such': 8467, 'suck': 8468, 'sucked': 8469, 'suckmejimin': 8470, 'sucks': 8471, 'sucky': 8472, 'sudden': 8473, 'sue': 8474, 'suede': 8475, 'suffered': 8476, 'sufferers': 8477, 'suffering': 8478, 'sugar': 8479, 'sugarrush': 8480, 'suger': 8481, 'suggest': 8482, 'suggestion': 8483, 'suicide': 8484, 'suit': 8485, 'suitable': 8486, 'suitcase': 8487, 'suite': 8488, 'suites': 8489, 'suits': 8490, 'suk': 8491, 'suks': 8492, 'sulk': 8493, 'sulli': 8494, 'sum': 8495, 'suma': 8496, 'sumedh': 8497, 'sumer': 8498, 'summer': 8499, 'summerismissing': 8500, 'summers': 8501, 'summertime': 8502, 'summoner': 8503, 'sums': 8504, 'sun': 8505, 'sunburn': 8506, 'sunburnt': 8507, 'sunday': 8508, 'sunflowers': 8509, 'sunggyu': 8510, 'sunglasses': 8511, 'sunjam': 8512, 'sunnah': 8513, 'sunnies': 8514, 'sunny': 8515, \"sunny's\": 8516, 'sunnyday': 8517, 'sunrise': 8518, 'suns': 8519, 'sunshine': 8520, 'sunway': 8521, 'supa': 8522, 'super': 8523, 'super-blend': 8524, 'superb': 8525, 'supercars': 8526, 'superday': 8527, 'superdry': 8528, 'superheroes': 8529, 'superjunior': 8530, 'supermarkets': 8531, 'supernatural': 8532, 'superpowers': 8533, 'supersmash': 8534, 'supersport': 8535, 'superstars': 8536, 'suppl': 8537, 'supplements': 8538, 'support': 8539, 'supported': 8540, 'supporting': 8541, 'supportive': 8542, 'supports': 8543, 'suppose': 8544, 'supposed': 8545, 'supprt': 8546, 'supreme': 8547, 'suprised': 8548, 'surajettan': 8549, 'sure': 8550, 'surely': 8551, 'surfing': 8552, 'surgery': 8553, 'suriya': 8554, 'surprise': 8555, 'surprised': 8556, 'surprising': 8557, 'surreal': 8558, 'surrender': 8559, 'surrendered': 8560, 'surrey': 8561, 'surry': 8562, 'surveys': 8563, 'survival': 8564, 'survive': 8565, 'survived': 8566, 'sushi': 8567, 'suspect': 8568, 'suspects': 8569, 'suspemsion': 8570, 'suspended': 8571, 'suuuuuuuper': 8572, 'suzan': 8573, 'suzy': 8574, 'swag': 8575, 'swallowing': 8576, 'swan': 8577, 'swapping': 8578, 'swasa': 8579, 'swear': 8580, 'swearwords': 8581, 'sweat': 8582, 'sweater': 8583, 'sweating': 8584, 'sweatpants': 8585, 'sweden': 8586, 'sweedy': 8587, 'sweeeeeeeety': 8588, 'sweet': 8589, 'sweetan': 8590, 'sweetbj': 8591, 'sweetest': 8592, 'sweetheart': 8593, 'sweetie': 8594, 'sweety': 8595, 'swell': 8596, 'swelling': 8597, 'swerve': 8598, 'swift': 8599, 'swifties': 8600, 'swim': 8601, 'swimming': 8602, 'swiping': 8603, 'swishers': 8604, 'switch': 8605, 'switched': 8606, 'switzerland': 8607, 'swollen': 8608, 'swore': 8609, 'sws': 8610, 'swt': 8611, 'sxrew': 8612, 'syawal': 8613, 'sydney': 8614, 'sympathis': 8615, 'sympathy': 8616, 'symphony': 8617, 'sync': 8618, 'syncs': 8619, 'syndrome': 8620, 'syria': 8621, 'syrup': 8622, 'syrus': 8623, 'system': 8624, 't': 8625, \"t'existes\": 8626, \"t'was\": 8627, 't-shirt': 8628, 't-shirts': 8629, 'ta': 8630, 'taal': 8631, 'tab': 8632, 'table': 8633, 'tablet': 8634, 'tack': 8635, 'tacky': 8636, 'taco': 8637, 'tacos': 8638, 'tae': 8639, 'taems': 8640, \"taeyeon's\": 8641, 'taft': 8642, 'tag': 8643, 'tagal': 8644, 'tagsforlikes': 8645, 'tagsforlikesapp': 8646, 'tails': 8647, 'taissa': 8648, 'take': 8649, 'takeaways': 8650, 'taken': 8651, 'takeover': 8652, 'takes': 8653, 'takesonetoknowone': 8654, 'takfaham': 8655, 'taking': 8656, 'taknottem': 8657, 'takoyaki': 8658, 'takraw': 8659, 'talaga': 8660, 'talanted': 8661, 'talent': 8662, 'talented': 8663, 'talk': 8664, 'talk-kama': 8665, 'talkback': 8666, 'talked': 8667, 'talking': 8668, 'talks': 8669, 'tall': 8670, 'tama': 8671, 'tamang': 8672, 'tame': 8673, 'tamed': 8674, 'tameside': 8675, 'tammirossm': 8676, 'tams': 8677, 'tan': 8678, 'tango': 8679, 'tanishanonly': 8680, 'tank': 8681, 'tanks': 8682, 'tanned': 8683, 'tara': 8684, 'taray': 8685, 'tard': 8686, 'target': 8687, 'targets': 8688, 'tarryn': 8689, 'task': 8690, 'tasks': 8691, 'taste': 8692, 'tasteless': 8693, 'tastes': 8694, 'tasty': 8695, 'tat': 8696, 'tato': 8697, 'tattoo': 8698, 'tattoos': 8699, 'tau': 8700, 'taught': 8701, 'taunton': 8702, 'tax': 8703, 'taxes': 8704, 'taxi': 8705, 'taxikitchen': 8706, 'taxonomic': 8707, 'tay': 8708, 'taybigail': 8709, 'taylor': 8710, 'tayo': 8711, 'tb': 8712, 'tbc': 8713, 'tbf': 8714, 'tbh': 8715, 'tblast': 8716, 'tbs': 8717, 'tbt': 8718, 'tc': 8719, 'tcot': 8720, 'tdc': 8721, 'tdif': 8722, 'tdy': 8723, 'tea': 8724, 'teach': 8725, 'teacher': 8726, 'teachers': 8727, 'teal': 8728, 'team': 8729, \"team's\": 8730, 'teamadmicro': 8731, 'teamfollowback': 8732, 'teamjanuaryclaims': 8733, 'teamnatural': 8734, 'teampositive': 8735, 'teamred': 8736, 'teamzipal': 8737, 'tearout': 8738, 'tears': 8739, 'teas': 8740, 'tease': 8741, 'teaser': 8742, 'teasers': 8743, 'teasing': 8744, 'tebrik': 8745, 'tech': 8746, 'techniques': 8747, 'ted': 8748, \"ted's\": 8749, 'tee': 8750, 'teen': 8751, 'teenage': 8752, 'teenchoice': 8753, 'teenie': 8754, 'teens': 8755, 'teeth': 8756, 'teething': 8757, 'telat': 8758, 'telecoms': 8759, 'teleportation': 8760, 'televoting': 8761, 'tell': 8762, 'tellanoldjokeday': 8763, 'telling': 8764, 'tells': 8765, 'temperature': 8766, 'temporal': 8767, 'tempted': 8768, 'ten': 8769, 'tend': 8770, 'tenerina': 8771, 'tengaman': 8772, 'tengkuaaronshah': 8773, 'tennunb': 8774, 'tension': 8775, 'tent': 8776, 'tentatively': 8777, 'tenyai': 8778, 'terible': 8779, 'term': 8780, 'terms': 8781, 'terrible': 8782, 'terrific': 8783, 'tessnzach': 8784, 'test': 8785, 'tested': 8786, 'testicle': 8787, 'testing': 8788, 'tests': 8789, 'text': 8790, 'texted': 8791, 'texting': 8792, 'texts': 8793, 'tf': 8794, 'tfw': 8795, 'tgif': 8796, 'tgk': 8797, 'tgp': 8798, 'tgv': 8799, 'th': 8800, 'thaaaat': 8801, 'thaaanks': 8802, 'thaanks': 8803, 'thailand': 8804, 'thalaivar': 8805, 'thank': 8806, 'thanked': 8807, 'thankie': 8808, 'thankies': 8809, 'thanking': 8810, 'thanks': 8811, 'thanksss': 8812, 'thankssss': 8813, 'thankyou': 8814, 'thankyoudfor': 8815, 'thankyouu': 8816, 'thankyouuu': 8817, 'thanq': 8818, 'thanx': 8819, 'thapelo': 8820, 'tharkness': 8821, 'that': 8822, 'thatscold': 8823, 'thatselfiethough': 8824, 'the': 8825, 'theaccidentalcouple': 8826, 'theater': 8827, 'theatres': 8828, 'thebestangkapuso': 8829, 'thegrandad': 8830, 'thehungergames': 8831, 'their': 8832, 'theirs': 8833, 'thejuiceinthemix': 8834, 'thek': 8835, 'thelock': 8836, 'them': 8837, 'them-con': 8838, 'theme': 8839, 'themselves': 8840, 'then': 8841, 'thencerest': 8842, 'thenting': 8843, 'theo': 8844, 'theocratic': 8845, 'theoper': 8846, 'theories': 8847, 'theory': 8848, 'therapy': 8849, 'there': 8850, 'therealgolden': 8851, 'therefore': 8852, 'thermal': 8853, 'thermos': 8854, 'therver': 8855, 'these': 8856, 'thesims': 8857, 'thesis': 8858, 'thessidew': 8859, 'they': 8860, 'thick': 8861, 'thin': 8862, 'thing': 8863, 'things': 8864, 'thingscope': 8865, 'thingy': 8866, 'think': 8867, 'thinking': 8868, 'third': 8869, 'thirdwheeling': 8870, 'thirstyyyy': 8871, 'this': 8872, 'thistlelove': 8873, 'thistles': 8874, 'thiz': 8875, 'thks': 8876, 'thnks': 8877, 'thnkyouuuuuuuuu': 8878, 'tho': 8879, 'thoo': 8880, 'thooo': 8881, 'thoracicbridge': 8882, 'thorin': 8883, 'thorpe': 8884, 'those': 8885, 'thou': 8886, 'though': 8887, 'thought': 8888, 'thoughts': 8889, 'thoughtseized': 8890, 'thq': 8891, 'thr': 8892, 'thread': 8893, 'threat': 8894, 'threatened': 8895, 'threatening': 8896, 'threatens': 8897, 'three': 8898, 'threw': 8899, 'thrice': 8900, 'thrilled': 8901, 'thrive': 8902, 'throat': 8903, 'through': 8904, 'throw': 8905, 'throwback': 8906, 'throwbackfriday': 8907, 'thrown': 8908, 'thru': 8909, 'thtas': 8910, 'thts': 8911, 'thug': 8912, 'thumbs': 8913, 'thunderstorms': 8914, 'thurjuly': 8915, 'thurs': 8916, 'thursday': 8917, 'thurston': 8918, 'thusi': 8919, 'thw': 8920, 'thwarting': 8921, 'thx': 8922, \"thát's\": 8923, 'ti': 8924, 'tick': 8925, 'ticket': 8926, 'tickets': 8927, 'tickle': 8928, 'tiddler': 8929, 'tidy': 8930, 'tidying': 8931, 'tierd': 8932, 'tight': 8933, 'tiis': 8934, 'tiles': 8935, 'till': 8936, 'tim': 8937, 'time': 8938, 'timely': 8939, 'times': 8940, 'timetunnel': 8941, 'timezones': 8942, 'timing': 8943, 'timming': 8944, 'timog': 8945, 'timw': 8946, 'tinder': 8947, 'tine': 8948, 'tiny': 8949, 'tio': 8950, 'tipped': 8951, 'tipping': 8952, 'tips': 8953, 'tired': 8954, 'tiredashell': 8955, 'tiring': 8956, 'tirth': 8957, 'tissues': 8958, 'titan': 8959, 'titanfall': 8960, 'titas': 8961, 'title': 8962, 'titles': 8963, 'titos': 8964, 'tittheir': 8965, 'tix': 8966, 'tks': 8967, 'tkts': 8968, 'tl': 8969, 'tla': 8970, 'tline': 8971, 'tlists': 8972, 'tmr': 8973, 'tmrw': 8974, 'tmw': 8975, 'tnc': 8976, 'to': 8977, 'toast': 8978, 'tobi-bro': 8979, 'today': 8980, \"today's\": 8981, 'todayy': 8982, 'todayyyyy': 8983, 'toddlerlife': 8984, 'todos': 8985, 'toe': 8986, 'toffee': 8987, 'together': 8988, 'togheter': 8989, 'tokyo': 8990, 'told': 8991, 'tolerant': 8992, 'toll': 8993, 'tologooo': 8994, 'tom': 8995, 'tomas': 8996, 'tomatoes': 8997, 'tombow': 8998, 'tombraider': 8999, 'tomcat': 9000, 'tomhiddleston': 9001, 'tomlinson': 9002, 'tommarow': 9003, 'tommorow': 9004, 'tommy': 9005, 'tomorrow': 9006, \"tomorrow's\": 9007, 'tomorrowland': 9008, 'tompolo': 9009, 'tone': 9010, 'tong': 9011, 'tongue': 9012, 'toni': 9013, 'tonight': 9014, \"tonight's\": 9015, 'tony': 9016, 'too': 9017, 'took': 9018, 'tools': 9019, 'tooo': 9020, 'tooooooo': 9021, 'tooth': 9022, 'toothsensitivity': 9023, 'top': 9024, 'topgear': 9025, 'topnewfollowers': 9026, 'topple': 9027, 'tops': 9028, 'toptravelcentar': 9029, 'topwater': 9030, 'tore': 9031, 'torn': 9032, 'toronto': 9033, 'torrentialrain': 9034, 'torture': 9035, 'tory': 9036, 'tose': 9037, 'toss': 9038, 'tossing': 9039, 'total': 9040, 'totally': 9041, 'tote': 9042, 'totem': 9043, 'tou': 9044, 'touch': 9045, 'tough': 9046, 'tour': 9047, 'tournament': 9048, 'tournaments': 9049, 'towards': 9050, 'towers': 9051, 'town': 9052, \"town's\": 9053, 'towns': 9054, 'townssssss': 9055, 'toxin': 9056, 'toy': 9057, 'toying': 9058, 'tp': 9059, 'tracerequest': 9060, 'tracing': 9061, 'track': 9062, 'trade': 9063, 'trades': 9064, 'tradetalk': 9065, 'traditions': 9066, 'traffic': 9067, 'traffickers': 9068, 'trafficking': 9069, 'tragedy': 9070, 'tragic': 9071, 'trail': 9072, 'trailblazerhonors': 9073, 'train': 9074, 'trainers': 9075, 'training': 9076, 'trains': 9077, 'tram': 9078, 'tramlines': 9079, 'trance': 9080, 'transcript': 9081, 'transfer': 9082, 'transferred': 9083, 'transfers': 9084, 'translate': 9085, 'translation': 9086, 'transmission': 9087, 'transparency': 9088, 'trapmusic': 9089, 'trash': 9090, 'travel': 9091, 'traveler': 9092, 'traveling': 9093, 'travelling': 9094, 'travels': 9095, 'treat': 9096, 'treating': 9097, 'treats': 9098, 'tree': 9099, 'trees': 9100, 'trend': 9101, 'trending': 9102, 'trendy': 9103, 'trespassers': 9104, 'treviso': 9105, 'trial': 9106, 'triangle': 9107, 'triathletes': 9108, 'trick': 9109, 'tricky': 9110, 'tridon': 9111, 'tried': 9112, 'trimmed': 9113, 'trip': 9114, 'tripathi': 9115, 'tripping': 9116, 'trips': 9117, 'trish': 9118, 'trivia': 9119, 'trmdhesitant': 9120, 'troll': 9121, 'troops': 9122, 'trop': 9123, 'tropics': 9124, 'troubles': 9125, 'trousers': 9126, 'truck': 9127, 'true': 9128, 'truly': 9129, 'trust': 9130, 'trusting': 9131, 'truth': 9132, 'truthfulwordsof': 9133, 'try': 9134, 'trying': 9135, 'tryna': 9136, 'tseba': 9137, 'tsktsk': 9138, 'tt': 9139, 'ttctop': 9140, 'tthanks': 9141, 'tub': 9142, 'tube': 9143, 'tud': 9144, 'tuesday': 9145, 'tuitutil': 9146, 'tukutanemombasa': 9147, 'tulane': 9148, 'tum': 9149, 'tumblr': 9150, 'tummy': 9151, 'tumor': 9152, 'tumour': 9153, 'tuna': 9154, 'tunaita': 9155, 'tuned': 9156, 'tunnel': 9157, 'turkey': 9158, 'turkish': 9159, 'turn': 9160, 'turned': 9161, 'turning': 9162, 'turns': 9163, 'turtle': 9164, 'turtles': 9165, 'tut': 9166, 'tutorials': 9167, 'tv': 9168, 'tweak': 9169, 'tweenie': 9170, 'tweeps': 9171, 'tweepsmatchout': 9172, 'tweet': 9173, 'tweeted': 9174, 'tweeties': 9175, 'tweetin': 9176, 'tweeting': 9177, 'tweetland': 9178, 'tweetofthedecade': 9179, 'tweets': 9180, 'twelvyy': 9181, 'tweng': 9182, 'twice': 9183, 'twin': 9184, 'twine': 9185, 'twinx': 9186, 'twist': 9187, 'twisting': 9188, 'twitch': 9189, 'twitching': 9190, 'twitlonger': 9191, 'twitter': 9192, 'two': 9193, 'twoofs': 9194, 'twurkin': 9195, 'tx': 9196, 'txt': 9197, 'ty': 9198, 'tykkäsin': 9199, 'tylers': 9200, 'typa': 9201, 'type': 9202, 'typed': 9203, 'typical': 9204, 'typically': 9205, 'typo': 9206, 'typos': 9207, 'tyre': 9208, 'uber': 9209, 'ubericecream': 9210, 'ubud': 9211, 'ubusy': 9212, 'ucan': 9213, 'ucas': 9214, 'ucl': 9215, 'ucount': 9216, 'uff': 9217, 'ufffff': 9218, 'ug': 9219, 'uggghhhh': 9220, 'ugh': 9221, 'ughh': 9222, 'ugly': 9223, 'uh': 9224, 'uhuh': 9225, 'uk': 9226, 'ukiss': 9227, 'ukraine': 9228, 'ulit': 9229, 'ulti': 9230, 'ultimate': 9231, 'ultor': 9232, 'um': 9233, 'umaga': 9234, 'umair': 9235, 'umaru': 9236, 'umboh': 9237, 'umma': 9238, 'ummm': 9239, 'un': 9240, 'unable': 9241, 'unagi': 9242, 'uname': 9243, 'unanswered': 9244, 'unappreciated': 9245, 'unavailable': 9246, 'unblock': 9247, 'uncles': 9248, 'uncountable': 9249, 'uncut': 9250, 'undead': 9251, 'undercoverboss': 9252, 'underrated': 9253, 'understand': 9254, 'understandable': 9255, 'understanding': 9256, 'understands': 9257, 'understood': 9258, 'underwater': 9259, 'uneventful': 9260, 'unexpect': 9261, 'unexpected': 9262, 'unfair': 9263, 'unfamiliar': 9264, 'unfaved': 9265, 'unfollow': 9266, 'unfollowed': 9267, 'unfollower': 9268, 'unfollowers': 9269, 'unfollowing': 9270, 'unfortunate': 9271, 'unfortunately': 9272, 'unfriend': 9273, 'unhappy': 9274, 'unhealthy': 9275, 'uni': 9276, \"unicef's\": 9277, 'uniform': 9278, 'unimportant': 9279, 'unique': 9280, 'uniteblue': 9281, 'united': 9282, 'uniting': 9283, 'units': 9284, 'university': 9285, 'univesity': 9286, 'unknown': 9287, 'unless': 9288, 'unlike': 9289, 'unlimited': 9290, 'unlisted': 9291, 'unlocked': 9292, 'unloved': 9293, 'unluckiest': 9294, 'unlucky': 9295, 'unmarried': 9296, 'unneeded': 9297, 'unnie': 9298, 'unnieeee': 9299, 'unparents': 9300, 'unprepared': 9301, 'unreal': 9302, 'unsettled': 9303, 'unstan': 9304, 'unsuccessful': 9305, 'untapped': 9306, 'untouched': 9307, 'untruth': 9308, 'unvarnished': 9309, 'unwind': 9310, 'up': 9311, 'upcoming': 9312, 'update': 9313, 'updated': 9314, 'updates': 9315, 'updating': 9316, 'upgrade': 9317, 'upgrading': 9318, 'upload': 9319, 'uploaded': 9320, 'uploading': 9321, 'upon': 9322, 'uppe': 9323, 'upper': 9324, 'ups': 9325, 'upset': 9326, 'upsetting': 9327, 'upside': 9328, 'upvotes': 9329, 'ur': 9330, 'ure': 9331, 'urgently': 9332, 'urgh': 9333, 'urghhh': 9334, \"urie's\": 9335, 'url': 9336, 'urock': 9337, 'urquhart': 9338, 'urs': 9339, 'urself': 9340, 'urwelc': 9341, 'us': 9342, 'us-iran': 9343, 'usa': 9344, 'usage': 9345, 'usagi': 9346, 'use': 9347, 'used': 9348, 'useful': 9349, 'useless': 9350, 'user': 9351, 'username': 9352, 'users': 9353, 'uses': 9354, 'using': 9355, 'uss': 9356, 'usual': 9357, 'usually': 9358, 'utc': 9359, 'utd': 9360, 'uts': 9361, 'uu': 9362, 'uuu': 9363, 'uuughhhh': 9364, 'uuuuuuuu': 9365, 'uwesiti': 9366, 'uwu': 9367, 'ux': 9368, 'uy': 9369, 'v': 9370, 'va': 9371, 'vacant': 9372, 'vacation': 9373, 'vaccines': 9374, 'vagina': 9375, 'vaing': 9376, 'vainglory': 9377, 'vale': 9378, 'valencia': 9379, 'valentine': 9380, 'valls': 9381, 'valuable': 9382, 'value': 9383, 'vam': 9384, 'vampire': 9385, 'vandag': 9386, 'vandr': 9387, 'vanilla': 9388, 'vans': 9389, 'vantastic': 9390, 'variety': 9391, 'varsity': 9392, 'vault': 9393, 'vava': 9394, 'vaw': 9395, 'vc': 9396, 've': 9397, 'veeeeerry': 9398, 'vegas': 9399, 'vegetables': 9400, 'vegetarian': 9401, 'veggie': 9402, 'vehicles': 9403, 'veins': 9404, 'velvet': 9405, 'venice': 9406, 'venomous': 9407, 'venture': 9408, 'venue': 9409, \"venus's\": 9410, 'ver': 9411, 'verfied': 9412, 'verge': 9413, 'verified': 9414, 'verify': 9415, 'veritably': 9416, 'verity': 9417, \"verity's\": 9418, 'verse': 9419, 'version': 9420, 'vertigo': 9421, 'very': 9422, 'vet': 9423, 'vex': 9424, 'via': 9425, 'viable': 9426, 'vianey': 9427, 'viathe': 9428, 'viazi': 9429, 'viber': 9430, 'vibrant': 9431, 'vibrating': 9432, 'vic': 9433, 'vicious': 9434, 'vicky': 9435, 'victims': 9436, 'victoria': 9437, 'victoriasecret': 9438, 'victory': 9439, 'vid': 9440, 'vidcon': 9441, 'video': 9442, 'videogames': 9443, 'videographer': 9444, 'videos': 9445, 'vidic': 9446, 'vids': 9447, 'vietnam': 9448, 'view': 9449, 'viewed': 9450, 'viewer': 9451, 'viewing': 9452, 'views': 9453, 'vii': 9454, 'vikings': 9455, 'vikk': 9456, 'village': 9457, 'vin': 9458, 'vincent': 9459, 'vine': 9460, 'vinegar': 9461, 'viners': 9462, 'vines': 9463, 'vinny': 9464, 'vinylbear': 9465, 'violence': 9466, 'vip': 9467, 'viparita': 9468, 'vips': 9469, 'virgin': 9470, 'virginity': 9471, 'virtual': 9472, 'visas': 9473, 'vishaya': 9474, 'vishwas': 9475, 'visit': 9476, 'visited': 9477, 'visiting': 9478, 'visits': 9479, 'vist': 9480, 'visual': 9481, 'vitamin': 9482, 'viva': 9483, 'vivian': 9484, 'vlog': 9485, 'vocal': 9486, 'vocals': 9487, 'vodkas': 9488, 'voice': 9489, 'voices': 9490, 'void': 9491, 'volta': 9492, 'volume': 9493, 'volunteer': 9494, 'volunteering': 9495, 'vomit': 9496, 'vote': 9497, 'voted': 9498, 'votejktid': 9499, 'voting': 9500, 'voucher': 9501, 'vr': 9502, 'vs': 9503, 'vsco': 9504, 'vscocam': 9505, 'vscocousins': 9506, 'vscogood': 9507, 'vscoph': 9508, 'vscophil': 9509, 'vuly': 9510, 'vv': 9511, 'vyapam': 9512, 'w': 9513, 'wa': 9514, 'waa': 9515, 'waaaaa': 9516, 'waah': 9517, 'wacha': 9518, 'wacky': 9519, 'waduh': 9520, 'wae': 9521, 'waffle': 9522, 'wag': 9523, 'wagga': 9524, 'wagging': 9525, 'wah': 9526, 'wahahaah': 9527, 'waifu': 9528, 'wail': 9529, 'wailay': 9530, 'waisted': 9531, 'wait': 9532, 'waited': 9533, 'waiter': 9534, 'waiting': 9535, 'waitting': 9536, 'wake': 9537, 'wakes': 9538, 'wakeup': 9539, 'waking': 9540, 'wala': 9541, 'walang': 9542, 'walangmakakapigilsakin': 9543, 'walao': 9544, 'walay': 9545, 'wales': 9546, 'wali': 9547, 'walk': 9548, 'walked': 9549, 'walkersmithway': 9550, 'walkin': 9551, 'walking': 9552, 'walks': 9553, 'wall': 9554, 'wallet': 9555, 'wallets': 9556, 'walls': 9557, 'walmart': 9558, 'walnut': 9559, 'wan': 9560, 'wana': 9561, 'want': 9562, 'wanted': 9563, 'wanting': 9564, 'wants': 9565, 'war': 9566, 'wardrobe': 9567, 'warehouse': 9568, 'warehousing': 9569, 'warfare': 9570, 'warlock': 9571, 'warm': 9572, 'warm-up': 9573, 'warmest': 9574, 'warmup': 9575, 'warnaaaaaaa': 9576, 'warning': 9577, 'warranty': 9578, 'warrior': 9579, 'warsaw': 9580, 'was': 9581, 'waseem': 9582, 'washed': 9583, 'wasp': 9584, 'waste': 9585, 'wasted': 9586, 'wasting': 9587, 'wat': 9588, 'watch': 9589, 'watchdog': 9590, 'watched': 9591, 'watching': 9592, 'water': 9593, 'waters': 9594, 'wave': 9595, 'waves': 9596, 'wavy': 9597, 'way': 9598, 'wayanad': 9599, 'wayanadan': 9600, 'wayhh': 9601, 'wayne': 9602, 'ways': 9603, 'waytoliveahappylife': 9604, 'wba': 9605, 'wbu': 9606, 'wd': 9607, 'we': 9608, 'weak': 9609, 'weaker': 9610, 'wealth': 9611, 'weapon': 9612, 'weapons': 9613, 'wear': 9614, 'wearig': 9615, 'wearing': 9616, 'weather': 9617, 'weave': 9618, 'web': 9619, 'webcam': 9620, 'webcamsex': 9621, 'website': 9622, 'websites': 9623, 'webtogsawards': 9624, 'webz': 9625, 'wed': 9626, 'wedding': 9627, 'weddingflowers': 9628, 'wednesday': 9629, 'weebly': 9630, 'weed': 9631, 'weeding': 9632, 'week': 9633, 'weekend': 9634, \"weekend's\": 9635, 'weekendofmadness': 9636, 'weekends': 9637, 'weekly': 9638, 'weeks': 9639, 'weenie': 9640, 'weh': 9641, 'weight': 9642, 'weights': 9643, 'weird': 9644, 'weirddd': 9645, 'welcoma': 9646, 'welcome': 9647, 'welcomed': 9648, 'welcometweet': 9649, 'welcoming': 9650, 'welder': 9651, 'well': 9652, 'wellington': 9653, 'weloveyounamjoon': 9654, 'welsh': 9655, 'weltum': 9656, 'wena': 9657, 'wendy': 9658, 'went': 9659, 'wentz': 9660, 'were': 9661, 'werk': 9662, 'wese': 9663, 'wesen': 9664, 'west': 9665, 'westandwithik': 9666, 'wet': 9667, 'wetherspoons': 9668, 'wew': 9669, 'wewanticecream': 9670, 'wft': 9671, 'wgm': 9672, 'wh': 9673, 'whaaaaaaaaaat': 9674, 'whaaaaaat': 9675, 'whaaat': 9676, 'whacked': 9677, 'whahahaha': 9678, 'whammy': 9679, 'whangarei': 9680, 'what': 9681, 'what-is-your-fashionality': 9682, 'whatchya': 9683, 'whatever': 9684, 'whatevs': 9685, 'whatsapp': 9686, 'whatsoever': 9687, 'whatthefuck': 9688, 'whattsap': 9689, 'whay': 9690, 'wheeeeeeeeeeeeeeeen': 9691, 'wheel': 9692, 'wheelchair': 9693, 'when': 9694, 'whenever': 9695, 'where': 9696, 'whereisthesun': 9697, 'wherever': 9698, 'whet': 9699, 'whhr': 9700, 'which': 9701, 'while': 9702, 'whilst': 9703, 'whimpers': 9704, 'whip': 9705, 'whips': 9706, 'whispered': 9707, 'whistle': 9708, 'whit': 9709, 'white': 9710, 'whitey': 9711, 'whn': 9712, 'who': 9713, 'whole': 9714, 'whom': 9715, 'whomosexual': 9716, 'whoooah': 9717, 'whoop': 9718, 'whose': 9719, 'whsmith': 9720, 'wht': 9721, 'why': 9722, 'whyyy': 9723, 'whyyyy': 9724, 'whyyyyyy': 9725, 'whyyyyyyy': 9726, 'whyyyyyyyyyyyy': 9727, 'wi': 9728, 'wicked': 9729, 'wide': 9730, 'widely': 9731, 'wider': 9732, 'wiellys': 9733, 'wife': 9734, 'wiff': 9735, 'wifi': 9736, 'wii': 9737, 'wil': 9738, 'wild': 9739, 'will': 9740, 'william': 9741, 'willing': 9742, 'willlow': 9743, 'willmissyouparijat': 9744, 'willy': 9745, 'wimbledon': 9746, 'win': 9747, 'winchester': 9748, 'wind': 9749, 'window': 9750, 'windows': 9751, 'windowsphone': 9752, 'winds': 9753, 'wine': 9754, 'winehouse': 9755, 'wing': 9756, 'wings': 9757, 'wingstop': 9758, 'winner': 9759, 'winning': 9760, 'winter': 9761, 'wip': 9762, 'wirh': 9763, 'wisdom': 9764, 'wise': 9765, 'wish': 9766, 'wishes': 9767, 'wishing': 9768, 'witcher': 9769, 'with': 9770, 'within': 9771, 'without': 9772, 'witness': 9773, 'witnessed': 9774, 'wiv': 9775, 'wiw': 9776, 'wkend': 9777, 'wknd': 9778, 'wks': 9779, 'wkwkw': 9780, 'wlan': 9781, 'wna': 9782, 'wnt': 9783, 'wo': 9784, 'woaah': 9785, 'woah': 9786, 'wobble': 9787, 'wobbly': 9788, 'woe': 9789, 'wohoo': 9790, 'woke': 9791, 'wolf': 9792, 'wolrd': 9793, 'wolverine': 9794, 'wolves': 9795, 'womad': 9796, 'woman': 9797, 'women': 9798, \"women's\": 9799, 'won': 9800, 'wonder': 9801, 'wondered': 9802, 'wonderful': 9803, 'wonderfuls': 9804, 'wondering': 9805, 'wonders': 9806, 'wooden': 9807, 'woodford': 9808, 'wooftastic': 9809, 'woohoo': 9810, 'woohyun': 9811, 'wooohooo': 9812, 'woot': 9813, 'word': 9814, 'wordoftheweek': 9815, 'words': 9816, 'wore': 9817, 'work': 9818, 'worked': 9819, 'worker': 9820, 'workers': 9821, 'workhard': 9822, 'workin': 9823, 'working': 9824, 'working-on-a-tight-schedule': 9825, 'workinprogress': 9826, 'workout': 9827, 'workouts': 9828, 'works': 9829, 'workshop': 9830, 'world': 9831, 'worlds': 9832, 'worldwide': 9833, 'worried': 9834, 'worries': 9835, 'worry': 9836, 'worse': 9837, 'worst': 9838, 'worsts': 9839, 'worth': 9840, 'worthwhile': 9841, 'worthy': 9842, 'wot': 9843, 'wotw': 9844, 'would': 9845, 'wounded': 9846, 'wow': 9847, 'wowwww': 9848, 'wowza': 9849, 'woza': 9850, 'wracking': 9851, 'wrap': 9852, 'wrecking': 9853, 'wripped': 9854, 'wrists': 9855, 'write': 9856, 'writes': 9857, 'writing': 9858, 'written': 9859, 'wrocilam': 9860, 'wrong': 9861, 'wrote': 9862, 'wru': 9863, 'wsalelove': 9864, 'wsj': 9865, 'wt': 9866, 'wtf': 9867, 'wtfff': 9868, 'wth': 9869, 'wua': 9870, 'wub': 9871, 'wut': 9872, 'wwat': 9873, 'wwe': 9874, 'wwoooo': 9875, 'wynter': 9876, 'wz': 9877, 'x': 9878, 'x-rays': 9879, 'xavier': 9880, 'xbox': 9881, 'xboxone': 9882, 'xcylin': 9883, 'xd': 9884, 'xenophobes': 9885, 'xfiles': 9886, 'xi': 9887, 'xiu': 9888, 'xmas': 9889, 'xo': 9890, 'xoxo': 9891, 'xoxoxo': 9892, 'xpax': 9893, 'xpress': 9894, 'xst': 9895, 'xue': 9896, 'xur': 9897, 'xx': 9898, 'xxx': 9899, 'xxxibmchll': 9900, 'xxxx': 9901, 'xxxxxx': 9902, 'xxxxxxx': 9903, 'y': 9904, \"y'day\": 9905, 'ya': 9906, 'yaa': 9907, 'yaaaaaaaay': 9908, 'yaaaah': 9909, 'yaaah': 9910, 'yaaay': 9911, 'yaad': 9912, 'yaadein': 9913, 'yaap': 9914, 'yach': 9915, 'yachting': 9916, 'yael': 9917, 'yah': 9918, 'yahoo': 9919, 'yahuda': 9920, 'yako': 9921, 'yammouni': 9922, 'yan': 9923, 'yang': 9924, 'yapsters': 9925, 'yar': 9926, 'yard': 9927, 'yass': 9928, 'yasss': 9929, 'yasu': 9930, 'yay': 9931, 'yaya': 9932, 'yayayayay': 9933, 'yaytheylookgreat': 9934, 'yayy': 9935, 'yayyyy': 9936, 'ye': 9937, 'yea': 9938, 'yeaaaah': 9939, 'yeah': 9940, 'yeahh': 9941, 'yeahhh': 9942, 'yeap': 9943, 'year': 9944, \"year's\": 9945, 'years': 9946, 'yeeaayy': 9947, 'yeeeeah': 9948, 'yeeeeyyy': 9949, 'yeeew': 9950, 'yeey': 9951, 'yeh': 9952, 'yeheyy': 9953, 'yein': 9954, 'yelaaaaaaa': 9955, 'yell': 9956, 'yelled': 9957, 'yelling': 9958, 'yello': 9959, 'yellow': 9960, 'yeol': 9961, 'yeols': 9962, 'yep': 9963, 'yepp': 9964, 'yer': 9965, 'yes': 9966, 'yesha': 9967, 'yess': 9968, 'yesss': 9969, 'yessss': 9970, 'yester': 9971, 'yesterday': 9972, \"yesterday's\": 9973, 'yet': 9974, 'yey': 9975, 'yeyy': 9976, 'yg': 9977, 'yhm': 9978, 'yhoooooo': 9979, 'yields': 9980, 'yippee': 9981, 'yippeee': 9982, 'yippppy': 9983, 'yisss': 9984, 'yk': 9985, 'ykr': 9986, 'ylona': 9987, 'yna': 9988, 'yo': 9989, 'yodel': 9990, 'yoga': 9991, 'yoghurt': 9992, 'yogurt': 9993, 'yogyakarta': 9994, 'yok': 9995, 'yongbe': 9996, 'yoona': 9997, 'yoot': 9998, 'york': 9999, 'yorkshire': 10000, 'yosh': 10001, 'yots': 10002, 'you': 10003, \"you'll\": 10004, \"you're\": 10005, \"you's\": 10006, \"you've\": 10007, 'you-and': 10008, 'young': 10009, 'younger': 10010, 'youngjae': 10011, 'youngnaturalleaders': 10012, 'your': 10013, 'yournaturalleaders': 10014, 'yours': 10015, 'yourself': 10016, 'yous': 10017, 'youth': 10018, 'youthcelebrate': 10019, 'youtu': 10020, 'youtube': 10021, 'youtuber': 10022, 'youu': 10023, 'youuu': 10024, 'youuuu': 10025, 'youuuuuu': 10026, 'youuuuuuu': 10027, 'yr': 10028, 'yrs': 10029, 'yt': 10030, 'yu': 10031, 'yujin': 10032, 'yuki': 10033, 'yuki-chan': 10034, 'yulin': 10035, 'yum': 10036, 'yummmm': 10037, 'yummmyyy': 10038, 'yummy': 10039, 'yumu-youtuber': 10040, 'yumyum': 10041, 'yun': 10042, 'yuna': 10043, 'yung': 10044, 'yup': 10045, 'yuppiieee': 10046, 'yvette': 10047, 'yūjō-cosplay': 10048, 'z': 10049, 'zac': 10050, 'zach': 10051, \"zach's\": 10052, 'zack': 10053, 'zaine': 10054, 'zamn': 10055, 'zante': 10056, 'zap': 10057, 'zara': 10058, 'zareen': 10059, 'zayn': 10060, 'zayncomebacktod': 10061, 'zayniscomingback': 10062, 'zayniscomingbackonjuly': 10063, 'zayns': 10064, 'zayyyyyn': 10065, 'zaz': 10066, 'zdps': 10067, 'zealand': 10068, 'zehr': 10069, 'zenmate': 10070, 'zephbot': 10071, 'zero': 10072, 'zikra': 10073, 'zipper': 10074, 'zodiac': 10075, 'zoe': 10076, 'zokay': 10077, 'zone': 10078, 'zonzofox': 10079, 'zoo': 10080, 'zoom': 10081, 'zopiclone': 10082, 'zumba': 10083, 'zy': 10084, 'zz': 10085, 'zzz': 10086, 'zzzz': 10087, 'zzzzzz': 10088, '{:': 10089, '¦': 10090, '°': 10091, '´': 10092, '¿': 10093, 'über': 10094, '̇': 10095, 'ω': 10096, 'фотосет': 10097, 'العنزي': 10098, 'بندر': 10099, 'تكفى': 10100, 'جمعة': 10101, 'دعمم': 10102, 'عن': 10103, 'غردلي': 10104, 'للحياة': 10105, 'للعودة': 10106, 'مباركة': 10107, 'مطعم': 10108, 'هاشم': 10109, 'ँ': 10110, 'ख': 10111, 'ध': 10112, 'फ': 10113, 'ब': 10114, 'र': 10115, 'स': 10116, 'ा': 10117, 'ि': 10118, 'े': 10119, 'ो': 10120, 'ཀ': 10121, '’': 10122, '∞': 10123, '∠': 10124, '─': 10125, '┓': 10126, '┗': 10127, '┣': 10128, '┳': 10129, '┻': 10130, '╭': 10131, '╮': 10132, '╯': 10133, '╰': 10134, '╱': 10135, '╲': 10136, '▪': 10137, '★': 10138, '☆': 10139, '☔': 10140, '☕': 10141, '☺': 10142, '☼': 10143, '♛': 10144, '♡': 10145, '♥': 10146, '♫': 10147, '♬': 10148, '⚡': 10149, '✈': 10150, '✌': 10151, '✔': 10152, '✧': 10153, '✨': 10154, '❤': 10155, '⭐': 10156, '。': 10157, '》': 10158, '」': 10159, '더쇼': 10160, '에이핑크': 10161, '인피니트': 10162, '️': 10163, '＠': 10164, 'ｍｅ': 10165, 'ｓｅｅ': 10166, '｡': 10167, '�': 10168, '🇫': 10169, '🇷': 10170, '🌃': 10171, '🌎': 10172, '🌚': 10173, '🌞': 10174, '🌷': 10175, '🌸': 10176, '🍅': 10177, '🍜': 10178, '🍤': 10179, '🍭': 10180, '🍰': 10181, '🍵': 10182, '🍸': 10183, '🍹': 10184, '🎀': 10185, '🎂': 10186, '🎈': 10187, '🎉': 10188, '🎵': 10189, '🏻': 10190, '🏽': 10191, '🐑': 10192, '🐒': 10193, '🐢': 10194, '👆': 10195, '👈': 10196, '👉': 10197, '👊': 10198, '👌': 10199, '👍': 10200, '👏': 10201, '👑': 10202, '👓': 10203, '👯': 10204, '💃': 10205, '💅': 10206, '💋': 10207, '💓': 10208, '💔': 10209, '💕': 10210, '💖': 10211, '💗': 10212, '💘': 10213, '💙': 10214, '💚': 10215, '💛': 10216, '💜': 10217, '💞': 10218, '💟': 10219, '💥': 10220, '💦': 10221, '💪': 10222, '💫': 10223, '🔥': 10224, '🗽': 10225, '😀': 10226, '😁': 10227, '😂': 10228, '😃': 10229, '😄': 10230, '😅': 10231, '😆': 10232, '😉': 10233, '😊': 10234, '😌': 10235, '😍': 10236, '😒': 10237, '😓': 10238, '😔': 10239, '😕': 10240, '😘': 10241, '😚': 10242, '😜': 10243, '😞': 10244, '😟': 10245, '😢': 10246, '😤': 10247, '😧': 10248, '😩': 10249, '😪': 10250, '😬': 10251, '😭': 10252, '😴': 10253, '😵': 10254, '🙅': 10255, '🙈': 10256, '🙏': 10257, '🚂': 10258, '🚖': 10259, '🚙': 10260, '\\U000fe196': 10261, '\\U000fe334': 10262}\n"
          ],
          "name": "stdout"
        }
      ]
    },
    {
      "cell_type": "code",
      "metadata": {
        "id": "7DJp7KEy1Nv0",
        "colab": {
          "base_uri": "https://localhost:8080/"
        },
        "outputId": "0c36a791-7cdc-4ebb-8988-52130f6b623a"
      },
      "source": [
        "#Refer to Lab 5 code \n",
        "# Convert the sentences to the word index\n",
        "len_list = [len(s) for s in sentences]\n",
        "seq_length = max(len_list)\n",
        "# print(seq_length)\n",
        "\n",
        "def encode_and_add_padding(sentences, seq_length, word_index):\n",
        "    sent_encoded = []\n",
        "    for sent in sentences:\n",
        "        temp_encoded = [word_index[word] for word in sent]\n",
        "        if len(temp_encoded) < seq_length:\n",
        "            temp_encoded += [word_index['[PAD]']] * (seq_length - len(temp_encoded))\n",
        "        sent_encoded.append(temp_encoded)\n",
        "    return sent_encoded\n",
        "\n",
        "sent_encoded = encode_and_add_padding(sentences, seq_length, word_index)\n",
        "test_encoded =encode_and_add_padding(test_sentences,seq_length, word_index )\n",
        "# print(sent_encoded)"
      ],
      "execution_count": null,
      "outputs": [
        {
          "output_type": "stream",
          "text": [
            "51\n"
          ],
          "name": "stdout"
        }
      ]
    },
    {
      "cell_type": "code",
      "metadata": {
        "colab": {
          "base_uri": "https://localhost:8080/"
        },
        "id": "Wiuiss4M1xXg",
        "outputId": "43bf23e8-e56a-4678-f0ad-2ef8353d5baa"
      },
      "source": [
        "#Refer to Lab 5 code \n",
        "#converting target labels to encoded using LabelEncoder\n",
        "lEnc = LabelEncoder()\n",
        "lEnc.fit(labels)\n",
        "label_encoded= lEnc.transform(labels)\n",
        "#converting test labels too\n",
        "label_test_encoded=lEnc.fit_transform(labels_test)\n",
        "#print encoded train label\n",
        "print(label_encoded)"
      ],
      "execution_count": null,
      "outputs": [
        {
          "output_type": "stream",
          "text": [
            "[0 0 0 ... 1 1 1]\n"
          ],
          "name": "stdout"
        }
      ]
    },
    {
      "cell_type": "markdown",
      "metadata": {
        "id": "GXgFpxIgl-_G"
      },
      "source": [
        "### 2.1.1. Data Preprocessing for Word Embeddings"
      ]
    },
    {
      "cell_type": "markdown",
      "metadata": {
        "id": "qJrVHGYSmYMg"
      },
      "source": [
        "*You are required to describe which preprocessing techniques were used with justification of your decision.*\n",
        "\n",
        "Teh given data was cleaned from sound effects labels using regular expression as these wont be removed by normal punctuation removal process.The punctuation were removed using python re library abd regular expression. Tokenized function form NLTK was used to tokenized the words.\n",
        "\n"
      ]
    },
    {
      "cell_type": "code",
      "metadata": {
        "id": "3LByzHLiNinu",
        "colab": {
          "base_uri": "https://localhost:8080/"
        },
        "outputId": "e5fc7a59-d63e-4fd2-9849-0317dd5aa769"
      },
      "source": [
        "# Please comment your code\n",
        "targetXML=open('ted_en-20160408.xml', 'r', encoding='UTF8')\n",
        "\n",
        "# Getting contents of <content> tag from the xml file\n",
        "target_text = etree.parse(targetXML)\n",
        "parse_text = '\\n'.join(target_text.xpath('//content/text()'))\n",
        "\n",
        "# Removing \"Sound-effect labels\" using regular expression (regex) (i.e. (Audio), (Laughter))\n",
        "content_text = re.sub(r'\\([^)]*\\)', '', parse_text)\n",
        "\n",
        "# Tokenising the sentence to process it by using NLTK library\n",
        "sent_text=sent_tokenize(content_text)\n",
        "\n",
        "# Removing punctuation and changing all characters to lower case\n",
        "normalized_text = []\n",
        "for string in sent_text:\n",
        "     tokens = re.sub(r\"[^a-z0-9]+\", \" \", string.lower())\n",
        "     normalized_text.append(tokens)\n",
        "\n",
        "# Tokenising each sentence to process individual word\n",
        "sentences=[]\n",
        "sentences=[word_tokenize(sentence) for sentence in normalized_text]\n",
        "\n",
        "# Prints only 10 (tokenised) sentences\n",
        "print(sentences[:10])"
      ],
      "execution_count": null,
      "outputs": [
        {
          "output_type": "stream",
          "text": [
            "[['here', 'are', 'two', 'reasons', 'companies', 'fail', 'they', 'only', 'do', 'more', 'of', 'the', 'same', 'or', 'they', 'only', 'do', 'what', 's', 'new'], ['to', 'me', 'the', 'real', 'real', 'solution', 'to', 'quality', 'growth', 'is', 'figuring', 'out', 'the', 'balance', 'between', 'two', 'activities', 'exploration', 'and', 'exploitation'], ['both', 'are', 'necessary', 'but', 'it', 'can', 'be', 'too', 'much', 'of', 'a', 'good', 'thing'], ['consider', 'facit'], ['i', 'm', 'actually', 'old', 'enough', 'to', 'remember', 'them'], ['facit', 'was', 'a', 'fantastic', 'company'], ['they', 'were', 'born', 'deep', 'in', 'the', 'swedish', 'forest', 'and', 'they', 'made', 'the', 'best', 'mechanical', 'calculators', 'in', 'the', 'world'], ['everybody', 'used', 'them'], ['and', 'what', 'did', 'facit', 'do', 'when', 'the', 'electronic', 'calculator', 'came', 'along'], ['they', 'continued', 'doing', 'exactly', 'the', 'same']]\n"
          ],
          "name": "stdout"
        }
      ]
    },
    {
      "cell_type": "markdown",
      "metadata": {
        "id": "qhAgWf_AmbZ8"
      },
      "source": [
        "### 2.1.2. Build Word Embeddings Model"
      ]
    },
    {
      "cell_type": "markdown",
      "metadata": {
        "id": "AJ8rU7JbiBVS"
      },
      "source": [
        "*You are required to describe how hyperparameters were decided with justification of your decision.*\n",
        "\n",
        "\n",
        "* Size is the dimenisonality of word vectors.\n",
        "* Windows is the maximum distance between the current and predicted word within a sentence\n",
        "*   min_count: ignores all the words with total frequency lower than this\n",
        "*   sg=1: specifies skip gram architecture where using center work contex words are determined.\n",
        "*   workers: thread to train the model\n",
        "\n",
        "This hyperparameters were choosen from lab 2 examples.\n",
        "\n",
        "\n",
        "\n",
        "\n",
        "\n",
        "\n",
        "\n"
      ]
    },
    {
      "cell_type": "code",
      "metadata": {
        "id": "TVPuwWgvNjOU"
      },
      "source": [
        "#Fasttext skip gram model \n",
        "ft_sg_model = FastText(sentences, size=100, window=5, min_count=5, workers=2, sg=1)"
      ],
      "execution_count": null,
      "outputs": []
    },
    {
      "cell_type": "code",
      "metadata": {
        "colab": {
          "base_uri": "https://localhost:8080/"
        },
        "id": "dOTQQeMIW0B5",
        "outputId": "0251ab71-d5d9-4025-83e6-3ae6ffaf2a35"
      },
      "source": [
        "import pprint\n",
        "# As we can see, FastText allows us to obtain word vectors for out-of-vocabulary words\n",
        "result=ft_sg_model.wv.most_similar(\"electrofishing\")\n",
        "pprint.pprint(result)"
      ],
      "execution_count": null,
      "outputs": [
        {
          "output_type": "stream",
          "text": [
            "[('electrolux', 0.7994120121002197),\n",
            " ('electro', 0.7860185503959656),\n",
            " ('electrolyte', 0.7810736298561096),\n",
            " ('electric', 0.7671724557876587),\n",
            " ('electroshock', 0.7657183408737183),\n",
            " ('electrochemical', 0.7631435990333557),\n",
            " ('electrons', 0.759713888168335),\n",
            " ('airbus', 0.7582193613052368),\n",
            " ('electroencephalogram', 0.7510684728622437),\n",
            " ('electrogram', 0.7489620447158813)]\n"
          ],
          "name": "stdout"
        }
      ]
    },
    {
      "cell_type": "code",
      "metadata": {
        "id": "ZniodQ8N5Fbz"
      },
      "source": [
        "ft_sg_model.wv.save_word2vec_format('ted_word-vectors.txt', binary=False)"
      ],
      "execution_count": null,
      "outputs": []
    },
    {
      "cell_type": "markdown",
      "metadata": {
        "id": "LNys5HOdISK-"
      },
      "source": [
        "### 2.1.3. Train Word Embeddings Model"
      ]
    },
    {
      "cell_type": "code",
      "metadata": {
        "id": "Ae8i7Z2kIef-"
      },
      "source": [
        "# word_emb_model = api.load(\"glove-twitter-25\")\n",
        "emb_dim = ft_sg_model.vector_size"
      ],
      "execution_count": null,
      "outputs": []
    },
    {
      "cell_type": "code",
      "metadata": {
        "colab": {
          "base_uri": "https://localhost:8080/"
        },
        "id": "LY33pNdUR1_l",
        "outputId": "ebb592fc-118d-4018-d16e-733656783ac7"
      },
      "source": [
        "emb_table = []\n",
        "for i, word in enumerate(word_list):\n",
        "    if word in ft_sg_model:\n",
        "        emb_table.append(ft_sg_model[word])\n",
        "    else:\n",
        "        emb_table.append([0]*emb_dim)\n",
        "emb_table = np.array(emb_table)"
      ],
      "execution_count": null,
      "outputs": [
        {
          "output_type": "stream",
          "text": [
            "/usr/local/lib/python3.7/dist-packages/ipykernel_launcher.py:3: DeprecationWarning: Call to deprecated `__contains__` (Method will be removed in 4.0.0, use self.wv.__contains__() instead).\n",
            "  This is separate from the ipykernel package so we can avoid doing imports until\n",
            "/usr/local/lib/python3.7/dist-packages/ipykernel_launcher.py:4: DeprecationWarning: Call to deprecated `__getitem__` (Method will be removed in 4.0.0, use self.wv.__getitem__() instead).\n",
            "  after removing the cwd from sys.path.\n"
          ],
          "name": "stderr"
        }
      ]
    },
    {
      "cell_type": "code",
      "metadata": {
        "colab": {
          "base_uri": "https://localhost:8080/"
        },
        "id": "Sd3sYR6w5LW-",
        "outputId": "8e79ca98-ca13-42a8-f301-3e2994ac0787"
      },
      "source": [
        "len(emb_table)==len(word_list)\n"
      ],
      "execution_count": null,
      "outputs": [
        {
          "output_type": "execute_result",
          "data": {
            "text/plain": [
              "True"
            ]
          },
          "metadata": {
            "tags": []
          },
          "execution_count": 36
        }
      ]
    },
    {
      "cell_type": "markdown",
      "metadata": {
        "id": "T0ap96aeGlIk"
      },
      "source": [
        "## 2.2. Lexicon Embeddings"
      ]
    },
    {
      "cell_type": "markdown",
      "metadata": {
        "id": "d16v3oKaGlI0"
      },
      "source": [
        "### 2.2.1. Lexicon-based Embedding"
      ]
    },
    {
      "cell_type": "markdown",
      "metadata": {
        "id": "AKbLnN-3GlI1"
      },
      "source": [
        "*[Optional] You are required to describe why you would like to use more than one-dimensional embedding.*"
      ]
    },
    {
      "cell_type": "code",
      "metadata": {
        "id": "P46m50Dbetom"
      },
      "source": [
        "df_pos_words = pd.read_csv('positive-words.txt',delimiter = \"\\t\",header=None)\n",
        "df_neg_words = pd.read_csv('negative-words.txt',delimiter = \"\\t\",encoding='ISO-8859-1',header=None)"
      ],
      "execution_count": null,
      "outputs": []
    },
    {
      "cell_type": "code",
      "metadata": {
        "id": "4iVEJbvNB_5-"
      },
      "source": [
        "df_pos_words.columns=['positives']\n",
        "df_neg_words.columns=['negatives']\n",
        "pos_words=df_pos_words['positives'].to_list()\n",
        "neg_words=df_neg_words['negatives'].to_list()"
      ],
      "execution_count": null,
      "outputs": []
    },
    {
      "cell_type": "code",
      "metadata": {
        "id": "ZV9siI3b7QC5"
      },
      "source": [
        "#create vector based on psotivie and negative words for our wordlist token\n",
        "lex_vector=[]\n",
        "for word in word_list:\n",
        "  if word in pos_words:\n",
        "    lex_vector.append(2)\n",
        "  elif word in neg_words:\n",
        "    lex_vector.append(1)\n",
        "  else:\n",
        "    lex_vector.append(0)\n"
      ],
      "execution_count": null,
      "outputs": []
    },
    {
      "cell_type": "code",
      "metadata": {
        "colab": {
          "base_uri": "https://localhost:8080/"
        },
        "id": "QlE1t5BGC28A",
        "outputId": "24eaa779-230a-4199-9538-4879589b505a"
      },
      "source": [
        "lex_vector=np.array([lex_vector])\n",
        "lex_vector"
      ],
      "execution_count": null,
      "outputs": [
        {
          "output_type": "execute_result",
          "data": {
            "text/plain": [
              "array([[0, 0, 0, ..., 0, 0, 0]])"
            ]
          },
          "metadata": {
            "tags": []
          },
          "execution_count": 41
        }
      ]
    },
    {
      "cell_type": "markdown",
      "metadata": {
        "id": "tlCeWT8eeLnd"
      },
      "source": [
        "## 2.3. Bi-directional RNN Sequence model"
      ]
    },
    {
      "cell_type": "markdown",
      "metadata": {
        "id": "fwA-NN3EJ4Ig"
      },
      "source": [
        "### 2.3.1. Apply/Import Word Embedding and Lexicon Embedding"
      ]
    },
    {
      "cell_type": "code",
      "metadata": {
        "id": "g7PKX1gIePA2",
        "colab": {
          "base_uri": "https://localhost:8080/"
        },
        "outputId": "c9b3f15f-baf3-4630-980c-b5dcf233b736"
      },
      "source": [
        "# Please comment your code\n",
        "lex_word_emb=np.concatenate((emb_table,lex_vector.T),axis=1)\n",
        "print(type(lex_word_emb))\n",
        "emb_dim=lex_word_emb.shape[1]"
      ],
      "execution_count": null,
      "outputs": [
        {
          "output_type": "stream",
          "text": [
            "<class 'numpy.ndarray'>\n"
          ],
          "name": "stdout"
        }
      ]
    },
    {
      "cell_type": "markdown",
      "metadata": {
        "id": "DpYCL17JKZxl"
      },
      "source": [
        "### 2.3.2. Build Sequence Model"
      ]
    },
    {
      "cell_type": "markdown",
      "metadata": {
        "id": "R204UIyDKhZ4"
      },
      "source": [
        "*You are required to describe how hyperparameters were decided with justification of your decision.*"
      ]
    },
    {
      "cell_type": "code",
      "metadata": {
        "id": "bpRTPQita5s1"
      },
      "source": [
        "import torch\n",
        "import torch.nn as nn\n",
        "import torch.nn.functional as F\n",
        "import torch.optim as optim\n",
        "from sklearn.metrics import accuracy_score\n",
        "\n",
        "device = torch.device(\"cuda\" if torch.cuda.is_available() else \"cpu\")\n",
        "\n",
        "class Bi_LSTM_Emb(nn.Module):\n",
        "    def __init__(self):\n",
        "        super(Bi_LSTM_Emb, self).__init__()\n",
        "        self.emb = nn.Embedding(vocab_size, emb_dim)\n",
        "        # Initialize the Embedding layer with the lookup table we created \n",
        "        self.emb.weight.data.copy_(torch.from_numpy(lex_word_emb))\n",
        "        # Optional: set requires_grad = False to make this lookup table untrainable\n",
        "        self.emb.weight.requires_grad = False\n",
        "\n",
        "        self.lstm = nn.LSTM(emb_dim, n_hidden, batch_first =True, bidirectional=True)\n",
        "        self.linear = nn.Linear(n_hidden*2, n_class)\n",
        "\n",
        "    def forward(self, x):\n",
        "        # Get the embeded tensor\n",
        "        x = self.emb(x)        \n",
        "        # we will use the returned h_n of shape (num_layers * num_directions, batch, hidden_size): tensor containing the hidden state for t = seq_len.\n",
        "        # details of the outputs from nn.LSTM can be found from: https://pytorch.org/docs/stable/generated/torch.nn.LSTM.html\n",
        "        lstm_out, (h_n,c_n) = self.lstm(x)\n",
        "        # concat the last hidden state from two direction\n",
        "        hidden_out =torch.cat((h_n[0,:,:],h_n[1,:,:]),1)\n",
        "        z = self.linear(hidden_out)\n",
        "        return z\n"
      ],
      "execution_count": null,
      "outputs": []
    },
    {
      "cell_type": "markdown",
      "metadata": {
        "id": "6BaOiaGRLW7R"
      },
      "source": [
        "### 2.3.3. Train Sequence Model\n",
        "\n",
        "Note that it will not be marked if you do not display the Training Loss and the Number of Epochs in the Assignment 1 ipynb.\n"
      ]
    },
    {
      "cell_type": "code",
      "metadata": {
        "id": "pm4HIy_XWNlg"
      },
      "source": [
        "#splitting data inot train and validation set\n",
        "train_data, val_data = np.split(sent_encoded, [int(.75 * len(sent_encoded))])\n",
        "train_label,val_label = np.split(label_encoded, [int(.75 * len(label_encoded))])                               \n",
        "\n",
        "\n",
        "# Preparing input\n",
        "input_torch = torch.from_numpy(np.array(train_data)).to(device)\n",
        "targe_torch = torch.from_numpy(np.array(train_label)).view(-1).to(device)\n",
        "\n",
        "val_toch= torch.from_numpy(np.array(val_data)).to(device)\n",
        "val_target_torch = torch.from_numpy(np.array(val_label)).view(-1).to(device)\n",
        "\n"
      ],
      "execution_count": null,
      "outputs": []
    },
    {
      "cell_type": "code",
      "metadata": {
        "id": "r6fQZNgaXhj7"
      },
      "source": [
        "#parameters\n",
        "vocab_size = len(word_list)\n",
        "unique_labels = np.unique(labels)\n",
        "n_class = len(unique_labels)\n",
        "n_hidden = 32\n",
        "learning_rate = [0.1,0.01,0.001]\n",
        "total_epoch = [10,50,100,200]"
      ],
      "execution_count": null,
      "outputs": []
    },
    {
      "cell_type": "code",
      "metadata": {
        "id": "lVQnUSX1LZ6C",
        "colab": {
          "base_uri": "https://localhost:8080/"
        },
        "outputId": "32491f31-cbe5-45b5-a987-c69660d413ff"
      },
      "source": [
        "import time\n",
        "t00=time.time()\n",
        "\n",
        "# Loss function and optimizer\n",
        "criterion = nn.CrossEntropyLoss()\n",
        "\n",
        "for lr in learning_rate:\n",
        "  # Move the model to GPU\n",
        "  model = Bi_LSTM_Emb().to(device)\n",
        "  optimizer = optim.Adam(model.parameters(), lr=lr)\n",
        "\n",
        "  # Please comment your code\n",
        "  for epochs in total_epoch:\n",
        "    print(f\"\\nTunning For Epoch: {epochs} and learnig_rate: {lr}\")\n",
        "    for epoch in range(epochs):\n",
        "      # Set the flag to training\n",
        "      model.train()\n",
        "\n",
        "      # forward + backward + optimize\n",
        "      optimizer.zero_grad()\n",
        "      outputs = model(input_torch) \n",
        "      loss = criterion(outputs, targe_torch)\n",
        "      loss.backward()\n",
        "      optimizer.step()\n",
        "\n",
        "      predicted = torch.argmax(outputs, -1)\n",
        "      val_outputs = model(val_toch)\n",
        "      val_predicted = torch.argmax(val_outputs, -1)   \n",
        "      acc= accuracy_score(predicted.cpu().numpy(),targe_torch.cpu().numpy())\n",
        "      val_acc=accuracy_score(val_predicted.cpu().numpy(),val_target_torch.cpu().numpy())\n",
        "      if epochs==10:\n",
        "        print(f'Epoch: {epoch+1}, loss: {loss.item()}, train_acc:{acc}, validation_acc: {val_acc}')\n",
        "      elif epoch % 10 == 0:\n",
        "        print(f'Epoch: {epoch+1}, loss: {loss.item()}, train_acc:{acc}, validation_acc: {val_acc}')\n",
        "\n",
        "    print(f'Finished Training for epoch :{epochs}')\n",
        "    print(f'*****************************************\\n\\n')\n",
        "\n",
        "#Run time computation\n",
        "t01=time.time()\n",
        "\n",
        "print(\"Total run time :\", t01-t00)"
      ],
      "execution_count": null,
      "outputs": [
        {
          "output_type": "stream",
          "text": [
            "\n",
            "Tunning For Epoch: 10 and learnig_rate: 0.1\n",
            "Epoch: 1, loss: 0.6898900270462036, train_acc:0.5665, validation_acc: 0.0\n",
            "Epoch: 2, loss: 2.8816587924957275, train_acc:0.6666666666666666, validation_acc: 1.0\n",
            "Epoch: 3, loss: 1.0933805704116821, train_acc:0.3333333333333333, validation_acc: 0.0\n",
            "Epoch: 4, loss: 0.6706767678260803, train_acc:0.6666666666666666, validation_acc: 0.0\n",
            "Epoch: 5, loss: 0.6432044506072998, train_acc:0.6666666666666666, validation_acc: 0.0\n",
            "Epoch: 6, loss: 0.6460143327713013, train_acc:0.6666666666666666, validation_acc: 0.0\n",
            "Epoch: 7, loss: 0.6657719016075134, train_acc:0.6666666666666666, validation_acc: 0.0\n",
            "Epoch: 8, loss: 0.635422945022583, train_acc:0.6666666666666666, validation_acc: 0.0\n",
            "Epoch: 9, loss: 0.6421753168106079, train_acc:0.6666666666666666, validation_acc: 0.0\n",
            "Epoch: 10, loss: 0.6503846645355225, train_acc:0.6666666666666666, validation_acc: 0.0\n",
            "Finished Training for epoch :10\n",
            "*****************************************\n",
            "\n",
            "\n",
            "\n",
            "Tunning For Epoch: 50 and learnig_rate: 0.1\n",
            "Epoch: 1, loss: 0.6325520277023315, train_acc:0.6666666666666666, validation_acc: 0.0\n",
            "Epoch: 11, loss: 0.60111004114151, train_acc:0.7013333333333334, validation_acc: 0.1665\n",
            "Epoch: 21, loss: 0.5704352855682373, train_acc:0.7193333333333334, validation_acc: 0.328\n",
            "Epoch: 31, loss: 0.5435062050819397, train_acc:0.7355, validation_acc: 0.3565\n",
            "Epoch: 41, loss: 0.5174024105072021, train_acc:0.757, validation_acc: 0.41\n",
            "Finished Training for epoch :50\n",
            "*****************************************\n",
            "\n",
            "\n",
            "\n",
            "Tunning For Epoch: 100 and learnig_rate: 0.1\n",
            "Epoch: 1, loss: 0.49674317240715027, train_acc:0.769, validation_acc: 0.364\n",
            "Epoch: 11, loss: 0.4756709337234497, train_acc:0.779, validation_acc: 0.4075\n",
            "Epoch: 21, loss: 0.45973315834999084, train_acc:0.7913333333333333, validation_acc: 0.3915\n",
            "Epoch: 31, loss: 0.44696176052093506, train_acc:0.8038333333333333, validation_acc: 0.3765\n",
            "Epoch: 41, loss: 0.429902046918869, train_acc:0.8115, validation_acc: 0.51\n",
            "Epoch: 51, loss: 0.4240196645259857, train_acc:0.8123333333333334, validation_acc: 0.4305\n",
            "Epoch: 61, loss: 0.40197622776031494, train_acc:0.8235, validation_acc: 0.4645\n",
            "Epoch: 71, loss: 0.4135914444923401, train_acc:0.813, validation_acc: 0.5995\n",
            "Epoch: 81, loss: 0.4017831087112427, train_acc:0.8161666666666667, validation_acc: 0.5865\n",
            "Epoch: 91, loss: 0.3776787519454956, train_acc:0.831, validation_acc: 0.586\n",
            "Finished Training for epoch :100\n",
            "*****************************************\n",
            "\n",
            "\n",
            "\n",
            "Tunning For Epoch: 200 and learnig_rate: 0.1\n",
            "Epoch: 1, loss: 0.3663935661315918, train_acc:0.8416666666666667, validation_acc: 0.467\n",
            "Epoch: 11, loss: 0.3882656395435333, train_acc:0.8303333333333334, validation_acc: 0.4095\n",
            "Epoch: 21, loss: 0.364928662776947, train_acc:0.8461666666666666, validation_acc: 0.4715\n",
            "Epoch: 31, loss: 0.3445188105106354, train_acc:0.8576666666666667, validation_acc: 0.4905\n",
            "Epoch: 41, loss: 0.33719658851623535, train_acc:0.8526666666666667, validation_acc: 0.5785\n",
            "Epoch: 51, loss: 0.3166310489177704, train_acc:0.8706666666666667, validation_acc: 0.5435\n",
            "Epoch: 61, loss: 0.3243487477302551, train_acc:0.8666666666666667, validation_acc: 0.448\n",
            "Epoch: 71, loss: 0.3119514286518097, train_acc:0.8728333333333333, validation_acc: 0.5285\n",
            "Epoch: 81, loss: 0.2957557141780853, train_acc:0.8766666666666667, validation_acc: 0.5915\n",
            "Epoch: 91, loss: 0.28505370020866394, train_acc:0.8843333333333333, validation_acc: 0.598\n",
            "Epoch: 101, loss: 0.3367997705936432, train_acc:0.8475, validation_acc: 0.6215\n",
            "Epoch: 111, loss: 0.27670547366142273, train_acc:0.889, validation_acc: 0.4745\n",
            "Epoch: 121, loss: 0.26784244179725647, train_acc:0.8993333333333333, validation_acc: 0.5455\n",
            "Epoch: 131, loss: 0.2543129622936249, train_acc:0.9033333333333333, validation_acc: 0.536\n",
            "Epoch: 141, loss: 0.24359092116355896, train_acc:0.9096666666666666, validation_acc: 0.5535\n",
            "Epoch: 151, loss: 0.23446859419345856, train_acc:0.9153333333333333, validation_acc: 0.5465\n",
            "Epoch: 161, loss: 0.22811971604824066, train_acc:0.9171666666666667, validation_acc: 0.5325\n",
            "Epoch: 171, loss: 0.4241597056388855, train_acc:0.8305, validation_acc: 0.474\n",
            "Epoch: 181, loss: 0.29139700531959534, train_acc:0.8796666666666667, validation_acc: 0.574\n",
            "Epoch: 191, loss: 0.23701132833957672, train_acc:0.9058333333333334, validation_acc: 0.5075\n",
            "Finished Training for epoch :200\n",
            "*****************************************\n",
            "\n",
            "\n",
            "\n",
            "Tunning For Epoch: 10 and learnig_rate: 0.01\n",
            "Epoch: 1, loss: 0.7158023118972778, train_acc:0.3333333333333333, validation_acc: 0.0\n",
            "Epoch: 2, loss: 0.6564889550209045, train_acc:0.6666666666666666, validation_acc: 0.0\n",
            "Epoch: 3, loss: 0.6398956179618835, train_acc:0.6666666666666666, validation_acc: 0.0\n",
            "Epoch: 4, loss: 0.647538423538208, train_acc:0.6666666666666666, validation_acc: 0.0\n",
            "Epoch: 5, loss: 0.6342254877090454, train_acc:0.6666666666666666, validation_acc: 0.0\n",
            "Epoch: 6, loss: 0.6270933151245117, train_acc:0.6666666666666666, validation_acc: 0.0\n",
            "Epoch: 7, loss: 0.6272093057632446, train_acc:0.6666666666666666, validation_acc: 0.0275\n",
            "Epoch: 8, loss: 0.6263105869293213, train_acc:0.674, validation_acc: 0.0315\n",
            "Epoch: 9, loss: 0.6214428544044495, train_acc:0.6745, validation_acc: 0.038\n",
            "Epoch: 10, loss: 0.6144780516624451, train_acc:0.6768333333333333, validation_acc: 0.0465\n",
            "Finished Training for epoch :10\n",
            "*****************************************\n",
            "\n",
            "\n",
            "\n",
            "Tunning For Epoch: 50 and learnig_rate: 0.01\n",
            "Epoch: 1, loss: 0.6083890199661255, train_acc:0.6785, validation_acc: 0.0675\n",
            "Epoch: 11, loss: 0.5419546961784363, train_acc:0.739, validation_acc: 0.341\n",
            "Epoch: 21, loss: 0.5098919868469238, train_acc:0.7536666666666667, validation_acc: 0.437\n",
            "Epoch: 31, loss: 0.48135513067245483, train_acc:0.777, validation_acc: 0.472\n",
            "Epoch: 41, loss: 0.453847199678421, train_acc:0.7923333333333333, validation_acc: 0.4375\n",
            "Finished Training for epoch :50\n",
            "*****************************************\n",
            "\n",
            "\n",
            "\n",
            "Tunning For Epoch: 100 and learnig_rate: 0.01\n",
            "Epoch: 1, loss: 0.43151023983955383, train_acc:0.8071666666666667, validation_acc: 0.425\n",
            "Epoch: 11, loss: 0.40162479877471924, train_acc:0.821, validation_acc: 0.5385\n",
            "Epoch: 21, loss: 0.38448071479797363, train_acc:0.8278333333333333, validation_acc: 0.4675\n",
            "Epoch: 31, loss: 0.36089733242988586, train_acc:0.8371666666666666, validation_acc: 0.5025\n",
            "Epoch: 41, loss: 0.31925052404403687, train_acc:0.8608333333333333, validation_acc: 0.5885\n",
            "Epoch: 51, loss: 0.27898356318473816, train_acc:0.8865, validation_acc: 0.5045\n",
            "Epoch: 61, loss: 0.3051198124885559, train_acc:0.8668333333333333, validation_acc: 0.009\n",
            "Epoch: 71, loss: 0.4232860803604126, train_acc:0.8025, validation_acc: 0.6215\n",
            "Epoch: 81, loss: 0.3827352821826935, train_acc:0.8233333333333334, validation_acc: 0.5405\n",
            "Epoch: 91, loss: 0.33927056193351746, train_acc:0.8543333333333333, validation_acc: 0.495\n",
            "Finished Training for epoch :100\n",
            "*****************************************\n",
            "\n",
            "\n",
            "\n",
            "Tunning For Epoch: 200 and learnig_rate: 0.01\n",
            "Epoch: 1, loss: 0.3041785657405853, train_acc:0.873, validation_acc: 0.529\n",
            "Epoch: 11, loss: 0.2695375680923462, train_acc:0.8918333333333334, validation_acc: 0.5355\n",
            "Epoch: 21, loss: 0.2394837886095047, train_acc:0.9098333333333334, validation_acc: 0.553\n",
            "Epoch: 31, loss: 0.2132410705089569, train_acc:0.92, validation_acc: 0.557\n",
            "Epoch: 41, loss: 0.18926586210727692, train_acc:0.9328333333333333, validation_acc: 0.555\n",
            "Epoch: 51, loss: 0.1670941710472107, train_acc:0.9436666666666667, validation_acc: 0.5555\n",
            "Epoch: 61, loss: 0.25322654843330383, train_acc:0.8886666666666667, validation_acc: 0.4945\n",
            "Epoch: 71, loss: 0.15760500729084015, train_acc:0.9418333333333333, validation_acc: 0.5805\n",
            "Epoch: 81, loss: 0.13229869306087494, train_acc:0.9531666666666667, validation_acc: 0.549\n",
            "Epoch: 91, loss: 0.11614605039358139, train_acc:0.9605, validation_acc: 0.5495\n",
            "Epoch: 101, loss: 0.10241871327161789, train_acc:0.9676666666666667, validation_acc: 0.5465\n",
            "Epoch: 111, loss: 0.09201475977897644, train_acc:0.9713333333333334, validation_acc: 0.5525\n",
            "Epoch: 121, loss: 0.08299189060926437, train_acc:0.9743333333333334, validation_acc: 0.556\n",
            "Epoch: 131, loss: 0.07502902299165726, train_acc:0.9773333333333334, validation_acc: 0.557\n",
            "Epoch: 141, loss: 0.06806622445583344, train_acc:0.9796666666666667, validation_acc: 0.5515\n",
            "Epoch: 151, loss: 0.06209034100174904, train_acc:0.9818333333333333, validation_acc: 0.549\n",
            "Epoch: 161, loss: 0.056925348937511444, train_acc:0.9841666666666666, validation_acc: 0.5485\n",
            "Epoch: 171, loss: 0.0524110421538353, train_acc:0.9858333333333333, validation_acc: 0.5455\n",
            "Epoch: 181, loss: 0.04845030605792999, train_acc:0.9873333333333333, validation_acc: 0.547\n",
            "Epoch: 191, loss: 0.044957973062992096, train_acc:0.9881666666666666, validation_acc: 0.5475\n",
            "Finished Training for epoch :200\n",
            "*****************************************\n",
            "\n",
            "\n",
            "\n",
            "Tunning For Epoch: 10 and learnig_rate: 0.001\n",
            "Epoch: 1, loss: 0.7181108593940735, train_acc:0.3265, validation_acc: 0.901\n",
            "Epoch: 2, loss: 0.7091091275215149, train_acc:0.3293333333333333, validation_acc: 0.6995\n",
            "Epoch: 3, loss: 0.7008029222488403, train_acc:0.3635, validation_acc: 0.2925\n",
            "Epoch: 4, loss: 0.6931190490722656, train_acc:0.5111666666666667, validation_acc: 0.058\n",
            "Epoch: 5, loss: 0.6860092878341675, train_acc:0.6263333333333333, validation_acc: 0.0045\n",
            "Epoch: 6, loss: 0.6794233918190002, train_acc:0.6653333333333333, validation_acc: 0.0005\n",
            "Epoch: 7, loss: 0.6733278036117554, train_acc:0.6661666666666667, validation_acc: 0.0\n",
            "Epoch: 8, loss: 0.6676961779594421, train_acc:0.6666666666666666, validation_acc: 0.0\n",
            "Epoch: 9, loss: 0.6625238656997681, train_acc:0.6666666666666666, validation_acc: 0.0\n",
            "Epoch: 10, loss: 0.6578010320663452, train_acc:0.6666666666666666, validation_acc: 0.0\n",
            "Finished Training for epoch :10\n",
            "*****************************************\n",
            "\n",
            "\n",
            "\n",
            "Tunning For Epoch: 50 and learnig_rate: 0.001\n",
            "Epoch: 1, loss: 0.6535359621047974, train_acc:0.6666666666666666, validation_acc: 0.0\n",
            "Epoch: 11, loss: 0.6371608376502991, train_acc:0.6666666666666666, validation_acc: 0.0\n",
            "Epoch: 21, loss: 0.6288387775421143, train_acc:0.6666666666666666, validation_acc: 0.0\n",
            "Epoch: 31, loss: 0.6212444305419922, train_acc:0.6666666666666666, validation_acc: 0.0\n",
            "Epoch: 41, loss: 0.6089624166488647, train_acc:0.6705, validation_acc: 0.0265\n",
            "Finished Training for epoch :50\n",
            "*****************************************\n",
            "\n",
            "\n",
            "\n",
            "Tunning For Epoch: 100 and learnig_rate: 0.001\n",
            "Epoch: 1, loss: 0.5883491039276123, train_acc:0.6896666666666667, validation_acc: 0.09\n",
            "Epoch: 11, loss: 0.5628691911697388, train_acc:0.7355, validation_acc: 0.2775\n",
            "Epoch: 21, loss: 0.5444877743721008, train_acc:0.7465, validation_acc: 0.3465\n",
            "Epoch: 31, loss: 0.5313022136688232, train_acc:0.7498333333333334, validation_acc: 0.3685\n",
            "Epoch: 41, loss: 0.5191417932510376, train_acc:0.7568333333333334, validation_acc: 0.395\n",
            "Epoch: 51, loss: 0.5087160468101501, train_acc:0.758, validation_acc: 0.3965\n",
            "Epoch: 61, loss: 0.5006267428398132, train_acc:0.7608333333333334, validation_acc: 0.44\n",
            "Epoch: 71, loss: 0.4930972456932068, train_acc:0.767, validation_acc: 0.424\n",
            "Epoch: 81, loss: 0.48592886328697205, train_acc:0.7701666666666667, validation_acc: 0.424\n",
            "Epoch: 91, loss: 0.47886109352111816, train_acc:0.7725, validation_acc: 0.4515\n",
            "Finished Training for epoch :100\n",
            "*****************************************\n",
            "\n",
            "\n",
            "\n",
            "Tunning For Epoch: 200 and learnig_rate: 0.001\n",
            "Epoch: 1, loss: 0.4717235565185547, train_acc:0.779, validation_acc: 0.452\n",
            "Epoch: 11, loss: 0.46531328558921814, train_acc:0.7828333333333334, validation_acc: 0.4855\n",
            "Epoch: 21, loss: 0.457681268453598, train_acc:0.7866666666666666, validation_acc: 0.485\n",
            "Epoch: 31, loss: 0.4504531919956207, train_acc:0.7973333333333333, validation_acc: 0.4695\n",
            "Epoch: 41, loss: 0.44250252842903137, train_acc:0.8003333333333333, validation_acc: 0.4695\n",
            "Epoch: 51, loss: 0.43488809466362, train_acc:0.8045, validation_acc: 0.49\n",
            "Epoch: 61, loss: 0.4264063239097595, train_acc:0.8116666666666666, validation_acc: 0.4765\n",
            "Epoch: 71, loss: 0.41940444707870483, train_acc:0.816, validation_acc: 0.4325\n",
            "Epoch: 81, loss: 0.41452330350875854, train_acc:0.8186666666666667, validation_acc: 0.4935\n",
            "Epoch: 91, loss: 0.40590280294418335, train_acc:0.8195, validation_acc: 0.506\n",
            "Epoch: 101, loss: 0.3986818790435791, train_acc:0.8235, validation_acc: 0.5005\n",
            "Epoch: 111, loss: 0.3908584713935852, train_acc:0.8276666666666667, validation_acc: 0.4905\n",
            "Epoch: 121, loss: 0.3822008967399597, train_acc:0.8315, validation_acc: 0.496\n",
            "Epoch: 131, loss: 0.3943435847759247, train_acc:0.8176666666666667, validation_acc: 0.443\n",
            "Epoch: 141, loss: 0.37198156118392944, train_acc:0.8365, validation_acc: 0.5465\n",
            "Epoch: 151, loss: 0.3668661415576935, train_acc:0.8413333333333334, validation_acc: 0.527\n",
            "Epoch: 161, loss: 0.3591412305831909, train_acc:0.8448333333333333, validation_acc: 0.4905\n",
            "Epoch: 171, loss: 0.3533514142036438, train_acc:0.8463333333333334, validation_acc: 0.51\n",
            "Epoch: 181, loss: 0.34671756625175476, train_acc:0.849, validation_acc: 0.5135\n",
            "Epoch: 191, loss: 0.3401848375797272, train_acc:0.8533333333333334, validation_acc: 0.5075\n",
            "Finished Training for epoch :200\n",
            "*****************************************\n",
            "\n",
            "\n",
            "Total run time : 3834.664614677429\n"
          ],
          "name": "stdout"
        }
      ]
    },
    {
      "cell_type": "markdown",
      "metadata": {
        "id": "VWj3yQj1r0Yp"
      },
      "source": [
        "Based on the above hyper parameter training keeping the number of neurons in hidden layer constant, the best validation accuray is given by epoch 100 and learnig rate 0.1 which is 62.15%. Picking these ones as the optimal hyperparameters and training tuned model."
      ]
    },
    {
      "cell_type": "code",
      "metadata": {
        "colab": {
          "base_uri": "https://localhost:8080/"
        },
        "id": "9f9xEIhZry9P",
        "outputId": "3a86ac7c-44dc-4a01-b68f-ff29d59a5b28"
      },
      "source": [
        "#Tunned model using optimal hyperparameters\n",
        "total_epoch=[100]\n",
        "learning_rate = 0.1\n",
        "model = Bi_LSTM_Emb().to(device)\n",
        "optimizer = optim.Adam(model.parameters(), lr=learning_rate)\n",
        "test_torch = torch.from_numpy(np.array(test_encoded)).to(device)\n",
        "\n",
        "f1score=[]\n",
        "epochs_f1=[]\n",
        "\n",
        "for epochs in total_epoch:\n",
        "    print(f\"\\nTunning For Epoch: {epochs} and learnig_rate: {lr}\")\n",
        "    for epoch in range(epochs):\n",
        "      # Set the flag to training\n",
        "      model.train()\n",
        "\n",
        "      # forward + backward + optimize\n",
        "      optimizer.zero_grad()\n",
        "      outputs = model(input_torch) \n",
        "      loss = criterion(outputs, targe_torch)\n",
        "      loss.backward()\n",
        "      optimizer.step()\n",
        "\n",
        "      #output prediction and metrics calculation\n",
        "      predicted = torch.argmax(outputs, -1)\n",
        "      test_outputs = model(test_torch)\n",
        "      test_predicted = torch.argmax(test_outputs, -1)   \n",
        "      acc= accuracy_score(predicted.cpu().numpy(),targe_torch.cpu().numpy())\n",
        "      #f1score calculatio neach epoch\n",
        "      f1score.append(f1_score(label_test_encoded,test_predicted.cpu().numpy(), average='micro'))\n",
        "      epochs_f1.append(epochs)\n",
        "      # if epochs==10:\n",
        "      #   print(f'Epoch: {epoch+1}, loss: {loss.item()}, train_acc:{acc}')\n",
        "      # elif epoch % 10 == 0:\n",
        "      #   print(f'Epoch: {epoch+1}, loss: {loss.item()}, train_acc:{acc}')"
      ],
      "execution_count": null,
      "outputs": [
        {
          "output_type": "stream",
          "text": [
            "\n",
            "Tunning For Epoch: 100 and learnig_rate: 0.001\n"
          ],
          "name": "stdout"
        }
      ]
    },
    {
      "cell_type": "markdown",
      "metadata": {
        "id": "a4mpRpocePLN"
      },
      "source": [
        "# 3 - Evaluation\n"
      ]
    },
    {
      "cell_type": "markdown",
      "metadata": {
        "id": "lbLBzHObsvvM"
      },
      "source": [
        "## 3.1. Word Embedding Evaluation\n",
        "You are to apply Semantic-Syntactic word relationship tests for the trained word embeddings and visualise the result of Semantic-Syntactic word relationship tests.\n",
        "Note that it will not be marked if you do not display it in the ipynb file.\n"
      ]
    },
    {
      "cell_type": "markdown",
      "metadata": {
        "id": "MSIUsb7qtQEf"
      },
      "source": [
        "(*Please show your empirical evidence*)"
      ]
    },
    {
      "cell_type": "code",
      "metadata": {
        "id": "tCrcXwcGsuuo",
        "colab": {
          "base_uri": "https://localhost:8080/"
        },
        "outputId": "9f2dc6e8-60b3-46f7-9c36-fde70e075186"
      },
      "source": [
        "# # Please comment your code\n",
        "!git clone https://github.com/stanfordnlp/GloVe.git\n",
        "vectors_file=\"/content/ted_word-vectors.txt\"\n",
        "\n",
        "with open(vectors_file, 'r') as f:\n",
        "  vectors = {}\n",
        "  for line in f.readlines()[1:]: # we only need the embedding vectors starting from the second line \n",
        "    vals = line.rstrip().split(' ')\n",
        "    vectors[vals[0]] = [float(x) for x in vals[1:]]\n",
        "\n",
        "vocab_words=list(vectors.keys())\n",
        "vocab_size = len(vocab_words)\n",
        "print(\"Vocab size: \",str(vocab_size))\n",
        "\n",
        "# create word->index and index->word converter\n",
        "vocab = {w: idx for idx, w in enumerate(vocab_words)}\n",
        "ivocab = {idx: w for idx, w in enumerate(vocab_words)}\n",
        "\n",
        "# create the embedding matrix of shape (vocab_size, dim)\n",
        "vector_dim = len(vectors[ivocab[0]])\n",
        "W = np.zeros((vocab_size, vector_dim))\n",
        "for word, v in vectors.items():\n",
        "    if word == '<unk>':\n",
        "        continue\n",
        "    W[vocab[word], :] = v\n",
        "\n",
        "# normalize each word vector to unit length\n",
        "# Vectors are usually normalized to unit length before they are used for similarity calculation, making cosine similarity and dot-product equivalent.\n",
        "W_norm = np.zeros(W.shape)\n",
        "d = (np.sum(W ** 2, 1) ** (0.5))\n",
        "W_norm = (W.T / d).T\n",
        "\n",
        "\n",
        "def evaluate_vectors(W, vocab, prefix='./eval/question-data/'):\n",
        "    \"\"\"Evaluate the trained word vectors on a variety of tasks\"\"\"\n",
        "\n",
        "    filenames = [\n",
        "        'capital-common-countries.txt', 'capital-world.txt', 'currency.txt',\n",
        "        'city-in-state.txt', 'family.txt', 'gram1-adjective-to-adverb.txt',\n",
        "        'gram2-opposite.txt', 'gram3-comparative.txt', 'gram4-superlative.txt',\n",
        "        'gram5-present-participle.txt', 'gram6-nationality-adjective.txt',\n",
        "        'gram7-past-tense.txt', 'gram8-plural.txt', 'gram9-plural-verbs.txt',\n",
        "        ]\n",
        "\n",
        "    # to avoid memory overflow, could be increased/decreased\n",
        "    # depending on system and vocab size\n",
        "    split_size = 100\n",
        "\n",
        "    correct_sem = 0; # count correct semantic questions\n",
        "    correct_syn = 0; # count correct syntactic questions\n",
        "    correct_tot = 0 # count correct questions\n",
        "    count_sem = 0; # count all semantic questions\n",
        "    count_syn = 0; # count all syntactic questions\n",
        "    count_tot = 0 # count all questions\n",
        "    full_count = 0 # count all questions, including those with unknown words\n",
        "\n",
        "    for i in range(len(filenames)):\n",
        "        with open('%s/%s' % (prefix, filenames[i]), 'r') as f:\n",
        "            full_data = [line.rstrip().split(' ') for line in f]\n",
        "            full_count += len(full_data)\n",
        "            data = [x for x in full_data if all(word in vocab for word in x)]\n",
        "\n",
        "        if len(data) == 0:\n",
        "            print(\"ERROR: no lines of vocab kept for %s !\" % filenames[i])\n",
        "            print(\"Example missing line:\", full_data[0])\n",
        "            continue\n",
        "\n",
        "        indices = np.array([[vocab[word] for word in row] for row in data])\n",
        "        ind1, ind2, ind3, ind4 = indices.T\n",
        "\n",
        "        predictions = np.zeros((len(indices),))\n",
        "        num_iter = int(np.ceil(len(indices) / float(split_size)))\n",
        "        for j in range(num_iter):\n",
        "            subset = np.arange(j*split_size, min((j + 1)*split_size, len(ind1)))\n",
        "\n",
        "            pred_vec = (W[ind2[subset], :] - W[ind1[subset], :]\n",
        "                +  W[ind3[subset], :])\n",
        "\n",
        "            #cosine similarity if input W has been normalized\n",
        "            dist = np.dot(W, pred_vec.T)\n",
        "\n",
        "\n",
        "            for k in range(len(subset)):\n",
        "                dist[ind1[subset[k]], k] = -np.Inf\n",
        "                dist[ind2[subset[k]], k] = -np.Inf\n",
        "                dist[ind3[subset[k]], k] = -np.Inf\n",
        "\n",
        "            # predicted word index\n",
        "            predictions[subset] = np.argmax(dist, 0).flatten()\n",
        "\n",
        "        \n",
        "        val = (ind4 == predictions) # correct predictions\n",
        "        count_tot = count_tot + len(ind1)\n",
        "        correct_tot = correct_tot + sum(val)\n",
        "        if i < 5:\n",
        "            count_sem = count_sem + len(ind1)\n",
        "            correct_sem = correct_sem + sum(val)\n",
        "        else:\n",
        "            count_syn = count_syn + len(ind1)\n",
        "            correct_syn = correct_syn + sum(val)\n",
        "\n",
        "        print(\"%s:\" % filenames[i])\n",
        "        print('ACCURACY TOP1: %.2f%% (%d/%d)' %\n",
        "            (np.mean(val) * 100, np.sum(val), len(val)))\n",
        "        \n",
        "    return correct_sem, correct_syn, correct_tot, count_sem, count_syn, count_tot, full_count\n",
        "\n",
        "\n",
        "\n",
        "correct_sem, correct_syn, correct_tot, count_sem, count_syn, count_tot, full_count = evaluate_vectors(W_norm, vocab, prefix='/content/GloVe/eval/question-data')\n",
        "\n",
        "semantic_acc= (100 * correct_sem / float(count_sem), correct_sem, count_sem)\n",
        "syntatic_acc=(100 * correct_syn / float(count_syn), correct_syn, count_syn)\n",
        "total_acc=(100 * correct_tot / float(count_tot), correct_tot, count_tot)\n",
        "\n",
        "\n",
        "print('Questions seen/total: %.2f%% (%d/%d)' %\n",
        "    (100 * count_tot / float(full_count), count_tot, full_count))\n",
        "print(f'Semantic accuracy: {semantic_accuracy}')\n",
        "print(f'Syntactic accuracy: {syntatic_acc}')\n",
        "print('Total accuracy:{total_acc}')"
      ],
      "execution_count": null,
      "outputs": [
        {
          "output_type": "stream",
          "text": [
            "fatal: destination path 'GloVe' already exists and is not an empty directory.\n",
            "Vocab size:  21613\n",
            "capital-common-countries.txt:\n",
            "ACCURACY TOP1: 1.84% (5/272)\n",
            "capital-world.txt:\n",
            "ACCURACY TOP1: 2.17% (11/507)\n",
            "currency.txt:\n",
            "ACCURACY TOP1: 0.00% (0/28)\n",
            "city-in-state.txt:\n",
            "ACCURACY TOP1: 1.65% (9/545)\n",
            "family.txt:\n",
            "ACCURACY TOP1: 42.40% (145/342)\n",
            "gram1-adjective-to-adverb.txt:\n",
            "ACCURACY TOP1: 76.72% (623/812)\n",
            "gram2-opposite.txt:\n",
            "ACCURACY TOP1: 81.23% (411/506)\n",
            "gram3-comparative.txt:\n",
            "ACCURACY TOP1: 77.93% (1038/1332)\n",
            "gram4-superlative.txt:\n",
            "ACCURACY TOP1: 85.19% (644/756)\n",
            "gram5-present-participle.txt:\n",
            "ACCURACY TOP1: 82.76% (821/992)\n",
            "gram6-nationality-adjective.txt:\n",
            "ACCURACY TOP1: 40.05% (340/849)\n",
            "gram7-past-tense.txt:\n",
            "ACCURACY TOP1: 37.72% (559/1482)\n",
            "gram8-plural.txt:\n",
            "ACCURACY TOP1: 68.71% (639/930)\n",
            "gram9-plural-verbs.txt:\n",
            "ACCURACY TOP1: 74.74% (565/756)\n",
            "Questions seen/total: 51.72% (10109/19544)\n",
            "Semantic accuracy: (51.724314367580845, 10109, 19544)\n",
            "Syntactic accuracy: (67.02317290552584, 5640, 8415)\n",
            "Total accuracy:{total_acc}\n"
          ],
          "name": "stdout"
        }
      ]
    },
    {
      "cell_type": "code",
      "metadata": {
        "colab": {
          "base_uri": "https://localhost:8080/",
          "height": 295
        },
        "id": "hVOHba3GRPtC",
        "outputId": "581376ac-c586-49b5-d462-ea861f56264b"
      },
      "source": [
        "plt.plot(semantic_acc,label='Semantic Accuracy')\n",
        "plt.plot(syntatic_acc,label='Syntatic Accuracy')\n",
        "plt.plot(total_acc,label='Total Accuracy')\n",
        "plt.title(\"Word Embedding Evaluation\")\n",
        "plt.xlabel('Accuracy')\n",
        "plt.ylabel('Vector Dimension')\n",
        "plt.legend()\n",
        "plt.show()\n"
      ],
      "execution_count": null,
      "outputs": [
        {
          "output_type": "display_data",
          "data": {
            "image/png": "[encoded data removed]",
            "text/plain": [
              "<Figure size 432x288 with 1 Axes>"
            ]
          },
          "metadata": {
            "tags": [],
            "needs_background": "light"
          }
        }
      ]
    },
    {
      "cell_type": "code",
      "metadata": {
        "colab": {
          "base_uri": "https://localhost:8080/"
        },
        "id": "94PvJk6cRsPM",
        "outputId": "8cbe7d0b-8aa6-441d-99e3-820524104bc1"
      },
      "source": [
        "len(vectors[ivocab[80]])"
      ],
      "execution_count": null,
      "outputs": [
        {
          "output_type": "execute_result",
          "data": {
            "text/plain": [
              "100"
            ]
          },
          "metadata": {
            "tags": []
          },
          "execution_count": 74
        }
      ]
    },
    {
      "cell_type": "code",
      "metadata": {
        "colab": {
          "base_uri": "https://localhost:8080/"
        },
        "id": "9c1tBp-3SLeB",
        "outputId": "3d87bee0-8e60-4225-d367-33e072ab267f"
      },
      "source": [
        "len(vectors)"
      ],
      "execution_count": null,
      "outputs": [
        {
          "output_type": "execute_result",
          "data": {
            "text/plain": [
              "21613"
            ]
          },
          "metadata": {
            "tags": []
          },
          "execution_count": 75
        }
      ]
    },
    {
      "cell_type": "markdown",
      "metadata": {
        "id": "KEW1zMgVMREr"
      },
      "source": [
        "## 3.2. Performance Evaluation\n",
        "\n",
        "\n",
        "You are required to provide the table with precision, recall, f1 of test set.\n",
        "Note that it will not be marked if you do not display it in the ipynb file.\n"
      ]
    },
    {
      "cell_type": "markdown",
      "metadata": {
        "id": "oVCF0bwTtRS0"
      },
      "source": [
        "(*Please show your empirical evidence*)"
      ]
    },
    {
      "cell_type": "code",
      "metadata": {
        "id": "LPHCb-bneTI9",
        "colab": {
          "base_uri": "https://localhost:8080/"
        },
        "outputId": "d26f1926-41f3-4755-dcd0-9061726dbb61"
      },
      "source": [
        "# Please comment your code\n",
        "#Metrics for test data\n",
        "outputs = model(test_torch) \n",
        "predicted = torch.argmax(outputs, -1)\n",
        "\n",
        "#printing confusion matrix\n",
        "print(classification_report(label_test_encoded,predicted.cpu().numpy()))"
      ],
      "execution_count": null,
      "outputs": [
        {
          "output_type": "stream",
          "text": [
            "              precision    recall  f1-score   support\n",
            "\n",
            "           0       0.50      0.91      0.65      1000\n",
            "           1       0.51      0.09      0.16      1000\n",
            "\n",
            "    accuracy                           0.50      2000\n",
            "   macro avg       0.51      0.50      0.40      2000\n",
            "weighted avg       0.51      0.50      0.40      2000\n",
            "\n"
          ],
          "name": "stdout"
        }
      ]
    },
    {
      "cell_type": "markdown",
      "metadata": {
        "id": "P28Z1k36MZuo"
      },
      "source": [
        "## 3.3. Hyperparameter Testing\n",
        "*You are required to draw a graph(y-axis: f1, x-axis: epoch) for test set and explain the optimal number of epochs based on the learning rate you have already chosen.* Note that it will not be marked if you do not display it in the ipynb file.\n"
      ]
    },
    {
      "cell_type": "markdown",
      "metadata": {
        "id": "BYzrA_s2tTaz"
      },
      "source": [
        "(*Please show your empirical evidence*)\n",
        "The optimal number of epochs choosen was 100, as this gave the highest validation score while training the data as well as good training accuray.This implies that model generalised well, though still room to imrove. The plot below shows the f1score for each epoch and we can clearly see that the f1score is high around 95 epoch. This analysis is based on learning rate 0.1. If we choose different learning rate, the result would be different as well."
      ]
    },
    {
      "cell_type": "code",
      "metadata": {
        "id": "wTLyQEeZMZ2f",
        "colab": {
          "base_uri": "https://localhost:8080/",
          "height": 300
        },
        "outputId": "47045360-22bd-4da4-b166-ff65be1ec989"
      },
      "source": [
        "# Please comment your code\n",
        "plt.figure(figsize=(8,4))\n",
        "plt.plot(f1score)\n",
        "plt.title(\"F1 score vs No. of Epoch\", fontsize=20)\n",
        "plt.xlabel('Number of Epochs')\n",
        "plt.ylabel('F1 Score')\n",
        "plt.grid()"
      ],
      "execution_count": null,
      "outputs": [
        {
          "output_type": "display_data",
          "data": {
            "image/png": "[encoded data removed]",
            "text/plain": [
              "<Figure size 576x288 with 1 Axes>"
            ]
          },
          "metadata": {
            "tags": [],
            "needs_background": "light"
          }
        }
      ]
    },
    {
      "cell_type": "markdown",
      "metadata": {
        "id": "sfv8rWTKPzeb"
      },
      "source": [
        "## Object Oriented Programming codes here"
      ]
    },
    {
      "cell_type": "markdown",
      "metadata": {
        "id": "TS23AjBRSZaX"
      },
      "source": [
        "*You can use multiple code snippets. Just add more if needed* "
      ]
    },
    {
      "cell_type": "code",
      "metadata": {
        "id": "1hVmx4E52dXS"
      },
      "source": [
        ""
      ],
      "execution_count": null,
      "outputs": []
    }
  ]
}